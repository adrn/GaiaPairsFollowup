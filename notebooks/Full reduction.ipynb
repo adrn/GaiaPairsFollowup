{
 "cells": [
  {
   "cell_type": "markdown",
   "metadata": {
    "deletable": true,
    "editable": true
   },
   "source": [
    "## TODO:\n",
    "\n",
    "- Define pixel masks for all objects to remove nearby sources"
   ]
  },
  {
   "cell_type": "markdown",
   "metadata": {
    "deletable": true,
    "editable": true
   },
   "source": [
    "## Data model for 1D extracted files:\n",
    "\n",
    "- HDU0: reproduce header from original file\n",
    "- HDU1: Table with: pix, source_flux, source_ivar, centroid, bg_flux, bg_ivar\n",
    "    header should contain PSF fit parameters"
   ]
  },
  {
   "cell_type": "markdown",
   "metadata": {
    "deletable": true,
    "editable": true
   },
   "source": [
    "# Try reducing a single object"
   ]
  },
  {
   "cell_type": "code",
   "execution_count": null,
   "metadata": {
    "collapsed": true,
    "deletable": true,
    "editable": true
   },
   "outputs": [],
   "source": [
    "# Standard library\n",
    "from os.path import join\n",
    "import sys\n",
    "if '/Users/adrian/projects/longslit/' not in sys.path:\n",
    "    sys.path.append('/Users/adrian/projects/longslit/')\n",
    "\n",
    "# Third-party\n",
    "from astropy.constants import c\n",
    "import numpy as np\n",
    "import matplotlib.pyplot as plt\n",
    "import astropy.units as u\n",
    "from astropy.io import fits\n",
    "import astropy.modeling as mod\n",
    "plt.style.use('apw-notebook')\n",
    "%matplotlib inline\n",
    "from scipy.interpolate import InterpolatedUnivariateSpline\n",
    "from scipy.optimize import leastsq\n",
    "\n",
    "import ccdproc \n",
    "from ccdproc import CCDData, ImageFileCollection\n",
    "from longslit.utils import gaussian_constant, gaussian_polynomial"
   ]
  },
  {
   "cell_type": "code",
   "execution_count": null,
   "metadata": {
    "collapsed": true,
    "deletable": true,
    "editable": true
   },
   "outputs": [],
   "source": [
    "ccd_props = dict(gain=2.7*u.electron/u.adu, # from: http://mdm.kpno.noao.edu/index/MDM_CCDs.html\n",
    "                 readnoise=7.9*u.electron)"
   ]
  },
  {
   "cell_type": "code",
   "execution_count": null,
   "metadata": {
    "collapsed": false,
    "deletable": true,
    "editable": true
   },
   "outputs": [],
   "source": [
    "# ic = ImageFileCollection('/Users/adrian/projects/gaia-wide-binaries/data/mdm-spring-2017/n1/', \n",
    "#                          filenames=['n1.00{:02d}.fit'.format(i) for i in range(1,23+1)])\n",
    "ic = ImageFileCollection('/Users/adrian/projects/gaia-wide-binaries/data/mdm-spring-2017/n4/', \n",
    "                         filenames=['n4.00{:02d}.fit'.format(i) for i in list(range(1,21))+[89]])\n",
    "# ic = ImageFileCollection('/Users/adrian/projects/gaia-wide-binaries/data/mdm-spring-2017/n3/', \n",
    "#                          filenames=['n3.0{:03d}.fit'.format(i) for i in list(range(1,21))+[122]])"
   ]
  },
  {
   "cell_type": "code",
   "execution_count": null,
   "metadata": {
    "collapsed": false,
    "deletable": true,
    "editable": true
   },
   "outputs": [],
   "source": [
    "ic.summary['object']"
   ]
  },
  {
   "cell_type": "markdown",
   "metadata": {
    "deletable": true,
    "editable": true
   },
   "source": [
    "## Create a master bias frame"
   ]
  },
  {
   "cell_type": "code",
   "execution_count": null,
   "metadata": {
    "collapsed": true,
    "deletable": true,
    "editable": true
   },
   "outputs": [],
   "source": [
    "# get list of overscan-subtracted bias frames as 2D arrays\n",
    "bias_list = []\n",
    "for hdu, fname in ic.hdus(return_fname=True, imagetyp='BIAS'):\n",
    "    ccd = CCDData.read(join(ic.location, fname), unit='adu')\n",
    "    ccd = ccdproc.gain_correct(ccd, gain=ccd_props['gain'])\n",
    "    ccd = ccdproc.subtract_overscan(ccd, overscan=ccd[:,300:])\n",
    "    ccd = ccdproc.trim_image(ccd, fits_section=\"[1:300,:]\")\n",
    "    bias_list.append(ccd)"
   ]
  },
  {
   "cell_type": "code",
   "execution_count": null,
   "metadata": {
    "collapsed": true,
    "deletable": true,
    "editable": true
   },
   "outputs": [],
   "source": [
    "# combine all bias frames into a master bias frame\n",
    "master_bias = ccdproc.combine(bias_list, method='average', clip_extrema=True, \n",
    "                              nlow=1, nhigh=1, error=True)"
   ]
  },
  {
   "cell_type": "code",
   "execution_count": null,
   "metadata": {
    "collapsed": false,
    "deletable": true,
    "editable": true
   },
   "outputs": [],
   "source": [
    "plt.hist(master_bias.data.ravel(), bins='auto');\n",
    "plt.yscale('log')\n",
    "plt.xlabel('master bias pixel values')"
   ]
  },
  {
   "cell_type": "code",
   "execution_count": null,
   "metadata": {
    "collapsed": false,
    "deletable": true,
    "editable": true
   },
   "outputs": [],
   "source": [
    "plt.figure(figsize=(15,5))\n",
    "plt.imshow(master_bias.data.T, cmap='plasma')"
   ]
  },
  {
   "cell_type": "markdown",
   "metadata": {
    "deletable": true,
    "editable": true
   },
   "source": [
    "## Create the master flat frame"
   ]
  },
  {
   "cell_type": "code",
   "execution_count": null,
   "metadata": {
    "collapsed": false,
    "deletable": true,
    "editable": true
   },
   "outputs": [],
   "source": [
    "# create a list of flat frames\n",
    "flat_list = []\n",
    "for hdu, fname in ic.hdus(return_fname=True, imagetyp='FLAT'):\n",
    "    ccd = CCDData.read(join(ic.location, fname), unit='adu')\n",
    "    ccd = ccdproc.gain_correct(ccd, gain=ccd_props['gain'])\n",
    "    ccd = ccdproc.ccd_process(ccd, oscan='[300:364,:]', trim=\"[1:300,:]\", \n",
    "                              master_bias=master_bias)\n",
    "    flat_list.append(ccd)"
   ]
  },
  {
   "cell_type": "code",
   "execution_count": null,
   "metadata": {
    "collapsed": true,
    "deletable": true,
    "editable": true
   },
   "outputs": [],
   "source": [
    "# combine into a single master flat - use 3*sigma sigma-clipping\n",
    "master_flat = ccdproc.combine(flat_list, method='average', sigma_clip=True, \n",
    "                              low_thresh=3, high_thresh=3)"
   ]
  },
  {
   "cell_type": "code",
   "execution_count": null,
   "metadata": {
    "collapsed": false,
    "deletable": true,
    "editable": true
   },
   "outputs": [],
   "source": [
    "plt.hist(master_flat.data.ravel(), bins='auto');\n",
    "plt.yscale('log')\n",
    "plt.xlabel('master flat pixel values')"
   ]
  },
  {
   "cell_type": "code",
   "execution_count": null,
   "metadata": {
    "collapsed": false,
    "deletable": true,
    "editable": true
   },
   "outputs": [],
   "source": [
    "plt.figure(figsize=(15,5))\n",
    "plt.imshow(master_flat.data.T, cmap='plasma')"
   ]
  },
  {
   "cell_type": "markdown",
   "metadata": {
    "deletable": true,
    "editable": true
   },
   "source": [
    "## Process object frames\n",
    "\n",
    "### Bias, flat corrections"
   ]
  },
  {
   "cell_type": "code",
   "execution_count": null,
   "metadata": {
    "collapsed": false,
    "deletable": true,
    "editable": true,
    "scrolled": true
   },
   "outputs": [],
   "source": [
    "im_list = []\n",
    "for hdu, fname in ic.hdus(return_fname=True, imagetyp='OBJECT'):\n",
    "    print(hdu.header['OBJECT'])\n",
    "    \n",
    "    ccd = CCDData.read(join(ic.location, fname), unit='adu')\n",
    "    hdr = ccd.header\n",
    "\n",
    "    # make a copy of the object\n",
    "    nccd = ccd.copy()\n",
    "\n",
    "    # apply the overscan correction\n",
    "    poly_model = mod.models.Polynomial1D(2)\n",
    "    nccd = ccdproc.subtract_overscan(nccd, fits_section='[300:364,:]', \n",
    "                                     model=poly_model)\n",
    "\n",
    "    # apply the trim correction\n",
    "    nccd = ccdproc.trim_image(nccd, fits_section='[1:300,:]')\n",
    "    \n",
    "    # create the error frame\n",
    "    nccd = ccdproc.create_deviation(nccd, gain=ccd_props['gain'], \n",
    "                                    readnoise=ccd_props['readnoise'])\n",
    "    \n",
    "    # now gain correct\n",
    "    nccd = ccdproc.gain_correct(nccd, gain=ccd_props['gain'])\n",
    "    \n",
    "    # correct for master bias frame\n",
    "    # - this does some crazy shit at the blue end, but we can live with it\n",
    "    nccd = ccdproc.subtract_bias(nccd, master_bias)\n",
    "    \n",
    "    # correct for master flat frame\n",
    "    nccd = ccdproc.flat_correct(nccd, master_flat)\n",
    "    \n",
    "    # comsic ray cleaning - this updates the uncertainty array as well\n",
    "    nccd = ccdproc.cosmicray_lacosmic(nccd, sigclip=8.)\n",
    "    \n",
    "#     new_fname = 'p'+fname\n",
    "#     ccd.write(new_fname, overwrite=True)\n",
    "#     im_list.append(new_fname)\n",
    "\n",
    "    print(hdu.header['EXPTIME'])\n",
    "    \n",
    "    break"
   ]
  },
  {
   "cell_type": "code",
   "execution_count": null,
   "metadata": {
    "collapsed": false,
    "deletable": true,
    "editable": true
   },
   "outputs": [],
   "source": [
    "fig,axes = plt.subplots(3,1,figsize=(18,10),sharex=True,sharey=True)\n",
    "axes[0].imshow(nccd.data.T, cmap='plasma')\n",
    "axes[1].imshow(nccd.uncertainty.array.T, cmap='plasma')\n",
    "axes[2].imshow(nccd.mask.T, cmap='plasma')"
   ]
  },
  {
   "cell_type": "markdown",
   "metadata": {
    "deletable": true,
    "editable": true
   },
   "source": [
    "### Now that those intermediate frames are written, we need to extract the 1D spectra"
   ]
  },
  {
   "cell_type": "code",
   "execution_count": null,
   "metadata": {
    "collapsed": true,
    "deletable": true,
    "editable": true
   },
   "outputs": [],
   "source": [
    "n_trace_nodes = 32"
   ]
  },
  {
   "cell_type": "code",
   "execution_count": null,
   "metadata": {
    "collapsed": false,
    "deletable": true,
    "editable": true
   },
   "outputs": [],
   "source": [
    "def fit_gaussian(pix, flux, flux_ivar, n_coeff=1, p0=None, return_cov=False):\n",
    "    if p0 is None:\n",
    "        p0 = [flux.max(), pix[flux.argmax()], 1.] + [0.]*(n_coeff-1) + [flux.min()]\n",
    "    \n",
    "    def errfunc(p):\n",
    "        return (gaussian_polynomial(pix, *p) - flux) * np.sqrt(flux_ivar)\n",
    "    \n",
    "    res = leastsq(errfunc, x0=p0, full_output=True)\n",
    "    p_opt = res[0]\n",
    "    cov_p = res[1]\n",
    "    ier = res[-1]\n",
    "    if ier > 4 or ier < 1:\n",
    "        raise RuntimeError(\"Failed to fit Gaussian to spectrum trace row.\")\n",
    "    \n",
    "    if return_cov:\n",
    "        return p_opt, cov_p\n",
    "    else:\n",
    "        return p_opt"
   ]
  },
  {
   "cell_type": "code",
   "execution_count": null,
   "metadata": {
    "collapsed": false,
    "deletable": true,
    "editable": true
   },
   "outputs": [],
   "source": [
    "n_rows,n_cols = nccd.data.shape\n",
    "row_idx = np.linspace(0, n_rows-1, n_trace_nodes).astype(int)\n",
    "pix = np.arange(n_cols, dtype=float)\n",
    "\n",
    "trace_amps = np.zeros_like(row_idx).astype(float)\n",
    "trace_centroids = np.zeros_like(row_idx).astype(float)\n",
    "trace_stddevs = np.zeros_like(row_idx).astype(float)\n",
    "for i,j in enumerate(row_idx):\n",
    "    flux = nccd.data[j]\n",
    "    flux_err = nccd.uncertainty.array[j]\n",
    "    \n",
    "    flux_ivar = 1/flux_err**2.\n",
    "    flux_ivar[~np.isfinite(flux_ivar)] = 0.\n",
    "    \n",
    "    p_opt = fit_gaussian(pix, flux, flux_ivar)\n",
    "    trace_amps[i] = p_opt[0]\n",
    "    trace_centroids[i] = p_opt[1]\n",
    "    trace_stddevs[i] = p_opt[2]"
   ]
  },
  {
   "cell_type": "code",
   "execution_count": null,
   "metadata": {
    "collapsed": true,
    "deletable": true,
    "editable": true
   },
   "outputs": [],
   "source": [
    "trace_func = InterpolatedUnivariateSpline(row_idx, trace_centroids)\n",
    "trace_amp_func = InterpolatedUnivariateSpline(row_idx, trace_amps)"
   ]
  },
  {
   "cell_type": "code",
   "execution_count": null,
   "metadata": {
    "collapsed": false,
    "deletable": true,
    "editable": true
   },
   "outputs": [],
   "source": [
    "trace_stddev = np.median(trace_stddevs)"
   ]
  },
  {
   "cell_type": "code",
   "execution_count": null,
   "metadata": {
    "collapsed": false,
    "deletable": true,
    "editable": true
   },
   "outputs": [],
   "source": [
    "plt.hist(trace_stddevs, bins=np.linspace(0, 5., 16));"
   ]
  },
  {
   "cell_type": "markdown",
   "metadata": {
    "deletable": true,
    "editable": true
   },
   "source": [
    "### TODO: some outlier rejection"
   ]
  },
  {
   "cell_type": "code",
   "execution_count": null,
   "metadata": {
    "collapsed": false,
    "deletable": true,
    "editable": true
   },
   "outputs": [],
   "source": [
    "plt.plot(row_idx, trace_centroids)\n",
    "\n",
    "_grid = np.linspace(row_idx.min(), row_idx.max(), 1024)\n",
    "plt.plot(_grid, trace_func(_grid), marker='', alpha=0.5)\n",
    "\n",
    "plt.axvline(50)\n",
    "plt.axvline(1650)\n",
    "plt.xlabel('row index [pix]')\n",
    "plt.ylabel('trace centroid [pix]')"
   ]
  },
  {
   "cell_type": "markdown",
   "metadata": {
    "deletable": true,
    "editable": true
   },
   "source": [
    "## Fit a Voigt profile at row = 800 to determine PSF"
   ]
  },
  {
   "cell_type": "code",
   "execution_count": null,
   "metadata": {
    "collapsed": true,
    "deletable": true,
    "editable": true
   },
   "outputs": [],
   "source": [
    "from scipy.special import wofz\n",
    "from scipy.stats import scoreatpercentile\n",
    "\n",
    "def voigt(x, amp, x_0, stddev, fwhm):\n",
    "    _x = x-x_0\n",
    "    z = (_x + 1j*fwhm/2.) / (np.sqrt(2.)*stddev)\n",
    "    return amp * wofz(z).real / (np.sqrt(2.*np.pi)*stddev)"
   ]
  },
  {
   "cell_type": "code",
   "execution_count": null,
   "metadata": {
    "collapsed": true,
    "deletable": true,
    "editable": true
   },
   "outputs": [],
   "source": [
    "def psf_model(p, x):\n",
    "    amp, x_0, std_G, fwhm_L, C = p\n",
    "    return voigt(x, amp, x_0, std_G, fwhm_L) + C\n",
    "\n",
    "def psf_chi(p, pix, flux, flux_ivar):\n",
    "    return (psf_model(p, pix) - flux) * np.sqrt(flux_ivar)"
   ]
  },
  {
   "cell_type": "code",
   "execution_count": null,
   "metadata": {
    "collapsed": true,
    "deletable": true,
    "editable": true
   },
   "outputs": [],
   "source": [
    "i = 800 # MAGIC NUMBER\n",
    "flux = nccd.data[i]\n",
    "flux_err = nccd.uncertainty.array[i]\n",
    "pix = np.arange(len(flux))\n",
    "flux_ivar = 1/flux_err**2.\n",
    "flux_ivar[~np.isfinite(flux_ivar)] = 0."
   ]
  },
  {
   "cell_type": "code",
   "execution_count": null,
   "metadata": {
    "collapsed": false,
    "deletable": true,
    "editable": true
   },
   "outputs": [],
   "source": [
    "p0 = [flux.max(), pix[np.argmax(flux)], 1., 1., scoreatpercentile(flux[flux>0], 16.)]\n",
    "\n",
    "fig,axes = plt.subplots(2, 1, figsize=(10,6), sharex=True, sharey=True)\n",
    "\n",
    "# data on both panels\n",
    "for i in range(2):\n",
    "    axes[i].plot(pix, flux, marker='', drawstyle='steps-mid')\n",
    "    axes[i].errorbar(pix, flux, flux_err, marker='', linestyle='none', ecolor='#777777', zorder=-10)\n",
    "\n",
    "# plot initial guess\n",
    "grid = np.linspace(pix.min(), pix.max(), 1024)\n",
    "axes[0].plot(grid, psf_model(p0, grid), marker='', alpha=1., zorder=10)\n",
    "axes[0].set_yscale('log')\n",
    "axes[0].set_title(\"Initial\")\n",
    "\n",
    "# fit parameters\n",
    "p_opt,ier = leastsq(psf_chi, x0=p0, args=(pix, flux, flux_ivar))\n",
    "print(ier)\n",
    "\n",
    "# plot fit parameters\n",
    "axes[1].plot(grid, psf_model(p_opt, grid), marker='', alpha=1., zorder=10)\n",
    "axes[1].set_title(\"Fit\")\n",
    "\n",
    "fig.tight_layout()"
   ]
  },
  {
   "cell_type": "code",
   "execution_count": null,
   "metadata": {
    "collapsed": false,
    "deletable": true,
    "editable": true
   },
   "outputs": [],
   "source": [
    "psf_p = dict()\n",
    "psf_p['std_G'] = p_opt[2]\n",
    "psf_p['fwhm_L'] = p_opt[3]"
   ]
  },
  {
   "cell_type": "markdown",
   "metadata": {
    "collapsed": true,
    "deletable": true,
    "editable": true
   },
   "source": [
    "## Now fix PSF parameters, only need to fit amplitudes of PSF and background"
   ]
  },
  {
   "cell_type": "code",
   "execution_count": null,
   "metadata": {
    "collapsed": true,
    "deletable": true,
    "editable": true
   },
   "outputs": [],
   "source": [
    "def row_model(p, psf_p, x):\n",
    "    amp, x_0, C = p\n",
    "    return voigt(x, amp, x_0, stddev=psf_p['std_G'], fwhm=psf_p['fwhm_L']) + C\n",
    "\n",
    "def row_chi(p, pix, flux, flux_ivar, psf_p):\n",
    "    return (row_model(p, psf_p, pix) - flux) * np.sqrt(flux_ivar)"
   ]
  },
  {
   "cell_type": "code",
   "execution_count": null,
   "metadata": {
    "collapsed": false,
    "deletable": true,
    "editable": true
   },
   "outputs": [],
   "source": [
    "# This does PSF extraction\n",
    "\n",
    "trace_1d = np.zeros(n_rows).astype(float)\n",
    "flux_1d = np.zeros(n_rows).astype(float)\n",
    "flux_1d_err = np.zeros(n_rows).astype(float)\n",
    "sky_flux_1d = np.zeros(n_rows).astype(float)\n",
    "sky_flux_1d_err = np.zeros(n_rows).astype(float)\n",
    "\n",
    "for i in range(nccd.data.shape[0]):   \n",
    "    flux = nccd.data[i]\n",
    "    flux_err = nccd.uncertainty.array[i]\n",
    "    flux_ivar = 1/flux_err**2.\n",
    "    flux_ivar[~np.isfinite(flux_ivar)] = 0.\n",
    "    \n",
    "    p0 = [flux.max(), pix[np.argmax(flux)], scoreatpercentile(flux[flux>0], 16.)]\n",
    "    p_opt,p_cov,*_,mesg,ier = leastsq(row_chi, x0=p0, full_output=True,\n",
    "                                      args=(pix, flux, flux_ivar, psf_p))\n",
    "    \n",
    "    if ier < 1 or ier > 4 or p_cov is None:\n",
    "        flux_1d[i] = np.nan\n",
    "        sky_flux_1d[i] = np.nan\n",
    "        print(\"Fit failed for {}\".format(i))\n",
    "        continue\n",
    "        \n",
    "    if test:\n",
    "        _grid = np.linspace(sub_pix.min(), sub_pix.max(), 1024)\n",
    "        model_flux = p_to_model(p_opt, shifts)(_grid)\n",
    "\n",
    "        # ----------------------------------\n",
    "\n",
    "        plt.figure(figsize=(8,6))\n",
    "        plt.plot(sub_pix, flux, drawstyle='steps-mid', marker='')\n",
    "        plt.errorbar(sub_pix, flux, 1/np.sqrt(flux_ivar), marker='', linestyle='none', ecolor='#666666', alpha=0.75)\n",
    "        plt.axhline(sky_opt[0])\n",
    "\n",
    "        plt.plot(_grid, model_flux, marker='')\n",
    "        plt.yscale('log')\n",
    "    \n",
    "    flux_1d[i] = p_opt[0]\n",
    "    trace_1d[i] = p_opt[1]\n",
    "    sky_flux_1d[i] = p_opt[2]\n",
    "    \n",
    "    # TODO: ignores centroiding covariances...\n",
    "    flux_1d_err[i] = np.sqrt(p_cov[0,0])\n",
    "    sky_flux_1d_err[i] = np.sqrt(p_cov[2,2])"
   ]
  },
  {
   "cell_type": "code",
   "execution_count": null,
   "metadata": {
    "collapsed": false,
    "deletable": true,
    "editable": true
   },
   "outputs": [],
   "source": [
    "# clean up the 1d spectra\n",
    "flux_1d_ivar = 1/flux_1d_err**2\n",
    "sky_flux_1d_ivar = 1/sky_flux_1d_err**2\n",
    "\n",
    "pix_1d = np.arange(len(flux_1d))\n",
    "mask_1d = (pix_1d < 50) | (pix_1d > 1600)\n",
    "\n",
    "flux_1d[mask_1d] = 0.\n",
    "flux_1d_ivar[mask_1d] = 0.\n",
    "\n",
    "sky_flux_1d[mask_1d] = 0.\n",
    "sky_flux_1d_ivar[mask_1d] = 0."
   ]
  },
  {
   "cell_type": "code",
   "execution_count": null,
   "metadata": {
    "collapsed": false,
    "deletable": true,
    "editable": true
   },
   "outputs": [],
   "source": [
    "fig,all_axes = plt.subplots(2, 2, figsize=(12,12), sharex='row')\n",
    "\n",
    "axes = all_axes[0]\n",
    "axes[0].plot(flux_1d, marker='', drawstyle='steps-mid')\n",
    "axes[0].errorbar(np.arange(n_rows), flux_1d, 1/np.sqrt(flux_1d_ivar), linestyle='none',\n",
    "                 marker='', ecolor='#666666', alpha=1., zorder=-10)\n",
    "axes[0].set_ylim(1e3, np.nanmax(flux_1d))\n",
    "axes[0].set_yscale('log')\n",
    "axes[0].axvline(halpha_idx, zorder=-10, color='r', alpha=0.1)\n",
    "\n",
    "axes[1].plot(sky_flux_1d, marker='', drawstyle='steps-mid')\n",
    "axes[1].errorbar(np.arange(n_rows), sky_flux_1d, 1/np.sqrt(sky_flux_1d_ivar), linestyle='none',\n",
    "                 marker='', ecolor='#666666', alpha=1., zorder=-10)\n",
    "axes[1].set_ylim(1e-1, np.nanmax(sky_flux_1d))\n",
    "axes[1].set_yscale('log')\n",
    "axes[1].axvline(halpha_idx, zorder=-10, color='r', alpha=0.1)\n",
    "\n",
    "# Zoom in around Halpha\n",
    "axes = all_axes[1]\n",
    "slc = slice(halpha_idx-32, halpha_idx+32+1)\n",
    "axes[0].plot(np.arange(n_rows)[slc], flux_1d[slc], marker='', drawstyle='steps-mid')\n",
    "axes[0].errorbar(np.arange(n_rows)[slc], flux_1d[slc], flux_1d_err[slc], linestyle='none',\n",
    "                 marker='', ecolor='#666666', alpha=1., zorder=-10)\n",
    "\n",
    "axes[1].plot(np.arange(n_rows)[slc], sky_flux_1d[slc], marker='', drawstyle='steps-mid')\n",
    "axes[1].errorbar(np.arange(n_rows)[slc], sky_flux_1d[slc], sky_flux_1d_err[slc], linestyle='none',\n",
    "                 marker='', ecolor='#666666', alpha=1., zorder=-10)\n",
    "fig.tight_layout()"
   ]
  },
  {
   "cell_type": "code",
   "execution_count": null,
   "metadata": {
    "collapsed": false,
    "deletable": true,
    "editable": true
   },
   "outputs": [],
   "source": [
    "plt.figure(figsize=(12,5))\n",
    "plt.plot(sky_flux_1d, marker='', drawstyle='steps-mid')\n",
    "plt.errorbar(np.arange(n_rows), sky_flux_1d, 1/np.sqrt(sky_flux_1d_ivar), linestyle='none',\n",
    "             marker='', ecolor='#666666', alpha=1., zorder=-10)\n",
    "# plt.ylim(1e3, np.nanmax(flux_1d))\n",
    "plt.yscale('log')\n",
    "\n",
    "plt.xlim(1000, 1300)\n",
    "# plt.ylim(1e4, 4e4)"
   ]
  },
  {
   "cell_type": "code",
   "execution_count": null,
   "metadata": {
    "collapsed": true,
    "deletable": true,
    "editable": true
   },
   "outputs": [],
   "source": []
  },
  {
   "cell_type": "code",
   "execution_count": null,
   "metadata": {
    "collapsed": true,
    "deletable": true,
    "editable": true
   },
   "outputs": [],
   "source": []
  },
  {
   "cell_type": "code",
   "execution_count": null,
   "metadata": {
    "collapsed": true,
    "deletable": true,
    "editable": true
   },
   "outputs": [],
   "source": []
  },
  {
   "cell_type": "markdown",
   "metadata": {
    "collapsed": true,
    "deletable": true,
    "editable": true
   },
   "source": [
    "---\n",
    "\n",
    "## Everything below here is crazy (wrong) aperture spectrum shit\n"
   ]
  },
  {
   "cell_type": "code",
   "execution_count": null,
   "metadata": {
    "collapsed": true,
    "deletable": true,
    "editable": true
   },
   "outputs": [],
   "source": [
    "n_rows,n_cols = nccd.data.shape\n",
    "pix = np.arange(n_cols, dtype=float)"
   ]
  },
  {
   "cell_type": "code",
   "execution_count": null,
   "metadata": {
    "collapsed": false,
    "deletable": true,
    "editable": true
   },
   "outputs": [],
   "source": [
    "sqrt_2pi = np.sqrt(2*np.pi)\n",
    "def gaussian1d(x, amp, mu, var):\n",
    "    return amp/(sqrt_2pi*np.sqrt(var)) * np.exp(-0.5 * (np.array(x) - mu)**2/var)"
   ]
  },
  {
   "cell_type": "code",
   "execution_count": null,
   "metadata": {
    "collapsed": false,
    "deletable": true,
    "editable": true
   },
   "outputs": [],
   "source": [
    "def model(pix, sky_p, p0, other_p, shifts=None):\n",
    "    \"\"\"\n",
    "    parameters, p, are: \n",
    "        sky\n",
    "        mean0, log_amp0, log_var0\n",
    "        log_amp_m*, log_var_m* (at mean0 - N pix)\n",
    "        log_amp_p*, log_var_p* (at mean0 + N pix)\n",
    "    \"\"\"\n",
    "    \n",
    "    n_other = len(other_p)\n",
    "    if n_other // 2 != n_other / 2:\n",
    "        raise ValueError(\"Need even number of other_p\")\n",
    "    \n",
    "    if shifts is None:\n",
    "        shifts = np.arange(-n_other/2, n_other/2+1)\n",
    "        shifts = np.delete(shifts, np.where(shifts == 0)[0])\n",
    "    \n",
    "    assert len(other_p) == len(other_p)\n",
    "    \n",
    "    # central model\n",
    "    mean0, log_amp0, log_var0 = np.array(p0).astype(float)\n",
    "    model_flux = gaussian1d(pix, np.exp(log_amp0), mean0, np.exp(log_var0))\n",
    "    \n",
    "    for shift,pars in zip(shifts, other_p):\n",
    "        model_flux += gaussian1d(pix, np.exp(pars[0]), mean0 + shift, np.exp(pars[1]))\n",
    "    \n",
    "    # l1 = Lorentz1D(x_0=mean0, amplitude=np.exp(sky_p[1]), fwhm=np.sqrt(np.exp(sky_p[2])))\n",
    "    # sky = sky_p[0] + l1(pix)\n",
    "    g = np.exp(sky_p[2])\n",
    "    sky = sky_p[0] + np.exp(sky_p[1]) * (np.pi*g * (1 + (pix-mean0)**2/g**2))**-1\n",
    "    return model_flux + sky"
   ]
  },
  {
   "cell_type": "code",
   "execution_count": null,
   "metadata": {
    "collapsed": false,
    "deletable": true,
    "editable": true
   },
   "outputs": [],
   "source": [
    "def unpack_p(p):\n",
    "    sky = p[0:3]\n",
    "    p0 = p[3:6]\n",
    "    other_p = np.array(p[6:]).reshape(-1, 2)\n",
    "    return sky, p0, other_p\n",
    "    \n",
    "def p_to_model(p, shifts):\n",
    "    sky, p0, other_p = unpack_p(p)\n",
    "    \n",
    "    for ln_amp in [p0[1]]+other_p[:,0].tolist():\n",
    "        if ln_amp > 15:\n",
    "            return lambda x: np.inf\n",
    "        \n",
    "    for ln_var in [p0[2]]+other_p[:,1].tolist():\n",
    "        if ln_var < -1. or ln_var > 8:\n",
    "            return lambda x: np.inf\n",
    "        \n",
    "    return lambda x: model(x, sky, p0, other_p, shifts)\n",
    "\n",
    "def ln_likelihood(p, pix, flux, flux_ivar, shifts):\n",
    "    _model = p_to_model(p, shifts)\n",
    "    model_flux = _model(pix)\n",
    "    \n",
    "    if np.any(np.isinf(model_flux)):\n",
    "        return np.inf\n",
    "    \n",
    "    return np.sqrt(flux_ivar) * (flux - model_flux)"
   ]
  },
  {
   "cell_type": "code",
   "execution_count": null,
   "metadata": {
    "collapsed": false,
    "deletable": true,
    "editable": true
   },
   "outputs": [],
   "source": [
    "fig,ax = plt.subplots(1,1,figsize=(10,8))\n",
    "for i in np.linspace(500, 1200, 16).astype(int):\n",
    "    flux = nccd.data[i]\n",
    "    pix = np.arange(len(flux))\n",
    "    plt.plot(pix-trace_func(i), flux / trace_amp_func(i), marker='', drawstyle='steps-mid', alpha=0.25)\n",
    "\n",
    "plt.xlim(-50, 50)\n",
    "plt.yscale('log')"
   ]
  },
  {
   "cell_type": "code",
   "execution_count": null,
   "metadata": {
    "collapsed": false,
    "deletable": true,
    "editable": true
   },
   "outputs": [],
   "source": [
    "flux = nccd.data[800]\n",
    "plt.plot(pix, flux, marker='', drawstyle='steps-mid', alpha=0.25)\n",
    "plt.yscale('log')\n",
    "plt.xlim(flux.argmax()-25, flux.argmax()+25)"
   ]
  },
  {
   "cell_type": "code",
   "execution_count": null,
   "metadata": {
    "collapsed": true,
    "deletable": true,
    "editable": true
   },
   "outputs": [],
   "source": []
  },
  {
   "cell_type": "code",
   "execution_count": null,
   "metadata": {
    "collapsed": false,
    "deletable": true,
    "editable": true,
    "scrolled": false
   },
   "outputs": [],
   "source": [
    "# This does PSF extraction, slightly wrong\n",
    "\n",
    "# hyper-parameters of fit\n",
    "# shifts = [-6, -4, -2, 2, 4., 6.]\n",
    "shifts = np.linspace(-10, 10, 4).tolist()\n",
    "\n",
    "flux_1d = np.zeros(n_rows).astype(float)\n",
    "flux_1d_err = np.zeros(n_rows).astype(float)\n",
    "sky_flux_1d = np.zeros(n_rows).astype(float)\n",
    "sky_flux_1d_err = np.zeros(n_rows).astype(float)\n",
    "\n",
    "test = False\n",
    "# test = True\n",
    "\n",
    "# for i in range(n_rows):\n",
    "# for i in [620, 700, 780, 860, 920, 1000]:\n",
    "for i in range(620, 1000):\n",
    "    # line_ctr0 = trace_func(i) # TODO: could use this to initialize?\n",
    "    \n",
    "    flux = nccd.data[i,j1:j2]\n",
    "    flux_err = nccd.uncertainty.array[i,j1:j2]\n",
    "    flux_ivar = 1/flux_err**2.\n",
    "    flux_ivar[~np.isfinite(flux_ivar)] = 0.\n",
    "    \n",
    "    # initial guess for least-squares\n",
    "    sky = [np.min(flux), 1E-2, 2.]\n",
    "    p0 = [pix[np.argmax(flux)], np.log(flux.max()), np.log(1.)]\n",
    "    other_p = [[np.log(flux.max()/100.), np.log(1.)]]*len(shifts)\n",
    "    \n",
    "    _shifts = shifts + [0.,0.]\n",
    "    other_p += [[np.log(flux.max()/100.), np.log(4.)]]*2\n",
    "    \n",
    "    # sanity check\n",
    "    ll = ln_likelihood(sky + p0 + other_p, sub_pix, flux, flux_ivar, shifts=_shifts).sum()\n",
    "    assert np.isfinite(ll)\n",
    "    \n",
    "    p_opt,p_cov,*_,mesg,ier = leastsq(ln_likelihood, x0=sky + p0 + np.ravel(other_p).tolist(), full_output=True,\n",
    "                                      args=(pix, flux, flux_ivar, shifts))\n",
    "    if ier < 1 or ier > 4:\n",
    "        flux_1d[i] = np.nan\n",
    "        sky_flux_1d[i] = np.nan\n",
    "        print(\"Fit failed for {}\".format(i))\n",
    "        continue\n",
    "        # raise ValueError(\"Fit failed for {}\".format(i))\n",
    "    \n",
    "    sky_opt, p0_opt, other_p_opt = unpack_p(p_opt)\n",
    "    amps = np.exp(other_p_opt[:,0])\n",
    "    stds = np.exp(other_p_opt[:,1])\n",
    "        \n",
    "    if test:\n",
    "        _grid = np.linspace(sub_pix.min(), sub_pix.max(), 1024)\n",
    "        model_flux = p_to_model(p_opt, shifts)(_grid)\n",
    "\n",
    "        # ----------------------------------\n",
    "\n",
    "        plt.figure(figsize=(8,6))\n",
    "        plt.plot(sub_pix, flux, drawstyle='steps-mid', marker='')\n",
    "        plt.errorbar(sub_pix, flux, 1/np.sqrt(flux_ivar), marker='', linestyle='none', ecolor='#666666', alpha=0.75)\n",
    "        plt.axhline(sky_opt[0])\n",
    "\n",
    "        plt.plot(_grid, model_flux, marker='')\n",
    "        plt.yscale('log')\n",
    "    \n",
    "    flux_1d[i] = np.exp(p0_opt[1]) + amps.sum()\n",
    "    sky_flux_1d[i] = sky_opt[0]"
   ]
  },
  {
   "cell_type": "code",
   "execution_count": null,
   "metadata": {
    "collapsed": false,
    "deletable": true,
    "editable": true
   },
   "outputs": [],
   "source": [
    "fig,all_axes = plt.subplots(2, 2, figsize=(12,12), sharex='row')\n",
    "\n",
    "axes = all_axes[0]\n",
    "axes[0].plot(flux_1d, marker='', drawstyle='steps-mid')\n",
    "# axes[0].errorbar(np.arange(n_rows), flux_1d, flux_1d_err, linestyle='none',\n",
    "#                  marker='', ecolor='#666666', alpha=1., zorder=-10)\n",
    "# axes[0].set_ylim(1e2, np.nanmax(flux_1d))\n",
    "axes[0].set_ylim(np.nanmin(flux_1d[flux_1d!=0.]), np.nanmax(flux_1d))\n",
    "# axes[0].set_yscale('log')\n",
    "axes[0].axvline(halpha_idx, zorder=-10, color='r', alpha=0.1)\n",
    "\n",
    "axes[1].plot(sky_flux_1d, marker='', drawstyle='steps-mid')\n",
    "# axes[1].errorbar(np.arange(n_rows), sky_flux_1d, sky_flux_1d_err, linestyle='none',\n",
    "#                  marker='', ecolor='#666666', alpha=1., zorder=-10)\n",
    "axes[1].set_ylim(-5, np.nanmax(sky_flux_1d))\n",
    "axes[1].axvline(halpha_idx, zorder=-10, color='r', alpha=0.1)\n",
    "\n",
    "# Zoom in around Halpha\n",
    "axes = all_axes[1]\n",
    "slc = slice(halpha_idx-32, halpha_idx+32+1)\n",
    "axes[0].plot(np.arange(n_rows)[slc], flux_1d[slc], marker='', drawstyle='steps-mid')\n",
    "# axes[0].errorbar(np.arange(n_rows)[slc], flux_1d[slc], flux_1d_err[slc], linestyle='none',\n",
    "#                  marker='', ecolor='#666666', alpha=1., zorder=-10)\n",
    "\n",
    "axes[1].plot(np.arange(n_rows)[slc], sky_flux_1d[slc], marker='', drawstyle='steps-mid')\n",
    "# axes[1].errorbar(np.arange(n_rows)[slc], sky_flux_1d[slc], sky_flux_1d_err[slc], linestyle='none',\n",
    "#                  marker='', ecolor='#666666', alpha=1., zorder=-10)\n",
    "fig.tight_layout()"
   ]
  },
  {
   "cell_type": "markdown",
   "metadata": {
    "deletable": true,
    "editable": true
   },
   "source": [
    "---\n",
    "\n",
    "## Maximum likelihood estimate of source counts, background counts\n",
    "\n",
    "For observed counts $C$ in the source aperture, and observed counts $B$ in the background aperture, $s$ is the true source counts, and $b$ is the background density, and there are $N_S$ pixels in the source aperture, $N_B$ pixels in the background aperture:\n",
    "\n",
    "$$\n",
    "\\hat{s} = C - B\\,\\frac{N_S}{N_B} \\\\\n",
    "\\hat{b} = \\frac{B}{N_B - N_S} \\\\\n",
    "$$\n",
    "\n",
    "$$\n",
    "\\sigma^2_s = C + B\\,\\frac{N_S^2}{N_B^2} \\\\\n",
    "\\sigma^2_b = \\frac{B}{N_B}\n",
    "$$\n",
    "\n",
    "https://arxiv.org/pdf/1410.2564.pdf\n",
    "\n",
    "#### TODO: include uncertainties in pixel counts from read noise?"
   ]
  },
  {
   "cell_type": "code",
   "execution_count": null,
   "metadata": {
    "collapsed": true,
    "deletable": true,
    "editable": true
   },
   "outputs": [],
   "source": [
    "# aperture_width = 8 # pixels\n",
    "aperture_width = int(np.ceil(3*trace_stddev))\n",
    "sky_offset = 8 # pixels\n",
    "sky_width = 16 # pixels"
   ]
  },
  {
   "cell_type": "code",
   "execution_count": null,
   "metadata": {
    "collapsed": false,
    "deletable": true,
    "editable": true
   },
   "outputs": [],
   "source": [
    "# # estimated from ds9: counts in 1 pixel of spectrum, background counts in 2 pixels\n",
    "# C = 11000.\n",
    "# B = 800.\n",
    "\n",
    "# N_S = 1\n",
    "# N_B = 2\n",
    "\n",
    "# s_hat = C - B*N_S/N_B\n",
    "# b_hat = B / (N_B-N_S)\n",
    "\n",
    "# s_var = C + B*(N_S/N_B)**2\n",
    "# b_var = B / N_B"
   ]
  },
  {
   "cell_type": "code",
   "execution_count": null,
   "metadata": {
    "collapsed": false,
    "deletable": true,
    "editable": true,
    "scrolled": true
   },
   "outputs": [],
   "source": [
    "# This does aperture extraction, but wrong!\n",
    "\n",
    "flux_1d = np.zeros(n_rows).astype(float)\n",
    "flux_1d_err = np.zeros(n_rows).astype(float)\n",
    "sky_flux_1d = np.zeros(n_rows).astype(float)\n",
    "sky_flux_1d_err = np.zeros(n_rows).astype(float)\n",
    "\n",
    "source_mask = np.zeros_like(nccd.data).astype(bool)\n",
    "sky_mask = np.zeros_like(nccd.data).astype(bool)\n",
    "\n",
    "# # HACK: uniform aperture down the CCD\n",
    "# _derp = trace_func(np.arange(n_rows))\n",
    "# j1 = int(np.floor(_derp.min()))\n",
    "# j2 = int(np.ceil(_derp.max()))\n",
    "\n",
    "for i in range(n_rows):\n",
    "    line_ctr = trace_func(i)\n",
    "    \n",
    "    # source aperture bool mask\n",
    "    j1 = int(np.floor(line_ctr-aperture_width/2))\n",
    "    j2 = int(np.ceil(line_ctr+aperture_width/2)+1)\n",
    "    source_mask[i,j1:j2] = 1\n",
    "    \n",
    "    # sky aperture bool masks\n",
    "    s1 = int(np.floor(j1 - sky_offset - sky_width))\n",
    "    s2 = int(np.ceil(j1 - sky_offset + 1))\n",
    "    sky_mask[i,s1:s2] = 1\n",
    "    \n",
    "    s1 = int(np.floor(j2 + sky_offset))\n",
    "    s2 = int(np.ceil(j2 + sky_offset + sky_width + 1))\n",
    "    sky_mask[i,s1:s2] = 1\n",
    "    \n",
    "    source_flux = nccd.data[i,source_mask[i]]\n",
    "    source_flux_ivar = 1 / nccd.uncertainty.array[i,source_mask[i]]**2\n",
    "    source_flux_ivar[~np.isfinite(source_flux_ivar)] = 0.\n",
    "    \n",
    "    sky_flux = nccd.data[i,sky_mask[i]]\n",
    "    sky_flux_ivar = 1 / nccd.uncertainty.array[i,sky_mask[i]]**2\n",
    "    sky_flux_ivar[~np.isfinite(sky_flux_ivar)] = 0.\n",
    "    \n",
    "    C = np.sum(source_flux_ivar*source_flux) / np.sum(source_flux_ivar)\n",
    "    B = np.sum(sky_flux_ivar*sky_flux) / np.sum(sky_flux_ivar)\n",
    "    \n",
    "    N_S = source_mask[i].sum()\n",
    "    N_B = sky_mask[i].sum()\n",
    "    s_hat = C - B * N_S / N_B\n",
    "    b_hat = B / (N_B - N_S)\n",
    "\n",
    "    s_var = C + B * (N_S / N_B)**2\n",
    "    b_var = B / N_B\n",
    "    \n",
    "    flux_1d[i] = s_hat\n",
    "    flux_1d_err[i] = np.sqrt(s_var)\n",
    "    \n",
    "    sky_flux_1d[i] = b_hat\n",
    "    sky_flux_1d_err[i] = np.sqrt(b_var)"
   ]
  },
  {
   "cell_type": "code",
   "execution_count": null,
   "metadata": {
    "collapsed": true,
    "deletable": true,
    "editable": true
   },
   "outputs": [],
   "source": [
    "# approximate\n",
    "halpha_idx = 686"
   ]
  },
  {
   "cell_type": "markdown",
   "metadata": {
    "collapsed": true,
    "deletable": true,
    "editable": true
   },
   "source": [
    "TODO: discontinuities are from shifting aperture -- figure out a way to have a constant aperture?"
   ]
  },
  {
   "cell_type": "code",
   "execution_count": null,
   "metadata": {
    "collapsed": true,
    "deletable": true,
    "editable": true
   },
   "outputs": [],
   "source": []
  },
  {
   "cell_type": "markdown",
   "metadata": {
    "deletable": true,
    "editable": true
   },
   "source": [
    "## Testing line fit"
   ]
  },
  {
   "cell_type": "code",
   "execution_count": null,
   "metadata": {
    "collapsed": false,
    "deletable": true,
    "editable": true
   },
   "outputs": [],
   "source": [
    "x = np.linspace(-10.2, 11.1, 21)\n",
    "y = gaussian_polynomial(x, 100., 0.2, 1., 0.4, 15.) \\\n",
    "    + gaussian_polynomial(x, 10., 0.3, 2., 0.)\n",
    "# y = gaussian_polynomial(x, 100., 0.2, 1., 0.) \\\n",
    "#     + gaussian_polynomial(x, 100., 2., 2., 0.)\n",
    "\n",
    "y_err = np.full_like(y, 1.)\n",
    "y_ivar = 1/y_err**2\n",
    "# y_ivar[8] = 0.\n",
    "\n",
    "y = np.random.normal(y, y_err)"
   ]
  },
  {
   "cell_type": "code",
   "execution_count": null,
   "metadata": {
    "collapsed": false,
    "deletable": true,
    "editable": true
   },
   "outputs": [],
   "source": [
    "plt.errorbar(x, y, y_err)"
   ]
  },
  {
   "cell_type": "code",
   "execution_count": null,
   "metadata": {
    "collapsed": true,
    "deletable": true,
    "editable": true
   },
   "outputs": [],
   "source": [
    "g1 = mod.models.Gaussian1D(amplitude=y.max())\n",
    "g2 = mod.models.Gaussian1D(amplitude=y.max()/10.)\n",
    "g1.amplitude.bounds = (0, 1E10)\n",
    "g2.amplitude.bounds = (0, 1E10)\n",
    "\n",
    "# g3 = mod.models.Gaussian1D()\n",
    "p1 = mod.models.Polynomial1D(3)\n",
    "\n",
    "full_model = g1+g2+p1"
   ]
  },
  {
   "cell_type": "code",
   "execution_count": null,
   "metadata": {
    "collapsed": false,
    "deletable": true,
    "editable": true
   },
   "outputs": [],
   "source": [
    "fitter = mod.fitting.LevMarLSQFitter()\n",
    "fit_model = fitter(full_model, x, y, weights=1/y_err)"
   ]
  },
  {
   "cell_type": "code",
   "execution_count": null,
   "metadata": {
    "collapsed": false,
    "deletable": true,
    "editable": true
   },
   "outputs": [],
   "source": [
    "plt.errorbar(x, y, y_err, linestyle='none', marker='o')\n",
    "\n",
    "_grid = np.linspace(x.min(), x.max(), 256)\n",
    "plt.plot(_grid, fit_model(_grid), marker='')"
   ]
  },
  {
   "cell_type": "code",
   "execution_count": null,
   "metadata": {
    "collapsed": false,
    "deletable": true,
    "editable": true
   },
   "outputs": [],
   "source": [
    "fit_model"
   ]
  },
  {
   "cell_type": "code",
   "execution_count": null,
   "metadata": {
    "collapsed": false,
    "deletable": true,
    "editable": true
   },
   "outputs": [],
   "source": [
    "fit_model.amplitude_0"
   ]
  },
  {
   "cell_type": "code",
   "execution_count": null,
   "metadata": {
    "collapsed": false,
    "deletable": true,
    "editable": true
   },
   "outputs": [],
   "source": [
    "fit_model.amplitude_1"
   ]
  },
  {
   "cell_type": "code",
   "execution_count": null,
   "metadata": {
    "collapsed": true,
    "deletable": true,
    "editable": true
   },
   "outputs": [],
   "source": []
  },
  {
   "cell_type": "markdown",
   "metadata": {
    "deletable": true,
    "editable": true
   },
   "source": [
    "---"
   ]
  },
  {
   "cell_type": "code",
   "execution_count": null,
   "metadata": {
    "collapsed": false,
    "deletable": true,
    "editable": true
   },
   "outputs": [],
   "source": [
    "aperture_width = 250\n",
    "i = 1200\n",
    "\n",
    "line_ctr = trace_func(i)\n",
    "# j1 = int(np.floor(line_ctr-aperture_width/2))\n",
    "# j2 = int(np.ceil(line_ctr+aperture_width/2)+1)\n",
    "j1 = 0\n",
    "j2 = 300\n",
    "\n",
    "print(j1, j2)"
   ]
  },
  {
   "cell_type": "code",
   "execution_count": null,
   "metadata": {
    "collapsed": false,
    "deletable": true,
    "editable": true
   },
   "outputs": [],
   "source": [
    "_grid = np.linspace(sub_pix.min(), sub_pix.max(), 1024)\n",
    "model_flux = p_to_model(p_opt, shifts)(_grid)\n",
    "\n",
    "# ----------------------------------\n",
    "\n",
    "plt.figure(figsize=(8,6))\n",
    "plt.plot(sub_pix, flux, drawstyle='steps-mid', marker='')\n",
    "plt.errorbar(sub_pix, flux, 1/np.sqrt(flux_ivar), marker='', linestyle='none', ecolor='#666666', alpha=0.75)\n",
    "plt.axhline(sky_opt[0])\n",
    "\n",
    "plt.plot(_grid, model_flux, marker='')\n",
    "plt.yscale('log')"
   ]
  },
  {
   "cell_type": "code",
   "execution_count": null,
   "metadata": {
    "collapsed": true,
    "deletable": true,
    "editable": true
   },
   "outputs": [],
   "source": []
  },
  {
   "cell_type": "markdown",
   "metadata": {
    "deletable": true,
    "editable": true
   },
   "source": [
    "---"
   ]
  },
  {
   "cell_type": "code",
   "execution_count": null,
   "metadata": {
    "collapsed": false,
    "deletable": true,
    "editable": true
   },
   "outputs": [],
   "source": [
    "from astropy.modeling.functional_models import Lorentz1D, Gaussian1D, Voigt1D, Const1D\n",
    "from astropy.modeling.fitting import LevMarLSQFitter"
   ]
  },
  {
   "cell_type": "code",
   "execution_count": null,
   "metadata": {
    "collapsed": false,
    "deletable": true,
    "editable": true
   },
   "outputs": [],
   "source": [
    "def _pars_to_model(p):\n",
    "    mean = p[0]\n",
    "    log_amp_V, log_fwhm_L = p[1:3]\n",
    "    log_amp_G1, log_var1, log_amp_G2, log_var2 = p[3:-1]\n",
    "    C = p[-1]\n",
    "    \n",
    "    # l = Voigt1D(x_0=mean, amplitude_L=np.exp(log_amp_V), \n",
    "    #             fwhm_L=np.exp(log_fwhm_L), \n",
    "    #             fwhm_G=np.exp(log_fwhm_G)) \\\n",
    "    #     + Gaussian1D(amplitude=np.exp(log_amp_G1), mean=mean, stddev=np.sqrt(np.exp(log_var1))) \\\n",
    "    #     + Gaussian1D(amplitude=np.exp(log_amp_G2), mean=mean, stddev=np.sqrt(np.exp(log_var2))) \\\n",
    "    #     + Const1D(amplitude=C)\n",
    "    l = Lorentz1D(x_0=mean, amplitude=np.exp(log_amp_V), fwhm=np.exp(log_fwhm_L)) \\\n",
    "        + Gaussian1D(amplitude=np.exp(log_amp_G1), mean=mean, stddev=np.sqrt(np.exp(log_var1))) \\\n",
    "        + Gaussian1D(amplitude=np.exp(log_amp_G2), mean=mean, stddev=np.sqrt(np.exp(log_var2))) \\\n",
    "        + Const1D(amplitude=C)\n",
    "    return l\n",
    "\n",
    "def test(p, pix, flux, flux_ivar):\n",
    "    l = _pars_to_model(p)\n",
    "    return (flux - l(pix)) * np.sqrt(flux_ivar)"
   ]
  },
  {
   "cell_type": "code",
   "execution_count": null,
   "metadata": {
    "collapsed": false,
    "deletable": true,
    "editable": true
   },
   "outputs": [],
   "source": [
    "derp,ier = leastsq(test, x0=[np.argmax(flux), \n",
    "                             np.log(np.max(flux)), 1.,\n",
    "                             np.log(np.max(flux)/10.), 5.5,\n",
    "                             np.log(np.max(flux)/25.), 7.5,\n",
    "                             np.min(flux)],\n",
    "                   args=(sub_pix, flux, flux_ivar))"
   ]
  },
  {
   "cell_type": "code",
   "execution_count": null,
   "metadata": {
    "collapsed": true,
    "deletable": true,
    "editable": true
   },
   "outputs": [],
   "source": [
    "l_fit = _pars_to_model(derp)"
   ]
  },
  {
   "cell_type": "code",
   "execution_count": null,
   "metadata": {
    "collapsed": false,
    "deletable": true,
    "editable": true
   },
   "outputs": [],
   "source": [
    "plt.figure(figsize=(8,6))\n",
    "plt.plot(sub_pix, flux, drawstyle='steps-mid', marker='')\n",
    "plt.errorbar(sub_pix, flux, 1/np.sqrt(flux_ivar), marker='', linestyle='none', ecolor='#666666', alpha=0.75)\n",
    "\n",
    "plt.plot(_grid, l_fit(_grid), marker='')\n",
    "\n",
    "plt.yscale('log')"
   ]
  },
  {
   "cell_type": "code",
   "execution_count": null,
   "metadata": {
    "collapsed": false,
    "deletable": true,
    "editable": true
   },
   "outputs": [],
   "source": [
    "plt.figure(figsize=(8,6))\n",
    "plt.plot(sub_pix, (flux-l_fit(sub_pix))/(1/np.sqrt(flux_ivar)), drawstyle='steps-mid', marker='')\n",
    "# plt.errorbar(sub_pix, (flux-l_fit(sub_pix))/(, 1/np.sqrt(flux_ivar), \n",
    "#              marker='', linestyle='none', ecolor='#666666', alpha=0.75)"
   ]
  },
  {
   "cell_type": "code",
   "execution_count": null,
   "metadata": {
    "collapsed": true,
    "deletable": true,
    "editable": true
   },
   "outputs": [],
   "source": []
  }
 ],
 "metadata": {
  "kernelspec": {
   "display_name": "Python [default]",
   "language": "python",
   "name": "python3"
  },
  "language_info": {
   "codemirror_mode": {
    "name": "ipython",
    "version": 3
   },
   "file_extension": ".py",
   "mimetype": "text/x-python",
   "name": "python",
   "nbconvert_exporter": "python",
   "pygments_lexer": "ipython3",
   "version": "3.5.2"
  }
 },
 "nbformat": 4,
 "nbformat_minor": 2
}