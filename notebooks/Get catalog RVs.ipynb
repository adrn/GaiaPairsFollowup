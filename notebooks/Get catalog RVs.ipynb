{
 "cells": [
  {
   "cell_type": "code",
   "execution_count": 1,
   "metadata": {},
   "outputs": [],
   "source": [
    "from os import path\n",
    "\n",
    "from astroquery.vizier import Vizier\n",
    "import astropy.units as u\n",
    "import numpy as np\n",
    "import matplotlib.pyplot as plt\n",
    "plt.style.use('apw-notebook')\n",
    "%matplotlib inline\n",
    "\n",
    "from comoving_rv.db import Session, Base, db_connect\n",
    "from comoving_rv.db.model import (Run, Observation, TGASSource, SimbadInfo,\n",
    "                                  SpectralLineInfo, SpectralLineMeasurement, PriorRV)\n",
    "from comoving_rv.db import get_best_rv"
   ]
  },
  {
   "cell_type": "code",
   "execution_count": 2,
   "metadata": {},
   "outputs": [],
   "source": [
    "base_path = '/Volumes/ProjectData/gaia-comoving-followup/'\n",
    "db_path = path.join(base_path, 'db.sqlite')\n",
    "engine = db_connect(db_path)\n",
    "session = Session()"
   ]
  },
  {
   "cell_type": "code",
   "execution_count": 3,
   "metadata": {},
   "outputs": [],
   "source": [
    "observations = session.query(Observation).filter(Observation.prior_rv_id == None).all()"
   ]
  },
  {
   "cell_type": "code",
   "execution_count": 13,
   "metadata": {},
   "outputs": [
    {
     "name": "stdout",
     "output_type": "stream",
     "text": [
      "<Observation 611-2735 [HIP 55377], n1.0074.fit, mdm-spring-2017>\n",
      "<Observation 1024-3327 [HD 88629], n1.0075.fit, mdm-spring-2017>\n",
      "<Observation 1024-1006 [TYC 3436-561-1], n1.0076.fit, mdm-spring-2017>\n",
      "<Observation 1093-1123 [TYC 3814-1433-1], n1.0077.fit, mdm-spring-2017>\n",
      "<Observation 1093-4773 [TYC 3813-1296-1], n1.0078.fit, mdm-spring-2017>\n",
      "<Observation 324-5 [TYC 3836-882-1], n1.0079.fit, mdm-spring-2017>\n",
      "<Observation 324-3271 [TYC 3837-246-1], n1.0080.fit, mdm-spring-2017>\n",
      "<Observation 942-882 [HD 94913], n1.0081.fit, mdm-spring-2017>\n",
      "<Observation 942-5467 [HIP 55573], n1.0082.fit, mdm-spring-2017>\n",
      "<Observation 746-962 [TYC 3834-149-1], n1.0083.fit, mdm-spring-2017>\n",
      "<Observation 746-590 [HD 233948], n1.0084.fit, mdm-spring-2017>\n",
      "<Observation 1224-1952 [TYC 3462-4-1], n1.0085.fit, mdm-spring-2017>\n",
      "<Observation 1224-1360 [TYC 3466-148-1], n1.0086.fit, mdm-spring-2017>\n",
      "<Observation 1221-1357 [TYC 3462-1683-1], n1.0087.fit, mdm-spring-2017>\n",
      "<Observation 1221-9831 [HD 234029], n1.0088.fit, mdm-spring-2017>\n",
      "<Observation 1254-1407 [HD 114957], n1.0089.fit, mdm-spring-2017>\n",
      "\t -1.2999999523162842\n",
      "<Observation 1254-1451 [HD 114888], n1.0090.fit, mdm-spring-2017>\n",
      "<Observation 613-384 [TYC 3460-1177-1], n1.0092.fit, mdm-spring-2017>\n",
      "<Observation 613-1128 [HD 115443], n1.0093.fit, mdm-spring-2017>\n",
      "<Observation 902-816 [HD 122944], n1.0094.fit, mdm-spring-2017>\n",
      "<Observation 902-4281 [HD 125306], n1.0095.fit, mdm-spring-2017>\n",
      "<Observation 864-759 [TYC 4188-903-1], n1.0096.fit, mdm-spring-2017>\n",
      "<Observation 864-760 [TYC 4188-835-1], n1.0097.fit, mdm-spring-2017>\n",
      "<Observation 1305-9761 [HIP 75700], n1.0098.fit, mdm-spring-2017>\n",
      "<Observation 1305-1485 [TYC 4412-971-1], n1.0099.fit, mdm-spring-2017>\n",
      "<Observation 1391-1858 [TYC 4423-1954-1], n1.0100.fit, mdm-spring-2017>\n",
      "<Observation 1391-1616 [TYC 4424-2469-1], n1.0101.fit, mdm-spring-2017>\n",
      "<Observation 997-1650 [TYC 4198-131-1], n1.0102.fit, mdm-spring-2017>\n",
      "<Observation 997-970 [HD 238686], n1.0103.fit, mdm-spring-2017>\n",
      "<Observation 1063-1103 [TYC 3899-853-1], n1.0104.fit, mdm-spring-2017>\n",
      "<Observation 1063-1067 [TYC 3895-1415-1], n1.0105.fit, mdm-spring-2017>\n",
      "<Observation 1203-1329 [TYC 3886-386-1], n1.0106.fit, mdm-spring-2017>\n",
      "<Observation 1203-9693 [TYC 3886-453-1], n1.0107.fit, mdm-spring-2017>\n",
      "<Observation 1373-9065 [TYC 3888-1870-1], n1.0108.fit, mdm-spring-2017>\n",
      "<Observation 1373-1580 [TYC 3504-908-1], n1.0109.fit, mdm-spring-2017>\n",
      "<Observation 980-942 [TYC 2032-778-1], n1.0110.fit, mdm-spring-2017>\n",
      "<Observation 980-10503 [HD 137050], n1.0111.fit, mdm-spring-2017>\n",
      "<Observation 733-568 [TYC 2563-994-1], n1.0112.fit, mdm-spring-2017>\n",
      "<Observation 733-6317 [HD 133460], n1.0113.fit, mdm-spring-2017>\n",
      "\t -1.399999976158142\n",
      "<Observation 729-1175 [HD 132913], n1.0114.fit, mdm-spring-2017>\n"
     ]
    },
    {
     "name": "stderr",
     "output_type": "stream",
     "text": [
      "/Users/adrian/projects/gaia-comoving-followup/comoving_rv/db/literature_helpers.py:63: UserWarning: Warning: converting a masked element to nan.\n",
      "  return float(row['RVel']), float(row['e_RVel']), None, bibcode\n"
     ]
    },
    {
     "name": "stdout",
     "output_type": "stream",
     "text": [
      "\t -22.0\n",
      "<Observation 729-563 [HD 131748], n1.0115.fit, mdm-spring-2017>\n",
      "<Observation 450-171 [HD 131604], n1.0116.fit, mdm-spring-2017>\n",
      "<Observation 450-3619 [HD 131269], n1.0117.fit, mdm-spring-2017>\n",
      "<Observation 1275-2081 [TYC 4987-657-1], n1.0118.fit, mdm-spring-2017>\n",
      "<Observation 1275-1440 [TYC 5004-810-1], n1.0119.fit, mdm-spring-2017>\n",
      "<Observation 465-186 [HD 145872], n1.0120.fit, mdm-spring-2017>\n",
      "\t -23.0\n",
      "<Observation 465-10446 [HD 147094], n1.0121.fit, mdm-spring-2017>\n"
     ]
    },
    {
     "name": "stderr",
     "output_type": "stream",
     "text": [
      "/Users/adrian/projects/gaia-comoving-followup/comoving_rv/db/literature_helpers.py:63: UserWarning: Warning: converting a masked element to nan.\n",
      "  return float(row['RVel']), float(row['e_RVel']), None, bibcode\n"
     ]
    },
    {
     "name": "stdout",
     "output_type": "stream",
     "text": [
      "<Observation HD158067 [HD 158067], n1.0123.fit, mdm-spring-2017>\n"
     ]
    },
    {
     "name": "stderr",
     "output_type": "stream",
     "text": [
      "/Users/adrian/projects/gaia-comoving-followup/comoving_rv/db/literature_helpers.py:101: UserWarning: Warning: converting a masked element to nan.\n",
      "  err = float(row['e_RV'])\n"
     ]
    },
    {
     "name": "stdout",
     "output_type": "stream",
     "text": [
      "<Observation HD161817 [HD 161817], n1.0124.fit, mdm-spring-2017>\n"
     ]
    },
    {
     "name": "stderr",
     "output_type": "stream",
     "text": [
      "/Users/adrian/projects/gaia-comoving-followup/comoving_rv/db/literature_helpers.py:101: UserWarning: Warning: converting a masked element to nan.\n",
      "  err = float(row['e_RV'])\n"
     ]
    },
    {
     "name": "stdout",
     "output_type": "stream",
     "text": [
      "<Observation 905-823 [TYC 972-1141-1], n1.0125.fit, mdm-spring-2017>\n",
      "<Observation 905-5851 [TYC 1524-649-1], n1.0126.fit, mdm-spring-2017>\n",
      "<Observation 1178-10597 [HD 144978], n1.0127.fit, mdm-spring-2017>\n",
      "<Observation 1178-1284 [HD 144839], n1.0128.fit, mdm-spring-2017>\n"
     ]
    },
    {
     "name": "stderr",
     "output_type": "stream",
     "text": [
      "/Users/adrian/projects/gaia-comoving-followup/comoving_rv/db/literature_helpers.py:63: UserWarning: Warning: converting a masked element to nan.\n",
      "  return float(row['RVel']), float(row['e_RVel']), None, bibcode\n"
     ]
    },
    {
     "name": "stdout",
     "output_type": "stream",
     "text": [
      "\t -30.0\n",
      "<Observation 473-197 [TYC 957-1120-1], n1.0129.fit, mdm-spring-2017>\n",
      "<Observation 473-10585 [HD 144937], n1.0131.fit, mdm-spring-2017>\n"
     ]
    },
    {
     "name": "stderr",
     "output_type": "stream",
     "text": [
      "/Users/adrian/projects/gaia-comoving-followup/comoving_rv/db/literature_helpers.py:101: UserWarning: Warning: converting a masked element to nan.\n",
      "  err = float(row['e_RV'])\n"
     ]
    },
    {
     "name": "stdout",
     "output_type": "stream",
     "text": [
      "<Observation 927-1418 [HD 153502], n1.0132.fit, mdm-spring-2017>\n",
      "<Observation 927-860 [TYC 385-1437-1], n1.0133.fit, mdm-spring-2017>\n",
      "<Observation HD155967 [HD 155967], n1.0136.fit, mdm-spring-2017>\n",
      "\t -33.5\n",
      "<Observation 1453-1830 [HD 246069], n2.0022.fit, mdm-spring-2017>\n",
      "<Observation 1453-1738 [HD 37574], n2.0023.fit, mdm-spring-2017>\n",
      "\t -4.699999809265137\n",
      "<Observation 1482-8911 [HD 253079], n2.0024.fit, mdm-spring-2017>\n",
      "<Observation 1482-1775 [HD 253004], n2.0025.fit, mdm-spring-2017>\n",
      "<Observation 2260-9975 [HD 262096], n2.0026.fit, mdm-spring-2017>\n",
      "<Observation 2260-3320 [HD 48008], n2.0027.fit, mdm-spring-2017>\n",
      "\t -1.0\n",
      "<Observation 2093-3350 [HD 36811], n2.0028.fit, mdm-spring-2017>\n",
      "\t 6.0\n",
      "<Observation 2093-2985 [HD 36252], n2.0029.fit, mdm-spring-2017>\n",
      "<Observation 1885-3093 [TYC 4780-232-1], n2.0030.fit, mdm-spring-2017>\n",
      "<Observation 1885-2567 [TYC 5348-493-1], n2.0031.fit, mdm-spring-2017>\n",
      "<Observation 2297-3405 [HD 37506], n2.0032.fit, mdm-spring-2017>\n",
      "<Observation 2297-10541 [HD 37443], n2.0033.fit, mdm-spring-2017>\n"
     ]
    },
    {
     "name": "stderr",
     "output_type": "stream",
     "text": [
      "/Users/adrian/projects/gaia-comoving-followup/comoving_rv/db/literature_helpers.py:63: UserWarning: Warning: converting a masked element to nan.\n",
      "  return float(row['RVel']), float(row['e_RVel']), None, bibcode\n"
     ]
    },
    {
     "name": "stdout",
     "output_type": "stream",
     "text": [
      "<Observation 2016-2833 [HD 46956], n2.0034.fit, mdm-spring-2017>\n",
      "<Observation 2016-10162 [TYC 5955-566-1], n2.0035.fit, mdm-spring-2017>\n",
      "<Observation 2350-3509 [TYC 157-624-1], n2.0036.fit, mdm-spring-2017>\n",
      "<Observation 2350-5863 [HD 53201], n2.0037.fit, mdm-spring-2017>\n",
      "<Observation 2396-3588 [TYC 3387-1648-1], n2.0038.fit, mdm-spring-2017>\n",
      "<Observation 2396-5552 [TYC 3764-1281-1], n2.0039.fit, mdm-spring-2017>\n",
      "<Observation 2318-8462 [HD 237494], n2.0040.fit, mdm-spring-2017>\n",
      "<Observation 2318-3443 [TYC 3778-712-1], n2.0041.fit, mdm-spring-2017>\n",
      "<Observation 1689-9956 [HD 71226], n2.0042.fit, mdm-spring-2017>\n"
     ]
    },
    {
     "name": "stderr",
     "output_type": "stream",
     "text": [
      "/Users/adrian/projects/gaia-comoving-followup/comoving_rv/db/literature_helpers.py:63: UserWarning: Warning: converting a masked element to nan.\n",
      "  return float(row['RVel']), float(row['e_RVel']), None, bibcode\n"
     ]
    },
    {
     "name": "stdout",
     "output_type": "stream",
     "text": [
      "<Observation 1689-2187 [TYC 3798-641-1], n2.0043.fit, mdm-spring-2017>\n",
      "<Observation 1972-8596 [HD 237660], n2.0044.fit, mdm-spring-2017>\n",
      "<Observation 1972-2744 [TYC 3800-296-1], n2.0045.fit, mdm-spring-2017>\n",
      "<Observation 1735-2271 [TYC 3799-1351-1], n2.0046.fit, mdm-spring-2017>\n",
      "<Observation 1735-9549 [TYC 3799-1567-1], n2.0047.fit, mdm-spring-2017>\n",
      "<Observation 1473-3102 [TYC 3809-1483-1], n2.0048.fit, mdm-spring-2017>\n",
      "<Observation 1473-1763 [TYC 3812-640-1], n2.0049.fit, mdm-spring-2017>\n",
      "<Observation 1515-3584 [HD 78249], n2.0051.fit, mdm-spring-2017>\n",
      "\t 47.02\n",
      "<Observation 1515-1834 [TYC 3813-167-1], n2.0052.fit, mdm-spring-2017>\n",
      "<Observation 2086-2974 [TYC 4131-1098-1], n2.0053.fit, mdm-spring-2017>\n",
      "<Observation 2086-3995 [TYC 4141-1494-1], n2.0054.fit, mdm-spring-2017>\n",
      "<Observation 2217-3648 [TYC 3822-453-1], n2.0055.fit, mdm-spring-2017>\n",
      "<Observation 2217-3232 [TYC 3829-315-1], n2.0056.fit, mdm-spring-2017>\n",
      "<Observation 1517-1838 [SMOH 1517-1838], n2.0057.fit, mdm-spring-2017>\n"
     ]
    },
    {
     "name": "stderr",
     "output_type": "stream",
     "text": [
      "/Users/adrian/anaconda/envs/comoving-rv/lib/python3.6/site-packages/astroquery/simbad/core.py:136: UserWarning: Warning: The script line number 3 raised an error (recorded in the `errors` attribute of the result table): Identifier not found in the database : NAME SMOH 1517-1838\n",
      "  (error.line, error.msg))\n"
     ]
    },
    {
     "name": "stdout",
     "output_type": "stream",
     "text": [
      "<Observation 1517-3828 [TYC 3819-839-1], n2.0058.fit, mdm-spring-2017>\n",
      "<Observation 2308-3421 [TYC 3450-163-1], n2.0059.fit, mdm-spring-2017>\n",
      "<Observation 2308-3421 [TYC 3450-163-1], n2.0060.fit, mdm-spring-2017>\n",
      "<Observation 1497-1801 [HD 91158], n2.0061.fit, mdm-spring-2017>\n",
      "<Observation 1497-4042 [TYC 3826-948-1], n2.0062.fit, mdm-spring-2017>\n",
      "<Observation 1958-7629 [TYC 4384-1278-1], n2.0063.fit, mdm-spring-2017>\n",
      "<Observation 1958-2714 [TYC 4385-504-1], n2.0064.fit, mdm-spring-2017>\n",
      "<Observation 2209-5470 [TYC 4380-523-1], n2.0065.fit, mdm-spring-2017>\n",
      "<Observation 2209-3218 [TYC 4369-783-1], n2.0066.fit, mdm-spring-2017>\n",
      "<Observation 1789-2370 [TYC 4358-1886-1], n2.0067.fit, mdm-spring-2017>\n",
      "<Observation 1789-2370 [TYC 4358-1886-1], n2.0068.fit, mdm-spring-2017>\n",
      "<Observation 1737-2273 [TYC 4358-1393-1], n2.0069.fit, mdm-spring-2017>\n",
      "<Observation 1737-2408 [TYC 4345-998-1], n2.0070.fit, mdm-spring-2017>\n",
      "<Observation 1615-2058 [TYC 4107-116-1], n2.0071.fit, mdm-spring-2017>\n",
      "<Observation 1615-7743 [TYC 4106-497-1], n2.0072.fit, mdm-spring-2017>\n",
      "<Observation 1958-7629 [TYC 4384-1278-1], n2.0073.fit, mdm-spring-2017>\n",
      "<Observation 1958-2714 [TYC 4385-504-1], n2.0074.fit, mdm-spring-2017>\n",
      "<Observation 2044-3746 [TYC 2978-535-1], n2.0075.fit, mdm-spring-2017>\n",
      "<Observation 2044-2882 [TYC 2974-204-1], n2.0076.fit, mdm-spring-2017>\n",
      "<Observation 1609-7364 [HD 71322], n2.0077.fit, mdm-spring-2017>\n",
      "\t -12.899999618530273\n",
      "<Observation 1609-2046 [TYC 2486-1467-1], n2.0078.fit, mdm-spring-2017>\n",
      "<Observation 1614-2052 [HD 90383], n2.0080.fit, mdm-spring-2017>\n",
      "\t -34.400001525878906\n",
      "<Observation 1614-3357 [TYC 3442-644-1], n2.0081.fit, mdm-spring-2017>\n",
      "<Observation 1500-8455 [HD 95088], n2.0082.fit, mdm-spring-2017>\n",
      "<Observation 1500-1804 [HD 92278], n2.0083.fit, mdm-spring-2017>\n",
      "\t -6.4\n",
      "<Observation 1551-9903 [TYC 3447-812-1], n2.0084.fit, mdm-spring-2017>\n",
      "<Observation 1551-1923 [HIP 52835], n2.0085.fit, mdm-spring-2017>\n",
      "<Observation 1647-2106 [TYC 3445-640-1], n2.0086.fit, mdm-spring-2017>\n",
      "<Observation 1647-3297 [TYC 3438-540-1], n2.0087.fit, mdm-spring-2017>\n",
      "<Observation 2308-3421 [TYC 3450-163-1], n2.0088.fit, mdm-spring-2017>\n",
      "<Observation 2308-8262 [TYC 3823-514-1], n2.0089.fit, mdm-spring-2017>\n",
      "<Observation 2275-3366 [HD 106134], n2.0090.fit, mdm-spring-2017>\n",
      "<Observation 2275-9814 [TYC 3457-402-1], n2.0091.fit, mdm-spring-2017>\n",
      "<Observation 2144-7084 [HD 233901], n2.0092.fit, mdm-spring-2017>\n",
      "<Observation 2144-3098 [HD 109202], n2.0093.fit, mdm-spring-2017>\n",
      "<Observation 2156-3116 [TYC 3837-778-1], n2.0094.fit, mdm-spring-2017>\n",
      "<Observation 2156-4211 [TYC 4162-231-1], n2.0095.fit, mdm-spring-2017>\n",
      "<Observation 2186-3175 [HD 238111], n2.0096.fit, mdm-spring-2017>\n",
      "<Observation 2186-9789 [TYC 3844-52-1], n2.0097.fit, mdm-spring-2017>\n",
      "<Observation 1695-2200 [TYC 3854-435-1], n2.0098.fit, mdm-spring-2017>\n",
      "<Observation 1695-3384 [TYC 3857-439-1], n2.0099.fit, mdm-spring-2017>\n",
      "<Observation 2289-3391 [TYC 3858-1092-1], n2.0100.fit, mdm-spring-2017>\n",
      "<Observation 2289-9888 [TYC 3857-994-1], n2.0101.fit, mdm-spring-2017>\n",
      "<Observation 2200-3887 [TYC 4174-950-1], n2.0102.fit, mdm-spring-2017>\n",
      "<Observation 2200-3196 [TYC 4167-789-1], n2.0103.fit, mdm-spring-2017>\n",
      "<Observation 1709-3930 [TYC 4174-313-1], n2.0104.fit, mdm-spring-2017>\n",
      "<Observation 1709-2222 [TYC 4163-887-1], n2.0105.fit, mdm-spring-2017>\n",
      "<Observation 1646-2105 [HD 238372], n2.0106.fit, mdm-spring-2017>\n",
      "<Observation 1646-6767 [TYC 3861-486-1], n2.0107.fit, mdm-spring-2017>\n",
      "<Observation 1443-1717 [TYC 3044-740-1], n2.0108.fit, mdm-spring-2017>\n",
      "<Observation 1443-1717 [TYC 3044-740-1], n2.0109.fit, mdm-spring-2017>\n",
      "<Observation 1454-1739 [HD 132582], n2.0110.fit, mdm-spring-2017>\n",
      "\t -8.399999618530273\n",
      "<Observation 1454-6333 [TYC 3036-344-1], n2.0111.fit, mdm-spring-2017>\n",
      "<Observation 1741-6598 [TYC 3038-462-1], n2.0112.fit, mdm-spring-2017>\n",
      "<Observation 1741-2283 [HD 127986], n2.0114.fit, mdm-spring-2017>\n",
      "\t 5.900000095367432\n",
      "<Observation 1838-2468 [TYC 2559-869-1], n2.0115.fit, mdm-spring-2017>\n",
      "<Observation 1838-2468 [TYC 2559-869-1], n2.0116.fit, mdm-spring-2017>\n",
      "<Observation 2248-3587 [TYC 2547-1131-1], n2.0117.fit, mdm-spring-2017>\n",
      "<Observation 2248-3299 [TYC 2545-380-1], n2.0118.fit, mdm-spring-2017>\n",
      "<Observation 2112-3029 [TYC 2009-190-1], n2.0119.fit, mdm-spring-2017>\n",
      "<Observation 2112-9452 [TYC 2006-20-1], n2.0120.fit, mdm-spring-2017>\n",
      "<Observation 1820-2434 [TYC 1998-163-1], n2.0121.fit, mdm-spring-2017>\n",
      "<Observation 1820-6435 [TYC 1998-938-1], n2.0122.fit, mdm-spring-2017>\n",
      "<Observation 1946-2696 [TYC 1997-211-1], n2.0123.fit, mdm-spring-2017>\n",
      "<Observation 2273-3850 [TYC 1995-1101-1], n2.0124.fit, mdm-spring-2017>\n",
      "<Observation 2273-3360 [HD 114254], n2.0125.fit, mdm-spring-2017>\n"
     ]
    },
    {
     "name": "stderr",
     "output_type": "stream",
     "text": [
      "/Users/adrian/projects/gaia-comoving-followup/comoving_rv/db/literature_helpers.py:63: UserWarning: Warning: converting a masked element to nan.\n",
      "  return float(row['RVel']), float(row['e_RVel']), None, bibcode\n"
     ]
    },
    {
     "name": "stdout",
     "output_type": "stream",
     "text": [
      "\t -1.44\n",
      "<Observation 1851-2499 [TYC 1995-1369-1], n2.0126.fit, mdm-spring-2017>\n",
      "<Observation 1851-4674 [TYC 1995-816-1], n2.0127.fit, mdm-spring-2017>\n",
      "<Observation 1434-9281 [TYC 2560-316-1], n2.0128.fit, mdm-spring-2017>\n",
      "<Observation 1434-1704 [TYC 2560-121-1], n2.0129.fit, mdm-spring-2017>\n",
      "<Observation 1405-1648 [TYC 3037-628-1], n2.0130.fit, mdm-spring-2017>\n",
      "<Observation 1405-7726 [TYC 3033-808-1], n2.0131.fit, mdm-spring-2017>\n",
      "<Observation 2281-9802 [TYC 3478-165-1], n2.0132.fit, mdm-spring-2017>\n",
      "<Observation 2281-3375 [TYC 3478-168-1], n2.0133.fit, mdm-spring-2017>\n",
      "<Observation 1784-2364 [HD 139691], n2.0134.fit, mdm-spring-2017>\n",
      "<Observation 1784-3826 [HIP 76566], n2.0135.fit, mdm-spring-2017>\n",
      "<Observation 1821-9021 [HD 133598], n2.0136.fit, mdm-spring-2017>\n",
      "<Observation 1821-2435 [HD 132505], n2.0137.fit, mdm-spring-2017>\n",
      "\t -15.899999618530273\n",
      "<Observation 2046-2884 [HD 135102], n2.0138.fit, mdm-spring-2017>\n",
      "<Observation 2046-8993 [TYC 1487-629-1], n2.0139.fit, mdm-spring-2017>\n",
      "<Observation 1776-2348 [TYC 1485-447-1], n2.0140.fit, mdm-spring-2017>\n",
      "<Observation 1776-7064 [TYC 1481-620-1], n2.0141.fit, mdm-spring-2017>\n",
      "<Observation 2113-9830 [HD 135164], n2.0142.fit, mdm-spring-2017>\n",
      "<Observation 2113-3030 [TYC 939-799-1], n2.0143.fit, mdm-spring-2017>\n",
      "<Observation 1673-3038 [TYC 939-245-1], n2.0144.fit, mdm-spring-2017>\n",
      "<Observation 1673-3038 [TYC 939-245-1], n2.0145.fit, mdm-spring-2017>\n",
      "<Observation 2099-2993 [TYC 940-752-1], n2.0146.fit, mdm-spring-2017>\n",
      "<Observation 2099-2995 [HD 139268], n2.0147.fit, mdm-spring-2017>\n"
     ]
    },
    {
     "name": "stderr",
     "output_type": "stream",
     "text": [
      "/Users/adrian/projects/gaia-comoving-followup/comoving_rv/db/literature_helpers.py:101: UserWarning: Warning: converting a masked element to nan.\n",
      "  err = float(row['e_RV'])\n"
     ]
    },
    {
     "name": "stdout",
     "output_type": "stream",
     "text": [
      "<Observation 2154-10128 [HIP 78154], n2.0148.fit, mdm-spring-2017>\n",
      "<Observation 1942-2737 [HD 143993], n2.0149.fit, mdm-spring-2017>\n"
     ]
    },
    {
     "name": "stderr",
     "output_type": "stream",
     "text": [
      "/Users/adrian/projects/gaia-comoving-followup/comoving_rv/db/literature_helpers.py:63: UserWarning: Warning: converting a masked element to nan.\n",
      "  return float(row['RVel']), float(row['e_RVel']), None, bibcode\n"
     ]
    },
    {
     "name": "stdout",
     "output_type": "stream",
     "text": [
      "<Observation 1942-2691 [TYC 956-1174-1], n2.0150.fit, mdm-spring-2017>\n",
      "<Observation 1942-2691 [TYC 956-1174-1], n2.0151.fit, mdm-spring-2017>\n",
      "<Observation 2342-3491 [HD 140346], n2.0152.fit, mdm-spring-2017>\n",
      "\t -4.07\n",
      "<Observation 2342-6570 [TYC 362-1013-1], n2.0153.fit, mdm-spring-2017>\n",
      "<Observation 1828-4704 [TYC 5025-35-1], n2.0154.fit, mdm-spring-2017>\n",
      "<Observation 1397-1626 [TYC 4999-135-1], n2.0155.fit, mdm-spring-2017>\n",
      "<Observation 1397-1626 [TYC 4999-135-1], n2.0156.fit, mdm-spring-2017>\n",
      "<Observation 1397-1879 [TYC 4995-600-1], n2.0157.fit, mdm-spring-2017>\n",
      "<Observation 1617-7631 [TYC 410-152-1], n2.0158.fit, mdm-spring-2017>\n",
      "<Observation 1617-2061 [TYC 407-1186-1], n2.0159.fit, mdm-spring-2017>\n",
      "<Observation 1534-1889 [TYC 978-928-1], n2.0160.fit, mdm-spring-2017>\n",
      "<Observation 1534-9182 [TYC 978-717-1], n2.0161.fit, mdm-spring-2017>\n",
      "<Observation 2135-3072 [TYC 1521-61-1], n2.0162.fit, mdm-spring-2017>\n",
      "<Observation 2135-5867 [TYC 1524-1130-1], n2.0163.fit, mdm-spring-2017>\n",
      "<Observation 1613-3003 [HD 125906], n2.0164.fit, mdm-spring-2017>\n",
      "\t -33.400001525878906\n",
      "<Observation 1613-2050 [HD 131025], n2.0165.fit, mdm-spring-2017>\n",
      "\t -7.300000190734863\n",
      "<Observation 1426-1692 [HD 134755B], n2.0166.fit, mdm-spring-2017>\n",
      "<Observation 1426-10422 [HD 134755], n2.0167.fit, mdm-spring-2017>\n",
      "<Observation 1790-2371 [HD 130087], n2.0168.fit, mdm-spring-2017>\n",
      "\t -15.800000190734863\n",
      "<Observation 1790-9315 [TYC 902-149-1], n2.0169.fit, mdm-spring-2017>\n",
      "<Observation HD140283 [HD 140283], n2.0170.fit, mdm-spring-2017>\n",
      "\t -169.0\n",
      "<Observation 1578-9935 [TYC 5059-1056-1], n2.0171.fit, mdm-spring-2017>\n",
      "<Observation 1578-1982 [TYC 5072-405-1], n2.0172.fit, mdm-spring-2017>\n",
      "<Observation 1503-1809 [TYC 4420-928-1], n2.0173.fit, mdm-spring-2017>\n",
      "<Observation 1503-1924 [HD 148629], n2.0174.fit, mdm-spring-2017>\n",
      "<Observation HD158067 [HD 158067], n2.0175.fit, mdm-spring-2017>\n",
      "<Observation 1946-3777 [TYC 1997-1036-1], n2.0188.fit, mdm-spring-2017>\n",
      "<Observation 2495-4212 [HD 38014], n3.0023.fit, mdm-spring-2017>\n"
     ]
    },
    {
     "name": "stderr",
     "output_type": "stream",
     "text": [
      "/Users/adrian/projects/gaia-comoving-followup/comoving_rv/db/literature_helpers.py:101: UserWarning: Warning: converting a masked element to nan.\n",
      "  err = float(row['e_RV'])\n"
     ]
    },
    {
     "name": "stdout",
     "output_type": "stream",
     "text": [
      "\t 55.1\n",
      "<Observation 2495-3799 [HD 36443], n3.0024.fit, mdm-spring-2017>\n",
      "\t -7.800000190734863\n",
      "<Observation 2436-3662 [HD 38479], n3.0025.fit, mdm-spring-2017>\n",
      "<Observation 2436-4730 [HD 288310], n3.0026.fit, mdm-spring-2017>\n",
      "<Observation 2425-3645 [HD 38589], n3.0027.fit, mdm-spring-2017>\n",
      "<Observation 2425-4106 [HD 288194], n3.0028.fit, mdm-spring-2017>\n",
      "<Observation 3055-5119 [TYC 4803-60-1], n3.0029.fit, mdm-spring-2017>\n",
      "<Observation 3055-5048 [HD 295277], n3.0030.fit, mdm-spring-2017>\n",
      "<Observation 3292-5741 [HD 53335], n3.0031.fit, mdm-spring-2017>\n",
      "<Observation 3292-9300 [HD 293178], n3.0032.fit, mdm-spring-2017>\n"
     ]
    },
    {
     "name": "stderr",
     "output_type": "stream",
     "text": [
      "/Users/adrian/projects/gaia-comoving-followup/comoving_rv/db/literature_helpers.py:63: UserWarning: Warning: converting a masked element to nan.\n",
      "  return float(row['RVel']), float(row['e_RVel']), None, bibcode\n"
     ]
    },
    {
     "name": "stdout",
     "output_type": "stream",
     "text": [
      "<Observation 2476-3753 [TYC 156-1170-1], n3.0033.fit, mdm-spring-2017>\n",
      "<Observation 2476-8643 [HD 48845], n3.0034.fit, mdm-spring-2017>\n",
      "<Observation 2995-8632 [HD 47179], n3.0035.fit, mdm-spring-2017>\n"
     ]
    },
    {
     "name": "stderr",
     "output_type": "stream",
     "text": [
      "/Users/adrian/projects/gaia-comoving-followup/comoving_rv/db/literature_helpers.py:63: UserWarning: Warning: converting a masked element to nan.\n",
      "  return float(row['RVel']), float(row['e_RVel']), None, bibcode\n"
     ]
    },
    {
     "name": "stdout",
     "output_type": "stream",
     "text": [
      "\t 28.0\n",
      "<Observation 2995-4900 [HD 47072], n3.0036.fit, mdm-spring-2017>\n"
     ]
    },
    {
     "name": "stderr",
     "output_type": "stream",
     "text": [
      "/Users/adrian/projects/gaia-comoving-followup/comoving_rv/db/literature_helpers.py:101: UserWarning: Warning: converting a masked element to nan.\n",
      "  err = float(row['e_RV'])\n"
     ]
    },
    {
     "name": "stdout",
     "output_type": "stream",
     "text": [
      "<Observation 2412-3700 [TYC 752-1389-1], n3.0037.fit, mdm-spring-2017>\n",
      "<Observation 2412-3626 [TYC 752-1649-1], n3.0038.fit, mdm-spring-2017>\n",
      "<Observation 2561-3937 [TYC 759-1562-1], n3.0039.fit, mdm-spring-2017>\n",
      "<Observation 2561-4778 [HD 51002], n3.0040.fit, mdm-spring-2017>\n"
     ]
    },
    {
     "name": "stderr",
     "output_type": "stream",
     "text": [
      "/Users/adrian/projects/gaia-comoving-followup/comoving_rv/db/literature_helpers.py:63: UserWarning: Warning: converting a masked element to nan.\n",
      "  return float(row['RVel']), float(row['e_RVel']), None, bibcode\n"
     ]
    },
    {
     "name": "stdout",
     "output_type": "stream",
     "text": [
      "\t 26.0\n",
      "<Observation 2980-9290 [TYC 1348-1428-1], n3.0041.fit, mdm-spring-2017>\n",
      "<Observation 2980-9290 [TYC 1348-1428-1], n3.0042.fit, mdm-spring-2017>\n",
      "<Observation 3117-8859 [TYC 1360-898-1], n3.0043.fit, mdm-spring-2017>\n",
      "<Observation 3117-5203 [TYC 777-1316-1], n3.0044.fit, mdm-spring-2017>\n",
      "<Observation 3400-10013 [TYC 1331-1457-1], n3.0045.fit, mdm-spring-2017>\n",
      "<Observation 3400-6076 [TYC 1334-104-1], n3.0046.fit, mdm-spring-2017>\n",
      "<Observation HIP34511 [HD 54351], n3.0047.fit, mdm-spring-2017>\n",
      "\t 42.599998474121094\n",
      "<Observation HIP35750 [HIP 35750], n3.0048.fit, mdm-spring-2017>\n"
     ]
    },
    {
     "name": "stderr",
     "output_type": "stream",
     "text": [
      "/Users/adrian/projects/gaia-comoving-followup/comoving_rv/db/literature_helpers.py:63: UserWarning: Warning: converting a masked element to nan.\n",
      "  return float(row['RVel']), float(row['e_RVel']), None, bibcode\n"
     ]
    },
    {
     "name": "stdout",
     "output_type": "stream",
     "text": [
      "<Observation HIP36849 [HD 60319], n3.0049.fit, mdm-spring-2017>\n"
     ]
    },
    {
     "name": "stderr",
     "output_type": "stream",
     "text": [
      "/Users/adrian/projects/gaia-comoving-followup/comoving_rv/db/literature_helpers.py:63: UserWarning: Warning: converting a masked element to nan.\n",
      "  return float(row['RVel']), float(row['e_RVel']), None, bibcode\n"
     ]
    },
    {
     "name": "stdout",
     "output_type": "stream",
     "text": [
      "\t -33.92\n",
      "<Observation HIP36491 [HD 59374], n3.0050.fit, mdm-spring-2017>\n",
      "\t 91.19999694824219\n",
      "<Observation 3322-5940 [TYC 1307-254-1], n3.0051.fit, mdm-spring-2017>\n",
      "<Observation 3322-5829 [TYC 1307-1436-1], n3.0052.fit, mdm-spring-2017>\n",
      "<Observation HIP28671 [HD 250792], n3.0053.fit, mdm-spring-2017>\n",
      "\t -190.2\n",
      "<Observation HIP26828 [HD 37739], n3.0054.fit, mdm-spring-2017>\n",
      "<Observation 3339-8240 [HD 48881], n3.0055.fit, mdm-spring-2017>\n",
      "<Observation 3339-5890 [HD 51592], n3.0056.fit, mdm-spring-2017>\n"
     ]
    },
    {
     "name": "stderr",
     "output_type": "stream",
     "text": [
      "/Users/adrian/projects/gaia-comoving-followup/comoving_rv/db/literature_helpers.py:63: UserWarning: Warning: converting a masked element to nan.\n",
      "  return float(row['RVel']), float(row['e_RVel']), None, bibcode\n"
     ]
    },
    {
     "name": "stdout",
     "output_type": "stream",
     "text": [
      "<Observation 3245-5576 [TYC 3409-491-1], n3.0057.fit, mdm-spring-2017>\n",
      "<Observation 3245-6482 [HD 64866], n3.0058.fit, mdm-spring-2017>\n",
      "<Observation 3245-6482-1 [HD 64866], n3.0059.fit, mdm-spring-2017>\n",
      "<Observation 3161-5311 [HD 62068], n3.0060.fit, mdm-spring-2017>\n",
      "\t -66.47\n",
      "<Observation 3161-7492 [TYC 2976-2181-1], n3.0061.fit, mdm-spring-2017>\n",
      "<Observation 2869-5147 [TYC 2972-467-1], n3.0062.fit, mdm-spring-2017>\n",
      "<Observation 2869-4644 [HD 65788], n3.0063.fit, mdm-spring-2017>\n",
      "\t 21.3\n",
      "<Observation 2467-4675 [TYC 2976-147-1], n3.0064.fit, mdm-spring-2017>\n",
      "<Observation 2467-3726 [HD 72206], n3.0065.fit, mdm-spring-2017>\n",
      "\t 45.400001525878906\n",
      "<Observation 2832-4562 [HIP 39256], n3.0066.fit, mdm-spring-2017>\n",
      "<Observation 2832-4582 [TYC 2973-310-1], n3.0067.fit, mdm-spring-2017>\n",
      "<Observation 2432-5170 [TYC 2973-1269-1], n3.0068.fit, mdm-spring-2017>\n",
      "<Observation 2432-3658 [HD 67108], n3.0069.fit, mdm-spring-2017>\n",
      "<Observation 2747-4354 [HIP 38950], n3.0070.fit, mdm-spring-2017>\n",
      "<Observation 2747-5924 [TYC 2973-2613-1], n3.0071.fit, mdm-spring-2017>\n",
      "<Observation 2462-3717 [HD 77984], n3.0072.fit, mdm-spring-2017>\n",
      "\t 13.699999809265137\n",
      "<Observation 2462-10475 [TYC 2984-1325-1], n3.0073.fit, mdm-spring-2017>\n",
      "<Observation HIP38926 [HD 64913], n3.0074.fit, mdm-spring-2017>\n",
      "\t -67.80000305175781\n",
      "<Observation HIP37789 [HD 62301], n3.0075.fit, mdm-spring-2017>\n",
      "\t -5.599999904632568\n",
      "<Observation HIP36993 [HD 60521], n3.0076.fit, mdm-spring-2017>\n",
      "\t 29.399999618530273\n",
      "<Observation HIP38541 [HD 64090], n3.0077.fit, mdm-spring-2017>\n",
      "\t -234.6999969482422\n",
      "<Observation 2485-3779 [HIP 35582], n3.0078.fit, mdm-spring-2017>\n",
      "<Observation 2485-7070 [TYC 1922-1604-1], n3.0079.fit, mdm-spring-2017>\n",
      "<Observation 2684-6845 [HD 61397], n3.0080.fit, mdm-spring-2017>\n",
      "<Observation 2684-4227 [TYC 1916-936-1], n3.0081.fit, mdm-spring-2017>\n",
      "<Observation HIP36874 [HD 60298], n3.0082.fit, mdm-spring-2017>\n",
      "\t -135.8000030517578\n",
      "<Observation HIP41544 [HD 71089], n3.0083.fit, mdm-spring-2017>\n"
     ]
    },
    {
     "name": "stderr",
     "output_type": "stream",
     "text": [
      "/Users/adrian/projects/gaia-comoving-followup/comoving_rv/db/literature_helpers.py:63: UserWarning: Warning: converting a masked element to nan.\n",
      "  return float(row['RVel']), float(row['e_RVel']), None, bibcode\n"
     ]
    },
    {
     "name": "stdout",
     "output_type": "stream",
     "text": [
      "\t -87.2\n",
      "<Observation 2563-3941 [TYC 4130-2221-1], n3.0084.fit, mdm-spring-2017>\n",
      "<Observation 2563-4013 [TYC 4131-83-1], n3.0085.fit, mdm-spring-2017>\n",
      "<Observation 2817-7042 [HD 78657], n3.0086.fit, mdm-spring-2017>\n",
      "<Observation 2817-4526 [TYC 4376-611-1], n3.0087.fit, mdm-spring-2017>\n",
      "<Observation 3347-8162 [TYC 4387-327-1], n3.0088.fit, mdm-spring-2017>\n",
      "<Observation 3347-8162 [TYC 4387-327-1], n3.0089.fit, mdm-spring-2017>\n",
      "<Observation 3410-7687 [TYC 4388-474-1], n3.0090.fit, mdm-spring-2017>\n",
      "<Observation 3410-6100 [HD 101364], n3.0091.fit, mdm-spring-2017>\n",
      "\t 5.400000095367432\n",
      "<Observation 3367-6075 [HD 99318], n3.0092.fit, mdm-spring-2017>\n",
      "<Observation 3367-5969 [TYC 4385-1048-1], n3.0093.fit, mdm-spring-2017>\n",
      "<Observation 3192-5415 [HIP 53885], n3.0094.fit, mdm-spring-2017>\n",
      "<Observation 3192-9176 [TYC 4148-1192-1], n3.0095.fit, mdm-spring-2017>\n",
      "<Observation 2971-4897 [TYC 4144-344-1], n3.0096.fit, mdm-spring-2017>\n",
      "<Observation 2971-4853 [TYC 4137-215-1], n3.0097.fit, mdm-spring-2017>\n",
      "<Observation 2890-4832 [TYC 4137-1755-1], n3.0098.fit, mdm-spring-2017>\n",
      "<Observation 2890-4681 [TYC 3820-747-1], n3.0099.fit, mdm-spring-2017>\n",
      "<Observation 2818-4708 [TYC 3820-980-1], n3.0100.fit, mdm-spring-2017>\n",
      "<Observation 2818-4527 [TYC 3821-435-1], n3.0101.fit, mdm-spring-2017>\n",
      "<Observation 2664-4175 [HD 237872], n3.0102.fit, mdm-spring-2017>\n",
      "<Observation 2664-4205 [TYC 3817-148-1], n3.0103.fit, mdm-spring-2017>\n",
      "<Observation 2402-3599 [TYC 3818-1372-1], n3.0104.fit, mdm-spring-2017>\n",
      "<Observation 2402-3892 [TYC 3818-1387-1], n3.0105.fit, mdm-spring-2017>\n",
      "<Observation 2509-3907 [HIP 50114], n3.0106.fit, mdm-spring-2017>\n",
      "<Observation 2509-3824 [TYC 3819-1312-1], n3.0107.fit, mdm-spring-2017>\n",
      "<Observation 2776-4429 [TYC 3822-889-1], n3.0108.fit, mdm-spring-2017>\n",
      "<Observation 2776-7962 [TYC 3829-462-1], n3.0109.fit, mdm-spring-2017>\n",
      "<Observation 2629-4904 [HD 94778], n3.0110.fit, mdm-spring-2017>\n",
      "\t -7.9\n",
      "<Observation 2629-4097 [TYC 3829-197-1], n3.0111.fit, mdm-spring-2017>\n",
      "<Observation 2822-4540 [TYC 3838-52-1], n3.0112.fit, mdm-spring-2017>\n",
      "<Observation 2822-4539 [TYC 3838-294-1], n3.0113.fit, mdm-spring-2017>\n",
      "<Observation 3142-6538 [TYC 4149-407-1], n3.0114.fit, mdm-spring-2017>\n",
      "<Observation 3142-5262 [TYC 4149-1017-1], n3.0115.fit, mdm-spring-2017>\n",
      "<Observation 2740-6534 [HD 84483], n3.0116.fit, mdm-spring-2017>\n",
      "<Observation 2740-4340 [TYC 3820-1084-1], n3.0117.fit, mdm-spring-2017>\n",
      "<Observation 3360-5955 [TYC 3437-1247-1], n3.0118.fit, mdm-spring-2017>\n",
      "<Observation 3360-10318 [HIP 49734], n3.0119.fit, mdm-spring-2017>\n",
      "<Observation 3116-8051 [TYC 3009-83-1], n3.0120.fit, mdm-spring-2017>\n",
      "<Observation 3116-5202 [TYC 3009-97-1], n3.0121.fit, mdm-spring-2017>\n",
      "<Observation 3074-5087 [TYC 3009-2621-1], n3.0122.fit, mdm-spring-2017>\n",
      "<Observation 3074-5087 [TYC 3009-2621-1], n3.0123.fit, mdm-spring-2017>\n",
      "<Observation 3101-5156 [HD 118742], n3.0124.fit, mdm-spring-2017>\n",
      "\t -27.299999237060547\n",
      "<Observation 3101-5154 [HD 118742C], n3.0125.fit, mdm-spring-2017>\n",
      "<Observation 2926-7669 [HIP 67476], n3.0126.fit, mdm-spring-2017>\n",
      "<Observation 2926-4753 [HD 120582], n3.0127.fit, mdm-spring-2017>\n",
      "<Observation HIP64747 [HD 115349], n3.0128.fit, mdm-spring-2017>\n",
      "\t -47.0\n",
      "<Observation 3224-5502 [TYC 2552-1058-1], n3.0129.fit, mdm-spring-2017>\n",
      "<Observation 3224-5797 [HD 124711], n3.0130.fit, mdm-spring-2017>\n",
      "<Observation 3261-5617 [TYC 2549-295-1], n3.0131.fit, mdm-spring-2017>\n",
      "<Observation 3261-5721 [TYC 3035-533-1], n3.0132.fit, mdm-spring-2017>\n",
      "<Observation 3293-5743 [HD 128661], n3.0134.fit, mdm-spring-2017>\n"
     ]
    },
    {
     "name": "stderr",
     "output_type": "stream",
     "text": [
      "/Users/adrian/projects/gaia-comoving-followup/comoving_rv/db/literature_helpers.py:101: UserWarning: Warning: converting a masked element to nan.\n",
      "  err = float(row['e_RV'])\n"
     ]
    },
    {
     "name": "stdout",
     "output_type": "stream",
     "text": [
      "<Observation 3293-9712 [HIP 72620], n3.0135.fit, mdm-spring-2017>\n",
      "<Observation 3399-6122 [TYC 3038-814-1], n3.0136.fit, mdm-spring-2017>\n",
      "<Observation 3399-6073 [HD 124185], n3.0137.fit, mdm-spring-2017>\n",
      "<Observation HIP71284 [HD 128167], n3.0139.fit, mdm-spring-2017>\n",
      "\t 0.6000000238418579\n",
      "<Observation 3032-10135 [TYC 3473-448-1], n3.0140.fit, mdm-spring-2017>\n",
      "<Observation 3032-4980 [HIP 72189], n3.0141.fit, mdm-spring-2017>\n",
      "<Observation 2883-9978 [HD 234181], n3.0142.fit, mdm-spring-2017>\n",
      "<Observation 2883-4668 [HD 131580], n3.0143.fit, mdm-spring-2017>\n",
      "<Observation 3416-6432 [TYC 3047-1038-1], n3.0144.fit, mdm-spring-2017>\n",
      "<Observation 3416-6147 [TYC 3051-1231-1], n3.0145.fit, mdm-spring-2017>\n",
      "<Observation 3316-5810 [TYC 3059-825-1], n3.0146.fit, mdm-spring-2017>\n",
      "<Observation 3316-5810 [TYC 3059-825-1], n3.0147.fit, mdm-spring-2017>\n",
      "<Observation 2845-4588 [TYC 3056-902-1], n3.0148.fit, mdm-spring-2017>\n",
      "<Observation 2845-6573 [HD 149361], n3.0149.fit, mdm-spring-2017>\n",
      "<Observation 2896-4695 [HD 148331], n3.0150.fit, mdm-spring-2017>\n",
      "<Observation 2896-5169 [HD 144657], n3.0151.fit, mdm-spring-2017>\n",
      "<Observation 2946-4805 [HD 148094], n3.0152.fit, mdm-spring-2017>\n",
      "<Observation 2946-5245 [TYC 3492-1670-1], n3.0153.fit, mdm-spring-2017>\n",
      "<Observation HIP78640 [HIP 78640], n3.0154.fit, mdm-spring-2017>\n"
     ]
    },
    {
     "name": "stderr",
     "output_type": "stream",
     "text": [
      "/Users/adrian/projects/gaia-comoving-followup/comoving_rv/db/literature_helpers.py:63: UserWarning: Warning: converting a masked element to nan.\n",
      "  return float(row['RVel']), float(row['e_RVel']), None, bibcode\n"
     ]
    },
    {
     "name": "stdout",
     "output_type": "stream",
     "text": [
      "<Observation 2499-4016 [HD 141990], n3.0155.fit, mdm-spring-2017>\n"
     ]
    },
    {
     "name": "stderr",
     "output_type": "stream",
     "text": [
      "/Users/adrian/projects/gaia-comoving-followup/comoving_rv/db/literature_helpers.py:63: UserWarning: Warning: converting a masked element to nan.\n",
      "  return float(row['RVel']), float(row['e_RVel']), None, bibcode\n"
     ]
    },
    {
     "name": "stdout",
     "output_type": "stream",
     "text": [
      "\t -4.6\n",
      "<Observation 2499-3805 [HIP 76696], n3.0156.fit, mdm-spring-2017>\n",
      "<Observation 2499-4016 [HD 141990], n3.0157.fit, mdm-spring-2017>\n",
      "\t -4.6\n",
      "<Observation 2428-10566 [TYC 2567-1332-1], n3.0158.fit, mdm-spring-2017>\n",
      "<Observation 2428-10566 [TYC 2567-1332-1], n3.0160.fit, mdm-spring-2017>\n",
      "<Observation 3231-6310 [TYC 2039-1254-1], n3.0161.fit, mdm-spring-2017>\n",
      "<Observation 3231-5529 [TYC 2040-216-1], n3.0162.fit, mdm-spring-2017>\n",
      "<Observation 3289-5732 [HD 144286], n3.0163.fit, mdm-spring-2017>\n"
     ]
    },
    {
     "name": "stderr",
     "output_type": "stream",
     "text": [
      "/Users/adrian/projects/gaia-comoving-followup/comoving_rv/db/literature_helpers.py:63: UserWarning: Warning: converting a masked element to nan.\n",
      "  return float(row['RVel']), float(row['e_RVel']), None, bibcode\n"
     ]
    },
    {
     "name": "stdout",
     "output_type": "stream",
     "text": [
      "<Observation 3289-9202 [TYC 2041-1645-1], n3.0164.fit, mdm-spring-2017>\n",
      "<Observation 3426-6177 [TYC 2040-641-1], n3.0165.fit, mdm-spring-2017>\n",
      "<Observation 3426-9781 [TYC 2037-1024-1], n3.0166.fit, mdm-spring-2017>\n",
      "<Observation 2944-6119 [TYC 2037-245-1], n3.0167.fit, mdm-spring-2017>\n",
      "<Observation 2944-4803 [TYC 2038-738-1], n3.0168.fit, mdm-spring-2017>\n",
      "<Observation 3287-5726 [SMOH 3287-5726], n3.0169.fit, mdm-spring-2017>\n"
     ]
    },
    {
     "name": "stderr",
     "output_type": "stream",
     "text": [
      "/Users/adrian/anaconda/envs/comoving-rv/lib/python3.6/site-packages/astroquery/simbad/core.py:136: UserWarning: Warning: The script line number 3 raised an error (recorded in the `errors` attribute of the result table): Identifier not found in the database : NAME SMOH 3287-5726\n",
      "  (error.line, error.msg))\n",
      "/Users/adrian/anaconda/envs/comoving-rv/lib/python3.6/site-packages/astroquery/simbad/core.py:136: UserWarning: Warning: The script line number 3 raised an error (recorded in the `errors` attribute of the result table): Identifier not found in the database : NAME SMOH 3287-5726-1\n",
      "  (error.line, error.msg))\n"
     ]
    },
    {
     "name": "stdout",
     "output_type": "stream",
     "text": [
      "<Observation 3287-5726-1 [SMOH 3287-5726-1], n3.0170.fit, mdm-spring-2017>\n",
      "<Observation 3287-7304 [HD 141176], n3.0171.fit, mdm-spring-2017>\n"
     ]
    },
    {
     "name": "stderr",
     "output_type": "stream",
     "text": [
      "/Users/adrian/projects/gaia-comoving-followup/comoving_rv/db/literature_helpers.py:101: UserWarning: Warning: converting a masked element to nan.\n",
      "  err = float(row['e_RV'])\n"
     ]
    },
    {
     "name": "stdout",
     "output_type": "stream",
     "text": [
      "<Observation 3127-5222 [TYC 2025-814-1], n3.0172.fit, mdm-spring-2017>\n",
      "<Observation 3127-9173 [TYC 2024-299-1], n3.0173.fit, mdm-spring-2017>\n",
      "<Observation HIP76984 [HD 140514], n3.0174.fit, mdm-spring-2017>\n",
      "\t 10.600000381469727\n",
      "<Observation 2800-4586 [TYC 1490-814-1], n3.0175.fit, mdm-spring-2017>\n",
      "<Observation 2800-4477 [TYC 1487-853-1], n3.0176.fit, mdm-spring-2017>\n",
      "<Observation HIP77536 [HD 141692], n3.0178.fit, mdm-spring-2017>\n"
     ]
    },
    {
     "name": "stderr",
     "output_type": "stream",
     "text": [
      "/Users/adrian/projects/gaia-comoving-followup/comoving_rv/db/literature_helpers.py:63: UserWarning: Warning: converting a masked element to nan.\n",
      "  return float(row['RVel']), float(row['e_RVel']), None, bibcode\n"
     ]
    },
    {
     "name": "stdout",
     "output_type": "stream",
     "text": [
      "\t -72.8\n",
      "<Observation HIP76899 [HD 140209], n3.0179.fit, mdm-spring-2017>\n",
      "\t -82.5\n",
      "<Observation HIP77637 [HIP 77637], n3.0180.fit, mdm-spring-2017>\n"
     ]
    },
    {
     "name": "stderr",
     "output_type": "stream",
     "text": [
      "/Users/adrian/projects/gaia-comoving-followup/comoving_rv/db/literature_helpers.py:63: UserWarning: Warning: converting a masked element to nan.\n",
      "  return float(row['RVel']), float(row['e_RVel']), None, bibcode\n"
     ]
    },
    {
     "name": "stdout",
     "output_type": "stream",
     "text": [
      "<Observation HIP79137 [HD 145148], n3.0181.fit, mdm-spring-2017>\n",
      "\t -4.04\n",
      "<Observation HIP79792 [HD 146644], n3.0182.fit, mdm-spring-2017>\n",
      "\t -5.099999904632568\n",
      "<Observation 3246-5577 [TYC 953-373-1], n3.0183.fit, mdm-spring-2017>\n",
      "<Observation 3246-9512 [TYC 954-154-1], n3.0184.fit, mdm-spring-2017>\n",
      "<Observation 2928-4758 [HD 151090], n3.0185.fit, mdm-spring-2017>\n",
      "\t -5.7\n",
      "<Observation 2928-7523 [HIP 81988], n3.0186.fit, mdm-spring-2017>\n",
      "<Observation HIP80722 [HD 148571], n3.0187.fit, mdm-spring-2017>\n",
      "\t -1.899999976158142\n",
      "<Observation HIP80837 [HD 148816], n3.0190.fit, mdm-spring-2017>\n",
      "\t -47.79999923706055\n",
      "<Observation HIP80700 [HD 148530], n3.0191.fit, mdm-spring-2017>\n",
      "\t 24.799999237060547\n",
      "<Observation 2905-7729 [TYC 412-874-1], n3.0192.fit, mdm-spring-2017>\n",
      "<Observation 2905-4717 [TYC 978-631-1], n3.0193.fit, mdm-spring-2017>\n",
      "<Observation HIP83204 [HD 153627], n3.0194.fit, mdm-spring-2017>\n",
      "\t -1.600000023841858\n",
      "<Observation HIP83489 [HD 154276], n3.0195.fit, mdm-spring-2017>\n",
      "\t -57.0\n",
      "<Observation 3299-5759 [TYC 1526-1393-1], n3.0196.fit, mdm-spring-2017>\n",
      "<Observation 3299-5760 [HD 153455], n3.0197.fit, mdm-spring-2017>\n",
      "\t -37.5\n",
      "<Observation HIP87769 [HD 163441], n3.0198.fit, mdm-spring-2017>\n",
      "\t 9.0\n",
      "<Observation HIP86193 [HD 159909], n3.0199.fit, mdm-spring-2017>\n",
      "\t -77.30000305175781\n",
      "<Observation HIP84781 [HD 156893], n3.0200.fit, mdm-spring-2017>\n",
      "\t -84.5\n",
      "<Observation HIP86013 [HD 159482], n3.0201.fit, mdm-spring-2017>\n",
      "\t -137.3000030517578\n",
      "<Observation HIP88622 [HD 165401], n3.0202.fit, mdm-spring-2017>\n",
      "\t -119.9000015258789\n",
      "<Observation HIP89207 [HD 166823], n3.0203.fit, mdm-spring-2017>\n",
      "\t -25.399999618530273\n",
      "<Observation HIP90539 [HD 170232], n3.0204.fit, mdm-spring-2017>\n",
      "\t -58.0\n",
      "<Observation HIP92781 [HD 175179], n3.0205.fit, mdm-spring-2017>\n",
      "\t 21.399999618530273\n",
      "<Observation HIP87533 [HD 162756], n3.0206.fit, mdm-spring-2017>\n",
      "\t -115.5\n",
      "<Observation HIP87841 [HD 163492], n3.0207.fit, mdm-spring-2017>\n",
      "\t 0.10000000149011612\n",
      "<Observation HIP87101 [HD 161770], n3.0208.fit, mdm-spring-2017>\n",
      "\t -129.6999969482422\n",
      "<Observation HIP89589 [HD 167718], n3.0209.fit, mdm-spring-2017>\n",
      "\t -40.29999923706055\n",
      "<Observation HIP89583 [HD 167677], n3.0210.fit, mdm-spring-2017>\n",
      "\t -57.70000076293945\n",
      "<Observation HIP90004 [HD 168746], n3.0211.fit, mdm-spring-2017>\n",
      "\t -26.100000381469727\n",
      "<Observation HIP88010 [HD 163810], n3.0212.fit, mdm-spring-2017>\n",
      "\t 186.10000610351562\n",
      "<Observation HIP83867 [HD 154865], n3.0213.fit, mdm-spring-2017>\n",
      "\t -51.900001525878906\n",
      "<Observation HIP83867 [HD 154865], n3.0214.fit, mdm-spring-2017>\n",
      "\t -51.900001525878906\n",
      "<Observation HIP81580 [HD 150177], n3.0215.fit, mdm-spring-2017>\n",
      "\t -18.200000762939453\n",
      "<Observation HIP81952 [HD 150936], n3.0216.fit, mdm-spring-2017>\n",
      "\t -39.70000076293945\n",
      "<Observation HIP83601 [HD 154417], n3.0217.fit, mdm-spring-2017>\n",
      "\t -17.0\n",
      "<Observation HIP80700 [HD 148530], n3.0218.fit, mdm-spring-2017>\n",
      "\t 24.799999237060547\n",
      "<Observation HIP79792 [HD 146644], n3.0219.fit, mdm-spring-2017>\n",
      "\t -5.099999904632568\n",
      "<Observation HIP79137 [HD 145148], n3.0220.fit, mdm-spring-2017>\n",
      "\t -4.04\n",
      "<Observation HIP77637 [HIP 77637], n3.0221.fit, mdm-spring-2017>\n",
      "<Observation HIP77536 [HD 141692], n3.0222.fit, mdm-spring-2017>\n",
      "\t -72.8\n",
      "<Observation HIP18833 [HD 25322], n4.0022.fit, mdm-spring-2017>\n"
     ]
    },
    {
     "name": "stderr",
     "output_type": "stream",
     "text": [
      "/Users/adrian/projects/gaia-comoving-followup/comoving_rv/db/literature_helpers.py:63: UserWarning: Warning: converting a masked element to nan.\n",
      "  return float(row['RVel']), float(row['e_RVel']), None, bibcode\n",
      "/Users/adrian/projects/gaia-comoving-followup/comoving_rv/db/literature_helpers.py:63: UserWarning: Warning: converting a masked element to nan.\n",
      "  return float(row['RVel']), float(row['e_RVel']), None, bibcode\n"
     ]
    },
    {
     "name": "stdout",
     "output_type": "stream",
     "text": [
      "\t -22.799999237060547\n",
      "<Observation HIP22349 [HD 30455], n4.0023.fit, mdm-spring-2017>\n",
      "\t 55.900001525878906\n",
      "<Observation HIP28159 [HD 40040], n4.0024.fit, mdm-spring-2017>\n",
      "\t -26.600000381469727\n",
      "<Observation HIP28066 [HD 39881], n4.0026.fit, mdm-spring-2017>\n",
      "\t 0.10000000149011612\n",
      "<Observation HIP28044 [HD 39954], n4.0027.fit, mdm-spring-2017>\n",
      "\t -61.0\n",
      "<Observation HIP25905 [HD 36443], n4.0028.fit, mdm-spring-2017>\n",
      "\t -7.800000190734863\n",
      "<Observation HIP24819 [HD 34673], n4.0029.fit, mdm-spring-2017>\n",
      "\t 87.5999984741211\n",
      "<Observation HIP23941 [HD 33256], n4.0031.fit, mdm-spring-2017>\n",
      "\t 10.100000381469727\n",
      "<Observation HIP22336 [HD 30562], n4.0032.fit, mdm-spring-2017>\n",
      "\t 77.0\n",
      "<Observation HIP24037 [HD 33449], n4.0033.fit, mdm-spring-2017>\n",
      "\t 64.0999984741211\n",
      "<Observation 1736-6593 [TYC 5346-110-1], n4.0034.fit, mdm-spring-2017>\n",
      "<Observation 1736-2272 [HD 37916], n4.0035.fit, mdm-spring-2017>\n",
      "<Observation 1240-1386 [HD 43024], n4.0036.fit, mdm-spring-2017>\n",
      "<Observation 1240-6798 [HD 43345], n4.0037.fit, mdm-spring-2017>\n",
      "<Observation 1480-1773 [TYC 5384-1689-1], n4.0038.fit, mdm-spring-2017>\n",
      "<Observation 1480-8015 [TYC 5389-939-1], n4.0039.fit, mdm-spring-2017>\n",
      "<Observation 835-9015 [HD 55366], n4.0040.fit, mdm-spring-2017>\n",
      "<Observation 835-723 [HD 52840], n4.0041.fit, mdm-spring-2017>\n",
      "<Observation 1651-9609 [HD 57077], n4.0042.fit, mdm-spring-2017>\n",
      "<Observation 1651-2114 [TYC 4829-505-1], n4.0043.fit, mdm-spring-2017>\n",
      "<Observation 1764-2324 [HD 59587], n4.0044.fit, mdm-spring-2017>\n",
      "<Observation 1764-7626 [TYC 5410-2358-1], n4.0045.fit, mdm-spring-2017>\n",
      "<Observation 2287-3389 [TYC 5442-895-1], n4.0046.fit, mdm-spring-2017>\n",
      "<Observation 2287-6264 [HD 73559], n4.0047.fit, mdm-spring-2017>\n",
      "<Observation 2224-7260 [HIP 40732], n4.0048.fit, mdm-spring-2017>\n",
      "<Observation 2224-3246 [HIP 40839], n4.0049.fit, mdm-spring-2017>\n",
      "<Observation 1014-993 [TYC 202-261-1], n4.0050.fit, mdm-spring-2017>\n",
      "<Observation 1014-9378 [TYC 189-1306-1], n4.0051.fit, mdm-spring-2017>\n",
      "<Observation 1585-1992 [HD 70534], n4.0052.fit, mdm-spring-2017>\n",
      "\t 38.400001525878906\n",
      "<Observation 1585-2017 [TYC 799-609-1], n4.0053.fit, mdm-spring-2017>\n",
      "<Observation 1678-2166 [TYC 805-963-1], n4.0054.fit, mdm-spring-2017>\n",
      "<Observation 1678-6580 [HD 73261], n4.0055.fit, mdm-spring-2017>\n",
      "\t 19.299999237060547\n",
      "<Observation 1955-5633 [HIP 40910], n4.0056.fit, mdm-spring-2017>\n",
      "<Observation 1955-2709 [HD 77175], n4.0057.fit, mdm-spring-2017>\n",
      "\t -12.4\n",
      "<Observation 1779-4108 [TYC 1916-1484-1], n4.0058.fit, mdm-spring-2017>\n",
      "<Observation 1779-2355 [TYC 1915-685-1], n4.0059.fit, mdm-spring-2017>\n",
      "<Observation 1509-1819 [HD 63433], n4.0060.fit, mdm-spring-2017>\n",
      "\t -16.5\n",
      "<Observation 1509-10213 [TYC 1935-623-1], n4.0061.fit, mdm-spring-2017>\n",
      "<Observation 1669-2144 [TYC 2485-158-1], n4.0062.fit, mdm-spring-2017>\n",
      "<Observation 1669-2952 [TYC 2495-1261-1], n4.0063.fit, mdm-spring-2017>\n",
      "<Observation 1891-9122 [TYC 2483-960-1], n4.0064.fit, mdm-spring-2017>\n",
      "<Observation 1891-2576 [TYC 2484-693-1], n4.0065.fit, mdm-spring-2017>\n",
      "<Observation 1358-6453 [TYC 2486-1699-1], n4.0066.fit, mdm-spring-2017>\n",
      "<Observation 1358-1557 [TYC 2477-430-1], n4.0067.fit, mdm-spring-2017>\n",
      "<Observation 2181-3154 [TYC 2975-902-1], n4.0068.fit, mdm-spring-2017>\n",
      "<Observation 2181-3325 [TYC 2975-2083-1], n4.0069.fit, mdm-spring-2017>\n",
      "<Observation 558-8659 [HD 65626], n4.0071.fit, mdm-spring-2017>\n",
      "<Observation 558-313 [HD 69627], n4.0072.fit, mdm-spring-2017>\n",
      "<Observation 1852-2500 [HD 69497], n4.0073.fit, mdm-spring-2017>\n"
     ]
    },
    {
     "name": "stderr",
     "output_type": "stream",
     "text": [
      "/Users/adrian/projects/gaia-comoving-followup/comoving_rv/db/literature_helpers.py:63: UserWarning: Warning: converting a masked element to nan.\n",
      "  return float(row['RVel']), float(row['e_RVel']), None, bibcode\n"
     ]
    },
    {
     "name": "stdout",
     "output_type": "stream",
     "text": [
      "\t 20.2\n",
      "<Observation 1852-7834 [HD 69766], n4.0074.fit, mdm-spring-2017>\n",
      "<Observation 1229-1366 [HD 79247], n4.0075.fit, mdm-spring-2017>\n",
      "<Observation 1229-7470 [TYC 3807-1439-1], n4.0076.fit, mdm-spring-2017>\n",
      "<Observation 1657-2124 [HD 90333], n4.0077.fit, mdm-spring-2017>\n",
      "<Observation 1657-10235 [HD 92074], n4.0078.fit, mdm-spring-2017>\n",
      "<Observation 1497-4042 [TYC 3826-948-1], n4.0079.fit, mdm-spring-2017>\n",
      "<Observation 974-6981 [TYC 3792-658-1], n4.0080.fit, mdm-spring-2017>\n",
      "<Observation 974-6981 [TYC 3792-658-1], n4.0081.fit, mdm-spring-2017>\n",
      "<Observation 575-9826 [HD 63408], n4.0082.fit, mdm-spring-2017>\n",
      "<Observation 575-332 [TYC 4125-250-1], n4.0083.fit, mdm-spring-2017>\n",
      "<Observation 623-398 [TYC 4125-358-1], n4.0084.fit, mdm-spring-2017>\n",
      "<Observation 623-9685 [HD 60469], n4.0085.fit, mdm-spring-2017>\n",
      "<Observation 784-3223 [TYC 4369-739-1], n4.0086.fit, mdm-spring-2017>\n",
      "<Observation 784-644 [TYC 4377-550-1], n4.0087.fit, mdm-spring-2017>\n",
      "<Observation 645-429 [TYC 4378-1936-1], n4.0088.fit, mdm-spring-2017>\n",
      "<Observation 645-4956 [HD 77724], n4.0089.fit, mdm-spring-2017>\n",
      "\t 8.899999618530273\n",
      "<Observation 458-4764 [TYC 4378-1941-1], n4.0090.fit, mdm-spring-2017>\n",
      "<Observation 458-179 [HD 73130], n4.0091.fit, mdm-spring-2017>\n",
      "<Observation 2202-3207 [HD 86925], n4.0092.fit, mdm-spring-2017>\n",
      "<Observation 2202-4843 [HD 87851], n4.0093.fit, mdm-spring-2017>\n",
      "<Observation 1893-8900 [TYC 3430-945-1], n4.0094.fit, mdm-spring-2017>\n",
      "<Observation 1893-2579 [TYC 3428-483-1], n4.0095.fit, mdm-spring-2017>\n",
      "<Observation 806-2242 [HIP 54105], n4.0096.fit, mdm-spring-2017>\n",
      "<Observation 806-679 [HIP 59748], n4.0097.fit, mdm-spring-2017>\n",
      "<Observation 1497-1801 [HD 91158], n4.0098.fit, mdm-spring-2017>\n",
      "<Observation 372-68 [TYC 3020-1497-1], n4.0099.fit, mdm-spring-2017>\n",
      "<Observation 372-108 [TYC 3020-599-1], n4.0100.fit, mdm-spring-2017>\n",
      "<Observation HIP61619 [HD 109839], n4.0101.fit, mdm-spring-2017>\n",
      "\t -15.100000381469727\n",
      "<Observation 1257-1411 [TYC 2533-1877-1], n4.0102.fit, mdm-spring-2017>\n",
      "<Observation 1257-4987 [HD 114838], n4.0103.fit, mdm-spring-2017>\n",
      "\t -4.5\n",
      "<Observation 1530-1878 [HIP 64915], n4.0104.fit, mdm-spring-2017>\n",
      "<Observation 1530-4571 [HD 115752], n4.0105.fit, mdm-spring-2017>\n",
      "\t -13.7\n",
      "<Observation 1114-9731 [TYC 3024-1711-1], n4.0106.fit, mdm-spring-2017>\n",
      "<Observation 1114-1168 [TYC 3460-2109-1], n4.0107.fit, mdm-spring-2017>\n",
      "<Observation 1481-10132 [HIP 63190], n4.0108.fit, mdm-spring-2017>\n"
     ]
    },
    {
     "name": "stderr",
     "output_type": "stream",
     "text": [
      "/Users/adrian/projects/gaia-comoving-followup/comoving_rv/db/literature_helpers.py:63: UserWarning: Warning: converting a masked element to nan.\n",
      "  return float(row['RVel']), float(row['e_RVel']), None, bibcode\n"
     ]
    },
    {
     "name": "stdout",
     "output_type": "stream",
     "text": [
      "<Observation 1481-1774 [TYC 3023-1145-1], n4.0109.fit, mdm-spring-2017>\n",
      "<Observation 1688-2181 [HD 113698], n4.0110.fit, mdm-spring-2017>\n",
      "<Observation 1688-8558 [HD 234041], n4.0111.fit, mdm-spring-2017>\n",
      "<Observation 1445-1720 [HD 112663], n4.0112.fit, mdm-spring-2017>\n",
      "<Observation 1445-2771 [TYC 3458-1819-1], n4.0113.fit, mdm-spring-2017>\n",
      "<Observation 1992-2783 [HIP 61704], n4.0114.fit, mdm-spring-2017>\n",
      "<Observation 1992-3265 [HD 105422], n4.0115.fit, mdm-spring-2017>\n",
      "\t 4.599999904632568\n",
      "<Observation 1992-3265-1 [HD 105422], n4.0117.fit, mdm-spring-2017>\n",
      "\t 4.599999904632568\n",
      "<Observation 10-366159 [HD 113491], n4.0118.fit, mdm-spring-2017>\n",
      "<Observation 10-363746 [HD 120198], n4.0121.fit, mdm-spring-2017>\n",
      "\t -2.4\n",
      "<Observation 10-363738 [TYC 3851-600-1], n4.0122.fit, mdm-spring-2017>\n",
      "<Observation 10-363805 [HD 234065], n4.0123.fit, mdm-spring-2017>\n",
      "<Observation 10-363658 [TYC 3470-485-1], n4.0125.fit, mdm-spring-2017>\n",
      "<Observation 10-363790 [HD 234061], n4.0126.fit, mdm-spring-2017>\n",
      "<Observation 10-357312 [HD 122866], n4.0128.fit, mdm-spring-2017>\n"
     ]
    },
    {
     "name": "stderr",
     "output_type": "stream",
     "text": [
      "/Users/adrian/projects/gaia-comoving-followup/comoving_rv/db/literature_helpers.py:101: UserWarning: Warning: converting a masked element to nan.\n",
      "  err = float(row['e_RV'])\n"
     ]
    },
    {
     "name": "stdout",
     "output_type": "stream",
     "text": [
      "<Observation 10-357377 [TYC 3471-333-1], n4.0129.fit, mdm-spring-2017>\n",
      "<Observation 10-357282 [TYC 3471-233-1], n4.0130.fit, mdm-spring-2017>\n",
      "<Observation 10-371172 [HD 125557], n4.0131.fit, mdm-spring-2017>\n",
      "\t -10.0\n",
      "<Observation 10-371207 [HD 125019], n4.0133.fit, mdm-spring-2017>\n"
     ]
    },
    {
     "name": "stderr",
     "output_type": "stream",
     "text": [
      "/Users/adrian/projects/gaia-comoving-followup/comoving_rv/db/literature_helpers.py:101: UserWarning: Warning: converting a masked element to nan.\n",
      "  err = float(row['e_RV'])\n"
     ]
    },
    {
     "name": "stdout",
     "output_type": "stream",
     "text": [
      "<Observation 10-371304 [HD 125632], n4.0134.fit, mdm-spring-2017>\n"
     ]
    },
    {
     "name": "stderr",
     "output_type": "stream",
     "text": [
      "/Users/adrian/projects/gaia-comoving-followup/comoving_rv/db/literature_helpers.py:101: UserWarning: Warning: converting a masked element to nan.\n",
      "  err = float(row['e_RV'])\n"
     ]
    },
    {
     "name": "stdout",
     "output_type": "stream",
     "text": [
      "<Observation 10-382720 [TYC 4164-274-1], n4.0135.fit, mdm-spring-2017>\n",
      "<Observation 10-384055 [TYC 4174-1117-1], n4.0136.fit, mdm-spring-2017>\n",
      "<Observation 10-383447 [HD 124370], n4.0137.fit, mdm-spring-2017>\n"
     ]
    },
    {
     "name": "stderr",
     "output_type": "stream",
     "text": [
      "/Users/adrian/projects/gaia-comoving-followup/comoving_rv/db/literature_helpers.py:63: UserWarning: Warning: converting a masked element to nan.\n",
      "  return float(row['RVel']), float(row['e_RVel']), None, bibcode\n"
     ]
    },
    {
     "name": "stdout",
     "output_type": "stream",
     "text": [
      "\t 4.0\n",
      "<Observation 10-371817 [HD 125259], n4.0138.fit, mdm-spring-2017>\n",
      "<Observation 10-371770 [HD 238351], n4.0139.fit, mdm-spring-2017>\n",
      "<Observation 10-371015 [TYC 3860-1483-1], n4.0140.fit, mdm-spring-2017>\n",
      "<Observation 10-370895 [TYC 3861-1374-1], n4.0141.fit, mdm-spring-2017>\n",
      "<Observation 10-368772 [TYC 3480-1209-1], n4.0142.fit, mdm-spring-2017>\n",
      "<Observation 10-337950 [TYC 3490-1083-1], n4.0143.fit, mdm-spring-2017>\n",
      "<Observation 10-338716 [TYC 3486-1405-1], n4.0144.fit, mdm-spring-2017>\n",
      "<Observation 10-338921 [HIP 77903], n4.0145.fit, mdm-spring-2017>\n",
      "<Observation 10-338405 [HD 145145], n4.0146.fit, mdm-spring-2017>\n",
      "\t -5.4\n",
      "<Observation 10-338405 [HD 145145], n4.0147.fit, mdm-spring-2017>\n",
      "\t -5.4\n",
      "<Observation 10-339053 [TYC 3497-1053-1], n4.0148.fit, mdm-spring-2017>\n",
      "<Observation 10-339279 [TYC 3877-725-1], n4.0149.fit, mdm-spring-2017>\n",
      "<Observation 10-339178 [TYC 3496-1082-1], n4.0150.fit, mdm-spring-2017>\n",
      "<Observation 10-369033 [TYC 3489-1148-1], n4.0151.fit, mdm-spring-2017>\n",
      "<Observation 10-369116 [HD 137828], n4.0152.fit, mdm-spring-2017>\n",
      "<Observation 10-369255 [TYC 3869-656-1], n4.0153.fit, mdm-spring-2017>\n",
      "<Observation 10-369814 [TYC 3868-177-1], n4.0154.fit, mdm-spring-2017>\n",
      "<Observation 10-364066 [HD 116798], n4.0155.fit, mdm-spring-2017>\n",
      "<Observation 10-363861 [HD 118214], n4.0156.fit, mdm-spring-2017>\n"
     ]
    },
    {
     "name": "stderr",
     "output_type": "stream",
     "text": [
      "/Users/adrian/projects/gaia-comoving-followup/comoving_rv/db/literature_helpers.py:101: UserWarning: Warning: converting a masked element to nan.\n",
      "  err = float(row['e_RV'])\n"
     ]
    },
    {
     "name": "stdout",
     "output_type": "stream",
     "text": [
      "<Observation 10-363433 [HD 119765], n4.0157.fit, mdm-spring-2017>\n"
     ]
    },
    {
     "name": "stderr",
     "output_type": "stream",
     "text": [
      "/Users/adrian/projects/gaia-comoving-followup/comoving_rv/db/literature_helpers.py:101: UserWarning: Warning: converting a masked element to nan.\n",
      "  err = float(row['e_RV'])\n"
     ]
    },
    {
     "name": "stdout",
     "output_type": "stream",
     "text": [
      "<Observation 10-357312 [HD 122866], n4.0158.fit, mdm-spring-2017>\n",
      "<Observation 10-371100 [HIP 72389], n4.0159.fit, mdm-spring-2017>\n"
     ]
    },
    {
     "name": "stderr",
     "output_type": "stream",
     "text": [
      "/Users/adrian/projects/gaia-comoving-followup/comoving_rv/db/literature_helpers.py:101: UserWarning: Warning: converting a masked element to nan.\n",
      "  err = float(row['e_RV'])\n"
     ]
    },
    {
     "name": "stdout",
     "output_type": "stream",
     "text": [
      "<Observation 10-372096 [TYC 3867-2-1], n4.0160.fit, mdm-spring-2017>\n",
      "<Observation 10-369977 [HD 135501], n4.0161.fit, mdm-spring-2017>\n",
      "\t -21.6\n",
      "<Observation 10-372248 [HD 238423], n4.0162.fit, mdm-spring-2017>\n",
      "<Observation 10-372256 [HD 133909], n4.0163.fit, mdm-spring-2017>\n",
      "<Observation 10-372542 [TYC 3867-281-1], n4.0164.fit, mdm-spring-2017>\n",
      "<Observation 10-372563 [TYC 4180-573-1], n4.0165.fit, mdm-spring-2017>\n",
      "<Observation 10-373048 [TYC 4173-609-1], n4.0166.fit, mdm-spring-2017>\n",
      "<Observation 10-372423 [TYC 3875-762-1], n4.0167.fit, mdm-spring-2017>\n",
      "<Observation 10-372794 [TYC 3867-1373-1], n4.0168.fit, mdm-spring-2017>\n",
      "<Observation 1717-2237 [TYC 3496-612-1], n4.0169.fit, mdm-spring-2017>\n",
      "<Observation 1717-7017 [HD 145477], n4.0170.fit, mdm-spring-2017>\n",
      "<Observation 590-10451 [TYC 3498-1941-1], n4.0171.fit, mdm-spring-2017>\n",
      "<Observation 590-351 [TYC 3877-940-1], n4.0172.fit, mdm-spring-2017>\n",
      "<Observation 2285-3382 [HD 152774], n4.0173.fit, mdm-spring-2017>\n",
      "<Observation 2285-4002 [TYC 3504-2041-1], n4.0174.fit, mdm-spring-2017>\n",
      "<Observation 896-1349 [TYC 3084-239-1], n4.0175.fit, mdm-spring-2017>\n",
      "<Observation 896-807 [TYC 3080-613-1], n4.0176.fit, mdm-spring-2017>\n",
      "<Observation 1025-4114 [TYC 3081-814-1], n4.0177.fit, mdm-spring-2017>\n",
      "<Observation 1025-1007 [TYC 3079-120-1], n4.0178.fit, mdm-spring-2017>\n",
      "<Observation 1139-1219 [HD 155579], n4.0179.fit, mdm-spring-2017>\n",
      "\t -7.400000095367432\n",
      "<Observation 1139-3759 [TYC 2071-19-1], n4.0180.fit, mdm-spring-2017>\n",
      "<Observation 2324-3451 [TYC 2070-583-1], n4.0181.fit, mdm-spring-2017>\n",
      "<Observation 2324-3923 [TYC 2053-515-1], n4.0182.fit, mdm-spring-2017>\n",
      "<Observation 798-661 [TYC 2057-959-1], n4.0183.fit, mdm-spring-2017>\n",
      "<Observation 798-2219 [TYC 2057-990-1], n4.0184.fit, mdm-spring-2017>\n",
      "<Observation 2090-5739 [TYC 2050-147-1], n4.0185.fit, mdm-spring-2017>\n",
      "<Observation 2090-5739 [TYC 2050-147-1], n4.0186.fit, mdm-spring-2017>\n",
      "<Observation 1711-6786 [TYC 1534-122-1], n4.0187.fit, mdm-spring-2017>\n",
      "<Observation 1711-6786 [TYC 1534-122-1], n4.0188.fit, mdm-spring-2017>\n",
      "<Observation HIP85007 [HD 157466], n4.0189.fit, mdm-spring-2017>\n",
      "\t 35.400001525878906\n",
      "<Observation HIP86731 [HD 161239], n4.0190.fit, mdm-spring-2017>\n"
     ]
    },
    {
     "name": "stderr",
     "output_type": "stream",
     "text": [
      "/Users/adrian/projects/gaia-comoving-followup/comoving_rv/db/literature_helpers.py:101: UserWarning: Warning: converting a masked element to nan.\n",
      "  err = float(row['e_RV'])\n"
     ]
    },
    {
     "name": "stdout",
     "output_type": "stream",
     "text": [
      "<Observation HIP88945 [HD 166435], n4.0192.fit, mdm-spring-2017>\n",
      "\t -15.0\n",
      "<Observation HIP92270 [HD 174160], n4.0194.fit, mdm-spring-2017>\n",
      "\t 3.0999999046325684\n",
      "<Observation 344-29 [TYC 400-1048-1], n4.0195.fit, mdm-spring-2017>\n",
      "<Observation 344-10011 [HD 155968], n4.0196.fit, mdm-spring-2017>\n",
      "\t -30.200000762939453\n",
      "<Observation 747-788 [TYC 5064-301-1], n4.0197.fit, mdm-spring-2017>\n",
      "<Observation 747-591 [HD 153347], n4.0198.fit, mdm-spring-2017>\n",
      "<Observation 1370-1577 [HD 156021], n4.0199.fit, mdm-spring-2017>\n",
      "<Observation 1370-3015 [HD 155880], n4.0200.fit, mdm-spring-2017>\n",
      "<Observation 1617-7631 [TYC 410-152-1], n4.0201.fit, mdm-spring-2017>\n",
      "<Observation 1617-2061 [TYC 407-1186-1], n4.0202.fit, mdm-spring-2017>\n",
      "<Observation HIP84905 [HD 157089], n4.0203.fit, mdm-spring-2017>\n",
      "\t -161.8000030517578\n",
      "<Observation HIP85042 [HD 157347], n4.0204.fit, mdm-spring-2017>\n",
      "\t -36.5\n",
      "<Observation HIP85757 [HD 158809], n4.0205.fit, mdm-spring-2017>\n",
      "\t 4.0\n",
      "<Observation HIP85963 [HD 159307], n4.0206.fit, mdm-spring-2017>\n",
      "\t -19.5\n",
      "<Observation HIP82588 [HD 152391], n4.0208.fit, mdm-spring-2017>\n",
      "\t 44.79999923706055\n",
      "<Observation HIP81461 [HD 149996], n4.0209.fit, mdm-spring-2017>\n",
      "\t -36.29999923706055\n",
      "<Observation HIP81300 [HD 149661], n4.0210.fit, mdm-spring-2017>\n",
      "\t -13.300000190734863\n",
      "<Observation HIP90365 [HD 169889], n4.0211.fit, mdm-spring-2017>\n",
      "\t -18.299999237060547\n",
      "<Observation HIP93377 [HD 176733], n4.0212.fit, mdm-spring-2017>\n",
      "\t 28.299999237060547\n",
      "<Observation HIP93966 [HD 178428], n4.0213.fit, mdm-spring-2017>\n",
      "\t 13.399999618530273\n",
      "<Observation HIP95447 [HD 182572], n4.0215.fit, mdm-spring-2017>\n"
     ]
    },
    {
     "name": "stderr",
     "output_type": "stream",
     "text": [
      "/Users/adrian/projects/gaia-comoving-followup/comoving_rv/db/literature_helpers.py:101: UserWarning: Warning: converting a masked element to nan.\n",
      "  err = float(row['e_RV'])\n"
     ]
    },
    {
     "name": "stdout",
     "output_type": "stream",
     "text": [
      "\t -100.1\n",
      "<Observation HIP93185 [HD 176377], n4.0216.fit, mdm-spring-2017>\n",
      "\t -41.20000076293945\n",
      "<Observation 3172-5893 [HD 233111], n5.0022.fit, mdm-spring-2017>\n",
      "<Observation 3172-5343 [HD 37556], n5.0023.fit, mdm-spring-2017>\n",
      "<Observation 3064-5068 [HIP 27030], n5.0024.fit, mdm-spring-2017>\n",
      "<Observation 3064-10275 [HD 41249], n5.0025.fit, mdm-spring-2017>\n",
      "<Observation 4524-10286 [TYC 4099-1931-1], n5.0026.fit, mdm-spring-2017>\n",
      "<Observation 4524-10421 [HD 40182], n5.0027.fit, mdm-spring-2017>\n",
      "<Observation 4271-8936 [TYC 4343-173-1], n5.0028.fit, mdm-spring-2017>\n",
      "<Observation 4271-10572 [TYC 4348-1043-1], n5.0029.fit, mdm-spring-2017>\n",
      "<Observation 2781-9118 [TYC 4348-178-1], n5.0030.fit, mdm-spring-2017>\n",
      "<Observation 2781-4439 [TYC 4352-1191-1], n5.0031.fit, mdm-spring-2017>\n",
      "<Observation 3045-7654 [HD 49038], n5.0032.fit, mdm-spring-2017>\n",
      "<Observation 3045-5020 [TYC 4118-475-1], n5.0033.fit, mdm-spring-2017>\n",
      "<Observation 4399-9507 [TYC 2951-681-1], n5.0034.fit, mdm-spring-2017>\n",
      "<Observation 4399-9698 [HD 59682], n5.0035.fit, mdm-spring-2017>\n",
      "<Observation 4432-9689 [TYC 2440-609-1], n5.0036.fit, mdm-spring-2017>\n",
      "<Observation 4432-10536 [HD 51352], n5.0037.fit, mdm-spring-2017>\n",
      "<Observation 4036-8098 [TYC 2434-694-1], n5.0038.fit, mdm-spring-2017>\n",
      "<Observation 4036-8536 [TYC 2928-1250-1], n5.0039.fit, mdm-spring-2017>\n",
      "<Observation 4399-9507 [TYC 2951-681-1], n5.0040.fit, mdm-spring-2017>\n",
      "<Observation 4399-9698 [HD 59682], n5.0041.fit, mdm-spring-2017>\n",
      "<Observation 3932-9337 [TYC 2475-1772-1], n5.0042.fit, mdm-spring-2017>\n",
      "<Observation 3932-7751 [TYC 1937-724-1], n5.0043.fit, mdm-spring-2017>\n",
      "<Observation 3580-6584 [TYC 1929-1463-1], n5.0044.fit, mdm-spring-2017>\n",
      "<Observation 3580-6584-1 [TYC 1929-1463-1], n5.0045.fit, mdm-spring-2017>\n",
      "<Observation 3580-8332 [TYC 1926-323-1], n5.0046.fit, mdm-spring-2017>\n",
      "<Observation 4461-9858 [HD 70568], n5.0047.fit, mdm-spring-2017>\n",
      "\t 22.4\n",
      "<Observation 4461-9957 [HD 71987], n5.0048.fit, mdm-spring-2017>\n",
      "\t 30.6\n",
      "<Observation 3831-7384 [TYC 1398-522-1], n5.0049.fit, mdm-spring-2017>\n",
      "<Observation 3831-7392 [TYC 1398-481-1], n5.0050.fit, mdm-spring-2017>\n",
      "<Observation 3697-6922 [HD 74656], n5.0051.fit, mdm-spring-2017>\n",
      "\t 34.8\n",
      "<Observation 3697-8221 [HIP 42764], n5.0052.fit, mdm-spring-2017>\n",
      "<Observation 3480-8102 [TYC 1380-1277-1], n5.0053.fit, mdm-spring-2017>\n",
      "<Observation 3480-6328 [HD 68833], n5.0054.fit, mdm-spring-2017>\n",
      "<Observation 3196-5437 [HD 69112], n5.0055.fit, mdm-spring-2017>\n",
      "<Observation 3196-5433 [TYC 802-896-1], n5.0056.fit, mdm-spring-2017>\n",
      "<Observation 3196-5433-1 [TYC 802-896-1], n5.0057.fit, mdm-spring-2017>\n",
      "<Observation 3196-5433-2 [TYC 802-896-1], n5.0058.fit, mdm-spring-2017>\n",
      "<Observation 3535-9030 [TYC 4847-2852-1], n5.0059.fit, mdm-spring-2017>\n",
      "<Observation 3535-6466 [HD 70034], n5.0060.fit, mdm-spring-2017>\n"
     ]
    },
    {
     "name": "stderr",
     "output_type": "stream",
     "text": [
      "/Users/adrian/projects/gaia-comoving-followup/comoving_rv/db/literature_helpers.py:63: UserWarning: Warning: converting a masked element to nan.\n",
      "  return float(row['RVel']), float(row['e_RVel']), None, bibcode\n"
     ]
    },
    {
     "name": "stdout",
     "output_type": "stream",
     "text": [
      "<Observation 3969-8156 [HD 70298], n5.0061.fit, mdm-spring-2017>\n",
      "\t -10.699999809265137\n",
      "<Observation 3969-7886 [HD 71707], n5.0062.fit, mdm-spring-2017>\n",
      "<Observation 3429-6189 [HIP 41662], n5.0063.fit, mdm-spring-2017>\n",
      "<Observation 3429-9285 [HD 73583], n5.0064.fit, mdm-spring-2017>\n",
      "\t 23.7\n",
      "<Observation 2553-4147 [HD 84337], n5.0065.fit, mdm-spring-2017>\n",
      "<Observation 2553-3914 [HD 85097], n5.0066.fit, mdm-spring-2017>\n",
      "<Observation 3207-5459 [HIP 47195], n5.0067.fit, mdm-spring-2017>\n",
      "<Observation 3207-5478 [HD 85318], n5.0068.fit, mdm-spring-2017>\n",
      "<Observation 3359-7874 [HIP 51208], n5.0069.fit, mdm-spring-2017>\n",
      "<Observation 3359-7874 [HIP 51208], n5.0070.fit, mdm-spring-2017>\n",
      "<Observation 3678-9350 [TYC 834-432-1], n5.0071.fit, mdm-spring-2017>\n",
      "<Observation 3678-6854 [HIP 48151], n5.0072.fit, mdm-spring-2017>\n",
      "<Observation 2381-3560 [HIP 48843], n5.0073.fit, mdm-spring-2017>\n",
      "<Observation 2381-3560 [HIP 48843], n5.0074.fit, mdm-spring-2017>\n",
      "<Observation 2611-9912 [HIP 47140], n5.0075.fit, mdm-spring-2017>\n",
      "<Observation 2611-4050 [TYC 1406-779-1], n5.0076.fit, mdm-spring-2017>\n",
      "<Observation 2633-6529 [TYC 1416-788-1], n5.0077.fit, mdm-spring-2017>\n",
      "<Observation 2633-6529 [TYC 1416-788-1], n5.0078.fit, mdm-spring-2017>\n",
      "<Observation 2633-6529-1 [TYC 1416-788-1], n5.0079.fit, mdm-spring-2017>\n",
      "<Observation 3059-5057 [TYC 1965-66-1], n5.0080.fit, mdm-spring-2017>\n",
      "<Observation 4373-9376 [HD 80869], n5.0081.fit, mdm-spring-2017>\n",
      "\t -18.700000762939453\n",
      "<Observation 4373-9376 [HD 80869], n5.0082.fit, mdm-spring-2017>\n",
      "\t -18.700000762939453\n",
      "<Observation 4373-9478 [HIP 48083], n5.0083.fit, mdm-spring-2017>\n",
      "<Observation 3518-9916 [TYC 2513-636-1], n5.0084.fit, mdm-spring-2017>\n",
      "<Observation 3059-5064 [TYC 1966-10-1], n5.0085.fit, mdm-spring-2017>\n",
      "<Observation 3239-5566 [TYC 1967-1030-1], n5.0086.fit, mdm-spring-2017>\n",
      "<Observation 3518-6416 [TYC 2516-337-1], n5.0087.fit, mdm-spring-2017>\n",
      "<Observation 3366-6091 [HD 90681], n5.0088.fit, mdm-spring-2017>\n",
      "<Observation 3366-5968 [HD 92194], n5.0089.fit, mdm-spring-2017>\n",
      "<Observation 2575-3965 [TYC 1426-44-1], n5.0090.fit, mdm-spring-2017>\n",
      "<Observation 2575-4117 [TYC 1970-509-1], n5.0091.fit, mdm-spring-2017>\n",
      "<Observation 2643-4130 [TYC 1977-1244-1], n5.0092.fit, mdm-spring-2017>\n",
      "<Observation 2643-4474 [TYC 1434-621-1], n5.0093.fit, mdm-spring-2017>\n",
      "<Observation 3376-7203 [TYC 1439-991-1], n5.0094.fit, mdm-spring-2017>\n",
      "<Observation 3376-8976 [TYC 1978-1950-1], n5.0095.fit, mdm-spring-2017>\n",
      "<Observation 3060-5058 [HD 95188], n5.0096.fit, mdm-spring-2017>\n",
      "\t 4.0\n",
      "<Observation 3060-5136 [HIP 55077], n5.0097.fit, mdm-spring-2017>\n",
      "<Observation 3652-8619 [HD 98319], n5.0098.fit, mdm-spring-2017>\n",
      "<Observation 3652-6770 [HD 99996], n5.0099.fit, mdm-spring-2017>\n",
      "\t -0.8999999761581421\n",
      "<Observation 3555-6511 [HD 101416], n5.0100.fit, mdm-spring-2017>\n",
      "\t -7.900000095367432\n",
      "<Observation 3555-6844 [HD 102555], n5.0101.fit, mdm-spring-2017>\n"
     ]
    },
    {
     "name": "stderr",
     "output_type": "stream",
     "text": [
      "/Users/adrian/projects/gaia-comoving-followup/comoving_rv/db/literature_helpers.py:63: UserWarning: Warning: converting a masked element to nan.\n",
      "  return float(row['RVel']), float(row['e_RVel']), None, bibcode\n"
     ]
    },
    {
     "name": "stdout",
     "output_type": "stream",
     "text": [
      "\t 15.0\n",
      "<Observation 3936-7798 [HD 103831], n5.0102.fit, mdm-spring-2017>\n",
      "<Observation 3936-7762 [TYC 3014-42-1], n5.0103.fit, mdm-spring-2017>\n",
      "<Observation 3906-7680 [HD 100040], n5.0104.fit, mdm-spring-2017>\n",
      "<Observation 3906-7636 [TYC 3015-2116-1], n5.0105.fit, mdm-spring-2017>\n",
      "<Observation 3955-7888 [HD 104192], n5.0106.fit, mdm-spring-2017>\n",
      "<Observation 3955-7838 [TYC 3017-1950-1], n5.0107.fit, mdm-spring-2017>\n",
      "<Observation 4149-10236 [HD 105695], n5.0108.fit, mdm-spring-2017>\n",
      "<Observation 4149-8456 [TYC 3017-1750-1], n5.0109.fit, mdm-spring-2017>\n",
      "<Observation 4007-9590 [TYC 3018-334-1], n5.0110.fit, mdm-spring-2017>\n",
      "<Observation 4007-8010 [TYC 2530-930-1], n5.0111.fit, mdm-spring-2017>\n",
      "<Observation 4283-9127 [HD 110066], n5.0112.fit, mdm-spring-2017>\n",
      "\t -11.4\n",
      "<Observation 4283-8983 [TYC 2533-70-1], n5.0113.fit, mdm-spring-2017>\n",
      "<Observation 3365-9401 [TYC 3021-629-1], n5.0114.fit, mdm-spring-2017>\n",
      "<Observation 3365-5963 [HIP 62993], n5.0115.fit, mdm-spring-2017>\n",
      "<Observation 4361-9837 [HD 111859], n5.0116.fit, mdm-spring-2017>\n"
     ]
    },
    {
     "name": "stderr",
     "output_type": "stream",
     "text": [
      "/Users/adrian/projects/gaia-comoving-followup/comoving_rv/db/literature_helpers.py:63: UserWarning: Warning: converting a masked element to nan.\n",
      "  return float(row['RVel']), float(row['e_RVel']), None, bibcode\n"
     ]
    },
    {
     "name": "stdout",
     "output_type": "stream",
     "text": [
      "\t 4.1\n",
      "<Observation 4361-9299 [TYC 3021-286-1], n5.0117.fit, mdm-spring-2017>\n",
      "<Observation 4295-9026 [TYC 2534-436-1], n5.0118.fit, mdm-spring-2017>\n",
      "<Observation 4295-9437 [HD 114428], n5.0119.fit, mdm-spring-2017>\n"
     ]
    },
    {
     "name": "stderr",
     "output_type": "stream",
     "text": [
      "/Users/adrian/projects/gaia-comoving-followup/comoving_rv/db/literature_helpers.py:63: UserWarning: Warning: converting a masked element to nan.\n",
      "  return float(row['RVel']), float(row['e_RVel']), None, bibcode\n"
     ]
    },
    {
     "name": "stdout",
     "output_type": "stream",
     "text": [
      "<Observation 2782-4440 [HD 114400], n5.0120.fit, mdm-spring-2017>\n",
      "<Observation 2782-5061 [TYC 3025-1150-1], n5.0121.fit, mdm-spring-2017>\n",
      "<Observation 3024-10309 [HD 116843], n5.0122.fit, mdm-spring-2017>\n",
      "\t 4.199999809265137\n",
      "<Observation 3024-4958 [TYC 2542-1009-1], n5.0123.fit, mdm-spring-2017>\n",
      "<Observation 3376-5997 [TYC 2538-597-1], n5.0124.fit, mdm-spring-2017>\n",
      "<Observation 3376-9152 [TYC 2535-955-1], n5.0125.fit, mdm-spring-2017>\n",
      "<Observation 2362-3526 [TYC 2544-51-1], n5.0126.fit, mdm-spring-2017>\n",
      "<Observation 2362-5660 [HIP 69924], n5.0127.fit, mdm-spring-2017>\n",
      "<Observation 3540-6481 [TYC 3046-680-1], n5.0128.fit, mdm-spring-2017>\n",
      "<Observation 3540-6489 [TYC 3046-479-1], n5.0129.fit, mdm-spring-2017>\n",
      "<Observation 3687-6871 [HD 129514], n5.0130.fit, mdm-spring-2017>\n",
      "\t -26.5\n",
      "<Observation 3687-8134 [TYC 3476-353-1], n5.0131.fit, mdm-spring-2017>\n",
      "<Observation 4041-9694 [TYC 3476-1131-1], n5.0132.fit, mdm-spring-2017>\n",
      "<Observation 4041-8117 [HD 127263], n5.0133.fit, mdm-spring-2017>\n",
      "<Observation 4025-8071 [TYC 3472-571-1], n5.0134.fit, mdm-spring-2017>\n",
      "<Observation 4025-10198 [HD 130987], n5.0135.fit, mdm-spring-2017>\n",
      "\t -29.700000762939453\n",
      "<Observation 4420-9637 [TYC 3476-1223-1], n5.0136.fit, mdm-spring-2017>\n",
      "<Observation 4420-9849 [HD 128749], n5.0137.fit, mdm-spring-2017>\n"
     ]
    },
    {
     "name": "stderr",
     "output_type": "stream",
     "text": [
      "/Users/adrian/projects/gaia-comoving-followup/comoving_rv/db/literature_helpers.py:63: UserWarning: Warning: converting a masked element to nan.\n",
      "  return float(row['RVel']), float(row['e_RVel']), None, bibcode\n"
     ]
    },
    {
     "name": "stdout",
     "output_type": "stream",
     "text": [
      "\t -11.7\n",
      "<Observation 3989-9931 [TYC 3472-656-1], n5.0138.fit, mdm-spring-2017>\n",
      "<Observation 3989-7952 [TYC 3041-581-1], n5.0139.fit, mdm-spring-2017>\n",
      "<Observation 3221-10169 [TYC 3048-801-1], n5.0140.fit, mdm-spring-2017>\n",
      "<Observation 3221-5491 [TYC 3052-1498-1], n5.0141.fit, mdm-spring-2017>\n",
      "<Observation 3807-8238 [TYC 3490-1520-1], n5.0142.fit, mdm-spring-2017>\n",
      "<Observation 3807-7312 [HD 142475], n5.0143.fit, mdm-spring-2017>\n",
      "<Observation 3230-5615 [TYC 3489-27-1], n5.0144.fit, mdm-spring-2017>\n",
      "<Observation 3230-5527 [TYC 3489-149-1], n5.0145.fit, mdm-spring-2017>\n",
      "<Observation 3230-5503 [TYC 3489-1148-1], n5.0146.fit, mdm-spring-2017>\n",
      "<Observation 3230-5659 [TYC 3869-656-1], n5.0147.fit, mdm-spring-2017>\n",
      "<Observation 2378-3553 [TYC 3873-1525-1], n5.0148.fit, mdm-spring-2017>\n",
      "<Observation 2378-5416 [HD 238480], n5.0149.fit, mdm-spring-2017>\n",
      "<Observation 4339-9292 [HD 141768], n5.0150.fit, mdm-spring-2017>\n"
     ]
    },
    {
     "name": "stderr",
     "output_type": "stream",
     "text": [
      "/Users/adrian/projects/gaia-comoving-followup/comoving_rv/db/literature_helpers.py:63: UserWarning: Warning: converting a masked element to nan.\n",
      "  return float(row['RVel']), float(row['e_RVel']), None, bibcode\n"
     ]
    },
    {
     "name": "stdout",
     "output_type": "stream",
     "text": [
      "<Observation 4339-9210 [HD 144328], n5.0151.fit, mdm-spring-2017>\n",
      "<Observation 3788-8570 [TYC 3506-1295-1], n5.0152.fit, mdm-spring-2017>\n",
      "<Observation 3788-7239 [TYC 3500-1195-1], n5.0153.fit, mdm-spring-2017>\n",
      "<Observation 3008-8062 [TYC 3503-157-1], n5.0154.fit, mdm-spring-2017>\n",
      "<Observation 3008-4922 [TYC 3069-133-1], n5.0155.fit, mdm-spring-2017>\n",
      "<Observation 3455-6515 [TYC 2588-443-1], n5.0156.fit, mdm-spring-2017>\n",
      "<Observation 3455-6274 [TYC 2584-1287-1], n5.0157.fit, mdm-spring-2017>\n",
      "<Observation 2457-6903 [TYC 2071-1285-1], n5.0158.fit, mdm-spring-2017>\n",
      "<Observation 2457-3706 [HD 155316], n5.0159.fit, mdm-spring-2017>\n",
      "<Observation 2917-8576 [TYC 2602-1156-1], n5.0160.fit, mdm-spring-2017>\n",
      "<Observation 2917-4738 [TYC 2597-913-1], n5.0161.fit, mdm-spring-2017>\n",
      "<Observation 2909-4734 [TYC 2597-1484-1], n5.0162.fit, mdm-spring-2017>\n",
      "<Observation 2909-4723 [TYC 2597-340-1], n5.0163.fit, mdm-spring-2017>\n",
      "<Observation 3455-6515 [TYC 2588-443-1], n5.0164.fit, mdm-spring-2017>\n",
      "<Observation 3455-6274 [TYC 2584-1287-1], n5.0165.fit, mdm-spring-2017>\n",
      "<Observation 2503-4235 [TYC 4192-1083-1], n5.0166.fit, mdm-spring-2017>\n",
      "<Observation 2503-3813 [HD 146756], n5.0167.fit, mdm-spring-2017>\n",
      "<Observation 3926-7725 [TYC 3874-217-1], n5.0168.fit, mdm-spring-2017>\n",
      "<Observation 3926-8199 [TYC 4180-1332-1], n5.0169.fit, mdm-spring-2017>\n",
      "<Observation 2647-8164 [HIP 71811], n5.0170.fit, mdm-spring-2017>\n",
      "<Observation 2647-4136 [HD 128815], n5.0171.fit, mdm-spring-2017>\n",
      "\t -14.5\n",
      "<Observation 2683-4225 [TYC 4175-808-1], n5.0172.fit, mdm-spring-2017>\n",
      "<Observation 2683-10209 [HD 121979], n5.0173.fit, mdm-spring-2017>\n"
     ]
    },
    {
     "name": "stderr",
     "output_type": "stream",
     "text": [
      "/Users/adrian/projects/gaia-comoving-followup/comoving_rv/db/literature_helpers.py:101: UserWarning: Warning: converting a masked element to nan.\n",
      "  err = float(row['e_RV'])\n"
     ]
    },
    {
     "name": "stdout",
     "output_type": "stream",
     "text": [
      "<Observation 2708-4274 [HIP 70354], n5.0174.fit, mdm-spring-2017>\n",
      "<Observation 2708-4775 [TYC 4170-318-1], n5.0175.fit, mdm-spring-2017>\n",
      "<Observation 3071-8318 [TYC 4402-239-1], n5.0176.fit, mdm-spring-2017>\n",
      "<Observation 3071-5084 [HD 123277], n5.0177.fit, mdm-spring-2017>\n",
      "<Observation 3721-9477 [TYC 4397-673-1], n5.0178.fit, mdm-spring-2017>\n",
      "<Observation 3721-9477 [TYC 4397-673-1], n5.0179.fit, mdm-spring-2017>\n",
      "<Observation 3749-7231 [HD 113050], n5.0180.fit, mdm-spring-2017>\n",
      "<Observation 3749-7129 [TYC 4407-1284-1], n5.0181.fit, mdm-spring-2017>\n",
      "<Observation 2479-6664 [TYC 4407-1065-1], n5.0182.fit, mdm-spring-2017>\n",
      "<Observation 2479-3761 [HD 114743], n5.0183.fit, mdm-spring-2017>\n",
      "<Observation 3805-10030 [HD 121128], n5.0184.fit, mdm-spring-2017>\n",
      "<Observation 3805-7305 [HD 107965], n5.0185.fit, mdm-spring-2017>\n",
      "<Observation 3655-8011 [TYC 4387-704-1], n5.0186.fit, mdm-spring-2017>\n",
      "<Observation 3655-6778 [TYC 4386-413-1], n5.0187.fit, mdm-spring-2017>\n",
      "<Observation MS1 [SMOH MS1], n5.0206.fit, mdm-spring-2017>\n",
      "<Observation HIP96258 [HD 184960], n5.0217.fit, mdm-spring-2017>\n"
     ]
    },
    {
     "name": "stderr",
     "output_type": "stream",
     "text": [
      "/Users/adrian/anaconda/envs/comoving-rv/lib/python3.6/site-packages/astroquery/simbad/core.py:136: UserWarning: Warning: The script line number 3 raised an error (recorded in the `errors` attribute of the result table): Identifier not found in the database : NAME SMOH MS1\n",
      "  (error.line, error.msg))\n"
     ]
    },
    {
     "name": "stdout",
     "output_type": "stream",
     "text": [
      "\t 0.6000000238418579\n",
      "<Observation HIP93185 [HD 176377], n5.0218.fit, mdm-spring-2017>\n",
      "\t -41.20000076293945\n",
      "<Observation HIP98767 [HD 190360], n5.0219.fit, mdm-spring-2017>\n"
     ]
    },
    {
     "name": "stderr",
     "output_type": "stream",
     "text": [
      "/Users/adrian/projects/gaia-comoving-followup/comoving_rv/db/literature_helpers.py:101: UserWarning: Warning: converting a masked element to nan.\n",
      "  err = float(row['e_RV'])\n"
     ]
    },
    {
     "name": "stdout",
     "output_type": "stream",
     "text": [
      "<Observation HIP74537 [HD 135204], n5.0220.fit, mdm-spring-2017>\n",
      "\t -69.9000015258789\n",
      "<Observation HIP74079 [HD 134169], n5.0221.fit, mdm-spring-2017>\n",
      "\t 18.799999237060547\n",
      "<Observation HIP74033 [HD 134113], n5.0222.fit, mdm-spring-2017>\n",
      "\t -60.5\n",
      "<Observation HIP72479 [HD 130669], n5.0223.fit, mdm-spring-2017>\n",
      "\t -89.9000015258789\n"
     ]
    }
   ],
   "source": [
    "done = [1, 2, 3, 4, 5, 6, 7, 8, 9, 10, 11, 12, 13, 14, 15, 16, 17, 18, 19, 20, 21, 22, 23, 24, 25, 26, 27, 28, 29, 30, 31, 32, 33, 34, 36, 37, 38, 39, 40, 41, 42, 43, 44, 45, 46, 47, 48, 49]\n",
    "for obs in observations:\n",
    "    if obs.id in done:\n",
    "        continue\n",
    "        \n",
    "    print(obs)\n",
    "    result = get_best_rv(obs)\n",
    "    if result is not None:\n",
    "        print(\"\\t\", result[0])\n",
    "        rv, rv_err, rv_qual, rv_bibcode, rv_source = result\n",
    "\n",
    "        prv = PriorRV(rv=rv*u.km/u.s, err=rv_err*u.km/u.s,\n",
    "                      qual=rv_qual, bibcode=rv_bibcode,\n",
    "                      source=rv_source)\n",
    "        obs.prior_rv = prv\n",
    "        session.add(prv)\n",
    "        session.commit()\n",
    "        \n",
    "        done.append(obs.id)\n",
    "    \n",
    "    done.append(obs.id)"
   ]
  },
  {
   "cell_type": "code",
   "execution_count": 12,
   "metadata": {},
   "outputs": [
    {
     "name": "stdout",
     "output_type": "stream",
     "text": [
      "[1, 2, 3, 4, 5, 6, 7, 8, 9, 10, 11, 12, 13, 14, 15, 16, 17, 18, 19, 20, 21, 22, 23, 24, 25, 26, 27, 28, 29, 30, 31, 32, 33, 34, 36, 37, 38, 39, 40, 41, 42, 43, 44, 45, 46, 47, 48, 49]\n"
     ]
    }
   ],
   "source": [
    "print(done)"
   ]
  },
  {
   "cell_type": "code",
   "execution_count": 5,
   "metadata": {},
   "outputs": [
    {
     "data": {
      "text/plain": [
       "<SimbadInfo SMOH 611-378 []>"
      ]
     },
     "execution_count": 5,
     "metadata": {},
     "output_type": "execute_result"
    }
   ],
   "source": [
    "obs.simbad_info"
   ]
  },
  {
   "cell_type": "code",
   "execution_count": 7,
   "metadata": {},
   "outputs": [
    {
     "data": {
      "text/plain": [
       "(162.87737499999997, 48.695249999999994)"
      ]
     },
     "execution_count": 7,
     "metadata": {},
     "output_type": "execute_result"
    }
   ],
   "source": [
    "obs.ra.degree, obs.dec.degree"
   ]
  },
  {
   "cell_type": "code",
   "execution_count": 9,
   "metadata": {},
   "outputs": [
    {
     "data": {
      "text/plain": [
       "832479767088738432"
      ]
     },
     "execution_count": 9,
     "metadata": {},
     "output_type": "execute_result"
    }
   ],
   "source": [
    "obs.tgas_source.source_id"
   ]
  },
  {
   "cell_type": "code",
   "execution_count": 10,
   "metadata": {
    "collapsed": true
   },
   "outputs": [],
   "source": [
    "from astropy.table import Table\n",
    "tgas = Table.read('../../gaiadr1/data/stacked_tgas.fits')"
   ]
  },
  {
   "cell_type": "code",
   "execution_count": 11,
   "metadata": {},
   "outputs": [
    {
     "data": {
      "text/html": [
       "&lt;Table length=1&gt;\n",
       "<table id=\"table4714690992\" class=\"table-striped table-bordered table-condensed\">\n",
       "<thead><tr><th>hip</th><th>tycho2_id</th><th>solution_id</th><th>source_id</th><th>random_index</th><th>ref_epoch</th><th>ra</th><th>ra_error</th><th>dec</th><th>dec_error</th><th>parallax</th><th>parallax_error</th><th>pmra</th><th>pmra_error</th><th>pmdec</th><th>pmdec_error</th><th>ra_dec_corr</th><th>ra_parallax_corr</th><th>ra_pmra_corr</th><th>ra_pmdec_corr</th><th>dec_parallax_corr</th><th>dec_pmra_corr</th><th>dec_pmdec_corr</th><th>parallax_pmra_corr</th><th>parallax_pmdec_corr</th><th>pmra_pmdec_corr</th><th>astrometric_n_obs_al</th><th>astrometric_n_obs_ac</th><th>astrometric_n_good_obs_al</th><th>astrometric_n_good_obs_ac</th><th>astrometric_n_bad_obs_al</th><th>astrometric_n_bad_obs_ac</th><th>astrometric_delta_q</th><th>astrometric_excess_noise</th><th>astrometric_excess_noise_sig</th><th>astrometric_primary_flag</th><th>astrometric_relegation_factor</th><th>astrometric_weight_al</th><th>astrometric_weight_ac</th><th>astrometric_priors_used</th><th>matched_observations</th><th>duplicated_source</th><th>scan_direction_strength_k1</th><th>scan_direction_strength_k2</th><th>scan_direction_strength_k3</th><th>scan_direction_strength_k4</th><th>scan_direction_mean_k1</th><th>scan_direction_mean_k2</th><th>scan_direction_mean_k3</th><th>scan_direction_mean_k4</th><th>phot_g_n_obs</th><th>phot_g_mean_flux</th><th>phot_g_mean_flux_error</th><th>phot_g_mean_mag</th><th>phot_variable_flag</th><th>l</th><th>b</th><th>ecl_lon</th><th>ecl_lat</th></tr></thead>\n",
       "<thead><tr><th>int32</th><th>str12</th><th>int64</th><th>int64</th><th>int64</th><th>float64</th><th>float64</th><th>float64</th><th>float64</th><th>float64</th><th>float64</th><th>float64</th><th>float64</th><th>float64</th><th>float64</th><th>float64</th><th>float32</th><th>float32</th><th>float32</th><th>float32</th><th>float32</th><th>float32</th><th>float32</th><th>float32</th><th>float32</th><th>float32</th><th>int32</th><th>int32</th><th>int32</th><th>int32</th><th>int32</th><th>int32</th><th>float32</th><th>float64</th><th>float64</th><th>bool</th><th>float32</th><th>float32</th><th>float32</th><th>int32</th><th>int16</th><th>bool</th><th>float32</th><th>float32</th><th>float32</th><th>float32</th><th>float32</th><th>float32</th><th>float32</th><th>float32</th><th>int32</th><th>float64</th><th>float64</th><th>float64</th><th>str13</th><th>float64</th><th>float64</th><th>float64</th><th>float64</th></tr></thead>\n",
       "<tr><td>-2147483648</td><td>3446-799-1</td><td>1635378410781933568</td><td>832479767088738432</td><td>784041</td><td>2015.0</td><td>162.860934937</td><td>0.191969351498</td><td>48.6953880149</td><td>0.540591536531</td><td>14.1868889658</td><td>0.714476010828</td><td>-137.891053899</td><td>0.60420811103</td><td>-17.3743261962</td><td>1.78803345729</td><td>-0.417561</td><td>-0.194071</td><td>0.40171</td><td>0.564472</td><td>-0.0276951</td><td>-0.18623</td><td>-0.752425</td><td>0.248322</td><td>-0.539579</td><td>0.170072</td><td>133</td><td>133</td><td>133</td><td>126</td><td>0</td><td>7</td><td>nan</td><td>0.891497992178</td><td>723.140313993</td><td>False</td><td>8.69813</td><td>1.1726</td><td>3.537e-05</td><td>5</td><td>15</td><td>False</td><td>0.429728</td><td>0.285453</td><td>0.132705</td><td>0.592908</td><td>-50.2951</td><td>-79.7536</td><td>33.9752</td><td>-13.3682</td><td>132</td><td>485355.509209</td><td>1152.79543523</td><td>11.3096201548</td><td>NOT_AVAILABLE</td><td>161.906201137</td><td>58.3524623154</td><td>142.885812117</td><td>37.7233294857</td></tr>\n",
       "</table>"
      ],
      "text/plain": [
       "<Table length=1>\n",
       "    hip     tycho2_id      solution_id     ...    ecl_lon       ecl_lat   \n",
       "   int32      str12           int64        ...    float64       float64   \n",
       "----------- ---------- ------------------- ... ------------- -------------\n",
       "-2147483648 3446-799-1 1635378410781933568 ... 142.885812117 37.7233294857"
      ]
     },
     "execution_count": 11,
     "metadata": {},
     "output_type": "execute_result"
    }
   ],
   "source": [
    "tgas[tgas['source_id'] == 832479767088738432]"
   ]
  },
  {
   "cell_type": "code",
   "execution_count": null,
   "metadata": {
    "collapsed": true
   },
   "outputs": [],
   "source": []
  },
  {
   "cell_type": "code",
   "execution_count": 26,
   "metadata": {},
   "outputs": [],
   "source": [
    "prvs = u.Quantity([x[0] for x in session.query(PriorRV.err).all()])"
   ]
  },
  {
   "cell_type": "code",
   "execution_count": 27,
   "metadata": {},
   "outputs": [
    {
     "data": {
      "image/png": "[encoded data removed]",
      "text/plain": [
       "<matplotlib.figure.Figure at 0x10d2bca20>"
      ]
     },
     "metadata": {
      "image/png": {
       "height": 251,
       "width": 370
      }
     },
     "output_type": "display_data"
    }
   ],
   "source": [
    "plt.hist(prvs, bins='auto');"
   ]
  },
  {
   "cell_type": "code",
   "execution_count": null,
   "metadata": {
    "collapsed": true
   },
   "outputs": [],
   "source": []
  }
 ],
 "metadata": {
  "anaconda-cloud": {},
  "kernelspec": {
   "display_name": "Python [conda env:comoving-rv]",
   "language": "python",
   "name": "conda-env-comoving-rv-py"
  },
  "language_info": {
   "codemirror_mode": {
    "name": "ipython",
    "version": 3
   },
   "file_extension": ".py",
   "mimetype": "text/x-python",
   "name": "python",
   "nbconvert_exporter": "python",
   "pygments_lexer": "ipython3",
   "version": "3.6.1"
  }
 },
 "nbformat": 4,
 "nbformat_minor": 2
}
