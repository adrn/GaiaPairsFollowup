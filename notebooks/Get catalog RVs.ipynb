{
 "cells": [
  {
   "cell_type": "code",
   "execution_count": 28,
   "metadata": {},
   "outputs": [],
   "source": [
    "from astroquery.vizier import Vizier\n",
    "import numpy as np\n",
    "import matplotlib.pyplot as plt\n",
    "plt.style.use('apw-notebook')\n",
    "%matplotlib inline\n",
    "\n",
    "from comoving_rv.db import Session, Base, db_connect\n",
    "from comoving_rv.db.model import (Run, Observation, TGASSource, SimbadInfo,\n",
    "                                  SpectralLineInfo, SpectralLineMeasurement)"
   ]
  },
  {
   "cell_type": "code",
   "execution_count": null,
   "metadata": {
    "collapsed": true
   },
   "outputs": [],
   "source": [
    "base_path = '/Volumes/ProjectData/gaia-comoving-followup/'\n",
    "db_path = path.join(base_path, 'db.sqlite')\n",
    "engine = db_connect(db_path)\n",
    "session = Session()"
   ]
  },
  {
   "cell_type": "code",
   "execution_count": 32,
   "metadata": {
    "collapsed": true
   },
   "outputs": [],
   "source": [
    "def get_GCRV_rv(obs):\n",
    "    sinfo = obs.simbad_info\n",
    "    if sinfo.hd_id is not None:\n",
    "        tbl = Vizier(catalog=\"III/21/gcrv\").query_constraints(HD=str(sinfo.hd_id))\n",
    "        try:\n",
    "            row = tbl[0][0]\n",
    "        except IndexError:\n",
    "            return None\n",
    "        \n",
    "        return row['RV'], q_RV\n",
    "        \n",
    "    return None"
   ]
  },
  {
   "cell_type": "code",
   "execution_count": 34,
   "metadata": {
    "collapsed": true
   },
   "outputs": [],
   "source": [
    "def get_GCS_rv(obs):\n",
    "    cat = Vizier(catalog=\"V/117\", columns=['*', 'HIP', 'RVel', 'e_RVel'])\n",
    "    \n",
    "    sinfo = obs.simbad_info\n",
    "    if sinfo.hd_id is not None:\n",
    "        tbl = cat.query_constraints(Name='HD {}'.format(sinfo.hd_id))\n",
    "        try:\n",
    "            row = tbl[0][0]\n",
    "        except IndexError:\n",
    "            return None\n",
    "        \n",
    "        return row['RVel'], row['e_RVel']\n",
    "    \n",
    "    elif sinfo.hip_id is not None:\n",
    "        tbl = cat.query_constraints(HIP=int(sinfo.hip_id))\n",
    "        try:\n",
    "            row = tbl[0][0]\n",
    "        except IndexError:\n",
    "            return None\n",
    "        \n",
    "        return row['RVel'], row['e_RVel']\n",
    "        \n",
    "    return None"
   ]
  },
  {
   "cell_type": "code",
   "execution_count": 35,
   "metadata": {
    "collapsed": true
   },
   "outputs": [],
   "source": [
    "def get_CRVAD_rv(obs):    \n",
    "    sinfo = obs.simbad_info\n",
    "    if sinfo.hd_id is not None:\n",
    "        tbl = Vizier(catalog=\"III/254\").query_constraints(HD=sinfo.hd_id)\n",
    "        try:\n",
    "            row = tbl[0][0]\n",
    "        except IndexError:\n",
    "            return None\n",
    "        \n",
    "        return row['RV'], row['e_RV']\n",
    "    \n",
    "    return None"
   ]
  },
  {
   "cell_type": "code",
   "execution_count": null,
   "metadata": {
    "collapsed": true
   },
   "outputs": [],
   "source": []
  },
  {
   "cell_type": "code",
   "execution_count": null,
   "metadata": {
    "collapsed": true
   },
   "outputs": [],
   "source": []
  }
 ],
 "metadata": {
  "kernelspec": {
   "display_name": "Python [conda env:comoving-rv]",
   "language": "python",
   "name": "conda-env-comoving-rv-py"
  },
  "language_info": {
   "codemirror_mode": {
    "name": "ipython",
    "version": 3
   },
   "file_extension": ".py",
   "mimetype": "text/x-python",
   "name": "python",
   "nbconvert_exporter": "python",
   "pygments_lexer": "ipython3",
   "version": "3.6.1"
  }
 },
 "nbformat": 4,
 "nbformat_minor": 2
}
