{
 "cells": [
  {
   "cell_type": "code",
   "execution_count": null,
   "metadata": {
    "collapsed": false
   },
   "outputs": [],
   "source": [
    "from os import path\n",
    "\n",
    "# Third-party\n",
    "import astropy.coordinates as coord\n",
    "from astropy.io import fits\n",
    "from astropy.time import Time\n",
    "from astropy.table import Table\n",
    "import astropy.units as u\n",
    "import matplotlib.pyplot as plt\n",
    "%matplotlib inline\n",
    "plt.style.use('apw-notebook')\n",
    "import numpy as np\n",
    "import h5py \n",
    "\n",
    "# Project\n",
    "from comoving_rv.log import logger\n",
    "from comoving_rv.longslit import SkippableImageFileCollection, voigt_polynomial\n",
    "from comoving_rv.longslit.wavelength import fit_spec_line\n",
    "from comoving_rv.velocity import bary_vel_corr, kitt_peak"
   ]
  },
  {
   "cell_type": "code",
   "execution_count": null,
   "metadata": {
    "collapsed": true
   },
   "outputs": [],
   "source": [
    "cache_file = '/Users/adrian/projects/gwb-spectra/data/mdm-spring-2017/processed/Halpha_centroids.h5'"
   ]
  },
  {
   "cell_type": "code",
   "execution_count": null,
   "metadata": {
    "collapsed": true
   },
   "outputs": [],
   "source": [
    "n_bg_coef = 2\n",
    "H\u03b1_slice = slice(655,720)"
   ]
  },
  {
   "cell_type": "code",
   "execution_count": null,
   "metadata": {
    "collapsed": false
   },
   "outputs": [],
   "source": [
    "for j in range(1,5+1):\n",
    "    ic = SkippableImageFileCollection(\"/Users/adrian/projects/gwb-spectra/data/mdm-spring-2017/processed/n{}/\".format(j),\n",
    "                                      glob_pattr=\"1d_*\")\n",
    "    for fname in ic.files:\n",
    "        hdulist = fits.open(path.join(ic.location, fname))\n",
    "        hdu0 = hdulist[0]\n",
    "        hdu1 = hdulist[1]\n",
    "        try:\n",
    "            group_id,obj_idx,*_ = hdu0.header['OBJECT'].split('-')\n",
    "        except ValueError:\n",
    "            print('Skipping object {}'.format(hdu0.header['OBJECT']))\n",
    "            continue\n",
    "\n",
    "        obj_idx = int(obj_idx)\n",
    "        print(\"Group,idx: {} {}\".format(group_id, obj_idx))\n",
    "\n",
    "        # read RA, Dec from header\n",
    "        obj_ra = coord.Angle(hdu0.header['RA'], unit=u.hourangle)\n",
    "        obj_dec = coord.Angle(hdu0.header['DEC'], unit=u.degree)\n",
    "        obj_jd = hdu0.header['JD']\n",
    "\n",
    "        # read spectrum itself\n",
    "        pix = hdu1.data['pix']\n",
    "        flux = hdu1.data['source_flux']\n",
    "        ivar = hdu1.data['source_ivar']\n",
    "\n",
    "        with h5py.File(cache_file, 'a') as f:\n",
    "            if group_id not in f:\n",
    "                g = f.create_group(group_id)\n",
    "\n",
    "                idx = g.create_dataset('idx', shape=(1,), maxshape=(None,), dtype='i4', chunks=True)\n",
    "                ra = g.create_dataset('ra', shape=(1,), maxshape=(None,), dtype='f8', chunks=True)\n",
    "                dec = g.create_dataset('dec', shape=(1,), maxshape=(None,), dtype='f8', chunks=True)\n",
    "                jd = g.create_dataset('JD', shape=(1,), maxshape=(None,), dtype='f8', chunks=True)\n",
    "\n",
    "                # line centroid\n",
    "                amp = g.create_dataset('amp', shape=(1,), maxshape=(None,), dtype='f8', chunks=True)\n",
    "                x0 = g.create_dataset('x_0', shape=(1,), maxshape=(None,), dtype='f8', chunks=True)\n",
    "                std_G = g.create_dataset('std_G', shape=(1,), maxshape=(None,), dtype='f8', chunks=True)\n",
    "                fwhm_L = g.create_dataset('fwhm_L', shape=(1,), maxshape=(None,), dtype='f8', chunks=True)\n",
    "                bg_coef = g.create_dataset('bg_coef', shape=(1,n_bg_coef), maxshape=(None,n_bg_coef), \n",
    "                                           dtype='f8', chunks=True)\n",
    "                Cov = g.create_dataset('Cov', shape=(1,4+n_bg_coef,4+n_bg_coef), \n",
    "                                       maxshape=(None,4+n_bg_coef,4+n_bg_coef), dtype='f8', chunks=True)\n",
    "\n",
    "            else:\n",
    "                g = f[group_id]\n",
    "                idx = g['idx'][:]\n",
    "\n",
    "                if obj_idx in idx:\n",
    "                    continue\n",
    "\n",
    "                # obj idx not in file, but group is - need to resize arrays\n",
    "                n_group = len(idx)\n",
    "                for key in g.keys():\n",
    "                    shape = list(g[key].shape)\n",
    "                    shape[0] += 1\n",
    "                    g[key].resize(tuple(shape))\n",
    "\n",
    "            for sign in [-1, 1]:\n",
    "                try:\n",
    "                    par,cov = fit_spec_line(x=pix[H\u03b1_slice], flux=flux[H\u03b1_slice], \n",
    "                                            flux_ivar=ivar[H\u03b1_slice], \n",
    "                                            absorp_emiss=sign, return_cov=True, target_x=687)\n",
    "                    break\n",
    "                except (ValueError,RuntimeError):\n",
    "                    print(\"Failed to fit for sign={}\".format(sign))\n",
    "\n",
    "            else:\n",
    "                print(\"Totally failed\")\n",
    "                continue\n",
    "\n",
    "            g['idx'][-1] = int(obj_idx)\n",
    "            g['ra'][-1] = obj_ra.degree\n",
    "            g['dec'][-1] = obj_dec.degree\n",
    "            g['JD'][-1] = obj_jd\n",
    "\n",
    "            for key in par.keys():\n",
    "                g[key][-1] = par[key]\n",
    "\n",
    "            if cov is None:\n",
    "                g['Cov'][-1] = np.full((4+n_bg_coef,4+n_bg_coef), np.nan)\n",
    "            else:\n",
    "                g['Cov'][-1] = cov"
   ]
  },
  {
   "cell_type": "code",
   "execution_count": null,
   "metadata": {
    "collapsed": false
   },
   "outputs": [],
   "source": [
    "plt.plot(pix[H\u03b1_slice], flux[H\u03b1_slice])"
   ]
  },
  {
   "cell_type": "code",
   "execution_count": null,
   "metadata": {
    "collapsed": false
   },
   "outputs": [],
   "source": [
    "all_dv = []\n",
    "all_dv_err = []\n",
    "all_dvbary = []\n",
    "all_sep = []\n",
    "with h5py.File(cache_file, 'r') as f:\n",
    "    for group_id in f.keys():\n",
    "        n_members = len(f[group_id]['idx'])\n",
    "        if n_members != 2:\n",
    "            continue\n",
    "        \n",
    "        x0s = f[group_id]['x_0'][:]\n",
    "        dv = 2*(x0s[0]-x0s[1]) / 6562.8 * 300000. * u.km/u.s\n",
    "        all_dv.append(dv)\n",
    "        \n",
    "        dx0s = np.sqrt(f[group_id]['Cov'][:,1,1])\n",
    "        dv_err = 2*dx0s / 6562.8 * 300000. * u.km/u.s\n",
    "        all_dv_err.append(np.sqrt(dv_err[0]**2 + dv_err[1]**2))\n",
    "        \n",
    "        # angular separation\n",
    "        cs = coord.ICRS(ra=f[group_id]['ra'][:]*u.degree,\n",
    "                        dec=f[group_id]['dec'][:]*u.degree)\n",
    "        sep = cs[0].separation(cs[1])\n",
    "        all_sep.append(sep.to(u.degree).value*u.degree)\n",
    "        \n",
    "        # barycentric correction\n",
    "        t = Time(f[group_id]['JD'][:], format='jd', scale='utc')\n",
    "        vbary = bary_vel_corr(t, cs, location=kitt_peak)\n",
    "        all_dvbary.append(vbary[0]-vbary[1])\n",
    "        \n",
    "all_dv = u.Quantity(all_dv)\n",
    "all_dv_err = u.Quantity(all_dv_err)\n",
    "all_sep = u.Quantity(all_sep)\n",
    "all_dvbary = u.Quantity(all_dvbary)"
   ]
  },
  {
   "cell_type": "code",
   "execution_count": null,
   "metadata": {
    "collapsed": false
   },
   "outputs": [],
   "source": [
    "all_dv_corr = all_dv - all_dvbary\n",
    "\n",
    "all_dv_corr = all_dv_corr[np.isfinite(all_dv_err)]\n",
    "all_sep = all_sep[np.isfinite(all_dv_err)]\n",
    "all_dv_err = all_dv_err[np.isfinite(all_dv_err)]"
   ]
  },
  {
   "cell_type": "code",
   "execution_count": null,
   "metadata": {
    "collapsed": false
   },
   "outputs": [],
   "source": [
    "(np.abs(all_dv_corr) < 25*u.km/u.s).sum()"
   ]
  },
  {
   "cell_type": "code",
   "execution_count": null,
   "metadata": {
    "collapsed": false
   },
   "outputs": [],
   "source": [
    "plt.hist(all_dv_corr.value[np.abs(all_dv_corr.value) < 100.], bins='auto');"
   ]
  },
  {
   "cell_type": "code",
   "execution_count": null,
   "metadata": {
    "collapsed": false
   },
   "outputs": [],
   "source": [
    "fig,axes = plt.subplots(2, 1, figsize=(8,8),sharex=True)\n",
    "\n",
    "axes[0].errorbar(all_sep.value, np.abs(all_dv_corr.value), all_dv_err.value,\n",
    "                 marker='.', alpha=0.5, linestyle='none', markeredgewidth=0)\n",
    "axes[0].set_xscale('log')\n",
    "axes[0].set_xlim(1E-3, 20)\n",
    "axes[0].set_ylim(-1, 10)\n",
    "axes[0].set_ylabel(r'$\\Delta {\\rm RV}\\,[{\\rm km}\\,{\\rm s}^{-1}]$')\n",
    "\n",
    "axes[1].errorbar(all_sep.value, np.abs(all_dv_corr.value), all_dv_err.value,\n",
    "                 marker='.', alpha=0.5, linestyle='none', markeredgewidth=0)\n",
    "axes[1].set_ylim(-1, 50)\n",
    "axes[1].set_xlabel('ang. sep. [deg]')\n",
    "axes[1].set_ylabel(r'$\\Delta {\\rm RV}\\,[{\\rm km}\\,{\\rm s}^{-1}]$')\n",
    "\n",
    "fig.tight_layout()\n",
    "fig.savefig('/Users/adrian/Downloads/dv_relative.png')"
   ]
  },
  {
   "cell_type": "markdown",
   "metadata": {},
   "source": [
    "## Group 10"
   ]
  },
  {
   "cell_type": "code",
   "execution_count": null,
   "metadata": {
    "collapsed": false
   },
   "outputs": [],
   "source": [
    "with h5py.File(cache_file, 'r') as f:\n",
    "    x0s = f['10/x_0'][:]\n",
    "    dx = x0s - np.median(x0s)\n",
    "    group10_dv = 2*dx / 6562.8 * 300000. * u.km/u.s"
   ]
  },
  {
   "cell_type": "code",
   "execution_count": null,
   "metadata": {
    "collapsed": false
   },
   "outputs": [],
   "source": [
    "plt.hist(group10_dv.value, bins=np.linspace(-50, 50, 16));"
   ]
  },
  {
   "cell_type": "code",
   "execution_count": null,
   "metadata": {
    "collapsed": false
   },
   "outputs": [],
   "source": [
    "np.std(group10_dv.value[(group10_dv.value > -50) & (group10_dv.value < 50)])"
   ]
  },
  {
   "cell_type": "markdown",
   "metadata": {},
   "source": [
    "TODO: But it covers some large area on the sky, right?"
   ]
  },
  {
   "cell_type": "markdown",
   "metadata": {},
   "source": [
    "---"
   ]
  },
  {
   "cell_type": "code",
   "execution_count": null,
   "metadata": {
    "collapsed": true
   },
   "outputs": [],
   "source": []
  },
  {
   "cell_type": "code",
   "execution_count": null,
   "metadata": {
    "collapsed": false
   },
   "outputs": [],
   "source": [
    "t = Time(obj_jd, format='jd', scale='utc')\n",
    "sc1 = coord.SkyCoord(ra=obj_ra, dec=obj_dec)\n",
    "sc2 = coord.SkyCoord(ra=obj_ra+2.*u.deg, dec=obj_dec+-5*u.deg)"
   ]
  },
  {
   "cell_type": "code",
   "execution_count": null,
   "metadata": {
    "collapsed": true
   },
   "outputs": [],
   "source": [
    "ra_grid = np.linspace(0, 360, 128)\n",
    "sc1 = coord.SkyCoord(ra=ra_grid*u.deg, dec=np.full_like(ra_grid, -23)*u.deg)"
   ]
  },
  {
   "cell_type": "code",
   "execution_count": null,
   "metadata": {
    "collapsed": false
   },
   "outputs": [],
   "source": [
    "vel = bary_vel_corr(t, sc1, location=kitt_peak) - bary_vel_corr(t, sc2, location=kitt_peak)"
   ]
  },
  {
   "cell_type": "code",
   "execution_count": null,
   "metadata": {
    "collapsed": false
   },
   "outputs": [],
   "source": [
    "plt.plot(vel)"
   ]
  },
  {
   "cell_type": "code",
   "execution_count": null,
   "metadata": {
    "collapsed": true
   },
   "outputs": [],
   "source": []
  }
 ],
 "metadata": {
  "anaconda-cloud": {},
  "kernelspec": {
   "display_name": "Python [conda env:comoving-rv]",
   "language": "python",
   "name": "conda-env-comoving-rv-py"
  },
  "language_info": {
   "codemirror_mode": {
    "name": "ipython",
    "version": 3
   },
   "file_extension": ".py",
   "mimetype": "text/x-python",
   "name": "python",
   "nbconvert_exporter": "python",
   "pygments_lexer": "ipython3",
   "version": "3.6.1"
  }
 },
 "nbformat": 4,
 "nbformat_minor": 1
}