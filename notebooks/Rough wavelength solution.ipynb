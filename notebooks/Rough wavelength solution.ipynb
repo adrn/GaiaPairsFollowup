{
 "cells": [
  {
   "cell_type": "code",
   "execution_count": null,
   "metadata": {
    "collapsed": true
   },
   "outputs": [],
   "source": [
    "from astropy.modeling.functional_models import Voigt1D\n",
    "from astropy.constants import c\n",
    "from astropy.io import fits\n",
    "import astropy.units as u\n",
    "import numpy as np\n",
    "import matplotlib.pyplot as plt\n",
    "plt.style.use('apw-notebook')\n",
    "%matplotlib inline\n",
    "\n",
    "from scipy.interpolate import InterpolatedUnivariateSpline\n",
    "from scipy.optimize import curve_fit, minimize"
   ]
  },
  {
   "cell_type": "code",
   "execution_count": null,
   "metadata": {
    "collapsed": false
   },
   "outputs": [],
   "source": [
    "pix, wvln = np.loadtxt(\"../data/mdm-spring-2017/quickreduce/rough_wavelength.txt\").T"
   ]
  },
  {
   "cell_type": "code",
   "execution_count": null,
   "metadata": {
    "collapsed": false
   },
   "outputs": [],
   "source": [
    "plt.plot(pix, wvln, marker='o')"
   ]
  },
  {
   "cell_type": "code",
   "execution_count": null,
   "metadata": {
    "collapsed": true
   },
   "outputs": [],
   "source": [
    "wvln2pix = InterpolatedUnivariateSpline(wvln[wvln.argsort()], pix[wvln.argsort()], k=3)\n",
    "pix2wvln = InterpolatedUnivariateSpline(pix, wvln, k=3)"
   ]
  },
  {
   "cell_type": "code",
   "execution_count": null,
   "metadata": {
    "collapsed": true
   },
   "outputs": [],
   "source": [
    "halpha_idx = int(wvln2pix(6563.))"
   ]
  },
  {
   "cell_type": "code",
   "execution_count": null,
   "metadata": {
    "collapsed": false
   },
   "outputs": [],
   "source": [
    "(0.022/6563 * c).to(u.km/u.s)"
   ]
  },
  {
   "cell_type": "code",
   "execution_count": null,
   "metadata": {
    "collapsed": false
   },
   "outputs": [],
   "source": [
    "(30.*u.km/u.s / c * 6563.*u.angstrom).to(u.angstrom)"
   ]
  },
  {
   "cell_type": "code",
   "execution_count": null,
   "metadata": {
    "collapsed": false
   },
   "outputs": [],
   "source": [
    "wvln2pix(6563.)"
   ]
  },
  {
   "cell_type": "code",
   "execution_count": null,
   "metadata": {
    "collapsed": false
   },
   "outputs": [],
   "source": [
    "pix2wvln(684.7+1)-pix2wvln(684.7)"
   ]
  },
  {
   "cell_type": "markdown",
   "metadata": {},
   "source": [
    "## Read two spectra, fit lines"
   ]
  },
  {
   "cell_type": "markdown",
   "metadata": {},
   "source": [
    "* Yes [< 10 km/s]: 568, 468, 724, 1120, 957, 1219, 1253, 884, 942, 1336, 613, 997, 1063, 2402\n",
    "* No [> 30 km/s]: 483, 1243, 1017, 392, 762, 611, 1221\n",
    "* Maybe: 1095, 821, 328, 882, 1256, 834, 605, 1024, 1093, 324, 942, 1224, 1254, 864, 1305, 1391\n",
    "\n",
    "\n",
    "* 746: one star has no Halpha??\n",
    "* 613 has <1 km/s diff"
   ]
  },
  {
   "cell_type": "code",
   "execution_count": null,
   "metadata": {
    "collapsed": false
   },
   "outputs": [],
   "source": [
    "hdu1 = fits.open(\"/Users/adrian/projects/gaia-wide-binaries/data/mdm-spring-2017/n3/n3.0104.fit\")[0]\n",
    "hdu2 = fits.open(\"/Users/adrian/projects/gaia-wide-binaries/data/mdm-spring-2017/n3/n3.0105.fit\")[0]\n",
    "\n",
    "spec1 = hdu1.data\n",
    "spec2 = hdu2.data\n",
    "\n",
    "print(hdu1.header['OBJECT'], hdu2.header['OBJECT'])"
   ]
  },
  {
   "cell_type": "code",
   "execution_count": null,
   "metadata": {
    "collapsed": false
   },
   "outputs": [],
   "source": [
    "spec_1ds = []\n",
    "for spec in [spec1, spec2]:\n",
    "    plt.figure()\n",
    "    for i in np.linspace(spec.shape[0]-1, 32).astype(int):\n",
    "        plt.plot(spec[i,:], marker='', alpha=0.25)\n",
    "\n",
    "    _idx = spec[int(spec.shape[0]/2)].argmax()\n",
    "    plt.xlim(_idx-8, _idx+8)\n",
    "    \n",
    "    spec_1ds.append(np.mean(spec[:,_idx-3:_idx+3+1], axis=1))"
   ]
  },
  {
   "cell_type": "code",
   "execution_count": null,
   "metadata": {
    "collapsed": false
   },
   "outputs": [],
   "source": [
    "sub_specs = []\n",
    "for spec_1d in spec_1ds:\n",
    "    sub_spec = spec_1d[halpha_idx-16:halpha_idx+20]\n",
    "#     sub_spec = (sub_spec-sub_spec.min()) / (sub_spec.max()-sub_spec.min())\n",
    "    sub_spec = sub_spec/sub_spec.max()\n",
    "    sub_spec = sub_spec-np.median(sub_spec)\n",
    "    sub_specs.append(sub_spec)"
   ]
  },
  {
   "cell_type": "code",
   "execution_count": null,
   "metadata": {
    "collapsed": false
   },
   "outputs": [],
   "source": [
    "plt.plot(sub_specs[0], marker='', drawstyle='steps-mid')\n",
    "plt.plot(sub_specs[1], marker='', drawstyle='steps-mid')"
   ]
  },
  {
   "cell_type": "markdown",
   "metadata": {},
   "source": [
    "Try just least-sq'ing a model"
   ]
  },
  {
   "cell_type": "code",
   "execution_count": null,
   "metadata": {
    "collapsed": true
   },
   "outputs": [],
   "source": [
    "from scipy.optimize import minimize, leastsq"
   ]
  },
  {
   "cell_type": "code",
   "execution_count": null,
   "metadata": {
    "collapsed": true
   },
   "outputs": [],
   "source": [
    "def line_model(pars, pixel):\n",
    "    line_ln_amp, line_loc, line_ln_gamma, line_ln_var,*coeff = pars\n",
    "    v = Voigt1D(line_loc, \n",
    "                amplitude_L=-np.exp(line_ln_amp), \n",
    "                fwhm_L=np.exp(line_ln_gamma), \n",
    "                fwhm_G=np.exp(line_ln_var))\n",
    "    poly = np.poly1d(coeff)\n",
    "    return v(pixel) + poly(pixel)"
   ]
  },
  {
   "cell_type": "code",
   "execution_count": null,
   "metadata": {
    "collapsed": false
   },
   "outputs": [],
   "source": [
    "pix_grid = np.arange(len(sub_specs[0]))\n",
    "p0 = [-0.75, 19., \n",
    "       np.log(10.), np.log(4.),\n",
    "       0., 0.]\n",
    "\n",
    "plt.plot(pix_grid, sub_specs[0], marker='', drawstyle='steps-mid', zorder=-10)\n",
    "plt.plot(pix_grid, line_model(p0, pix_grid), marker='', alpha=0.5)"
   ]
  },
  {
   "cell_type": "code",
   "execution_count": null,
   "metadata": {
    "collapsed": false
   },
   "outputs": [],
   "source": [
    "# First just try optimizing the likelihood\n",
    "p_opts = []\n",
    "\n",
    "for spec in sub_specs:\n",
    "    p_opt,ier = leastsq(lambda p: (line_model(p, pix_grid)-spec) / spec_err, x0=p0)\n",
    "    print(ier)\n",
    "    p_opts.append(p_opt)"
   ]
  },
  {
   "cell_type": "code",
   "execution_count": null,
   "metadata": {
    "collapsed": false
   },
   "outputs": [],
   "source": [
    "_grid = np.linspace(pix_grid.min(), pix_grid.max(), 256)\n",
    "\n",
    "fig,axes = plt.subplots(1, 2, sharex=True, figsize=(12,5))\n",
    "\n",
    "for i,spec,p_opt in zip(range(len(sub_specs)), sub_specs, p_opts):\n",
    "    axes[i].plot(spec, marker='', drawstyle='steps-mid', zorder=-10)\n",
    "    axes[i].plot(_grid, line_model(p0, _grid), marker='', alpha=0.5)\n",
    "    axes[i].plot(_grid, line_model(p_opt, _grid), marker='', alpha=0.5)"
   ]
  },
  {
   "cell_type": "code",
   "execution_count": null,
   "metadata": {
    "collapsed": false
   },
   "outputs": [],
   "source": [
    "d_pix = p_opts[0][1]-p_opts[1][1]\n",
    "d_pix"
   ]
  },
  {
   "cell_type": "code",
   "execution_count": null,
   "metadata": {
    "collapsed": false
   },
   "outputs": [],
   "source": [
    "d_wvln = pix2wvln(halpha_idx + d_pix) - pix2wvln(halpha_idx)\n",
    "(d_wvln/6563. * c).to(u.km/u.s)"
   ]
  },
  {
   "cell_type": "markdown",
   "metadata": {},
   "source": [
    "---\n",
    "\n",
    "## Now try with a Gaussian process"
   ]
  },
  {
   "cell_type": "code",
   "execution_count": null,
   "metadata": {
    "collapsed": true
   },
   "outputs": [],
   "source": [
    "import emcee\n",
    "import george\n",
    "from george import kernels"
   ]
  },
  {
   "cell_type": "code",
   "execution_count": null,
   "metadata": {
    "collapsed": true
   },
   "outputs": [],
   "source": [
    "def model(pars, pixel):\n",
    "    _, _, line_ln_amp, line_loc, line_ln_gamma, line_ln_var = pars[:6]\n",
    "    v = Voigt1D(line_loc, \n",
    "                amplitude_L=-np.exp(line_ln_amp), \n",
    "                fwhm_L=np.exp(line_ln_gamma), \n",
    "                fwhm_G=np.exp(line_ln_var))\n",
    "    return v(pixel)\n",
    "\n",
    "def ln_prior(pars):\n",
    "    ln_a, ln_tau, line_ln_amp, line_loc, line_ln_gamma, line_ln_var = pars\n",
    "\n",
    "    if line_ln_amp < -6 or line_ln_amp > 3:\n",
    "        return -np.inf\n",
    "    \n",
    "    if line_loc < 0 or line_loc > 40:\n",
    "        return -np.inf\n",
    "    \n",
    "    if line_ln_gamma < -10 or line_ln_gamma > 10:\n",
    "        return -np.inf\n",
    "    \n",
    "    if line_ln_var < -10 or line_ln_var > 10:\n",
    "        return -np.inf\n",
    "    \n",
    "    return 0.\n",
    "\n",
    "def ln_likelihood(pars, pixel, count, count_err):\n",
    "    a, tau = np.exp(pars[:2])\n",
    "    gp = george.GP(a * kernels.Matern32Kernel(tau))\n",
    "    gp.compute(pixel, count_err)\n",
    "    return gp.lnlikelihood(count - model(pars, pixel))\n",
    "\n",
    "def ln_posterior(pars, pixel, count, count_err):\n",
    "    try:\n",
    "        ll = ln_likelihood(pars, pixel, count, count_err)\n",
    "    except (ValueError, np.linalg.LinAlgError):\n",
    "        return -np.inf\n",
    "    \n",
    "    if not np.any(np.isfinite(ll)):\n",
    "        return -np.inf\n",
    "    \n",
    "    return ln_prior(pars) + ll.sum()"
   ]
  },
  {
   "cell_type": "code",
   "execution_count": null,
   "metadata": {
    "collapsed": false
   },
   "outputs": [],
   "source": [
    "pix_grid = np.arange(len(sub_specs[0]))\n",
    "\n",
    "p0 = [1E-1, 1E-1, \n",
    "       -0.75, 19., \n",
    "       np.log(10.), np.log(4.)]\n",
    "\n",
    "plt.plot(sub_specs[0], marker='', drawstyle='steps-mid', zorder=-10)\n",
    "plt.plot(pix_grid, model(p0, pix_grid), marker='', alpha=0.5)"
   ]
  },
  {
   "cell_type": "code",
   "execution_count": null,
   "metadata": {
    "collapsed": true
   },
   "outputs": [],
   "source": [
    "spec_err = 0.01 # COMPLETELEY MADE UP\n",
    "spec = sub_specs[1]"
   ]
  },
  {
   "cell_type": "markdown",
   "metadata": {},
   "source": [
    "Now try sampling"
   ]
  },
  {
   "cell_type": "code",
   "execution_count": null,
   "metadata": {
    "collapsed": false
   },
   "outputs": [],
   "source": [
    "n_walkers = 64\n",
    "n_dim = len(p0)\n",
    "all_p0 = emcee.utils.sample_ball(p0, std=1E-4*np.array(p0), size=n_walkers)\n",
    "\n",
    "sampler = emcee.EnsembleSampler(n_walkers, dim=n_dim, lnpostfn=ln_posterior, args=(pix_grid, spec, spec_err))\n",
    "pos,prob,_ = sampler.run_mcmc(all_p0, 256)\n",
    "p = pos[prob.argmax()]\n",
    "sampler.reset()\n",
    "\n",
    "# Re-sample the walkers near the best walker from the previous burn-in.\n",
    "pos = [p + 1e-8 * np.random.randn(n_dim) for i in range(n_walkers)]\n",
    "\n",
    "print(\"Running second burn-in...\")\n",
    "pos, prob, _ = sampler.run_mcmc(pos, 256)\n",
    "p = pos[prob.argmax()]\n",
    "sampler.reset()\n",
    "\n",
    "# Re-sample the walkers near the best walker from the previous burn-in.\n",
    "pos = [p + 1e-8 * np.random.randn(n_dim) for i in range(n_walkers)]\n",
    "\n",
    "print(\"Running third burn-in...\")\n",
    "pos, prob, _ = sampler.run_mcmc(pos, 256)\n",
    "sampler.reset()\n",
    "\n",
    "print(\"Running production...\")\n",
    "_ = sampler.run_mcmc(pos, 512)"
   ]
  },
  {
   "cell_type": "code",
   "execution_count": null,
   "metadata": {
    "collapsed": false
   },
   "outputs": [],
   "source": [
    "for dim in range(sampler.chain.shape[-1]):\n",
    "    plt.figure()\n",
    "    for wlk in range(sampler.chain.shape[0]):\n",
    "        plt.plot(sampler.chain[wlk,:,dim], marker='', drawstyle='steps-mid', alpha=0.25, color='k')"
   ]
  },
  {
   "cell_type": "code",
   "execution_count": null,
   "metadata": {
    "collapsed": false
   },
   "outputs": [],
   "source": [
    "plt.plot(spec, drawstyle='steps-mid', marker='')\n",
    "pixels = np.linspace(pix_grid.min(), pix_grid.max(), 1024)\n",
    "\n",
    "# for i in range(n_walkers):\n",
    "for i in range(8):\n",
    "    pp = sampler.chain[i,-1,:]\n",
    "#     plt.plot(pix_grid, model(pp, pix_grid), alpha=0.1, marker='')\n",
    "    \n",
    "    # Set up the GP for this sample.\n",
    "    a, tau = np.exp(pp[:2])\n",
    "    gp = george.GP(a * kernels.Matern32Kernel(tau))\n",
    "    gp.compute(pix_grid, spec_err)\n",
    "\n",
    "    # Compute the prediction conditioned on the observations and plot it.\n",
    "    m = gp.sample_conditional(spec - model(pp, pix_grid), pixels) + model(pp, pixels)\n",
    "    plt.plot(pixels, m, color=\"#4682b4\", alpha=0.3, marker='')"
   ]
  },
  {
   "cell_type": "code",
   "execution_count": null,
   "metadata": {
    "collapsed": true
   },
   "outputs": [],
   "source": [
    "# chain0 = sampler.chain.copy()\n",
    "# chain1 = sampler.chain.copy()"
   ]
  },
  {
   "cell_type": "code",
   "execution_count": null,
   "metadata": {
    "collapsed": false
   },
   "outputs": [],
   "source": [
    "_,bins,_ = plt.hist(chain0[:,-100:,3].ravel(), bins=np.linspace(9, 12, 64))\n",
    "plt.hist(chain1[:,-100:,3].ravel(), bins=bins);"
   ]
  },
  {
   "cell_type": "code",
   "execution_count": null,
   "metadata": {
    "collapsed": false
   },
   "outputs": [],
   "source": [
    "d_pix = np.median(chain0[:,-100:,3].ravel()) - np.median(chain1[:,-100:,3].ravel())"
   ]
  },
  {
   "cell_type": "code",
   "execution_count": null,
   "metadata": {
    "collapsed": false
   },
   "outputs": [],
   "source": [
    "d_wvln = pix2wvln(halpha_idx + d_pix) - pix2wvln(halpha_idx)\n",
    "(d_wvln/6563. * c).to(u.km/u.s)"
   ]
  },
  {
   "cell_type": "code",
   "execution_count": null,
   "metadata": {
    "collapsed": false
   },
   "outputs": [],
   "source": [
    "d_pix"
   ]
  },
  {
   "cell_type": "code",
   "execution_count": null,
   "metadata": {
    "collapsed": false
   },
   "outputs": [],
   "source": [
    "np.median(np.abs(chain0[:,-100:,3].ravel() - np.median(chain0[:,-100:,3].ravel())))"
   ]
  },
  {
   "cell_type": "code",
   "execution_count": null,
   "metadata": {
    "collapsed": false
   },
   "outputs": [],
   "source": [
    "vspan = plt.axvspan(0, 1.1, alpha=0.5, color='g')\n",
    "vspan.get_xy()"
   ]
  },
  {
   "cell_type": "code",
   "execution_count": null,
   "metadata": {
    "collapsed": true
   },
   "outputs": [],
   "source": [
    "from PyQt5 import QtWidgets"
   ]
  },
  {
   "cell_type": "code",
   "execution_count": null,
   "metadata": {
    "collapsed": true
   },
   "outputs": [],
   "source": [
    "button = QtWidgets.QPushButton()"
   ]
  },
  {
   "cell_type": "code",
   "execution_count": null,
   "metadata": {
    "collapsed": true
   },
   "outputs": [],
   "source": []
  }
 ],
 "metadata": {
  "kernelspec": {
   "display_name": "Python [default]",
   "language": "python",
   "name": "python3"
  },
  "language_info": {
   "codemirror_mode": {
    "name": "ipython",
    "version": 3
   },
   "file_extension": ".py",
   "mimetype": "text/x-python",
   "name": "python",
   "nbconvert_exporter": "python",
   "pygments_lexer": "ipython3",
   "version": "3.5.2"
  }
 },
 "nbformat": 4,
 "nbformat_minor": 2
}