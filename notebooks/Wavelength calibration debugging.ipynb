{
 "cells": [
  {
   "cell_type": "code",
   "execution_count": null,
   "metadata": {
    "collapsed": true
   },
   "outputs": [],
   "source": [
    "from os import path\n",
    "from collections import OrderedDict\n",
    "\n",
    "import astropy.coordinates as coord\n",
    "import astropy.units as u\n",
    "from astropy.io import fits\n",
    "from astropy.table import Table\n",
    "import numpy as np\n",
    "import matplotlib.pyplot as plt\n",
    "plt.style.use('apw-notebook')\n",
    "%matplotlib inline\n",
    "from scipy.optimize import minimize\n",
    "from scipy.signal import argrelmin\n",
    "import emcee\n",
    "import corner\n",
    "\n",
    "from comoving_rv.longslit.wavelength import fit_spec_line, fit_spec_line_GP\n",
    "from comoving_rv.longslit.models import voigt_polynomial"
   ]
  },
  {
   "cell_type": "code",
   "execution_count": null,
   "metadata": {
    "collapsed": true
   },
   "outputs": [],
   "source": [
    "root_path = path.normpath('../data/mdm-spring-2017/processed/')"
   ]
  },
  {
   "cell_type": "code",
   "execution_count": null,
   "metadata": {
    "collapsed": true
   },
   "outputs": [],
   "source": [
    "night = 'n3'\n",
    "frame = 65"
   ]
  },
  {
   "cell_type": "code",
   "execution_count": null,
   "metadata": {},
   "outputs": [],
   "source": [
    "hdr = fits.getheader(path.join(root_path, night, '1d_{}.{:04d}.fit'.format(night, frame)), 0)\n",
    "coord.SkyCoord(ra=hdr['RA'], dec=hdr['DEC'], unit=(u.hourangle, u.degree))"
   ]
  },
  {
   "cell_type": "code",
   "execution_count": null,
   "metadata": {
    "collapsed": true
   },
   "outputs": [],
   "source": [
    "# read master_wavelength file\n",
    "# pix_wav = np.genfromtxt(path.join(root_path, night, 'master_wavelength.csv'),\n",
    "#                         delimiter=',', names=True)\n",
    "pix_wav = np.genfromtxt(path.join(root_path, 'wavelength_guess.csv'),\n",
    "                        delimiter=',', names=True)\n",
    "\n",
    "idx = (pix_wav['wavelength'] < 6950) & (pix_wav['wavelength'] > 5400)\n",
    "pix_wav = pix_wav[idx] # HACK\n",
    "pix_range = [min(pix_wav['pixel']), max(pix_wav['pixel'])]"
   ]
  },
  {
   "cell_type": "code",
   "execution_count": null,
   "metadata": {
    "collapsed": true
   },
   "outputs": [],
   "source": [
    "spec = Table.read(path.join(root_path, night, '1d_{}.{:04d}.fit'.format(night, frame)))"
   ]
  },
  {
   "cell_type": "code",
   "execution_count": null,
   "metadata": {},
   "outputs": [],
   "source": [
    "plt.plot(spec['pix'][250:1200], spec['source_flux'][250:1200], drawstyle='steps-mid', marker='')\n",
    "plt.xlim(1200, 250)"
   ]
  },
  {
   "cell_type": "code",
   "execution_count": null,
   "metadata": {},
   "outputs": [],
   "source": [
    "coef = np.polynomial.polynomial.polyfit(pix_wav['pixel'], pix_wav['wavelength'],\n",
    "                                        deg=4)\n",
    "\n",
    "# compute wavelength array for the pixels\n",
    "wave = np.polynomial.polynomial.polyval(spec['pix'], coef)\n",
    "wave[(spec['pix'] > max(pix_range)) | (spec['pix'] < min(pix_range))] = np.nan\n",
    "\n",
    "plt.scatter(pix_wav['pixel'], np.polynomial.polynomial.polyval(pix_wav['pixel'], coef) - pix_wav['wavelength'])"
   ]
  },
  {
   "cell_type": "markdown",
   "metadata": {},
   "source": [
    "### Try cross-validation to get polynomial degree"
   ]
  },
  {
   "cell_type": "code",
   "execution_count": null,
   "metadata": {
    "collapsed": true
   },
   "outputs": [],
   "source": [
    "from sklearn.model_selection import LeaveOneOut"
   ]
  },
  {
   "cell_type": "code",
   "execution_count": null,
   "metadata": {
    "collapsed": true
   },
   "outputs": [],
   "source": [
    "cv_instance = LeaveOneOut()\n",
    "x,y = pix_wav['pixel'],pix_wav['wavelength']\n",
    "poly_fit_func = np.polynomial.polynomial.polyfit\n",
    "poly_val_func = np.polynomial.polynomial.polyval\n",
    "poly_deg = 5"
   ]
  },
  {
   "cell_type": "code",
   "execution_count": null,
   "metadata": {
    "collapsed": true
   },
   "outputs": [],
   "source": [
    "def cv_score(poly_deg, x, y, poly_fit_func, poly_val_func, cv_instance):    \n",
    "    mse = []\n",
    "    for train, test in cv_instance.split(x, y):\n",
    "        coef = poly_fit_func(x[train], y[train], deg=poly_deg) # w=ivar,\n",
    "        pred = poly_val_func(x[test], coef)\n",
    "        mse.append((y[test] - pred)**2)\n",
    "\n",
    "    return np.squeeze(np.array(mse))"
   ]
  },
  {
   "cell_type": "code",
   "execution_count": null,
   "metadata": {},
   "outputs": [],
   "source": [
    "pix_wav['wavelength'][:-1]"
   ]
  },
  {
   "cell_type": "code",
   "execution_count": null,
   "metadata": {},
   "outputs": [],
   "source": [
    "# [np.polynomial.chebyshev.chebfit, np.polynomial.chebyshev.chebval],\n",
    "# [np.polynomial.hermite.hermfit, np.polynomial.hermite.hermval]]:\n",
    "poly_fit_func, poly_val_func = [np.polynomial.polynomial.polyfit, np.polynomial.polynomial.polyval]\n",
    "args = (pix_wav['pixel'][:-1], pix_wav['wavelength'][:-1], \n",
    "        poly_fit_func, poly_val_func, LeaveOneOut())\n",
    "\n",
    "degs = np.arange(1, 11+1, 1)\n",
    "scores = np.zeros((len(degs), len(args[0])))\n",
    "for i,deg in enumerate(degs):\n",
    "    scores[i] = cv_score(deg, *args)\n",
    "\n",
    "plt.plot(degs, scores.mean(axis=1))\n",
    "    \n",
    "plt.yscale('log')\n",
    "plt.xlabel('polynomial degree')\n",
    "plt.ylabel('cross validation score')"
   ]
  },
  {
   "cell_type": "code",
   "execution_count": null,
   "metadata": {},
   "outputs": [],
   "source": [
    "scores.shape"
   ]
  },
  {
   "cell_type": "code",
   "execution_count": null,
   "metadata": {},
   "outputs": [],
   "source": [
    "plt.plot(scores[2])"
   ]
  },
  {
   "cell_type": "markdown",
   "metadata": {},
   "source": [
    "---"
   ]
  },
  {
   "cell_type": "code",
   "execution_count": null,
   "metadata": {},
   "outputs": [],
   "source": [
    "plt.scatter(pix_wav['pixel'], pix_wav['wavelength'])\n",
    "\n",
    "_grid = np.linspace(pix_wav['pixel'].min(), pix_wav['pixel'].max(), 256)\n",
    "plt.plot(_grid, np.polynomial.polynomial.polyval(_grid, coef), \n",
    "         marker='', linestyle='-', alpha=0.4)"
   ]
  },
  {
   "cell_type": "code",
   "execution_count": null,
   "metadata": {},
   "outputs": [],
   "source": [
    "plt.plot(np.abs(coef), linestyle='none', marker='o')\n",
    "plt.yscale('log')"
   ]
  },
  {
   "cell_type": "markdown",
   "metadata": {},
   "source": [
    "Define data arrays to be used in fitting below"
   ]
  },
  {
   "cell_type": "code",
   "execution_count": null,
   "metadata": {},
   "outputs": [],
   "source": [
    "# H alpha\n",
    "# near_Ha = (wave > 6510) & (wave < 6615)\n",
    "# flux_data = spec['source_flux'][near_Ha]\n",
    "# ivar_data = spec['source_ivar'][near_Ha]\n",
    "# absorp_emiss = -1.\n",
    "# target_x = 6562.8\n",
    "\n",
    "# O2 6867\n",
    "# near_Ha = (wave > 6767) & (wave < 6929) \n",
    "# target_x = 6867.\n",
    "# absorp_emiss = -1.\n",
    "# flux_data = spec['source_flux'][near_Ha]\n",
    "# ivar_data = spec['source_ivar'][near_Ha]\n",
    "\n",
    "# SKY LINE\n",
    "near_Ha = (wave > 5477) & (wave < 5677) # [OI] 5577\n",
    "target_x = 5577.\n",
    "# near_Ha = (wave > 6200) & (wave < 6400) # [OI] 6300\n",
    "# target_x = 6300.\n",
    "absorp_emiss = 1.\n",
    "flux_data = spec['background_flux'][near_Ha]\n",
    "ivar_data = spec['background_ivar'][near_Ha]\n",
    "\n",
    "wave_data = wave[near_Ha]\n",
    "\n",
    "_idx = wave_data.argsort()\n",
    "wave_data = wave_data[_idx]\n",
    "flux_data = flux_data[_idx]\n",
    "ivar_data = ivar_data[_idx]\n",
    "err_data = 1/np.sqrt(ivar_data)"
   ]
  },
  {
   "cell_type": "code",
   "execution_count": null,
   "metadata": {},
   "outputs": [],
   "source": [
    "pars = fit_spec_line(wave_data, flux_data, ivar_data,\n",
    "                     absorp_emiss=absorp_emiss, target_x=target_x, \n",
    "                     fwhm_L0=4., std_G0=0.1, n_bg_coef=2)\n",
    "print(pars['x0'])\n",
    "\n",
    "# plot that ish\n",
    "plt.plot(wave_data, flux_data, drawstyle='steps-mid', marker='')\n",
    "\n",
    "wave_grid = np.linspace(wave_data.min(), wave_data.max(), 256)\n",
    "plt.plot(wave_grid, voigt_polynomial(wave_grid, **pars), marker='', alpha=0.5)"
   ]
  },
  {
   "cell_type": "code",
   "execution_count": null,
   "metadata": {
    "collapsed": true
   },
   "outputs": [],
   "source": [
    "gp = fit_spec_line_GP(wave_data, flux_data, ivar_data,\n",
    "                      absorp_emiss=absorp_emiss, target_x=target_x, \n",
    "                      fwhm_L0=4., std_G0=1., n_bg_coef=2)"
   ]
  },
  {
   "cell_type": "code",
   "execution_count": null,
   "metadata": {},
   "outputs": [],
   "source": [
    "gp.get_parameter_dict()"
   ]
  },
  {
   "cell_type": "code",
   "execution_count": null,
   "metadata": {
    "collapsed": true
   },
   "outputs": [],
   "source": [
    "def get_fit_pars(gp):\n",
    "    fit_pars = OrderedDict()\n",
    "    for k,v in gp.get_parameter_dict().items():\n",
    "        if 'mean' not in k:\n",
    "            continue\n",
    "\n",
    "        k = k[5:] # remove 'mean:'\n",
    "        if k.startswith('ln'):\n",
    "            if 'amp' in k:\n",
    "                fit_pars[k[3:]] = -np.exp(v)\n",
    "            else:\n",
    "                fit_pars[k[3:]] = np.exp(v)\n",
    "\n",
    "        elif k.startswith('bg'):\n",
    "            if 'bg_coef' not in fit_pars:\n",
    "                fit_pars['bg_coef'] = []\n",
    "            fit_pars['bg_coef'].append(v)\n",
    "\n",
    "        else:\n",
    "            fit_pars[k] = v\n",
    "    \n",
    "    if 'std_G' not in fit_pars:\n",
    "        fit_pars['std_G'] = 1E-10\n",
    "        \n",
    "    return fit_pars"
   ]
  },
  {
   "cell_type": "code",
   "execution_count": null,
   "metadata": {},
   "outputs": [],
   "source": [
    "fit_pars = get_fit_pars(gp)\n",
    "fit_pars"
   ]
  },
  {
   "cell_type": "code",
   "execution_count": null,
   "metadata": {},
   "outputs": [],
   "source": [
    "# Make the maximum likelihood prediction\n",
    "mu, var = gp.predict(flux_data, wave_grid, return_var=True)\n",
    "std = np.sqrt(var)\n",
    "\n",
    "# data\n",
    "plt.plot(wave_data, flux_data, drawstyle='steps-mid', marker='')\n",
    "plt.errorbar(wave_data, flux_data, err_data,\n",
    "             marker='', ls='none', ecolor='#666666', zorder=-10)\n",
    "\n",
    "# mean model\n",
    "plt.plot(wave_grid, voigt_polynomial(wave_grid, **fit_pars), marker='', alpha=0.5)\n",
    "\n",
    "# full GP model\n",
    "gp_color = \"#ff7f0e\"\n",
    "plt.plot(wave_grid, mu, color=gp_color, marker='')\n",
    "plt.fill_between(wave_grid, mu+std, mu-std, color=gp_color, alpha=0.3, edgecolor=\"none\")"
   ]
  },
  {
   "cell_type": "markdown",
   "metadata": {},
   "source": [
    "Run `emcee` instead to sample over GP model parameters:"
   ]
  },
  {
   "cell_type": "code",
   "execution_count": null,
   "metadata": {
    "collapsed": true
   },
   "outputs": [],
   "source": [
    "def log_probability(params):\n",
    "    gp.set_parameter_vector(params)\n",
    "    lp = gp.log_prior()\n",
    "    if not np.isfinite(lp):\n",
    "        return -np.inf\n",
    "    \n",
    "#     if params[1] < -5:\n",
    "#         return -np.inf\n",
    "    # HACK:\n",
    "    var = 1.\n",
    "    lp += -0.5*(params[1]-1)**2/var - 0.5*np.log(2*np.pi*var)\n",
    "    \n",
    "    if params[4] < -10. or params[5] < -10.:\n",
    "        return -np.inf\n",
    "    \n",
    "    ll = gp.log_likelihood(flux_data)\n",
    "    if not np.isfinite(ll):\n",
    "        return -np.inf\n",
    "    \n",
    "    return ll + lp"
   ]
  },
  {
   "cell_type": "code",
   "execution_count": null,
   "metadata": {
    "collapsed": true
   },
   "outputs": [],
   "source": [
    "if fit_pars['std_G'] < 1E-2:\n",
    "    gp.freeze_parameter('mean:ln_std_G')"
   ]
  },
  {
   "cell_type": "code",
   "execution_count": null,
   "metadata": {},
   "outputs": [],
   "source": [
    "initial = np.array(gp.get_parameter_vector())\n",
    "if initial[4] < -10:\n",
    "    initial[4] = -8.\n",
    "if initial[5] < -10:\n",
    "    initial[5] = -8.\n",
    "ndim, nwalkers = len(initial), 64\n",
    "sampler = emcee.EnsembleSampler(nwalkers, ndim, log_probability)\n",
    "\n",
    "print(\"Running burn-in...\")\n",
    "p0 = initial + 1e-6 * np.random.randn(nwalkers, ndim)\n",
    "p0, lp, _ = sampler.run_mcmc(p0, 256)\n",
    "\n",
    "print(\"Running 2nd burn-in...\")\n",
    "sampler.reset()\n",
    "p0 = p0[lp.argmax()] + 1e-3 * np.random.randn(nwalkers, ndim)\n",
    "p0, lp, _ = sampler.run_mcmc(p0, 512)\n",
    "\n",
    "print(\"Running production...\")\n",
    "sampler.reset()\n",
    "pos, lp, _ = sampler.run_mcmc(p0, 512);"
   ]
  },
  {
   "cell_type": "code",
   "execution_count": null,
   "metadata": {},
   "outputs": [],
   "source": [
    "fig,axes = plt.subplots(2,4,figsize=(18,6))\n",
    "for i in range(sampler.dim):\n",
    "    for walker in sampler.chain[...,i]:\n",
    "        axes.flat[i].plot(walker, marker='', drawstyle='steps-mid', alpha=0.2)\n",
    "    axes.flat[i].set_title(gp.get_parameter_names()[i], fontsize=12)\n",
    "    fig.tight_layout()"
   ]
  },
  {
   "cell_type": "code",
   "execution_count": null,
   "metadata": {},
   "outputs": [],
   "source": [
    "fig,axes = plt.subplots(3, 1, figsize=(6,9), sharex=True)\n",
    "\n",
    "# plot some samples\n",
    "samples = sampler.flatchain\n",
    "for s in samples[np.random.randint(len(samples), size=32)]:\n",
    "    gp.set_parameter_vector(s)\n",
    "    \n",
    "    fit_pars = get_fit_pars(gp)\n",
    "    _mean_model = voigt_polynomial(wave_grid, **fit_pars)\n",
    "    axes[0].plot(wave_grid, _mean_model, \n",
    "                 marker='', alpha=0.25, color='#3182bd', zorder=-10)\n",
    "    \n",
    "    mu = gp.predict(flux_data, wave_grid, return_cov=False)\n",
    "    axes[1].plot(wave_grid, mu-_mean_model, color=gp_color, alpha=0.25, marker='')\n",
    "    axes[2].plot(wave_grid, mu, color='#756bb1', alpha=0.25, marker='')\n",
    "    \n",
    "axes[2].plot(wave_data, flux_data, drawstyle='steps-mid', marker='', zorder=-6)\n",
    "axes[2].errorbar(wave_data, flux_data, err_data,\n",
    "                 marker='', ls='none', ecolor='#666666', zorder=-10)\n",
    "\n",
    "axes[2].set_ylabel('flux')\n",
    "axes[2].set_xlabel(r'wavelength [$\\AA$]')\n",
    "axes[0].set_title('mean model (voigt + poly.)')\n",
    "axes[1].set_title('noise model (GP)')\n",
    "axes[2].set_title('full model')\n",
    "\n",
    "fig.tight_layout()\n",
    "fig.savefig('/Users/adrian/Downloads/spec_model_demo.png', dpi=256)"
   ]
  },
  {
   "cell_type": "code",
   "execution_count": null,
   "metadata": {},
   "outputs": [],
   "source": [
    "corner.corner(sampler.flatchain[::10, :], \n",
    "              labels=[x.split(':')[1] for x in gp.get_parameter_names()]);"
   ]
  },
  {
   "cell_type": "code",
   "execution_count": null,
   "metadata": {
    "collapsed": true
   },
   "outputs": [],
   "source": [
    "Halpha = 6562.8"
   ]
  },
  {
   "cell_type": "code",
   "execution_count": null,
   "metadata": {},
   "outputs": [],
   "source": [
    "MAD = np.median(np.abs(sampler.flatchain[:, 3] - np.median(sampler.flatchain[:, 3])))\n",
    "v_precision = 1.48 * MAD / Halpha * 300000. * u.km/u.s \n",
    "v_precision"
   ]
  },
  {
   "cell_type": "code",
   "execution_count": null,
   "metadata": {},
   "outputs": [],
   "source": [
    "np.median(sampler.flatchain[:, 3])"
   ]
  },
  {
   "cell_type": "code",
   "execution_count": null,
   "metadata": {},
   "outputs": [],
   "source": [
    "(np.median(sampler.flatchain[:, 3]) - Halpha) / Halpha * 300000. * u.km/u.s "
   ]
  },
  {
   "cell_type": "code",
   "execution_count": null,
   "metadata": {
    "collapsed": true
   },
   "outputs": [],
   "source": []
  },
  {
   "cell_type": "code",
   "execution_count": null,
   "metadata": {
    "collapsed": true
   },
   "outputs": [],
   "source": []
  }
 ],
 "metadata": {
  "anaconda-cloud": {},
  "kernelspec": {
   "display_name": "Python [conda env:comoving-rv]",
   "language": "python",
   "name": "conda-env-comoving-rv-py"
  },
  "language_info": {
   "codemirror_mode": {
    "name": "ipython",
    "version": 3
   },
   "file_extension": ".py",
   "mimetype": "text/x-python",
   "name": "python",
   "nbconvert_exporter": "python",
   "pygments_lexer": "ipython3",
   "version": "3.6.1"
  }
 },
 "nbformat": 4,
 "nbformat_minor": 2
}