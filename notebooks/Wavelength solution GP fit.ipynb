{
 "cells": [
  {
   "cell_type": "code",
   "execution_count": null,
   "metadata": {},
   "outputs": [],
   "source": [
    "import astropy.units as u\n",
    "from astropy.io import ascii\n",
    "from collections import OrderedDict\n",
    "import numpy as np\n",
    "from numpy.polynomial.polynomial import polyval\n",
    "import matplotlib.pyplot as plt\n",
    "plt.style.use('apw-notebook')\n",
    "%matplotlib inline\n",
    "from scipy.optimize import minimize\n",
    "from scipy.signal import argrelmin\n",
    "from comoving_rv.longslit.wavelength import fit_spec_line\n",
    "from comoving_rv.longslit.models import voigt_polynomial\n",
    "\n",
    "import celerite\n",
    "from celerite.modeling import Model\n",
    "from celerite import terms, GP"
   ]
  },
  {
   "cell_type": "code",
   "execution_count": null,
   "metadata": {},
   "outputs": [],
   "source": [
    "tbl = ascii.read(\"../data/mdm-spring-2017/processed/wavelength_guess.csv\")#[1:]\n",
    "# tbl.remove_row(np.argmin(np.abs(tbl['pixel']-506.84778)))\n",
    "tbl"
   ]
  },
  {
   "cell_type": "code",
   "execution_count": null,
   "metadata": {
    "collapsed": true
   },
   "outputs": [],
   "source": [
    "tbl[-4]['pixel'] = 506.849811006"
   ]
  },
  {
   "cell_type": "code",
   "execution_count": null,
   "metadata": {
    "collapsed": true
   },
   "outputs": [],
   "source": [
    "class MeanModel(Model):\n",
    "\n",
    "    def __init__(self, n_bg_coef, **p0):\n",
    "        self._n_bg_coef = n_bg_coef\n",
    "        self.parameter_names = ([\"a{}\".format(i) for i in range(n_bg_coef)])\n",
    "        super(MeanModel, self).__init__(**p0)\n",
    "\n",
    "    def get_value(self, x):\n",
    "        return polyval(x, np.atleast_1d([getattr(self, \"a{}\".format(i))\n",
    "                                         for i in range(self._n_bg_coef)]))"
   ]
  },
  {
   "cell_type": "code",
   "execution_count": null,
   "metadata": {
    "collapsed": true
   },
   "outputs": [],
   "source": [
    "med_x = np.median(tbl['pixel'])\n",
    "x = tbl['pixel'] - med_x\n",
    "y = tbl['wavelength']\n",
    "\n",
    "idx = np.argsort(x)\n",
    "x = x[idx]\n",
    "y = y[idx]"
   ]
  },
  {
   "cell_type": "code",
   "execution_count": null,
   "metadata": {
    "collapsed": true
   },
   "outputs": [],
   "source": [
    "# estimate background\n",
    "a1 = (y[-1]-y[0])/(x[-1]-x[0]) # slope\n",
    "a0 = y[-1] - a1*x[-1] # estimate constant term"
   ]
  },
  {
   "cell_type": "code",
   "execution_count": null,
   "metadata": {},
   "outputs": [],
   "source": [
    "# initialize model\n",
    "mean_model = MeanModel(n_bg_coef=2, a0=a0, a1=a1)\n",
    "kernel = terms.Matern32Term(log_sigma=np.log(1.), log_rho=np.log(10.)) # MAGIC NUMBERs\n",
    "\n",
    "# set up the gp model\n",
    "gp = celerite.GP(kernel, mean=mean_model, fit_mean=True)\n",
    "gp.compute(x, yerr=0.05) # need to do this\n",
    "init_params = gp.get_parameter_vector()\n",
    "print(\"Initial log-likelihood: {0}\".format(gp.log_likelihood(y)))"
   ]
  },
  {
   "cell_type": "code",
   "execution_count": null,
   "metadata": {
    "collapsed": true
   },
   "outputs": [],
   "source": [
    "# Define a cost function\n",
    "def neg_log_like(params, y, gp):\n",
    "    gp.set_parameter_vector(params)\n",
    "    ll = gp.log_likelihood(y)\n",
    "    if np.isnan(ll):\n",
    "        return np.inf\n",
    "    return -ll"
   ]
  },
  {
   "cell_type": "code",
   "execution_count": null,
   "metadata": {},
   "outputs": [],
   "source": [
    "# Fit for the maximum likelihood parameters\n",
    "bounds = gp.get_parameter_bounds()\n",
    "soln = minimize(neg_log_like, init_params, method=\"L-BFGS-B\",\n",
    "                bounds=bounds, args=(y, gp))\n",
    "gp.set_parameter_vector(soln.x)\n",
    "print(\"Success: {}, Final log-likelihood: {}\".format(soln.success, -soln.fun))"
   ]
  },
  {
   "cell_type": "code",
   "execution_count": null,
   "metadata": {},
   "outputs": [],
   "source": [
    "# Make the maximum likelihood prediction\n",
    "x_grid = np.linspace(x.min(), x.max(), 1024)\n",
    "mu, var = gp.predict(y, x_grid, return_var=True)\n",
    "std = np.sqrt(var)\n",
    "\n",
    "# Plot the maximum likelihood model\n",
    "fig,ax = plt.subplots(1, 1, figsize=(8,8))\n",
    "\n",
    "# data\n",
    "ax.scatter(x + med_x, y, marker='o')\n",
    "\n",
    "# mean model\n",
    "ax.plot(x_grid+med_x, mean_model.get_value(x_grid), marker='', alpha=0.5)\n",
    "\n",
    "# full GP model\n",
    "gp_color = \"#ff7f0e\"\n",
    "ax.plot(x_grid+med_x, mu, color=gp_color, marker='')\n",
    "ax.fill_between(x_grid+med_x, mu+std, mu-std, color=gp_color,\n",
    "                alpha=0.3, edgecolor=\"none\")\n",
    "\n",
    "ax.set_xlabel('pixel')\n",
    "ax.set_ylabel(r'wavelength [$\\AA$]')\n",
    "\n",
    "fig.tight_layout()"
   ]
  },
  {
   "cell_type": "code",
   "execution_count": null,
   "metadata": {},
   "outputs": [],
   "source": [
    "fit_par_dict = gp.get_parameter_dict()\n",
    "fit_par_dict"
   ]
  },
  {
   "cell_type": "code",
   "execution_count": null,
   "metadata": {},
   "outputs": [],
   "source": [
    "# pars = OrderedDict([('kernel:log_sigma', 1.35323184633239),\n",
    "#                     ('kernel:log_rho', 10.9297580415762852),\n",
    "#                     ('mean:a0', 6302.065931604905),\n",
    "#                     ('mean:a1', -2.061369375358967)])\n",
    "# gp.set_parameter_vector(list(pars.values()))\n",
    "\n",
    "# Make the maximum likelihood prediction\n",
    "# x_grid = np.linspace(x.min(), x.max(), 1024)\n",
    "x_grid = np.linspace(0, 1600, 1024)- med_x\n",
    "mu, var = gp.predict(y, x_grid, return_var=True)\n",
    "std = np.sqrt(var)\n",
    "\n",
    "_y_mean = mean_model.get_value(x)\n",
    "_mu_mean = mean_model.get_value(x_grid)\n",
    "\n",
    "# Plot the maximum likelihood model\n",
    "fig,ax = plt.subplots(1, 1, figsize=(8,8))\n",
    "\n",
    "# data\n",
    "ax.scatter(x + med_x, y - _y_mean, marker='o')\n",
    "\n",
    "# full GP model\n",
    "gp_color = \"#ff7f0e\"\n",
    "ax.plot(x_grid+med_x, mu - _mu_mean, color=gp_color, marker='')\n",
    "ax.fill_between(x_grid+med_x, mu+std-_mu_mean, mu-std-_mu_mean, color=gp_color,\n",
    "                alpha=0.3, edgecolor=\"none\")\n",
    "\n",
    "ax.set_xlabel('pixel')\n",
    "ax.set_ylabel(r'wavelength [$\\AA$]')\n",
    "\n",
    "fig.tight_layout()"
   ]
  },
  {
   "cell_type": "code",
   "execution_count": null,
   "metadata": {},
   "outputs": [],
   "source": [
    "# Make the maximum likelihood prediction\n",
    "x_grid = np.linspace(0, 1600, 1024)- med_x\n",
    "mu, var = gp.predict(y, x_grid, return_var=True)\n",
    "std = np.sqrt(var)\n",
    "\n",
    "y_mu, var = gp.predict(y, x, return_var=True)\n",
    "\n",
    "# Plot the maximum likelihood model\n",
    "fig,ax = plt.subplots(1, 1, figsize=(12,8))\n",
    "\n",
    "# data\n",
    "ax.scatter(x + med_x, y - y_mu, marker='o')\n",
    "\n",
    "# full GP model\n",
    "gp_color = \"#ff7f0e\"\n",
    "ax.plot(x_grid+med_x, mu-mu, color=gp_color, marker='')\n",
    "ax.fill_between(x_grid+med_x, std, -std, color=gp_color,\n",
    "                alpha=0.3, edgecolor=\"none\")\n",
    "\n",
    "ax.set_xlabel('pixel')\n",
    "ax.set_ylabel(r'wavelength residual [$\\AA$]')\n",
    "\n",
    "ax.set_ylim(-0.4, 0.4)\n",
    "ax.axvline(683., zorder=-10, color='#666666', alpha=0.5)\n",
    "\n",
    "ax2 = ax.twinx()\n",
    "ax2.set_ylim([x/6563*300000 for x in ax.get_ylim()])\n",
    "ax2.set_ylabel(r'velocity error at ${{\\rm H}}_\\alpha$ [{}]'.format((u.km/u.s).to_string(format='latex_inline')))\n",
    "\n",
    "fig.tight_layout()"
   ]
  },
  {
   "cell_type": "code",
   "execution_count": null,
   "metadata": {},
   "outputs": [],
   "source": [
    "mu,var = gp.predict(y, 815.-med_x, return_var=True)\n",
    "mu, np.sqrt(var), np.sqrt(var) / mu * 300000"
   ]
  },
  {
   "cell_type": "code",
   "execution_count": null,
   "metadata": {},
   "outputs": [],
   "source": [
    "mu,var = gp.predict(y, 687.63-med_x, return_var=True)\n",
    "mu, np.sqrt(var), np.sqrt(var) / mu * 300000"
   ]
  },
  {
   "cell_type": "code",
   "execution_count": null,
   "metadata": {},
   "outputs": [],
   "source": [
    "mu,var = gp.predict(y, 1172-med_x, return_var=True)\n",
    "mu, np.sqrt(var), np.sqrt(var) / mu * 300000"
   ]
  },
  {
   "cell_type": "code",
   "execution_count": null,
   "metadata": {
    "collapsed": true
   },
   "outputs": [],
   "source": []
  }
 ],
 "metadata": {
  "anaconda-cloud": {},
  "kernelspec": {
   "display_name": "Python [conda env:comoving-rv]",
   "language": "python",
   "name": "conda-env-comoving-rv-py"
  },
  "language_info": {
   "codemirror_mode": {
    "name": "ipython",
    "version": 3
   },
   "file_extension": ".py",
   "mimetype": "text/x-python",
   "name": "python",
   "nbconvert_exporter": "python",
   "pygments_lexer": "ipython3",
   "version": "3.6.1"
  }
 },
 "nbformat": 4,
 "nbformat_minor": 2
}