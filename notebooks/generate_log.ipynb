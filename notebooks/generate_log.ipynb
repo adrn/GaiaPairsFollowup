{
 "cells": [
  {
   "cell_type": "code",
   "execution_count": 1,
   "metadata": {
    "collapsed": true
   },
   "outputs": [],
   "source": [
    "%matplotlib inline\n",
    "import matplotlib.pyplot as plt\n",
    "import pandas as pd\n",
    "import numpy as np\n",
    "\n",
    "from astropy.table import Table\n",
    "import astropy.io.fits as fits"
   ]
  },
  {
   "cell_type": "code",
   "execution_count": 2,
   "metadata": {
    "collapsed": true
   },
   "outputs": [],
   "source": [
    "from glob import glob\n",
    "import os"
   ]
  },
  {
   "cell_type": "code",
   "execution_count": 3,
   "metadata": {
    "collapsed": false,
    "scrolled": false
   },
   "outputs": [],
   "source": [
    "rows = []\n",
    "for fn in glob(\"../nights_fixed/n[1-5]/*.fit\"):\n",
    "    d = dict(fits.getheader(fn))\n",
    "    d.update({\"fn\":os.path.basename(fn)})\n",
    "    rows.append(d)"
   ]
  },
  {
   "cell_type": "code",
   "execution_count": 4,
   "metadata": {
    "collapsed": false
   },
   "outputs": [],
   "source": [
    "df = pd.DataFrame(rows)"
   ]
  },
  {
   "cell_type": "code",
   "execution_count": 5,
   "metadata": {
    "collapsed": false,
    "scrolled": false
   },
   "outputs": [],
   "source": [
    "deletecolumns = ['BITPIX', 'BSCALE', 'BZERO', 'CCDBIN1', 'CCDBIN2', 'COMMENT',\n",
    "                 'GAIN', 'TIMESYS', 'TELESCOP', 'SECPIX1', 'SECPIX2', 'SIMPLE',\n",
    "                 'FILTPOS', 'FILTER', 'EXTEND', 'OBSERVAT', 'OBSERVER', 'INSTRUME']\n",
    "for key in deletecolumns: del df[key]"
   ]
  },
  {
   "cell_type": "code",
   "execution_count": 6,
   "metadata": {
    "collapsed": false
   },
   "outputs": [
    {
     "data": {
      "text/plain": [
       "Index(['AIRMASS', 'CCDPICNO', 'DATE-OBS', 'DEC', 'EQUINOX', 'EXPTIME',\n",
       "       'GPROBE', 'HA', 'IMAGETYP', 'IRAFNAME', 'JD', 'LAMPS', 'LATITUDE',\n",
       "       'LONGITUD', 'MIRROR', 'NAXIS', 'NAXIS1', 'NAXIS2', 'OBJECT', 'RA',\n",
       "       'ROTANGLE', 'ST', 'TELFOCUS', 'TIME-OBS', 'fn'],\n",
       "      dtype='object')"
      ]
     },
     "execution_count": 6,
     "metadata": {},
     "output_type": "execute_result"
    }
   ],
   "source": [
    "df.columns"
   ]
  },
  {
   "cell_type": "code",
   "execution_count": 7,
   "metadata": {
    "collapsed": true
   },
   "outputs": [],
   "source": [
    "import re"
   ]
  },
  {
   "cell_type": "code",
   "execution_count": 8,
   "metadata": {
    "collapsed": true
   },
   "outputs": [],
   "source": [
    "# NOTE: MT19 was actually not for us.\n",
    "def flagobject(OBJECT):\n",
    "    if bool(re.match(\"10-[\\d]+\", OBJECT)):\n",
    "        return 'g10'\n",
    "    elif bool(re.match(\"[0-9]+-[0-9]+\", OBJECT)):\n",
    "        return 'obj'\n",
    "    elif re.match(\"Bias|Flat|Hg-Ne-Ne|HgNe\\+Ne\", OBJECT):\n",
    "        return 'calib'\n",
    "    elif re.match(\"HIP[0-9]+|MS[0-9]+|G[0-9]+|HD[0-9]+|BD[+\\d]+|MT[\\d]+\", OBJECT):\n",
    "        return 'calibstar'\n",
    "    else:\n",
    "        raise ValueError(\"unknown object type {:s}\".format(OBJECT))"
   ]
  },
  {
   "cell_type": "code",
   "execution_count": 9,
   "metadata": {
    "collapsed": false
   },
   "outputs": [],
   "source": [
    "objtype = list(map(flagobject, df.OBJECT))\n",
    "df['objtype'] = objtype"
   ]
  },
  {
   "cell_type": "code",
   "execution_count": 11,
   "metadata": {
    "collapsed": false
   },
   "outputs": [
    {
     "data": {
      "text/plain": [
       "obj          685\n",
       "calib        149\n",
       "calibstar    132\n",
       "g10           51\n",
       "Name: objtype, dtype: int64"
      ]
     },
     "execution_count": 11,
     "metadata": {},
     "output_type": "execute_result"
    }
   ],
   "source": [
    "df.objtype.value_counts()"
   ]
  },
  {
   "cell_type": "code",
   "execution_count": 12,
   "metadata": {
    "collapsed": true
   },
   "outputs": [],
   "source": [
    "df.to_csv(\"../data/observed.csv\")"
   ]
  }
 ],
 "metadata": {
  "anaconda-cloud": {},
  "kernelspec": {
   "display_name": "Python [conda env:gwb]",
   "language": "python",
   "name": "conda-env-gwb-py"
  },
  "language_info": {
   "codemirror_mode": {
    "name": "ipython",
    "version": 3
   },
   "file_extension": ".py",
   "mimetype": "text/x-python",
   "name": "python",
   "nbconvert_exporter": "python",
   "pygments_lexer": "ipython3",
   "version": "3.5.2"
  }
 },
 "nbformat": 4,
 "nbformat_minor": 2
}
