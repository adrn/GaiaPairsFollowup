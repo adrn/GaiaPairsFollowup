{
 "cells": [
  {
   "cell_type": "code",
   "execution_count": 2,
   "metadata": {
    "collapsed": false
   },
   "outputs": [],
   "source": [
    "%matplotlib inline\n",
    "import matplotlib.pyplot as plt\n",
    "import pandas as pd\n",
    "import numpy as np\n",
    "\n",
    "from astropy.table import Table"
   ]
  },
  {
   "cell_type": "code",
   "execution_count": 2,
   "metadata": {
    "collapsed": false
   },
   "outputs": [],
   "source": [
    "plt.style.use(\"fivethirtyeight\")"
   ]
  },
  {
   "cell_type": "markdown",
   "metadata": {},
   "source": [
    "* `data/star_rv.csv`\n",
    "\n",
    "All RV measurements for all stars are compiled from Simbad using TAP Service using the following query:\n",
    "\n",
    "```\n",
    "SELECT t.name, bibcode, nbmes, obsdate, qual, quality,\n",
    "    velType, velValue, velValue_prec, remark, remarks, ident.oidref\n",
    "FROM TAP_UPLOAD.mytable as t JOIN ident ON t.name = ident.id\n",
    "JOIN mesVelocities ON mesVelocities.oidref = ident.oidref\n",
    "```\n",
    "where I upload a table of one column of hipparcos or tycho2 id strings.\n",
    "\n",
    "* `data/observed.csv`\n",
    "\n",
    "Extracted header info of all observed stars (see `generate_log.ipynb`)\n",
    "\n",
    "* `data/star_identifier.csv` contains three columns\n",
    "    - row_id : row index in star catalog\n",
    "    - tgas_row : row index in stacked tgas catalog\n",
    "    - name : hip or tyc name (str)"
   ]
  },
  {
   "cell_type": "code",
   "execution_count": 7,
   "metadata": {
    "collapsed": false
   },
   "outputs": [],
   "source": [
    "dfstar = pd.read_csv(\"../data/star_identifier.csv\")\n",
    "dfobs = pd.read_csv(\"../data/observed.csv\")\n",
    "dfrv = pd.read_csv(\"../data/star_rv.csv\")"
   ]
  },
  {
   "cell_type": "code",
   "execution_count": 10,
   "metadata": {
    "collapsed": false
   },
   "outputs": [
    {
     "name": "stdout",
     "output_type": "stream",
     "text": [
      "685\n"
     ]
    }
   ],
   "source": [
    "objs = dfobs.groupby(\"objtype\").get_group(\"obj\")\n",
    "print(len(objs))"
   ]
  },
  {
   "cell_type": "code",
   "execution_count": 14,
   "metadata": {
    "collapsed": false
   },
   "outputs": [],
   "source": [
    "dfobs.loc[dfobs.objtype=='obj', 'row_id'] = \\\n",
    "    [int(s.split(\"-\")[1]) for s in objs.OBJECT.loc[dfobs.objtype=='obj']]"
   ]
  },
  {
   "cell_type": "code",
   "execution_count": 20,
   "metadata": {
    "collapsed": false
   },
   "outputs": [],
   "source": [
    "obsrv = pd.merge(\n",
    "    dfobs,\n",
    "    pd.merge(dfrv, dfstar, left_on='name', right_on='name', how='left'),\n",
    "    how='left')"
   ]
  },
  {
   "cell_type": "code",
   "execution_count": 26,
   "metadata": {
    "collapsed": false
   },
   "outputs": [
    {
     "data": {
      "text/plain": [
       "A    7\n",
       "B    4\n",
       "C    2\n",
       "Name: quality, dtype: int64"
      ]
     },
     "execution_count": 26,
     "metadata": {},
     "output_type": "execute_result"
    }
   ],
   "source": [
    "# quality counts for obeserved ta\n",
    "obsrv.quality.value_counts()"
   ]
  }
 ],
 "metadata": {
  "anaconda-cloud": {},
  "kernelspec": {
   "display_name": "Python [conda env:gwb]",
   "language": "python",
   "name": "conda-env-gwb-py"
  },
  "language_info": {
   "codemirror_mode": {
    "name": "ipython",
    "version": 3
   },
   "file_extension": ".py",
   "mimetype": "text/x-python",
   "name": "python",
   "nbconvert_exporter": "python",
   "pygments_lexer": "ipython3",
   "version": "3.5.2"
  }
 },
 "nbformat": 4,
 "nbformat_minor": 2
}
