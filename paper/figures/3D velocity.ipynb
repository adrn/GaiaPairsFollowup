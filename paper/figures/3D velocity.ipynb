{
 "cells": [
  {
   "cell_type": "code",
   "execution_count": null,
   "metadata": {},
   "outputs": [],
   "source": [
    "from os import path\n",
    "\n",
    "# Third-party\n",
    "from astropy.table import Table\n",
    "import astropy.coordinates as coord\n",
    "import astropy.units as u\n",
    "from astropy.constants import G, c\n",
    "import matplotlib.pyplot as plt\n",
    "from matplotlib.colors import Normalize\n",
    "import numpy as np\n",
    "plt.style.use('apw-notebook')\n",
    "%matplotlib inline\n",
    "\n",
    "import corner\n",
    "import emcee\n",
    "from scipy.integrate import quad\n",
    "from scipy.misc import logsumexp\n",
    "import schwimmbad\n",
    "import tqdm\n",
    "\n",
    "from comoving_rv.log import logger\n",
    "from comoving_rv.db import Session, Base, db_connect\n",
    "from comoving_rv.db.model import (Run, Observation, TGASSource, SimbadInfo, PriorRV,\n",
    "                                  SpectralLineInfo, SpectralLineMeasurement, RVMeasurement)"
   ]
  },
  {
   "cell_type": "code",
   "execution_count": null,
   "metadata": {},
   "outputs": [],
   "source": [
    "base_path = '/Volumes/ProjectData/gaia-comoving-followup/'\n",
    "db_path = path.join(base_path, 'db.sqlite')\n",
    "engine = db_connect(db_path)\n",
    "session = Session()"
   ]
  },
  {
   "cell_type": "code",
   "execution_count": null,
   "metadata": {
    "collapsed": true
   },
   "outputs": [],
   "source": [
    "def get_y_hat(tgas_source, names=['ra', 'dec', 'parallax', 'pmra', 'pmdec'], units=None):\n",
    "    y = np.zeros(len(names))\n",
    "        \n",
    "    default_units = dict()\n",
    "    default_units['ra'] = u.degree\n",
    "    default_units['dec'] = u.degree\n",
    "    default_units['parallax'] = u.mas\n",
    "    default_units['pmra'] = u.mas/u.yr\n",
    "    default_units['pmdec'] = u.mas/u.yr\n",
    "    default_units['rv'] = u.km/u.s\n",
    "    \n",
    "    if units is None:\n",
    "        units = [default_units[name] for name in names]\n",
    "    \n",
    "    for i,name in enumerate(names):\n",
    "        v = getattr(tgas_source, name)\n",
    "        if name in ['ra', 'dec']:\n",
    "            v = v.to(u.degree).value\n",
    "        y[i] = (v*default_units[name]).to(units[i]).value\n",
    "    \n",
    "    return y"
   ]
  },
  {
   "cell_type": "code",
   "execution_count": null,
   "metadata": {
    "collapsed": true
   },
   "outputs": [],
   "source": [
    "def get_cov(tgas_source, names=['ra', 'dec', 'parallax', 'pmra', 'pmdec'], units=None):\n",
    "    \n",
    "    default_err_units = dict()\n",
    "    default_err_units['ra'] = u.mas\n",
    "    default_err_units['dec'] = u.mas\n",
    "    default_err_units['parallax'] = u.mas\n",
    "    default_err_units['pmra'] = u.mas/u.yr\n",
    "    default_err_units['pmdec'] = u.mas/u.yr\n",
    "    default_err_units['rv'] = u.km/u.s\n",
    "    \n",
    "    if units is None:\n",
    "        units = [default_err_units[name] for name in names]\n",
    "    \n",
    "    C = np.zeros((len(names), len(names)))\n",
    "\n",
    "    # pre-load the diagonal\n",
    "    for i,name in enumerate(names):\n",
    "        full_name = \"{}_error\".format(name)\n",
    "        C[i,i] = (getattr(tgas_source, full_name)*default_err_units[name]).to(units[i]).value**2\n",
    "\n",
    "    for i,name1 in enumerate(names):\n",
    "        for j,name2 in enumerate(names):\n",
    "            if j <= i:\n",
    "                continue\n",
    "                \n",
    "            if not hasattr(tgas_source, full_name): # skip if no correlations exist\n",
    "                continue\n",
    "                \n",
    "            full_name = \"{}_{}_corr\".format(name1, name2)\n",
    "            u_old = default_err_units[name1]*default_err_units[name2]\n",
    "            u_new = units[i]*units[j]\n",
    "            C[i,j] = (getattr(tgas_source, full_name) * np.sqrt(C[i,i]*C[j,j]) * u_old).to(u_new).value\n",
    "            C[j,i] = (getattr(tgas_source, full_name) * np.sqrt(C[i,i]*C[j,j]) * u_old).to(u_new).value\n",
    "            \n",
    "    return C"
   ]
  },
  {
   "cell_type": "code",
   "execution_count": null,
   "metadata": {},
   "outputs": [],
   "source": [
    "def get_icrs_cartesian(obs, n_samples=2**16):\n",
    "    names = ['ra', 'dec', 'parallax', 'pmra', 'pmdec']\n",
    "    units = [u.mas, u.mas, u.mas, u.mas/u.yr, u.mas/u.yr]\n",
    "\n",
    "    y_hat = np.zeros(6)\n",
    "    C = np.zeros((6,6))\n",
    "\n",
    "    y_hat[:5] = get_y_hat(obs.tgas_source, names=names, units=units)\n",
    "    C[:5,:5] = get_cov(obs.tgas_source, names=names, units=units)\n",
    "    \n",
    "    # Use the corrected, derived value\n",
    "    y_hat[5] = obs.rv_measurement.rv.value\n",
    "    C[5,5] = obs.rv_measurement.err.value**2\n",
    "    \n",
    "    # Use the raw, pseudovalue\n",
    "#     y_hat[5] = (obs.measurements[0].x0 - 6563.)/6563 * c.to(u.km/u.s).value\n",
    "#     C[5,5] = (obs.measurements[0].x0_error/6563 * c.to(u.km/u.s).value)**2\n",
    "\n",
    "    ys = np.random.multivariate_normal(y_hat, C, size=n_samples)\n",
    "\n",
    "    icrs = coord.ICRS(ra=ys[:,0]*u.mas, dec=ys[:,1]*u.mas, distance=1000./ys[:,2]*u.pc,\n",
    "                      pm_ra_cosdec=ys[:,3]*u.mas/u.yr, pm_dec=ys[:,4]*u.mas/u.yr,\n",
    "                      radial_velocity=ys[:,5]*u.km/u.s)\n",
    "\n",
    "    icrs.set_representation_cls(coord.CartesianRepresentation,\n",
    "                                coord.CartesianDifferential)\n",
    "    \n",
    "    return icrs"
   ]
  },
  {
   "cell_type": "code",
   "execution_count": null,
   "metadata": {},
   "outputs": [],
   "source": [
    "group_ids = np.array([x[0] \n",
    "                      for x in session.query(Observation.group_id).distinct().all() \n",
    "                      if x[0] is not None and x[0] > 0 and x[0] != 10])"
   ]
  },
  {
   "cell_type": "code",
   "execution_count": null,
   "metadata": {},
   "outputs": [],
   "source": [
    "base_q = session.query(Observation).join(RVMeasurement).filter(RVMeasurement.rv != None)\n",
    "\n",
    "i = 0\n",
    "for gid in np.unique(group_ids):\n",
    "    observations = base_q.filter(Observation.group_id == gid).all()\n",
    "    \n",
    "    if len(observations) != 2:\n",
    "        print(\"skipping group {0}\".format(gid))\n",
    "        continue\n",
    "        \n",
    "    obs1, obs2 = observations\n",
    "    \n",
    "    icrs1 = get_icrs_cartesian(obs1)\n",
    "    icrs2 = get_icrs_cartesian(obs2)\n",
    "    \n",
    "    if i == 4:\n",
    "        break\n",
    "        \n",
    "    i += 1"
   ]
  },
  {
   "cell_type": "code",
   "execution_count": null,
   "metadata": {},
   "outputs": [],
   "source": [
    "dx = coord.CartesianDifferential(icrs1.cartesian.xyz - icrs2.cartesian.xyz)\n",
    "dv = coord.CartesianDifferential(icrs1.cartesian.differentials['s'].d_xyz - \n",
    "                                 icrs2.cartesian.differentials['s'].d_xyz)"
   ]
  },
  {
   "cell_type": "code",
   "execution_count": null,
   "metadata": {},
   "outputs": [],
   "source": [
    "dv_random = np.random.normal(np.zeros(3), np.full(3, 25.), size=(2**16,3))"
   ]
  },
  {
   "cell_type": "code",
   "execution_count": null,
   "metadata": {},
   "outputs": [],
   "source": [
    "_ = corner.corner(dv.d_xyz.T.value)"
   ]
  },
  {
   "cell_type": "code",
   "execution_count": null,
   "metadata": {},
   "outputs": [],
   "source": [
    "fig = corner.corner(dv_random, color='#aaaaaa')\n",
    "fig = corner.corner(dv.d_xyz.T.value, fig=fig, \n",
    "                    range=[(-75, 75), (-75, 75), (-75, 75)],\n",
    "                    bins=64)"
   ]
  },
  {
   "cell_type": "code",
   "execution_count": null,
   "metadata": {
    "collapsed": true
   },
   "outputs": [],
   "source": []
  },
  {
   "cell_type": "code",
   "execution_count": null,
   "metadata": {
    "collapsed": true
   },
   "outputs": [],
   "source": []
  }
 ],
 "metadata": {
  "anaconda-cloud": {},
  "kernelspec": {
   "display_name": "Python [conda env:comoving-rv]",
   "language": "python",
   "name": "conda-env-comoving-rv-py"
  },
  "language_info": {
   "codemirror_mode": {
    "name": "ipython",
    "version": 3
   },
   "file_extension": ".py",
   "mimetype": "text/x-python",
   "name": "python",
   "nbconvert_exporter": "python",
   "pygments_lexer": "ipython3",
   "version": "3.6.1"
  }
 },
 "nbformat": 4,
 "nbformat_minor": 2
}