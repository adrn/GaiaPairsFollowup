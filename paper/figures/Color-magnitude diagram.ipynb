{
 "cells": [
  {
   "cell_type": "code",
   "execution_count": null,
   "metadata": {
    "collapsed": true
   },
   "outputs": [],
   "source": [
    "from os import path\n",
    "import astropy.coordinates as coord\n",
    "from astropy.io import fits\n",
    "import astropy.units as u\n",
    "import numpy as np\n",
    "import matplotlib.pyplot as plt\n",
    "from cycler import cycler\n",
    "plt.style.use('apw-notebook')\n",
    "%matplotlib inline\n",
    "from sqlalchemy import func\n",
    "from scipy.ndimage import gaussian_filter\n",
    "\n",
    "from comoving_rv.db import Session, Base, db_connect\n",
    "from comoving_rv.db.model import (Run, Observation, TGASSource, SimbadInfo,\n",
    "                                  SpectralLineInfo, SpectralLineMeasurement)"
   ]
  },
  {
   "cell_type": "code",
   "execution_count": null,
   "metadata": {
    "collapsed": true
   },
   "outputs": [],
   "source": [
    "base_path = '/Volumes/ProjectData/gaia-comoving-followup/'\n",
    "db_path = path.join(base_path, 'db.sqlite')\n",
    "engine = db_connect(db_path)\n",
    "session = Session()"
   ]
  },
  {
   "cell_type": "code",
   "execution_count": null,
   "metadata": {
    "collapsed": true
   },
   "outputs": [],
   "source": [
    "def get_abs_mag(mag, parallax, parallax_error):\n",
    "    # parallax in mas\n",
    "    SNR = parallax / parallax_error\n",
    "    dist = coord.Distance(1000. * (parallax/2 * (1 + np.sqrt(1 - 16/SNR**2)))**(-1) * u.pc)\n",
    "    mu = dist.distmod\n",
    "    M = mag - mu.value\n",
    "    return M"
   ]
  },
  {
   "cell_type": "code",
   "execution_count": null,
   "metadata": {},
   "outputs": [],
   "source": [
    "tmass = fits.getdata('../../data/tgas_2mass_partial_j.fits.gz')"
   ]
  },
  {
   "cell_type": "code",
   "execution_count": null,
   "metadata": {},
   "outputs": [],
   "source": [
    "group_ids = session.query(Observation.group_id).join(Run).filter(Run.name == 'mdm-spring-2017')\\\n",
    "                   .filter((Observation.group_id != None) & \n",
    "                           (Observation.group_id != 0) & \n",
    "                           (Observation.group_id != 10))\\\n",
    "                   .filter(TGASSource.J != None)\\\n",
    "                   .group_by(Observation.group_id)\\\n",
    "                   .having(func.length(Observation.id) > 1)\\\n",
    "                   .distinct().all()\n",
    "group_ids = [x[0] for x in group_ids]\n",
    "len(group_ids)"
   ]
  },
  {
   "cell_type": "code",
   "execution_count": null,
   "metadata": {},
   "outputs": [],
   "source": [
    "color_mag = dict()\n",
    "for gid in group_ids:\n",
    "    group = session.query(Observation).join(Run).filter(Run.name == 'mdm-spring-2017')\\\n",
    "                   .filter(Observation.group_id == gid).all()\n",
    "    \n",
    "    color_mag[gid] = {'G-J': [], \n",
    "                      'M_G': []}\n",
    "    for member in group:\n",
    "        src = member.tgas_source\n",
    "        G = src.phot_g_mean_mag\n",
    "        J = src.J\n",
    "        \n",
    "        if G is None or J is None:\n",
    "            del color_mag[gid]\n",
    "            break\n",
    "        \n",
    "        M_G = get_abs_mag(G, src.parallax, src.parallax_error)\n",
    "        \n",
    "        color_mag[gid]['G-J'].append(G - J)\n",
    "        color_mag[gid]['M_G'].append(M_G)\n",
    "    \n",
    "    if gid in color_mag and len(color_mag[gid]['G-J']) < 2:\n",
    "        del color_mag[gid]\n",
    "        \n",
    "for gid in group_ids:\n",
    "    if gid not in color_mag: continue\n",
    "        \n",
    "    for k in color_mag[gid].keys():\n",
    "        color_mag[gid][k] = np.array(color_mag[gid][k])"
   ]
  },
  {
   "cell_type": "code",
   "execution_count": null,
   "metadata": {},
   "outputs": [],
   "source": [
    "tmass.dtype"
   ]
  },
  {
   "cell_type": "code",
   "execution_count": null,
   "metadata": {
    "collapsed": true
   },
   "outputs": [],
   "source": [
    "M_G_all = get_abs_mag(tmass['phot_g_mean_mag'], tmass['parallax'], tmass['parallax_error'])\n",
    "G_J_all = tmass['phot_g_mean_mag'] - tmass['j_m']\n",
    "\n",
    "xbins = np.arange(-0.1, 2.3+0.01, 0.02)\n",
    "ybins = np.arange(-0.5, 8.5+0.01, 0.02)\n",
    "H,xedges,yedges = np.histogram2d(G_J_all, M_G_all, bins=(xbins, ybins))"
   ]
  },
  {
   "cell_type": "code",
   "execution_count": null,
   "metadata": {
    "collapsed": true
   },
   "outputs": [],
   "source": [
    "colors = ['#fdae61', '#7f5abf', '#1a9641', '#d7191c']"
   ]
  },
  {
   "cell_type": "code",
   "execution_count": null,
   "metadata": {},
   "outputs": [],
   "source": [
    "fig,ax = plt.subplots(1, 1, figsize=(6,6))\n",
    "\n",
    "H = gaussian_filter(H, 1.)\n",
    "ax.pcolormesh(xedges, yedges, np.log(H.T+1.), cmap='Blues')\n",
    "\n",
    "ax.set_prop_cycle(cycler('color', colors))\n",
    "for gid, d in color_mag.items():\n",
    "    ax.plot(d['G-J'], d['M_G'], marker='', \n",
    "            linestyle='-', alpha=0.65, zorder=1) # color='#e34a33',\n",
    "    ax.plot(d['G-J'], d['M_G'], marker='.', \n",
    "            linestyle='', alpha=1., color='k', zorder=10, markersize=3)\n",
    "\n",
    "ax.set_xlim(-0.1, 2.3)\n",
    "ax.set_ylim(8.5, -0.5)\n",
    "\n",
    "ax.set_xlabel('$G-J$ [mag]')\n",
    "# ax.set_ylabel('$G - 5(\\log\\hat{d}-1)$ [mag]')\n",
    "ax.set_ylabel('$M_G$ [mag]')\n",
    "\n",
    "fig.savefig('sample_cmd.pdf')"
   ]
  },
  {
   "cell_type": "code",
   "execution_count": null,
   "metadata": {
    "collapsed": true
   },
   "outputs": [],
   "source": []
  }
 ],
 "metadata": {
  "anaconda-cloud": {},
  "kernelspec": {
   "display_name": "Python [conda env:comoving-rv]",
   "language": "python",
   "name": "conda-env-comoving-rv-py"
  },
  "language_info": {
   "codemirror_mode": {
    "name": "ipython",
    "version": 3
   },
   "file_extension": ".py",
   "mimetype": "text/x-python",
   "name": "python",
   "nbconvert_exporter": "python",
   "pygments_lexer": "ipython3",
   "version": "3.6.1"
  }
 },
 "nbformat": 4,
 "nbformat_minor": 2
}