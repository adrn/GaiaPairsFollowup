{
 "cells": [
  {
   "cell_type": "code",
   "execution_count": null,
   "metadata": {
    "collapsed": true
   },
   "outputs": [],
   "source": [
    "from os import path\n",
    "import astropy.coordinates as coord\n",
    "from astropy.io import fits\n",
    "import astropy.units as u\n",
    "import numpy as np\n",
    "import matplotlib.pyplot as plt\n",
    "from cycler import cycler\n",
    "from itertools import cycle\n",
    "plt.style.use('apw-notebook')\n",
    "%matplotlib inline\n",
    "import sqlalchemy\n",
    "from sqlalchemy import func\n",
    "from scipy.ndimage import gaussian_filter\n",
    "\n",
    "from comoving_rv.db import Session, Base, db_connect\n",
    "from comoving_rv.db.model import (Run, Observation, TGASSource, SimbadInfo, GroupToObservations,\n",
    "                                  SpectralLineInfo, SpectralLineMeasurement, RVMeasurement)"
   ]
  },
  {
   "cell_type": "code",
   "execution_count": null,
   "metadata": {
    "collapsed": true
   },
   "outputs": [],
   "source": [
    "_color_cycler = cycler('color', ['#ea8b2c', '#7f5abf', '#1a9641', '#d7191c'])\n",
    "color_cycler = cycle(_color_cycler)"
   ]
  },
  {
   "cell_type": "code",
   "execution_count": null,
   "metadata": {},
   "outputs": [],
   "source": [
    "# base_path = '/Volumes/ProjectData/gaia-comoving-followup/'\n",
    "base_path = '../../data/'\n",
    "db_path = path.join(base_path, 'db.sqlite')\n",
    "engine = db_connect(db_path)\n",
    "session = Session()"
   ]
  },
  {
   "cell_type": "code",
   "execution_count": null,
   "metadata": {
    "collapsed": true
   },
   "outputs": [],
   "source": [
    "def get_abs_mag(mag, parallax, parallax_error):\n",
    "    # parallax in mas\n",
    "    SNR = parallax / parallax_error\n",
    "    dist = coord.Distance(1000. * (parallax/2 * (1 + np.sqrt(1 - 16/SNR**2)))**(-1) * u.pc)\n",
    "    mu = dist.distmod\n",
    "    M = mag - mu.value\n",
    "    return M"
   ]
  },
  {
   "cell_type": "code",
   "execution_count": null,
   "metadata": {
    "collapsed": true
   },
   "outputs": [],
   "source": [
    "tmass = fits.getdata('../../data/tgas_2mass_partial_j.fits.gz')"
   ]
  },
  {
   "cell_type": "code",
   "execution_count": null,
   "metadata": {},
   "outputs": [],
   "source": [
    "group_ids = session.query(Observation.group_id).join(Run).filter(Run.name == 'mdm-spring-2017')\\\n",
    "                   .filter((Observation.group_id != None) & \n",
    "                           (Observation.group_id != 0) & \n",
    "                           (Observation.group_id != 10))\\\n",
    "                   .distinct().all()\n",
    "group_ids = [x[0] for x in group_ids]\n",
    "len(group_ids)"
   ]
  },
  {
   "cell_type": "code",
   "execution_count": null,
   "metadata": {
    "collapsed": true
   },
   "outputs": [],
   "source": [
    "def get_color_mag(group_ids):\n",
    "    base_q = session.query(Observation).join(RVMeasurement).filter(RVMeasurement.rv != None)\n",
    "    \n",
    "    color_mag = dict()\n",
    "    for gid in group_ids:\n",
    "        try:\n",
    "            gto = session.query(GroupToObservations).filter(GroupToObservations.group_id == gid).one()\n",
    "            obs1 = base_q.filter(Observation.id == gto.observation1_id).one()\n",
    "            obs2 = base_q.filter(Observation.id == gto.observation2_id).one()\n",
    "        except sqlalchemy.orm.exc.NoResultFound:\n",
    "            print('Skipping group {0}'.format(gid))\n",
    "        \n",
    "        G_Js = []\n",
    "        M_Gs = []\n",
    "        for obs in [obs1, obs2]:\n",
    "            G = obs.tgas_source.phot_g_mean_mag\n",
    "            J = obs.tgas_source.J\n",
    "            if G is None or J is None:\n",
    "                break\n",
    "            \n",
    "            G_Js.append(G-J)\n",
    "            M_Gs.append(get_abs_mag(G, obs.tgas_source.parallax, \n",
    "                                    obs.tgas_source.parallax_error))\n",
    "        \n",
    "        else:\n",
    "            color_mag[gid] = {'G-J': np.array(G_Js), 'M_G': np.array(M_Gs)}\n",
    "    \n",
    "    return color_mag"
   ]
  },
  {
   "cell_type": "code",
   "execution_count": null,
   "metadata": {},
   "outputs": [],
   "source": [
    "color_mag_all = get_color_mag(group_ids)"
   ]
  },
  {
   "cell_type": "code",
   "execution_count": null,
   "metadata": {
    "collapsed": true
   },
   "outputs": [],
   "source": [
    "M_G_all = get_abs_mag(tmass['phot_g_mean_mag'], tmass['parallax'], tmass['parallax_error'])\n",
    "G_J_all = tmass['phot_g_mean_mag'] - tmass['j_m']\n",
    "\n",
    "xbins = np.arange(-0.1, 2.3+0.01, 0.02)\n",
    "ybins = np.arange(-0.5, 8.5+0.01, 0.04)\n",
    "# xbins = np.arange(-0.1, 2.3+0.01, 0.1)\n",
    "# ybins = np.arange(-0.5, 8.5+0.01, 0.2)\n",
    "H,xedges,yedges = np.histogram2d(G_J_all, M_G_all, bins=(xbins, ybins))\n",
    "H = gaussian_filter(H, 1.5)"
   ]
  },
  {
   "cell_type": "code",
   "execution_count": null,
   "metadata": {},
   "outputs": [],
   "source": [
    "derp = np.log(H.T+1.).ravel()\n",
    "plt.hist(np.arctan(derp))"
   ]
  },
  {
   "cell_type": "code",
   "execution_count": null,
   "metadata": {},
   "outputs": [],
   "source": [
    "plt.pcolormesh(xedges, yedges, np.arctan(np.log(H.T+1.)), \n",
    "               cmap='Blues', linewidth=0, rasterized=True, \n",
    "               alpha=1, edgecolors='None', vmin=0.2, vmax=2.75)"
   ]
  },
  {
   "cell_type": "code",
   "execution_count": null,
   "metadata": {
    "collapsed": true
   },
   "outputs": [],
   "source": [
    "def plot_cmd(color_mag, group_to_color=None, title='', markersize=4):\n",
    "    \n",
    "    fig,ax = plt.subplots(1, 1, figsize=(6.5,7))\n",
    "\n",
    "    ax.pcolormesh(xedges, yedges, np.arctan(np.log(H.T+1.)), \n",
    "                  cmap='Blues', linewidth=0, rasterized=True, \n",
    "                  alpha=1, vmin=0.2, vmax=3.5)\n",
    "    \n",
    "    if group_to_color is None:\n",
    "        group_to_color = dict()\n",
    "        \n",
    "    for gid, d in color_mag.items():\n",
    "        color = group_to_color.get(gid, next(color_cycler)['color'])\n",
    "        \n",
    "        l, = ax.plot(d['G-J'], d['M_G'], marker='', linewidth=1.,\n",
    "                     linestyle='-', alpha=0.65, zorder=1, color=color) \n",
    "        group_to_color[gid] = color\n",
    "        \n",
    "        ax.plot(d['G-J'], d['M_G'], marker='.', \n",
    "                linestyle='', alpha=1., color='k', zorder=10, \n",
    "                markersize=markersize)\n",
    "\n",
    "    ax.set_xlim(-0.1, 2.3)\n",
    "    ax.set_ylim(8.5, -0.5)\n",
    "\n",
    "    ax.set_xlabel('$G-J$ [mag]')\n",
    "    # ax.set_ylabel('$G - 5(\\log\\hat{d}-1)$ [mag]')\n",
    "    ax.set_ylabel('$M_G$ [mag]')\n",
    "    \n",
    "    if title:\n",
    "        ax.set_title(title, fontsize=22)\n",
    "        \n",
    "    fig.tight_layout()\n",
    "    \n",
    "    return fig, group_to_color"
   ]
  },
  {
   "cell_type": "code",
   "execution_count": null,
   "metadata": {},
   "outputs": [],
   "source": [
    "fig, group_to_color = plot_cmd(color_mag_all, title='All observed candidate comoving pairs')\n",
    "fig.savefig('sample_cmd.pdf', dpi=300)"
   ]
  },
  {
   "cell_type": "code",
   "execution_count": null,
   "metadata": {
    "collapsed": true
   },
   "outputs": [],
   "source": [
    "delta_M_G_all = []\n",
    "for k in color_mag_all:\n",
    "    delta_M_G_all.append(abs(color_mag_all[k]['M_G'][0] - color_mag_all[k]['M_G'][1]))"
   ]
  },
  {
   "cell_type": "markdown",
   "metadata": {
    "collapsed": true
   },
   "source": [
    "---\n",
    "\n",
    "Now, just the ones that we qualify as genuine:"
   ]
  },
  {
   "cell_type": "code",
   "execution_count": null,
   "metadata": {
    "collapsed": true
   },
   "outputs": [],
   "source": [
    "from astropy.table import Table"
   ]
  },
  {
   "cell_type": "code",
   "execution_count": null,
   "metadata": {
    "collapsed": true
   },
   "outputs": [],
   "source": [
    "tbl = Table.read('group_llr_dv_tbl.ecsv', format='ascii.ecsv')"
   ]
  },
  {
   "cell_type": "code",
   "execution_count": null,
   "metadata": {
    "collapsed": true
   },
   "outputs": [],
   "source": [
    "genuine = tbl['R_RV'] > tbl['R_mu']\n",
    "color_mag_genuine = get_color_mag(tbl['group_id'][genuine])"
   ]
  },
  {
   "cell_type": "code",
   "execution_count": null,
   "metadata": {
    "collapsed": true
   },
   "outputs": [],
   "source": [
    "delta_M_G_genuine = []\n",
    "for k in color_mag_genuine:\n",
    "    delta_M_G_genuine.append(abs(color_mag_genuine[k]['M_G'][0] - color_mag_genuine[k]['M_G'][1]))"
   ]
  },
  {
   "cell_type": "code",
   "execution_count": null,
   "metadata": {},
   "outputs": [],
   "source": [
    "fig,_ = plot_cmd(color_mag_genuine, group_to_color=group_to_color, \n",
    "                 title='Confirmed comoving pairs')\n",
    "fig.savefig('genuine_cmd.pdf', dpi=300)"
   ]
  },
  {
   "cell_type": "code",
   "execution_count": null,
   "metadata": {},
   "outputs": [],
   "source": [
    "_,bins,_ = plt.hist(delta_M_G_all, bins='auto', normed=True, alpha=0.4)\n",
    "plt.hist(delta_M_G_genuine, bins=bins, normed=True, alpha=0.4);"
   ]
  },
  {
   "cell_type": "markdown",
   "metadata": {},
   "source": [
    "Now just the RAVE genuine"
   ]
  },
  {
   "cell_type": "code",
   "execution_count": null,
   "metadata": {
    "collapsed": true
   },
   "outputs": [],
   "source": [
    "from gwb.data import TGASData"
   ]
  },
  {
   "cell_type": "code",
   "execution_count": null,
   "metadata": {
    "collapsed": true
   },
   "outputs": [],
   "source": [
    "tgas = TGASData('../../../gaia-comoving-stars/data/stacked_tgas.fits')"
   ]
  },
  {
   "cell_type": "code",
   "execution_count": null,
   "metadata": {
    "collapsed": true
   },
   "outputs": [],
   "source": [
    "rave_star = Table.read('../../../gaia-comoving-stars/paper/t1-1-star.txt', format='ascii.csv')"
   ]
  },
  {
   "cell_type": "code",
   "execution_count": null,
   "metadata": {
    "collapsed": true
   },
   "outputs": [],
   "source": [
    "tbl = Table.read('RAVE_group_llr_dv_tbl.ecsv', format='ascii.ecsv')"
   ]
  },
  {
   "cell_type": "code",
   "execution_count": null,
   "metadata": {
    "collapsed": true
   },
   "outputs": [],
   "source": [
    "genuine = tbl['R_RV'] > tbl['R_mu']\n",
    "\n",
    "color_mag = dict()\n",
    "for gid in np.unique(tbl['group_id'][genuine]):\n",
    "    group = rave_star[rave_star['group_id'] == gid]\n",
    "        \n",
    "    color_mag[gid] = {'G-J': [], \n",
    "                      'M_G': []}\n",
    "    for row in group:\n",
    "        G = row['G']\n",
    "        J = row['J']\n",
    "        \n",
    "        if G is None or J is None:\n",
    "            del color_mag[gid]\n",
    "            break\n",
    "        \n",
    "        i1 = np.where(tgas._data['source_id'] == row['tgas_source_id'])[0][0]  \n",
    "        star = tgas[i1]\n",
    "        M_G = get_abs_mag(G, star.parallax.value, star.parallax_error.value)\n",
    "        \n",
    "        color_mag[gid]['G-J'].append(G - J)\n",
    "        color_mag[gid]['M_G'].append(M_G)\n",
    "    \n",
    "    if gid in color_mag and len(color_mag[gid]['G-J']) < 2:\n",
    "        print('deleting')\n",
    "        del color_mag[gid]\n",
    "        \n",
    "for gid in np.unique(tbl['group_id'][genuine]):\n",
    "    if gid not in color_mag: continue\n",
    "        \n",
    "    for k in color_mag[gid].keys():\n",
    "        color_mag[gid][k] = np.array(color_mag[gid][k])"
   ]
  },
  {
   "cell_type": "code",
   "execution_count": null,
   "metadata": {},
   "outputs": [],
   "source": [
    "fig,_ = plot_cmd(color_mag, title='Comoving pairs - RAVE')\n",
    "fig.savefig('genuine_cmd_rave.pdf', dpi=300)"
   ]
  },
  {
   "cell_type": "markdown",
   "metadata": {},
   "source": [
    "---\n",
    "\n",
    "Non-comoving pairs"
   ]
  },
  {
   "cell_type": "code",
   "execution_count": null,
   "metadata": {
    "collapsed": true
   },
   "outputs": [],
   "source": [
    "color_mag = dict()\n",
    "for gid in tbl['group_id'][~genuine]:\n",
    "    group = session.query(Observation).join(Run).filter(Run.name == 'mdm-spring-2017')\\\n",
    "                   .filter(Observation.group_id == gid).all()\n",
    "    \n",
    "    if len(group) > 2:\n",
    "        continue\n",
    "        \n",
    "    color_mag[gid] = {'G-J': [], \n",
    "                      'M_G': []}\n",
    "    for member in group:\n",
    "        src = member.tgas_source\n",
    "        G = src.phot_g_mean_mag\n",
    "        J = src.J\n",
    "        \n",
    "        if G is None or J is None:\n",
    "            del color_mag[gid]\n",
    "            break\n",
    "        \n",
    "        M_G = get_abs_mag(G, src.parallax, src.parallax_error)\n",
    "        \n",
    "        color_mag[gid]['G-J'].append(G - J)\n",
    "        color_mag[gid]['M_G'].append(M_G)\n",
    "    \n",
    "    if gid in color_mag and len(color_mag[gid]['G-J']) < 2:\n",
    "        del color_mag[gid]\n",
    "        \n",
    "for gid in tbl['group_id'][~genuine]:\n",
    "    if gid not in color_mag: continue\n",
    "        \n",
    "    for k in color_mag[gid].keys():\n",
    "        color_mag[gid][k] = np.array(color_mag[gid][k])"
   ]
  },
  {
   "cell_type": "code",
   "execution_count": null,
   "metadata": {},
   "outputs": [],
   "source": [
    "fig,ax = plt.subplots(1, 1, figsize=(6,6))\n",
    "\n",
    "ax.pcolormesh(xedges, yedges, np.log(H.T+1.), \n",
    "              cmap='Blues', linewidth=0, rasterized=True)\n",
    "\n",
    "for gid, d in color_mag.items():\n",
    "    if gid not in group_color_map:\n",
    "        continue\n",
    "    \n",
    "    color = group_color_map[gid]\n",
    "    ax.plot(d['G-J'], d['M_G'], marker='', linewidth=1.,\n",
    "            linestyle='-', alpha=0.65, zorder=1, color=color)\n",
    "    ax.plot(d['G-J'], d['M_G'], marker='.', \n",
    "            linestyle='', alpha=1., color='k', zorder=10, markersize=3)\n",
    "\n",
    "ax.set_xlim(-0.1, 2.3)\n",
    "ax.set_ylim(8.5, -0.5)\n",
    "\n",
    "ax.set_xlabel('$G-J$ [mag]')\n",
    "# ax.set_ylabel('$G - 5(\\log\\hat{d}-1)$ [mag]')\n",
    "ax.set_ylabel('$M_G$ [mag]')\n",
    "\n",
    "ax.set_title('All observed comoving pairs')\n",
    "fig.tight_layout()\n",
    "\n",
    "# fig.savefig('genuine_cmd.pdf', dpi=300)"
   ]
  },
  {
   "cell_type": "markdown",
   "metadata": {},
   "source": [
    "## Highlight a few "
   ]
  },
  {
   "cell_type": "code",
   "execution_count": null,
   "metadata": {
    "collapsed": true
   },
   "outputs": [],
   "source": [
    "interesting_group_ids = np.zeros(3, int)"
   ]
  },
  {
   "cell_type": "code",
   "execution_count": null,
   "metadata": {
    "collapsed": true
   },
   "outputs": [],
   "source": [
    "far_group_ids = [x[0] for x in session.query(Observation.group_id).join(TGASSource).filter(TGASSource.parallax < 10).all()]"
   ]
  },
  {
   "cell_type": "markdown",
   "metadata": {},
   "source": [
    "### G subgiant - A dwarf"
   ]
  },
  {
   "cell_type": "code",
   "execution_count": null,
   "metadata": {},
   "outputs": [],
   "source": [
    "for gid, d in color_mag_genuine.items():\n",
    "    if (d['G-J']>1.1).any() and (d['G-J']<0.5).any() and np.all(d['M_G'] < 3):\n",
    "        print(gid)\n",
    "        interesting_group_ids[0] = gid\n",
    "        \n",
    "        assert gid in far_group_ids"
   ]
  },
  {
   "cell_type": "code",
   "execution_count": null,
   "metadata": {},
   "outputs": [],
   "source": [
    "obs1, obs2 = session.query(Observation).filter(Observation.group_id == 1500).all()\n",
    "obs1.icrs().separation_3d(obs2.icrs()), obs1, obs2"
   ]
  },
  {
   "cell_type": "markdown",
   "metadata": {},
   "source": [
    "### (sub)Giant - MS"
   ]
  },
  {
   "cell_type": "code",
   "execution_count": null,
   "metadata": {},
   "outputs": [],
   "source": [
    "for gid, d in color_mag_genuine.items():\n",
    "    if ((d['G-J'][d['M_G'].argmin()] - d['G-J'][d['M_G'].argmax()]) > 0.2 and\n",
    "        np.all(d['G-J'] > 1) and\n",
    "        abs(d['M_G'][1]-d['M_G'][0]) > 1.5 and gid in far_group_ids):\n",
    "        print(gid)\n",
    "\n",
    "        interesting_group_ids[1] = gid\n",
    "        break"
   ]
  },
  {
   "cell_type": "code",
   "execution_count": null,
   "metadata": {},
   "outputs": [],
   "source": [
    "obs1, obs2 = session.query(Observation).filter(Observation.group_id == interesting_group_ids[1]).all()\n",
    "obs1.icrs().separation(obs2.icrs()), obs1, obs2"
   ]
  },
  {
   "cell_type": "code",
   "execution_count": null,
   "metadata": {},
   "outputs": [],
   "source": [
    "(obs1.tgas_source.parallax, obs1.tgas_source.parallax_error), obs2.tgas_source.parallax"
   ]
  },
  {
   "cell_type": "markdown",
   "metadata": {},
   "source": [
    "### Largest magnitude difference"
   ]
  },
  {
   "cell_type": "code",
   "execution_count": null,
   "metadata": {
    "collapsed": true
   },
   "outputs": [],
   "source": [
    "delta_M_G_ = dict()\n",
    "for gid, d in color_mag_genuine.items():\n",
    "    delta_M_G_[gid] = abs(d['M_G'][1]-d['M_G'][0])\n",
    "\n",
    "max(list(delta_M_G_.items()), key=lambda x: x[1])\n",
    "interesting_group_ids[2] = 974\n",
    "assert interesting_group_ids[2] in far_group_ids"
   ]
  },
  {
   "cell_type": "code",
   "execution_count": null,
   "metadata": {},
   "outputs": [],
   "source": [
    "obs1, obs2 = session.query(Observation).filter(Observation.group_id == 974).all()\n",
    "obs1.icrs().separation_3d(obs2.icrs()), obs1, obs2"
   ]
  },
  {
   "cell_type": "code",
   "execution_count": null,
   "metadata": {},
   "outputs": [],
   "source": [
    "obs1.tgas_source.parallax, obs2.tgas_source.parallax"
   ]
  },
  {
   "cell_type": "code",
   "execution_count": null,
   "metadata": {},
   "outputs": [],
   "source": [
    "interesting_group_ids"
   ]
  },
  {
   "cell_type": "code",
   "execution_count": null,
   "metadata": {
    "collapsed": true
   },
   "outputs": [],
   "source": [
    "interesting_color_mag = dict([(gid, color_mag_genuine[gid]) for gid in interesting_group_ids])\n",
    "\n",
    "interesting_names = dict()\n",
    "for gid in interesting_group_ids:\n",
    "    obs1, obs2 = session.query(Observation).filter(Observation.group_id == gid).all()\n",
    "    interesting_names[gid] = [obs1.simbad_info.preferred_name,\n",
    "                              obs2.simbad_info.preferred_name]"
   ]
  },
  {
   "cell_type": "code",
   "execution_count": null,
   "metadata": {},
   "outputs": [],
   "source": [
    "fig,_ = plot_cmd(interesting_color_mag, group_to_color=group_to_color, \n",
    "                 title='Highlighted comoving pairs',\n",
    "                 markersize=8)\n",
    "\n",
    "ax = fig.axes[0]\n",
    "\n",
    "offsets = {974: [[-.2,0.6],\n",
    "                 [0,0]],\n",
    "           1500: [[-0.05,-0.1],\n",
    "                  [0,0]], \n",
    "           1229: [[0.02,0.25],\n",
    "                  [-0.65,-0.1]]}\n",
    "\n",
    "for gid in interesting_group_ids:\n",
    "    for i in range(2):\n",
    "        ax.text(interesting_color_mag[gid]['G-J'][i] + 0.02 + offsets[gid][i][0], \n",
    "                interesting_color_mag[gid]['M_G'][i] - 0.10 + offsets[gid][i][1],\n",
    "                interesting_names[gid][i], fontsize=20, zorder=10)\n",
    "        \n",
    "fig.savefig('highlighted_cmd.pdf', dpi=300)"
   ]
  }
 ],
 "metadata": {
  "anaconda-cloud": {},
  "kernelspec": {
   "display_name": "Python [conda env:comoving-rv]",
   "language": "python",
   "name": "conda-env-comoving-rv-py"
  },
  "language_info": {
   "codemirror_mode": {
    "name": "ipython",
    "version": 3
   },
   "file_extension": ".py",
   "mimetype": "text/x-python",
   "name": "python",
   "nbconvert_exporter": "python",
   "pygments_lexer": "ipython3",
   "version": "3.6.1"
  }
 },
 "nbformat": 4,
 "nbformat_minor": 2
}