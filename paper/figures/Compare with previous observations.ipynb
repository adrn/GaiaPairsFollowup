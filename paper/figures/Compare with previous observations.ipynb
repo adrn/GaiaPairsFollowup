{
 "cells": [
  {
   "cell_type": "code",
   "execution_count": null,
   "metadata": {
    "collapsed": true
   },
   "outputs": [],
   "source": [
    "from astropy.constants import c\n",
    "import astropy.coordinates as coord\n",
    "import astropy.units as u\n",
    "import numpy as np\n",
    "import matplotlib.pyplot as plt\n",
    "plt.style.use('apw-notebook')\n",
    "%matplotlib inline\n",
    "from scipy.optimize import minimize\n",
    "\n",
    "from comoving_rv.db import Session, Base, db_connect\n",
    "from comoving_rv.db.model import (Run, Observation, TGASSource, SimbadInfo,\n",
    "                                  SpectralLineInfo, SpectralLineMeasurement)"
   ]
  },
  {
   "cell_type": "code",
   "execution_count": null,
   "metadata": {
    "collapsed": true
   },
   "outputs": [],
   "source": [
    "db_path = '/Volumes/ProjectData/gaia-comoving-followup/db.sqlite'\n",
    "engine = db_connect(db_path)\n",
    "session = Session()"
   ]
  },
  {
   "cell_type": "code",
   "execution_count": null,
   "metadata": {
    "collapsed": true
   },
   "outputs": [],
   "source": [
    "Halpha, = session.query(SpectralLineInfo.wavelength).filter(SpectralLineInfo.name == 'Halpha').one()"
   ]
  },
  {
   "cell_type": "markdown",
   "metadata": {},
   "source": [
    "For now, only get observations that are done that have a Simbad RV already in the database"
   ]
  },
  {
   "cell_type": "code",
   "execution_count": null,
   "metadata": {},
   "outputs": [],
   "source": [
    "q = session.query(Observation).join(Run, SpectralLineMeasurement, SimbadInfo)\n",
    "q = q.filter(Run.name == 'mdm-spring-2017')\n",
    "q = q.filter(SpectralLineMeasurement.x0 != None)\n",
    "q = q.filter((SimbadInfo.rv != None) & SimbadInfo.rv_qual.contains('A'))\n",
    "q.distinct().count()"
   ]
  },
  {
   "cell_type": "code",
   "execution_count": null,
   "metadata": {
    "collapsed": true
   },
   "outputs": [],
   "source": [
    "observations = q.all()"
   ]
  },
  {
   "cell_type": "code",
   "execution_count": null,
   "metadata": {
    "scrolled": true
   },
   "outputs": [],
   "source": [
    "raw_offsets = np.zeros(len(observations)) * u.angstrom\n",
    "all_sky_offsets = np.full((len(observations), 3), np.nan) * u.angstrom\n",
    "true_rv = np.zeros(len(observations)) * u.km/u.s\n",
    "night_id = np.zeros(len(observations), dtype=int)\n",
    "obs_time = np.zeros(len(observations))\n",
    "color_by = np.zeros(len(observations))\n",
    "\n",
    "for i,obs in enumerate(observations):\n",
    "    print(obs.object, obs.filename_1d)\n",
    "    \n",
    "    # color_by[i] = obs.airmass\n",
    "    # color_by[i] = obs.exptime\n",
    "    \n",
    "    obs_time[i] = np.sum(np.array(list(map(float, obs.time_obs.split(':')))) / np.array([1., 60., 3600.]))\n",
    "    color_by[i] = obs_time[i]\n",
    "    night_id[i] = obs.night\n",
    "\n",
    "    x0 = obs.measurements[0].x0 * u.angstrom\n",
    "    offset = (x0 - Halpha)\n",
    "    raw_offsets[i] = offset\n",
    "    \n",
    "    sky_offsets = []\n",
    "    for j,meas in enumerate(obs.measurements[1:]):\n",
    "        sky_offset = meas.x0*u.angstrom - meas.info.wavelength\n",
    "        if meas.amp > 10 and meas.std_G < 2 and np.abs(sky_offset) < 4*u.angstrom:\n",
    "            sky_offsets.append(sky_offset)\n",
    "            all_sky_offsets[i,j] = sky_offset\n",
    "            print(meas.info.name, meas.x0, meas.amp, sky_offset)\n",
    "            \n",
    "    sky_offsets = u.Quantity(sky_offsets)\n",
    "    \n",
    "    if len(sky_offsets) > 0:\n",
    "        sky_offset = np.mean(sky_offsets)\n",
    "    else:\n",
    "        sky_offset = 0. * u.angstrom\n",
    "        print(\"WARNING: not correcting with sky line\")\n",
    "    \n",
    "    # sky_offset = -1.2*u.angstrom\n",
    "    rv = (offset - sky_offset) / Halpha * c.to(u.km/u.s) + obs.v_bary\n",
    "    true_rv[i] = obs.simbad_info.rv\n",
    "    print(rv - obs.simbad_info.rv)\n",
    "    print()"
   ]
  },
  {
   "cell_type": "markdown",
   "metadata": {},
   "source": [
    "## Determine sky line weights"
   ]
  },
  {
   "cell_type": "code",
   "execution_count": null,
   "metadata": {},
   "outputs": [],
   "source": [
    "def func(p, raw_offsets, all_sky_offsets, true_rv):\n",
    "    weights = np.array(p)\n",
    "    sky_offset = np.nanmean(weights * all_sky_offsets, axis=1)\n",
    "    rv = (raw_offsets - sky_offset) / Halpha * c\n",
    "    return np.nansum((rv - true_rv).to(u.km/u.s).value**2)\n",
    "\n",
    "res = minimize(func, x0=np.ones(3), method='L-BFGS-B', \n",
    "               args=(raw_offsets, all_sky_offsets, true_rv))\n",
    "res.x"
   ]
  },
  {
   "cell_type": "code",
   "execution_count": null,
   "metadata": {},
   "outputs": [],
   "source": [
    "sky_offset = np.nanmean(res.x * all_sky_offsets, axis=1)\n",
    "sky_offset[np.isnan(sky_offset)] = 0.*u.angstrom\n",
    "corrected_rv = (raw_offsets - sky_offset) / Halpha * c.to(u.km/u.s)"
   ]
  },
  {
   "cell_type": "markdown",
   "metadata": {},
   "source": [
    "### Try it per-night instead:"
   ]
  },
  {
   "cell_type": "code",
   "execution_count": null,
   "metadata": {},
   "outputs": [],
   "source": [
    "corrected_rv = np.zeros(len(observations)) * u.km/u.s\n",
    "night_weights = dict()\n",
    "for n in np.unique(night_id):\n",
    "    mask = night_id == n\n",
    "    res = minimize(func, x0=np.ones(1), method='L-BFGS-B',\n",
    "                   args=(raw_offsets[mask], all_sky_offsets[mask,:1], true_rv[mask]))\n",
    "    weights = res.x\n",
    "    \n",
    "#     if n == 4:\n",
    "#         # weights = np.array([1.2*0.94802129, 1.11843898, 0*0.49077822])\n",
    "#         weights = np.array([1.2*0.94802129, 0*1.11843898, 0*0.49077822])\n",
    "    print(weights)\n",
    "    night_weights[n] = weights\n",
    "    \n",
    "    sky_offset = np.nanmean(weights * all_sky_offsets[mask,:1], axis=1)\n",
    "    sky_offset[np.isnan(sky_offset)] = 0.*u.angstrom\n",
    "    corrected_rv[mask] = (raw_offsets[mask] - sky_offset) / Halpha * c.to(u.km/u.s)"
   ]
  },
  {
   "cell_type": "code",
   "execution_count": null,
   "metadata": {},
   "outputs": [],
   "source": [
    "fig,axes = plt.subplots(2, 5, figsize=(15,6.5), sharex='row', sharey='row')\n",
    "\n",
    "_lim = (-400, 400)\n",
    "_grid = np.linspace(_lim[0], _lim[1], 16)\n",
    "_bins = np.linspace(-150, 150, 21)\n",
    "for n in range(1,5+1):\n",
    "    ax = axes[0, n-1]\n",
    "    \n",
    "    mask = night_id == n\n",
    "    ax.scatter(corrected_rv[mask], true_rv[mask], c=color_by[mask], \n",
    "               marker='.', alpha=0.6, vmin=0, vmax=12)\n",
    "    ax.plot(_grid, _grid, marker='', zorder=-10, color='#888888')\n",
    "    \n",
    "    # histogram\n",
    "    ax = axes[1, n-1]\n",
    "    drv = corrected_rv[mask] - true_rv[mask]\n",
    "    ax.hist(drv, bins=_bins)\n",
    "    \n",
    "    print(n, 1.5 * np.median(np.abs(drv - np.median(drv))))\n",
    "    \n",
    "axes[0,0].set_xlim(_lim)\n",
    "axes[0,0].set_ylim(_lim)\n",
    "axes[1,0].set_xlim(_bins.min(), _bins.max())\n",
    "\n",
    "fig.tight_layout()"
   ]
  },
  {
   "cell_type": "code",
   "execution_count": null,
   "metadata": {},
   "outputs": [],
   "source": [
    "fig,axes = plt.subplots(3, 5, figsize=(15,8), sharex=True, sharey=True)\n",
    "\n",
    "for n in range(1,5+1):\n",
    "    ax = axes[:,n-1]\n",
    "    mask = night_id == n\n",
    "    \n",
    "    for j in range(3):\n",
    "        ax[j].scatter(obs_time[mask], all_sky_offsets[mask,j])\n",
    "    \n",
    "    ax[0].set_title('night {0}'.format(n))\n",
    "\n",
    "axes[2,2].set_xlabel('time [hour]')\n",
    "axes[0,0].set_ylabel('5577 offset')\n",
    "axes[1,0].set_ylabel('6300 offset')\n",
    "axes[2,0].set_ylabel('6364 offset')\n",
    "\n",
    "fig.tight_layout()"
   ]
  },
  {
   "cell_type": "markdown",
   "metadata": {},
   "source": [
    "Playing around: fit a GP"
   ]
  },
  {
   "cell_type": "code",
   "execution_count": null,
   "metadata": {
    "collapsed": true
   },
   "outputs": [],
   "source": [
    "from scipy.optimize import minimize\n",
    "import celerite\n",
    "from celerite import terms\n",
    "from celerite.modeling import Model"
   ]
  },
  {
   "cell_type": "code",
   "execution_count": null,
   "metadata": {
    "collapsed": true
   },
   "outputs": [],
   "source": [
    "_night = 3\n",
    "_sky_ix = 2\n",
    "mask = (night_id==_night) & np.isfinite(all_sky_offsets[:, _sky_ix])\n",
    "\n",
    "t = obs_time[mask]\n",
    "y = all_sky_offsets[mask, _sky_ix].value\n",
    "yerr = np.full_like(y, 0.3)"
   ]
  },
  {
   "cell_type": "code",
   "execution_count": null,
   "metadata": {
    "collapsed": true
   },
   "outputs": [],
   "source": [
    "class MeanModel(Model):\n",
    "    parameter_names = (\"const\",)\n",
    "\n",
    "    def get_value(self, t):\n",
    "        return self.const"
   ]
  },
  {
   "cell_type": "code",
   "execution_count": null,
   "metadata": {},
   "outputs": [],
   "source": [
    "mean_model = MeanModel(const=0.)\n",
    "\n",
    "# Set up the GP model\n",
    "kernel1 = terms.Matern32Term(log_sigma=np.log(np.median(np.abs(y-np.median(y)))), \n",
    "                             log_rho=np.log(0.05))\n",
    "kernel2 = terms.Matern32Term(log_sigma=np.log(np.median(np.abs(y-np.median(y)))), \n",
    "                             log_rho=np.log(0.5))\n",
    "kernel = kernel1 + kernel2\n",
    "\n",
    "gp = celerite.GP(kernel, mean=mean_model, fit_mean=True)\n",
    "gp.compute(t, yerr=yerr)\n",
    "print(\"Initial log-likelihood: {0}\".format(gp.log_likelihood(y)))"
   ]
  },
  {
   "cell_type": "code",
   "execution_count": null,
   "metadata": {},
   "outputs": [],
   "source": [
    "gp.get_parameter_dict()"
   ]
  },
  {
   "cell_type": "code",
   "execution_count": null,
   "metadata": {},
   "outputs": [],
   "source": [
    "# Define a cost function\n",
    "def neg_log_like(params, y, gp):\n",
    "    gp.set_parameter_vector(params)\n",
    "    return -gp.log_likelihood(y)\n",
    "\n",
    "# Fit for the maximum likelihood parameters\n",
    "initial_params = gp.get_parameter_vector()\n",
    "bounds = gp.get_parameter_bounds()\n",
    "soln = minimize(neg_log_like, initial_params, \n",
    "                method=\"L-BFGS-B\", bounds=bounds, args=(y, gp))\n",
    "gp.set_parameter_vector(soln.x)\n",
    "print(\"Final log-likelihood: {0}\".format(-soln.fun))\n",
    "\n",
    "# Make the maximum likelihood prediction\n",
    "grid = np.linspace(t.min(), t.max(), 500)\n",
    "mu, var = gp.predict(y, grid, return_var=True)\n",
    "std = np.sqrt(var)\n",
    "\n",
    "# Plot the data\n",
    "color = \"#ff7f0e\"\n",
    "plt.errorbar(t, y, yerr, marker='o', color=\"k\", zorder=100, linestyle='none', alpha=0.5)\n",
    "plt.plot(grid, mu, color=color)\n",
    "plt.fill_between(grid, mu+std, mu-std, color=color, alpha=0.3, edgecolor=\"none\")\n",
    "plt.ylabel(r\"$y$\")\n",
    "plt.xlabel(r\"$t$\")\n",
    "plt.gca().yaxis.set_major_locator(plt.MaxNLocator(5))\n",
    "plt.title(\"maximum likelihood prediction\");"
   ]
  },
  {
   "cell_type": "code",
   "execution_count": null,
   "metadata": {
    "collapsed": true
   },
   "outputs": [],
   "source": []
  },
  {
   "cell_type": "code",
   "execution_count": null,
   "metadata": {
    "collapsed": true
   },
   "outputs": [],
   "source": []
  },
  {
   "cell_type": "code",
   "execution_count": null,
   "metadata": {
    "collapsed": true
   },
   "outputs": [],
   "source": []
  },
  {
   "cell_type": "markdown",
   "metadata": {},
   "source": [
    "---\n",
    "\n",
    "# Take a peek at velocity differences"
   ]
  },
  {
   "cell_type": "code",
   "execution_count": null,
   "metadata": {},
   "outputs": [],
   "source": [
    "q = session.query(Observation.group_id).join(Run, SpectralLineMeasurement)\n",
    "q = q.filter(Run.name == 'mdm-spring-2017')\n",
    "print(q.distinct().count())\n",
    "gids = np.array([gid for gid, in q.distinct().all()])"
   ]
  },
  {
   "cell_type": "code",
   "execution_count": null,
   "metadata": {
    "collapsed": true
   },
   "outputs": [],
   "source": [
    "rv_diffs = []\n",
    "all_x0s = []\n",
    "for gid in gids:\n",
    "    meas_q = session.query(SpectralLineMeasurement).join(Observation, SpectralLineInfo)\n",
    "    meas_q = meas_q.filter(SpectralLineInfo.name == 'Halpha')\n",
    "    meas_q = meas_q.filter(Observation.group_id == gid)\n",
    "    x0s = [meas.x0 for meas in meas_q.all()]\n",
    "    \n",
    "    if len(x0s) == 2:\n",
    "        rv_diff = (x0s[1] - x0s[0])*u.angstrom / Halpha * c.to(u.km/u.s)\n",
    "        rv_diffs.append(rv_diff)\n",
    "        \n",
    "        all_x0s = all_x0s + x0s\n",
    "    \n",
    "    else:\n",
    "        rv_diffs.append(np.nan*u.km/u.s)\n",
    "        \n",
    "rv_diffs = u.Quantity(rv_diffs)\n",
    "all_x0s = u.Quantity(all_x0s)"
   ]
  },
  {
   "cell_type": "code",
   "execution_count": null,
   "metadata": {
    "collapsed": true
   },
   "outputs": [],
   "source": [
    "# random shuffle\n",
    "# TODO: redo this after correcting for barycenter, sky shifts, etc.\n",
    "_derp = np.random.choice(len(all_x0s), size=len(all_x0s), replace=False)\n",
    "random_rv_diff = (all_x0s - all_x0s[_derp])*u.angstrom / Halpha * c.to(u.km/u.s)"
   ]
  },
  {
   "cell_type": "code",
   "execution_count": null,
   "metadata": {},
   "outputs": [],
   "source": [
    "_,bins,_ = plt.hist(rv_diffs[np.isfinite(rv_diffs)], bins=np.linspace(-150, 150, 31), \n",
    "                    normed=True, alpha=0.5)\n",
    "\n",
    "plt.hist(np.random.normal(0, np.sqrt(25**2 + 25**2 + 5**2 + 5**2), size=64000), \n",
    "         bins=bins, normed=True, alpha=0.5);\n",
    "\n",
    "_,bins,_ = plt.hist(random_rv_diff[np.isfinite(random_rv_diff)], bins=bins, normed=True, alpha=0.4)"
   ]
  },
  {
   "cell_type": "markdown",
   "metadata": {},
   "source": [
    "Now look at differences in sky lines"
   ]
  },
  {
   "cell_type": "code",
   "execution_count": null,
   "metadata": {
    "collapsed": true
   },
   "outputs": [],
   "source": [
    "sky_diffs = []\n",
    "for gid in gids:\n",
    "    meas_q = session.query(SpectralLineMeasurement).join(Observation, SpectralLineInfo)\n",
    "    meas_q = meas_q.filter(SpectralLineInfo.name == '[OI] 6300')\n",
    "    meas_q = meas_q.filter(Observation.group_id == gid)\n",
    "    x0s = [meas.x0 for meas in meas_q.all()]\n",
    "\n",
    "    if len(x0s) == 2:\n",
    "        sky_diff = (x0s[1] - x0s[0])*u.angstrom / (6300*u.angstrom) * c.to(u.km/u.s)\n",
    "        sky_diffs.append(sky_diff)\n",
    "    \n",
    "    else:\n",
    "        sky_diffs.append(np.nan*u.km/u.s)\n",
    "    \n",
    "sky_diffs = u.Quantity(sky_diffs)"
   ]
  },
  {
   "cell_type": "code",
   "execution_count": null,
   "metadata": {},
   "outputs": [],
   "source": [
    "plt.hist(sky_diffs[np.isfinite(sky_diffs)], bins=np.linspace(-50, 50, 30));"
   ]
  },
  {
   "cell_type": "markdown",
   "metadata": {},
   "source": [
    "TODO: ok, so apparently I need to correct for sky line shifts before doing RV difference??"
   ]
  },
  {
   "cell_type": "code",
   "execution_count": null,
   "metadata": {
    "collapsed": true
   },
   "outputs": [],
   "source": []
  },
  {
   "cell_type": "code",
   "execution_count": null,
   "metadata": {
    "collapsed": true
   },
   "outputs": [],
   "source": []
  },
  {
   "cell_type": "code",
   "execution_count": null,
   "metadata": {},
   "outputs": [],
   "source": [
    "seps = []\n",
    "for gid in gids[np.isfinite(rv_diffs) & (rv_diffs < 15*u.km/u.s)]:\n",
    "    _q = session.query(TGASSource).join(Observation)\n",
    "    _q = _q.filter(Observation.group_id == gid)\n",
    "    tgas_data = _q.all()\n",
    "    \n",
    "    c1 = tgas_data[0].skycoord\n",
    "    c2 = tgas_data[1].skycoord\n",
    "    \n",
    "    sep = c1.separation_3d(c2)\n",
    "    seps.append(sep)\n",
    "\n",
    "seps = u.Quantity(seps)"
   ]
  },
  {
   "cell_type": "code",
   "execution_count": null,
   "metadata": {},
   "outputs": [],
   "source": [
    "plt.hist(seps[seps > 0*u.pc], bins='auto')"
   ]
  },
  {
   "cell_type": "code",
   "execution_count": null,
   "metadata": {
    "collapsed": true
   },
   "outputs": [],
   "source": []
  }
 ],
 "metadata": {
  "anaconda-cloud": {},
  "kernelspec": {
   "display_name": "Python [conda env:comoving-rv]",
   "language": "python",
   "name": "conda-env-comoving-rv-py"
  },
  "language_info": {
   "codemirror_mode": {
    "name": "ipython",
    "version": 3
   },
   "file_extension": ".py",
   "mimetype": "text/x-python",
   "name": "python",
   "nbconvert_exporter": "python",
   "pygments_lexer": "ipython3",
   "version": "3.6.1"
  }
 },
 "nbformat": 4,
 "nbformat_minor": 2
}