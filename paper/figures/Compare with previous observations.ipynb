{
 "cells": [
  {
   "cell_type": "code",
   "execution_count": null,
   "metadata": {
    "collapsed": true
   },
   "outputs": [],
   "source": [
    "from os import path\n",
    "\n",
    "from astropy.constants import c\n",
    "import astropy.coordinates as coord\n",
    "import astropy.units as u\n",
    "import numpy as np\n",
    "import matplotlib.pyplot as plt\n",
    "plt.style.use('apw-notebook')\n",
    "%matplotlib inline\n",
    "\n",
    "from comoving_rv.log import logger\n",
    "from comoving_rv.db import Session, Base, db_connect\n",
    "from comoving_rv.db.model import (Run, Observation, TGASSource, SimbadInfo, PriorRV,\n",
    "                                  SpectralLineInfo, SpectralLineMeasurement, RVMeasurement)"
   ]
  },
  {
   "cell_type": "code",
   "execution_count": null,
   "metadata": {
    "collapsed": true
   },
   "outputs": [],
   "source": [
    "# base_path = '/Volumes/ProjectData/gaia-comoving-followup/'\n",
    "base_path = '../../data/'\n",
    "db_path = path.join(base_path, 'db.sqlite')\n",
    "engine = db_connect(db_path)\n",
    "session = Session()"
   ]
  },
  {
   "cell_type": "markdown",
   "metadata": {},
   "source": [
    "Only get observations that are done that have a Simbad RV already in the database"
   ]
  },
  {
   "cell_type": "code",
   "execution_count": null,
   "metadata": {},
   "outputs": [],
   "source": [
    "q = session.query(Observation).join(Run, SpectralLineMeasurement, PriorRV, RVMeasurement)\n",
    "q = q.filter(Run.name == 'mdm-spring-2017')\n",
    "q = q.filter(SpectralLineMeasurement.x0 != None)\n",
    "q = q.filter(PriorRV.rv != None)\n",
    "q = q.filter(RVMeasurement.rv != None)\n",
    "q.distinct().count()"
   ]
  },
  {
   "cell_type": "code",
   "execution_count": null,
   "metadata": {
    "collapsed": true
   },
   "outputs": [],
   "source": [
    "observations = q.all()"
   ]
  },
  {
   "cell_type": "code",
   "execution_count": null,
   "metadata": {
    "collapsed": true
   },
   "outputs": [],
   "source": [
    "apw_rv = u.Quantity([obs.rv_measurement.rv+obs.v_bary for obs in observations])\n",
    "apw_rv_err = u.Quantity([obs.rv_measurement.err for obs in observations])\n",
    "\n",
    "true_rv = u.Quantity([obs.prior_rv.rv for obs in observations])\n",
    "true_rv_err = u.Quantity([obs.prior_rv.err for obs in observations])"
   ]
  },
  {
   "cell_type": "code",
   "execution_count": null,
   "metadata": {},
   "outputs": [],
   "source": [
    "fig,axes = plt.subplots(1, 2, figsize=(8,4))\n",
    "\n",
    "_lim = (-275, 275)\n",
    "_grid = np.linspace(_lim[0], _lim[1], 16) # for 1-to-1 line\n",
    "\n",
    "axes[0].scatter(apw_rv, true_rv, marker='.', alpha=0.75, s=10)\n",
    "axes[0].errorbar(apw_rv.value, true_rv.value, xerr=apw_rv_err.value, yerr=true_rv_err.value, \n",
    "                 marker='None', ecolor='#aaaaaa', elinewidth=1., zorder=-1, linestyle='none')\n",
    "axes[0].plot(_grid, _grid, marker='', zorder=-10, color='#888888')\n",
    "    \n",
    "# histogram\n",
    "drv = apw_rv - true_rv\n",
    "axes[1].hist(drv[np.abs(drv)<100*u.km/u.s], bins='auto')\n",
    "\n",
    "axes[0].xaxis.set_ticks(np.arange(-200, 200+1, 100))\n",
    "axes[0].yaxis.set_ticks(np.arange(-200, 200+1, 100))\n",
    "axes[1].xaxis.set_ticks(np.arange(-100, 100+1, 50))\n",
    "\n",
    "axes[0].set_xlim(_lim)\n",
    "axes[0].set_ylim(_lim)\n",
    "axes[1].set_xlim(-110, 110)\n",
    "\n",
    "axes[0].set_xlabel(r\"${{\\rm RV}}$ (this work) [{0}]\"\n",
    "                   .format((u.km/u.s).to_string('latex_inline')), fontsize=20)\n",
    "axes[0].set_ylabel(r\"${{\\rm RV}}_{{\\rm lit}}$ (previous) [{0}]\"\n",
    "                   .format((u.km/u.s).to_string('latex_inline')), fontsize=20)\n",
    "\n",
    "axes[1].set_xlabel(r\"$\\Delta$RV [{0}]\".format((u.km/u.s).to_string('latex_inline')))\n",
    "\n",
    "fig.tight_layout()\n",
    "\n",
    "fig.savefig('rv-comparison.pdf')"
   ]
  }
 ],
 "metadata": {
  "anaconda-cloud": {},
  "kernelspec": {
   "display_name": "Python [conda env:comoving-rv]",
   "language": "python",
   "name": "conda-env-comoving-rv-py"
  },
  "language_info": {
   "codemirror_mode": {
    "name": "ipython",
    "version": 3
   },
   "file_extension": ".py",
   "mimetype": "text/x-python",
   "name": "python",
   "nbconvert_exporter": "python",
   "pygments_lexer": "ipython3",
   "version": "3.6.1"
  }
 },
 "nbformat": 4,
 "nbformat_minor": 2
}