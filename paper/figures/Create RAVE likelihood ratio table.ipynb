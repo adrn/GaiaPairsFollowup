{
 "cells": [
  {
   "cell_type": "code",
   "execution_count": null,
   "metadata": {
    "collapsed": true
   },
   "outputs": [],
   "source": [
    "from os import path\n",
    "\n",
    "# Third-party\n",
    "from astropy.io import ascii\n",
    "import astropy.coordinates as coord\n",
    "import astropy.units as u\n",
    "import matplotlib.pyplot as plt\n",
    "import numpy as np\n",
    "plt.style.use('apw-notebook')\n",
    "%matplotlib inline\n",
    "from scipy.stats import scoreatpercentile\n",
    "\n",
    "from comoving_rv.log import logger\n",
    "from comoving_rv.db import Session, Base, db_connect\n",
    "from comoving_rv.db.model import (Run, Observation, TGASSource, SimbadInfo, PriorRV,\n",
    "                                  SpectralLineInfo, SpectralLineMeasurement, RVMeasurement)\n",
    "\n",
    "from gwb.data import TGASData\n",
    "from gwb.fml import ln_H1_FML, ln_H2_FML\n",
    "\n",
    "# import matplotlib as mpl\n",
    "# mpl.rc('text', usetex=True)\n",
    "# mpl.rcParams['text.latex.preamble'] = [r\"\\usepackage{amsmath}\"]"
   ]
  },
  {
   "cell_type": "code",
   "execution_count": null,
   "metadata": {
    "collapsed": true
   },
   "outputs": [],
   "source": [
    "tgas = TGASData('../../../gaia-comoving-stars/data/stacked_tgas.fits')"
   ]
  },
  {
   "cell_type": "code",
   "execution_count": null,
   "metadata": {
    "collapsed": true
   },
   "outputs": [],
   "source": [
    "star = ascii.read('../../../gaia-comoving-stars/paper/t1-1-star.txt')\n",
    "rave_stars = star[(star['group_size'] == 2) & (~star['rv'].mask)]\n",
    "rave_stars = rave_stars.group_by('group_id')"
   ]
  },
  {
   "cell_type": "markdown",
   "metadata": {},
   "source": [
    "Get only ones where both stars have RV measurements"
   ]
  },
  {
   "cell_type": "code",
   "execution_count": null,
   "metadata": {
    "collapsed": true
   },
   "outputs": [],
   "source": [
    "group_idx = np.array([i for i,g in enumerate(rave_stars.groups) if len(g) > 1])\n",
    "rave_stars = rave_stars.groups[group_idx]"
   ]
  },
  {
   "cell_type": "code",
   "execution_count": null,
   "metadata": {
    "collapsed": true
   },
   "outputs": [],
   "source": [
    "class Worker(object):\n",
    "\n",
    "    def __init__(self, Vinv, n_distance_samples, prior_weights):\n",
    "        self.Vinv = np.array(Vinv)\n",
    "        self.prior_weights = prior_weights\n",
    "        self.n_distance_samples = n_distance_samples\n",
    "\n",
    "    def work(self, star1, star2, v_scatter):     \n",
    "        h1 = ln_H1_FML(star1, star2, Vinv=self.Vinv, v_scatter=v_scatter,\n",
    "                       n_dist_samples=self.n_distance_samples, prior_weights=self.prior_weights)\n",
    "        h2 = ln_H2_FML(star1, star2, Vinv=self.Vinv, v_scatter=v_scatter,\n",
    "                       n_dist_samples=self.n_distance_samples, prior_weights=self.prior_weights)\n",
    "        return h1, h2"
   ]
  },
  {
   "cell_type": "code",
   "execution_count": null,
   "metadata": {
    "collapsed": true
   },
   "outputs": [],
   "source": [
    "# MAGIC NUMBERs\n",
    "n_distance_samples = 1024\n",
    "Vinvs = np.array([np.eye(3)/15.**2,\n",
    "                  np.eye(3)/30.**2,\n",
    "                  np.eye(3)/50.**2])   # 3x3 inverse variances for gaussian prior on velocities\n",
    "prior_weights = np.array([0.3, 0.55, 0.15])\n",
    "v_scatter = 1. # km/s\n",
    "\n",
    "worker = Worker(Vinv=Vinvs, n_distance_samples=n_distance_samples, prior_weights=prior_weights)"
   ]
  },
  {
   "cell_type": "code",
   "execution_count": null,
   "metadata": {
    "collapsed": true
   },
   "outputs": [],
   "source": [
    "names = ['group_id', 'lnH1_no_rv', 'lnH2_no_rv', 'lnH1_rv', 'lnH2_rv']\n",
    "all_rows = []\n",
    "for gid in np.unique(rave_stars['group_id']):\n",
    "    rows = rave_stars[rave_stars['group_id'] == gid]\n",
    "    \n",
    "    if len(rows) != 2:\n",
    "        print(\"skipping group {0} ({1})\".format(gid, len(rows)))\n",
    "        continue\n",
    "        \n",
    "    i1 = np.where(tgas._data['source_id'] == rows[0]['tgas_source_id'])[0][0]\n",
    "    i2 = np.where(tgas._data['source_id'] == rows[1]['tgas_source_id'])[0][0]\n",
    "    \n",
    "    star1 = tgas[i1]\n",
    "    star2 = tgas[i2]\n",
    "    \n",
    "    ln_H1_no_rv, ln_H2_no_rv = worker.work(star1, star2, v_scatter)\n",
    "\n",
    "    star1._rv = rows[0]['rv']\n",
    "    star2._rv = rows[1]['rv']\n",
    "    star1._rv_err = rows[0]['erv']\n",
    "    star2._rv_err = rows[1]['erv']\n",
    "    ln_H1, ln_H2 = worker.work(star1, star2, v_scatter)\n",
    "    \n",
    "    all_rows.append((gid, ln_H1_no_rv, ln_H2_no_rv, ln_H1, ln_H2))\n",
    "    \n",
    "dtype = dict(names=names, formats=['i4']+['f8']*(len(names)-1))\n",
    "tbl = np.array(all_rows, dtype)\n",
    "tbl = Table(tbl)"
   ]
  },
  {
   "cell_type": "code",
   "execution_count": null,
   "metadata": {
    "collapsed": true
   },
   "outputs": [],
   "source": [
    "dv_pts = []\n",
    "dv_15s = []\n",
    "dv_meds = []\n",
    "dv_85s = []\n",
    "sep_2d = []\n",
    "sep_3d = []\n",
    "\n",
    "for gid in np.unique(rave_stars['group_id']):\n",
    "    rows = rave_stars[rave_stars['group_id'] == gid]\n",
    "    \n",
    "    if len(rows) != 2:\n",
    "        print(\"skipping group {0} ({1})\".format(gid, len(rows)))\n",
    "        continue\n",
    "        \n",
    "    i1 = np.where(tgas._data['source_id'] == rows[0]['tgas_source_id'])[0][0]\n",
    "    i2 = np.where(tgas._data['source_id'] == rows[1]['tgas_source_id'])[0][0]\n",
    "    \n",
    "    star1 = tgas[i1]\n",
    "    star2 = tgas[i2]\n",
    "    \n",
    "    icrs1 = star1.get_icrs(rows[0]['rv']*u.km/u.s)\n",
    "    icrs2 = star2.get_icrs(rows[1]['rv']*u.km/u.s)\n",
    "    \n",
    "    # separations    \n",
    "    sep_2d.append(icrs1.separation(icrs2))\n",
    "    sep_3d.append(icrs1.separation_3d(icrs2))\n",
    "    \n",
    "    icrs1.set_representation_cls(coord.CartesianRepresentation, coord.CartesianDifferential)\n",
    "    icrs2.set_representation_cls(coord.CartesianRepresentation, coord.CartesianDifferential)\n",
    "    \n",
    "    dv_pt = np.sqrt((icrs1.v_x-icrs2.v_x)**2 + \n",
    "                    (icrs1.v_y-icrs2.v_y)**2 + \n",
    "                    (icrs1.v_z-icrs2.v_z)**2)\n",
    "    dv_pts.append(dv_pt)\n",
    "    \n",
    "    # Compute difference in 3D velocity for samples\n",
    "    icrs1 = star1.get_icrs_samples(size=2**16, rv=rows[0]['rv']*u.km/u.s, \n",
    "                                   rv_err=rows[0]['erv']*u.km/u.s)\n",
    "    icrs2 = star2.get_icrs_samples(size=2**16, rv=rows[1]['rv']*u.km/u.s, \n",
    "                                   rv_err=rows[1]['erv']*u.km/u.s)\n",
    "    \n",
    "    icrs1.set_representation_cls(coord.CartesianRepresentation, coord.CartesianDifferential)\n",
    "    icrs2.set_representation_cls(coord.CartesianRepresentation, coord.CartesianDifferential)\n",
    "    \n",
    "    dv = np.sqrt((icrs1.v_x-icrs2.v_x)**2 + \n",
    "                 (icrs1.v_y-icrs2.v_y)**2 + \n",
    "                 (icrs1.v_z-icrs2.v_z)**2)\n",
    "    \n",
    "    dv_15, dv_med, dv_85 = scoreatpercentile(dv.value, [15, 50, 85])\n",
    "    dv_15s.append(dv_15)\n",
    "    dv_meds.append(dv_med)\n",
    "    dv_85s.append(dv_85)"
   ]
  },
  {
   "cell_type": "code",
   "execution_count": null,
   "metadata": {
    "collapsed": true
   },
   "outputs": [],
   "source": [
    "tbl['dv'] = u.Quantity(dv_pts)\n",
    "tbl['dv_15'] = dv_15s*u.km/u.s\n",
    "tbl['dv_50'] = dv_meds*u.km/u.s\n",
    "tbl['dv_85'] = dv_85s*u.km/u.s\n",
    "tbl['sep_2d'] = u.Quantity(sep_2d)\n",
    "tbl['sep_3d'] = u.Quantity(sep_3d)"
   ]
  },
  {
   "cell_type": "code",
   "execution_count": null,
   "metadata": {
    "collapsed": true
   },
   "outputs": [],
   "source": [
    "tbl['R_mu'] = tbl['lnH1_no_rv'] - tbl['lnH2_no_rv']\n",
    "tbl['R_RV'] = tbl['lnH1_rv'] - tbl['lnH2_rv']"
   ]
  },
  {
   "cell_type": "code",
   "execution_count": null,
   "metadata": {},
   "outputs": [],
   "source": [
    "tbl.write('RAVE_group_llr_dv_tbl.ecsv', format='ascii.ecsv')"
   ]
  },
  {
   "cell_type": "code",
   "execution_count": null,
   "metadata": {
    "collapsed": true
   },
   "outputs": [],
   "source": []
  }
 ],
 "metadata": {
  "kernelspec": {
   "display_name": "Python [conda env:comoving-rv]",
   "language": "python",
   "name": "conda-env-comoving-rv-py"
  },
  "language_info": {
   "codemirror_mode": {
    "name": "ipython",
    "version": 3
   },
   "file_extension": ".py",
   "mimetype": "text/x-python",
   "name": "python",
   "nbconvert_exporter": "python",
   "pygments_lexer": "ipython3",
   "version": "3.6.1"
  }
 },
 "nbformat": 4,
 "nbformat_minor": 2
}