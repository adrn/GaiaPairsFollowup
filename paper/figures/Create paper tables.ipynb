{
 "cells": [
  {
   "cell_type": "code",
   "execution_count": null,
   "metadata": {
    "collapsed": true
   },
   "outputs": [],
   "source": [
    "from os import path\n",
    "from collections import OrderedDict\n",
    "\n",
    "# Third-party\n",
    "from astropy.table import Table\n",
    "import astropy.coordinates as coord\n",
    "import astropy.units as u\n",
    "from astropy.constants import G, c\n",
    "import matplotlib.pyplot as plt\n",
    "from matplotlib.colors import Normalize\n",
    "import numpy as np\n",
    "plt.style.use('apw-notebook')\n",
    "%matplotlib inline\n",
    "from scipy.stats import scoreatpercentile\n",
    "import sqlalchemy\n",
    "from astropy.stats import median_absolute_deviation\n",
    "\n",
    "import corner\n",
    "import emcee\n",
    "from scipy.integrate import quad\n",
    "from scipy.misc import logsumexp\n",
    "import schwimmbad\n",
    "\n",
    "from gwb.data import TGASData\n",
    "from gwb.fml import ln_H1_FML, ln_H2_FML\n",
    "\n",
    "from comoving_rv.log import logger\n",
    "from comoving_rv.db import Session, Base, db_connect\n",
    "from comoving_rv.db.model import (Run, Observation, TGASSource, SimbadInfo, PriorRV,\n",
    "                                  SpectralLineInfo, SpectralLineMeasurement, RVMeasurement,\n",
    "                                  GroupToObservations)"
   ]
  },
  {
   "cell_type": "code",
   "execution_count": null,
   "metadata": {
    "collapsed": true
   },
   "outputs": [],
   "source": [
    "# base_path = '/Volumes/ProjectData/gaia-comoving-followup/'\n",
    "base_path = '../../data/'\n",
    "db_path = path.join(base_path, 'db.sqlite')\n",
    "engine = db_connect(db_path)\n",
    "session = Session()"
   ]
  },
  {
   "cell_type": "code",
   "execution_count": null,
   "metadata": {
    "collapsed": true
   },
   "outputs": [],
   "source": [
    "tbl = Table.read('group_prob_dv.ecsv', format='ascii.ecsv')"
   ]
  },
  {
   "cell_type": "code",
   "execution_count": null,
   "metadata": {
    "collapsed": true
   },
   "outputs": [],
   "source": [
    "smoh_tbl = Table.read('../../../gaia-comoving-stars/paper/t1-1-star.txt', format='ascii.csv')"
   ]
  },
  {
   "cell_type": "code",
   "execution_count": null,
   "metadata": {
    "collapsed": true
   },
   "outputs": [],
   "source": [
    "def obs_to_row(obs, group_id):\n",
    "    row = OrderedDict()\n",
    "    \n",
    "    # smoh group id\n",
    "    row['Oh17_group_id'] = group_id\n",
    "        \n",
    "    # TGAS source id\n",
    "    row['tgas_source_id'] = obs.tgas_source.source_id\n",
    "    \n",
    "    # preferred name\n",
    "    row['name'] = obs.simbad_info.preferred_name\n",
    "    \n",
    "    # TGAS info\n",
    "    star = obs.tgas_star()\n",
    "    row['ra'] = obs.tgas_source.ra.to(u.degree).value\n",
    "    row['dec'] = obs.tgas_source.dec.to(u.degree).value\n",
    "    row['parallax'] = obs.tgas_source.parallax\n",
    "    row['distance'] = star.get_distance(True).to(u.pc).value\n",
    "    row['G'] = obs.tgas_source.phot_g_mean_mag\n",
    "    \n",
    "    # 2MASS magnitude\n",
    "    row['J'] = obs.photometry.j_m\n",
    "    \n",
    "    # RV\n",
    "    row['rv'] = (obs.rv_measurement.rv + obs.v_bary).to(u.km/u.s).value\n",
    "    row['rv_err'] = (obs.rv_measurement.err).to(u.km/u.s).value\n",
    "    \n",
    "    return row"
   ]
  },
  {
   "cell_type": "code",
   "execution_count": null,
   "metadata": {
    "collapsed": true
   },
   "outputs": [],
   "source": [
    "base_q = session.query(Observation).join(RVMeasurement).filter(RVMeasurement.rv != None)\n",
    "\n",
    "rows = []\n",
    "for gid in tbl['group_id']:\n",
    "    group = session.query(GroupToObservations).filter(GroupToObservations.group_id == gid).one()\n",
    "\n",
    "    try:\n",
    "        gto = session.query(GroupToObservations).filter(GroupToObservations.group_id == gid).one()        \n",
    "    except:\n",
    "        print(\"No obs for {0}\".format(gid))\n",
    "        \n",
    "    obs1 = base_q.filter(Observation.id == gto.observation1_id).one()\n",
    "    obs2 = base_q.filter(Observation.id == gto.observation2_id).one()\n",
    "        \n",
    "    row1 = obs_to_row(obs1, group.new_group_id) # fill with new group id\n",
    "    row2 = obs_to_row(obs2, group.new_group_id)\n",
    "    \n",
    "    rows.append(row1)\n",
    "    rows.append(row2)"
   ]
  },
  {
   "cell_type": "code",
   "execution_count": null,
   "metadata": {
    "collapsed": true
   },
   "outputs": [],
   "source": [
    "data_tbl = Table(rows)\n",
    "\n",
    "# reorder because passing in to Table doesnt preserve order\n",
    "data_tbl = data_tbl[list(row1.keys())]\n",
    "\n",
    "# sort on group id\n",
    "data_tbl.sort('Oh17_group_id')"
   ]
  },
  {
   "cell_type": "code",
   "execution_count": null,
   "metadata": {},
   "outputs": [],
   "source": [
    "data_tbl"
   ]
  },
  {
   "cell_type": "markdown",
   "metadata": {},
   "source": [
    "## Now the group-level info table"
   ]
  },
  {
   "cell_type": "code",
   "execution_count": null,
   "metadata": {
    "collapsed": true
   },
   "outputs": [],
   "source": [
    "group_tbl = tbl['group_id', 'prob'].copy()"
   ]
  },
  {
   "cell_type": "code",
   "execution_count": null,
   "metadata": {
    "collapsed": true
   },
   "outputs": [],
   "source": [
    "base_q = session.query(Observation).join(RVMeasurement).filter(RVMeasurement.rv != None)\n",
    "\n",
    "n_samples = 16384\n",
    "\n",
    "more_cols = OrderedDict()\n",
    "more_cols['group_id'] = [] # need to update to new group ids from db table\n",
    "more_cols['sep_tan'] = []\n",
    "more_cols['sep_tan_err'] = []\n",
    "more_cols['relative_rv'] = []\n",
    "more_cols['relative_rv_err'] = []\n",
    "\n",
    "for gid in tbl['group_id']:\n",
    "    group = session.query(GroupToObservations).filter(GroupToObservations.group_id == gid).one()\n",
    "\n",
    "    try:\n",
    "        gto = session.query(GroupToObservations).filter(GroupToObservations.group_id == gid).one()        \n",
    "    except:\n",
    "        print(\"No obs for {0}\".format(gid))\n",
    "        continue\n",
    "        \n",
    "    more_cols['group_id'].append(group.new_group_id)\n",
    "        \n",
    "    obs1 = base_q.filter(Observation.id == gto.observation1_id).one()\n",
    "    obs2 = base_q.filter(Observation.id == gto.observation2_id).one()\n",
    "    \n",
    "    icrs1 = obs1.icrs_samples(size=n_samples)\n",
    "    icrs2 = obs2.icrs_samples(size=n_samples)\n",
    "    \n",
    "    R = np.min([icrs1.distance.value, icrs2.distance.value], axis=0) * u.pc\n",
    "    sep_tan = 2*R*np.sin(icrs1.separation(icrs2)/2)\n",
    "    \n",
    "    more_cols['sep_tan'].append(np.median(sep_tan).to(u.pc).value)\n",
    "    more_cols['sep_tan_err'].append(1.5 * median_absolute_deviation(sep_tan).to(u.pc).value)\n",
    "    \n",
    "    # relative RV\n",
    "    raw_rv_diff = (obs1.measurements[0].x0 - obs2.measurements[0].x0) / 6563. * c.to(u.km/u.s)        \n",
    "    raw_rv_err = np.sqrt(obs1.measurements[0].x0_error**2 + obs2.measurements[0].x0_error**2) / 6563. * c.to(u.km/u.s)\n",
    "    more_cols['relative_rv'].append(raw_rv_diff.to(u.km/u.s).value)\n",
    "    more_cols['relative_rv_err'].append(raw_rv_err.to(u.km/u.s).value)"
   ]
  },
  {
   "cell_type": "code",
   "execution_count": null,
   "metadata": {
    "collapsed": true
   },
   "outputs": [],
   "source": [
    "for name in more_cols.keys():\n",
    "    group_tbl[name] = more_cols[name]\n",
    "    \n",
    "# rename\n",
    "group_tbl.rename_column('group_id', 'Oh17_group_id')"
   ]
  },
  {
   "cell_type": "markdown",
   "metadata": {},
   "source": [
    "Sanity check:"
   ]
  },
  {
   "cell_type": "code",
   "execution_count": null,
   "metadata": {},
   "outputs": [],
   "source": [
    "(np.abs(group_tbl['relative_rv']) < 2*group_tbl['relative_rv_err']).sum()"
   ]
  },
  {
   "cell_type": "code",
   "execution_count": null,
   "metadata": {},
   "outputs": [],
   "source": [
    "group_tbl.sort('Oh17_group_id')\n",
    "group_tbl"
   ]
  },
  {
   "cell_type": "code",
   "execution_count": null,
   "metadata": {},
   "outputs": [],
   "source": [
    "data_tbl.write('../1-star.txt', format='ascii.csv', overwrite=True)\n",
    "group_tbl.write('../2-group.txt', format='ascii.csv', overwrite=True)"
   ]
  },
  {
   "cell_type": "code",
   "execution_count": null,
   "metadata": {
    "collapsed": true
   },
   "outputs": [],
   "source": []
  }
 ],
 "metadata": {
  "anaconda-cloud": {},
  "kernelspec": {
   "display_name": "Python [conda env:comoving-rv]",
   "language": "python",
   "name": "conda-env-comoving-rv-py"
  },
  "language_info": {
   "codemirror_mode": {
    "name": "ipython",
    "version": 3
   },
   "file_extension": ".py",
   "mimetype": "text/x-python",
   "name": "python",
   "nbconvert_exporter": "python",
   "pygments_lexer": "ipython3",
   "version": "3.6.1"
  }
 },
 "nbformat": 4,
 "nbformat_minor": 2
}