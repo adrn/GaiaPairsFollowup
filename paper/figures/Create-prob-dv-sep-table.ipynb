{
 "cells": [
  {
   "cell_type": "markdown",
   "metadata": {},
   "source": [
    "## This notebook creates the table '../group_llr_dv_tbl.ecsv'"
   ]
  },
  {
   "cell_type": "code",
   "execution_count": null,
   "metadata": {
    "collapsed": true
   },
   "outputs": [],
   "source": [
    "from os import path\n",
    "\n",
    "# Third-party\n",
    "from astropy.table import Table\n",
    "import astropy.coordinates as coord\n",
    "import astropy.units as u\n",
    "from astropy.constants import G, c\n",
    "import matplotlib.pyplot as plt\n",
    "from matplotlib.colors import Normalize\n",
    "import numpy as np\n",
    "plt.style.use('apw-notebook')\n",
    "%matplotlib inline\n",
    "from scipy.stats import scoreatpercentile\n",
    "import sqlalchemy\n",
    "\n",
    "import corner\n",
    "import emcee\n",
    "from scipy.integrate import quad\n",
    "from scipy.misc import logsumexp\n",
    "import schwimmbad\n",
    "\n",
    "from gwb.data import TGASData\n",
    "from gwb.fml import ln_H1_FML, ln_H2_FML\n",
    "\n",
    "from comoving_rv.log import logger\n",
    "from comoving_rv.db import Session, Base, db_connect\n",
    "from comoving_rv.db.model import (Run, Observation, TGASSource, SimbadInfo, PriorRV,\n",
    "                                  SpectralLineInfo, SpectralLineMeasurement, RVMeasurement,\n",
    "                                  GroupToObservations)"
   ]
  },
  {
   "cell_type": "code",
   "execution_count": null,
   "metadata": {},
   "outputs": [],
   "source": [
    "# base_path = '/Volumes/ProjectData/gaia-comoving-followup/'\n",
    "base_path = '../../data/'\n",
    "db_path = path.join(base_path, 'db.sqlite')\n",
    "engine = db_connect(db_path)\n",
    "session = Session()"
   ]
  },
  {
   "cell_type": "code",
   "execution_count": null,
   "metadata": {
    "collapsed": true
   },
   "outputs": [],
   "source": [
    "# Produced by/for scripts/mixture_model.py\n",
    "prob_gids = Table.read('../../data/tgas_apw1.fits')['group_id']\n",
    "pair_probs = np.load('../../data/pair_probs.npy')"
   ]
  },
  {
   "cell_type": "code",
   "execution_count": null,
   "metadata": {
    "collapsed": true
   },
   "outputs": [],
   "source": [
    "group_ids = np.array([x[0] \n",
    "                      for x in session.query(Observation.group_id).distinct().all() \n",
    "                      if x[0] is not None and x[0] > 0 and x[0] != 10])"
   ]
  },
  {
   "cell_type": "code",
   "execution_count": null,
   "metadata": {},
   "outputs": [],
   "source": [
    "len(group_ids)"
   ]
  },
  {
   "cell_type": "code",
   "execution_count": null,
   "metadata": {},
   "outputs": [],
   "source": [
    "base_q = session.query(Observation).join(RVMeasurement).filter(RVMeasurement.rv != None)\n",
    "\n",
    "names = ['group_id', 'dv', 'prob']\n",
    "rows = []\n",
    "for gid in np.unique(group_ids):\n",
    "    try:\n",
    "        gto = session.query(GroupToObservations).filter(GroupToObservations.group_id == gid).one()\n",
    "        obs1 = base_q.filter(Observation.id == gto.observation1_id).one()\n",
    "        obs2 = base_q.filter(Observation.id == gto.observation2_id).one()\n",
    "    except sqlalchemy.orm.exc.NoResultFound:\n",
    "        print('Skipping group {0}'.format(gid))\n",
    "        continue\n",
    "    \n",
    "    raw_rv_diff = (obs1.measurements[0].x0 - obs2.measurements[0].x0) / 6563. * c.to(u.km/u.s)    \n",
    "    mean_rv = np.mean([obs1.rv_measurement.rv.value, \n",
    "                       obs2.rv_measurement.rv.value]) * obs2.rv_measurement.rv.unit\n",
    "    \n",
    "    rv1 = mean_rv + raw_rv_diff/2.\n",
    "    rv_err1 = obs1.measurements[0].x0_error / 6563. * c.to(u.km/u.s)\n",
    "    rv2 = mean_rv - raw_rv_diff/2.\n",
    "    rv_err2 = obs2.measurements[0].x0_error / 6563. * c.to(u.km/u.s)\n",
    "    \n",
    "    # Compute point-estimate difference in 3D velocity\n",
    "    icrs1 = obs1.icrs(with_rv=rv1)\n",
    "    icrs2 = obs2.icrs(with_rv=rv2)\n",
    "    \n",
    "    icrs1.set_representation_cls(coord.CartesianRepresentation, coord.CartesianDifferential)\n",
    "    icrs2.set_representation_cls(coord.CartesianRepresentation, coord.CartesianDifferential)\n",
    "    \n",
    "    dv = np.sqrt((icrs1.v_x-icrs2.v_x)**2 + \n",
    "                 (icrs1.v_y-icrs2.v_y)**2 + \n",
    "                 (icrs1.v_z-icrs2.v_z)**2)\n",
    "    \n",
    "    prob = pair_probs[prob_gids == gid]\n",
    "    assert len(prob) == 1\n",
    "    \n",
    "    rows.append((gid, dv.value, prob[0]))\n",
    "    \n",
    "dtype = dict(names=names, formats=['i4']+['f8']*(len(names)-1))\n",
    "tbl = np.array(rows, dtype)\n",
    "tbl = Table(tbl)\n",
    "tbl['dv'].unit = u.km/u.s"
   ]
  },
  {
   "cell_type": "code",
   "execution_count": null,
   "metadata": {},
   "outputs": [],
   "source": [
    "base_q = session.query(Observation).join(RVMeasurement).filter(RVMeasurement.rv != None)\n",
    "\n",
    "dv_15s = []\n",
    "dv_meds = []\n",
    "dv_85s = []\n",
    "for gid in np.unique(group_ids):\n",
    "    try:\n",
    "        gto = session.query(GroupToObservations).filter(GroupToObservations.group_id == gid).one()\n",
    "        obs1 = base_q.filter(Observation.id == gto.observation1_id).one()\n",
    "        obs2 = base_q.filter(Observation.id == gto.observation2_id).one()\n",
    "    except sqlalchemy.orm.exc.NoResultFound:\n",
    "        print('Skipping group {0}'.format(gid))\n",
    "        continue\n",
    "    \n",
    "    raw_rv_diff = (obs1.measurements[0].x0 - obs2.measurements[0].x0) / 6563. * c.to(u.km/u.s)    \n",
    "    mean_rv = np.mean([obs1.rv_measurement.rv.value, \n",
    "                       obs2.rv_measurement.rv.value]) * obs2.rv_measurement.rv.unit\n",
    "    \n",
    "    rv1 = mean_rv + raw_rv_diff/2.\n",
    "    rv_err1 = obs1.measurements[0].x0_error / 6563. * c.to(u.km/u.s)\n",
    "    rv2 = mean_rv - raw_rv_diff/2.\n",
    "    rv_err2 = obs2.measurements[0].x0_error / 6563. * c.to(u.km/u.s)\n",
    "    \n",
    "    # Compute point-estimate difference in 3D velocity\n",
    "    icrs1 = obs1.icrs_samples(size=2**16, custom_rv=(rv1,rv_err1))\n",
    "    icrs2 = obs2.icrs_samples(size=2**16, custom_rv=(rv2,rv_err2))\n",
    "    \n",
    "    icrs1.set_representation_cls(coord.CartesianRepresentation, coord.CartesianDifferential)\n",
    "    icrs2.set_representation_cls(coord.CartesianRepresentation, coord.CartesianDifferential)\n",
    "    \n",
    "    dv = np.sqrt((icrs1.v_x-icrs2.v_x)**2 + \n",
    "                 (icrs1.v_y-icrs2.v_y)**2 + \n",
    "                 (icrs1.v_z-icrs2.v_z)**2)\n",
    "    \n",
    "    dv_15, dv_med, dv_85 = scoreatpercentile(dv.value, [15, 50, 85])\n",
    "    dv_15s.append(dv_15)\n",
    "    dv_meds.append(dv_med)\n",
    "    dv_85s.append(dv_85)\n",
    "    \n",
    "tbl['dv_15'] = dv_15s*u.km/u.s\n",
    "tbl['dv_50'] = dv_meds*u.km/u.s\n",
    "tbl['dv_85'] = dv_85s*u.km/u.s"
   ]
  },
  {
   "cell_type": "code",
   "execution_count": null,
   "metadata": {
    "collapsed": true
   },
   "outputs": [],
   "source": [
    "tbl['dv_15'] = dv_15s*u.km/u.s\n",
    "tbl['dv_50'] = dv_meds*u.km/u.s\n",
    "tbl['dv_85'] = dv_85s*u.km/u.s"
   ]
  },
  {
   "cell_type": "code",
   "execution_count": null,
   "metadata": {},
   "outputs": [],
   "source": [
    "base_q = session.query(Observation).join(RVMeasurement).filter(RVMeasurement.rv != None)\n",
    "\n",
    "sep_2d = []\n",
    "sep_3d = []\n",
    "sep_tan = []\n",
    "for gid in tbl['group_id']:\n",
    "    try:\n",
    "        gto = session.query(GroupToObservations).filter(GroupToObservations.group_id == gid).one()\n",
    "        obs1 = base_q.filter(Observation.id == gto.observation1_id).one()\n",
    "        obs2 = base_q.filter(Observation.id == gto.observation2_id).one()\n",
    "    except sqlalchemy.orm.exc.NoResultFound:\n",
    "        print('Skipping group {0}'.format(gid))\n",
    "        continue\n",
    "    \n",
    "    icrs1 = obs1.icrs(lutz_kelker=False)\n",
    "    icrs2 = obs2.icrs(lutz_kelker=False)\n",
    "    \n",
    "    sep_2d.append(icrs1.separation(icrs2))\n",
    "    sep_3d.append(icrs1.separation_3d(icrs2))\n",
    "    \n",
    "    R = min(icrs1.distance.value, icrs2.distance.value) * u.pc\n",
    "    sep_tan.append(2*R*np.sin(icrs1.separation(icrs2)/2))\n",
    "    \n",
    "tbl['sep_2d'] = u.Quantity(sep_2d)\n",
    "tbl['sep_3d'] = u.Quantity(sep_3d)\n",
    "tbl['chord_length'] = sep_tan"
   ]
  },
  {
   "cell_type": "code",
   "execution_count": null,
   "metadata": {
    "collapsed": true,
    "scrolled": true
   },
   "outputs": [],
   "source": [
    "# tbl.write('group_prob_dv.ecsv', format='ascii.ecsv')"
   ]
  },
  {
   "cell_type": "code",
   "execution_count": null,
   "metadata": {
    "collapsed": true
   },
   "outputs": [],
   "source": []
  },
  {
   "cell_type": "code",
   "execution_count": null,
   "metadata": {
    "collapsed": true
   },
   "outputs": [],
   "source": [
    "# tbl = Table.read('group_llr_dv_tbl.ecsv', format='ascii.ecsv')"
   ]
  },
  {
   "cell_type": "code",
   "execution_count": null,
   "metadata": {
    "collapsed": true
   },
   "outputs": [],
   "source": [
    "# base_q = session.query(Observation).join(RVMeasurement).filter(RVMeasurement.rv != None)\n",
    "\n",
    "# d_mins = []\n",
    "# for gid in tbl['group_id']:\n",
    "#     try:\n",
    "#         gto = session.query(GroupToObservations).filter(GroupToObservations.group_id == gid).one()\n",
    "#         obs1 = base_q.filter(Observation.id == gto.observation1_id).one()\n",
    "#         obs2 = base_q.filter(Observation.id == gto.observation2_id).one()\n",
    "#     except sqlalchemy.orm.exc.NoResultFound:\n",
    "#         print('Skipping group {0}'.format(gid))\n",
    "    \n",
    "#     icrs1 = obs1.icrs(lutz_kelker=True)\n",
    "#     icrs2 = obs2.icrs(lutz_kelker=True)\n",
    "#     d_mins.append(min(icrs1.distance.value, icrs2.distance.value))\n",
    "    \n",
    "# tbl['d_min'] = d_mins * icrs1.distance.unit"
   ]
  },
  {
   "cell_type": "code",
   "execution_count": null,
   "metadata": {
    "collapsed": true
   },
   "outputs": [],
   "source": [
    "# tbl.write('group_llr_dv_tbl.ecsv', format='ascii.ecsv')"
   ]
  },
  {
   "cell_type": "code",
   "execution_count": null,
   "metadata": {
    "collapsed": true
   },
   "outputs": [],
   "source": [
    "tbl = Table.read('group_llr_dv_tbl.ecsv', format='ascii.ecsv')"
   ]
  },
  {
   "cell_type": "code",
   "execution_count": null,
   "metadata": {
    "collapsed": true
   },
   "outputs": [],
   "source": [
    "tbl"
   ]
  },
  {
   "cell_type": "code",
   "execution_count": null,
   "metadata": {
    "collapsed": true
   },
   "outputs": [],
   "source": []
  }
 ],
 "metadata": {
  "anaconda-cloud": {},
  "kernelspec": {
   "display_name": "Python [conda env:comoving-rv]",
   "language": "python",
   "name": "conda-env-comoving-rv-py"
  },
  "language_info": {
   "codemirror_mode": {
    "name": "ipython",
    "version": 3
   },
   "file_extension": ".py",
   "mimetype": "text/x-python",
   "name": "python",
   "nbconvert_exporter": "python",
   "pygments_lexer": "ipython3",
   "version": "3.6.1"
  }
 },
 "nbformat": 4,
 "nbformat_minor": 2
}