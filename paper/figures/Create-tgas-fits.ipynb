{
 "cells": [
  {
   "cell_type": "markdown",
   "metadata": {},
   "source": [
    "Creates row-matched FITS files for input to the mixture-model script.\n",
    "\n",
    "* `data/tgas_apw1.fits` and `data/tgas_apw2.fits` for our RV measurements\n",
    "* `data/tgas_rave1.fits` and `data/tgas_rave2.fits` for RAVE RV measurements"
   ]
  },
  {
   "cell_type": "code",
   "execution_count": null,
   "metadata": {
    "collapsed": true
   },
   "outputs": [],
   "source": [
    "from os import path\n",
    "\n",
    "# Third-party\n",
    "from astropy.io import ascii\n",
    "from astropy.table import Table\n",
    "import astropy.coordinates as coord\n",
    "import astropy.units as u\n",
    "from astropy.constants import G, c\n",
    "import matplotlib.pyplot as plt\n",
    "from matplotlib.colors import Normalize\n",
    "import numpy as np\n",
    "plt.style.use('apw-notebook')\n",
    "%matplotlib inline\n",
    "import sqlalchemy\n",
    "\n",
    "from gwb.data import TGASData\n",
    "\n",
    "from comoving_rv.log import logger\n",
    "from comoving_rv.db import Session, Base, db_connect\n",
    "from comoving_rv.db.model import (Run, Observation, TGASSource, SimbadInfo, PriorRV,\n",
    "                                  SpectralLineInfo, SpectralLineMeasurement, RVMeasurement,\n",
    "                                  GroupToObservations)"
   ]
  },
  {
   "cell_type": "markdown",
   "metadata": {},
   "source": [
    "# APW RV's"
   ]
  },
  {
   "cell_type": "code",
   "execution_count": null,
   "metadata": {
    "collapsed": true
   },
   "outputs": [],
   "source": [
    "# base_path = '/Volumes/ProjectData/gaia-comoving-followup/'\n",
    "base_path = '../../data/'\n",
    "db_path = path.join(base_path, 'db.sqlite')\n",
    "engine = db_connect(db_path)\n",
    "session = Session()"
   ]
  },
  {
   "cell_type": "code",
   "execution_count": null,
   "metadata": {
    "collapsed": true
   },
   "outputs": [],
   "source": [
    "base_q = session.query(Observation).join(RVMeasurement).filter(RVMeasurement.rv != None)"
   ]
  },
  {
   "cell_type": "code",
   "execution_count": null,
   "metadata": {},
   "outputs": [],
   "source": [
    "group_ids = np.array([x[0] \n",
    "                      for x in session.query(Observation.group_id).distinct().all() \n",
    "                      if x[0] is not None and x[0] > 0 and x[0] != 10])\n",
    "len(group_ids)"
   ]
  },
  {
   "cell_type": "code",
   "execution_count": null,
   "metadata": {},
   "outputs": [],
   "source": [
    "star1_dicts = []\n",
    "star2_dicts = []\n",
    "for gid in np.unique(group_ids):\n",
    "    try:\n",
    "        gto = session.query(GroupToObservations).filter(GroupToObservations.group_id == gid).one()\n",
    "        obs1 = base_q.filter(Observation.id == gto.observation1_id).one()\n",
    "        obs2 = base_q.filter(Observation.id == gto.observation2_id).one()\n",
    "    except sqlalchemy.orm.exc.NoResultFound:\n",
    "        print('Skipping group {0}'.format(gid))\n",
    "        continue\n",
    "    \n",
    "    raw_rv_diff = (obs1.measurements[0].x0 - obs2.measurements[0].x0) / 6563. * c.to(u.km/u.s)    \n",
    "    mean_rv = np.mean([obs1.rv_measurement.rv.value, \n",
    "                       obs2.rv_measurement.rv.value]) * obs2.rv_measurement.rv.unit\n",
    "    \n",
    "    rv1 = mean_rv + raw_rv_diff/2.\n",
    "    rv_err1 = obs1.measurements[0].x0_error / 6563. * c.to(u.km/u.s)\n",
    "    rv2 = mean_rv - raw_rv_diff/2.\n",
    "    rv_err2 = obs2.measurements[0].x0_error / 6563. * c.to(u.km/u.s)\n",
    "    \n",
    "    # -------\n",
    "    # Star 1:\n",
    "    row_dict = dict()\n",
    "    star1 = obs1.tgas_star()\n",
    "    for k in star1._data.dtype.names:\n",
    "        if k in ['J', 'J_err', 'H', 'H_err', 'Ks', 'Ks_err']: continue\n",
    "        row_dict[k] = star1._data[k]\n",
    "\n",
    "    row_dict['RV'] = rv1.to(u.km/u.s).value\n",
    "    row_dict['RV_err'] = rv_err1.to(u.km/u.s).value\n",
    "    row_dict['group_id'] = gid\n",
    "    star1_dicts.append(row_dict)\n",
    "\n",
    "    # -------\n",
    "    # Star 2:\n",
    "    \n",
    "    row_dict = dict()\n",
    "    star2 = obs2.tgas_star()\n",
    "    for k in star2._data.dtype.names:\n",
    "        if k in ['J', 'J_err', 'H', 'H_err', 'Ks', 'Ks_err']: continue\n",
    "        row_dict[k] = star2._data[k]\n",
    "\n",
    "    row_dict['RV'] = rv2.to(u.km/u.s).value\n",
    "    row_dict['RV_err'] = rv_err2.to(u.km/u.s).value\n",
    "    row_dict['group_id'] = gid\n",
    "    star2_dicts.append(row_dict)"
   ]
  },
  {
   "cell_type": "code",
   "execution_count": null,
   "metadata": {
    "collapsed": true
   },
   "outputs": [],
   "source": [
    "tbl1 = Table(star1_dicts)\n",
    "tbl2 = Table(star2_dicts)\n",
    "\n",
    "tbl1.write('../../data/tgas_apw1.fits', overwrite=True)\n",
    "tbl2.write('../../data/tgas_apw2.fits', overwrite=True)"
   ]
  },
  {
   "cell_type": "markdown",
   "metadata": {},
   "source": [
    "# RAVE"
   ]
  },
  {
   "cell_type": "code",
   "execution_count": null,
   "metadata": {
    "collapsed": true
   },
   "outputs": [],
   "source": [
    "tgas = TGASData('../../../gaia-comoving-stars/data/stacked_tgas.fits')"
   ]
  },
  {
   "cell_type": "code",
   "execution_count": null,
   "metadata": {},
   "outputs": [],
   "source": [
    "star = ascii.read('../../../gaia-comoving-stars/paper/t1-1-star.txt')\n",
    "rave_stars = star[(star['group_size'] == 2) & (~star['rv'].mask)]\n",
    "rave_stars = rave_stars.group_by('group_id')"
   ]
  },
  {
   "cell_type": "markdown",
   "metadata": {},
   "source": [
    "Get only ones where both stars have RV measurements"
   ]
  },
  {
   "cell_type": "code",
   "execution_count": null,
   "metadata": {
    "collapsed": true
   },
   "outputs": [],
   "source": [
    "group_idx = np.array([i for i,g in enumerate(rave_stars.groups) if len(g) > 1])\n",
    "rave_stars = rave_stars.groups[group_idx]"
   ]
  },
  {
   "cell_type": "code",
   "execution_count": null,
   "metadata": {},
   "outputs": [],
   "source": [
    "star1_dicts = []\n",
    "star2_dicts = []\n",
    "for gid in np.unique(rave_stars['group_id']):\n",
    "    rows = rave_stars[rave_stars['group_id'] == gid]\n",
    "    \n",
    "    if len(rows) != 2:\n",
    "        print(\"skipping group {0} ({1})\".format(gid, len(rows)))\n",
    "        continue\n",
    "        \n",
    "    i1 = np.where(tgas._data['source_id'] == rows[0]['tgas_source_id'])[0][0]\n",
    "    i2 = np.where(tgas._data['source_id'] == rows[1]['tgas_source_id'])[0][0]\n",
    "    \n",
    "    star1 = tgas[i1]\n",
    "    star2 = tgas[i2]\n",
    "    \n",
    "    # -------\n",
    "    # Star 1:\n",
    "    row_dict = dict()\n",
    "    for k in star1._data.dtype.names:\n",
    "        if k in ['J', 'J_err', 'H', 'H_err', 'Ks', 'Ks_err']: continue\n",
    "        row_dict[k] = star1._data[k]\n",
    "\n",
    "    row_dict['RV'] = rows[0]['rv']\n",
    "    row_dict['RV_err'] = rows[0]['erv']\n",
    "    row_dict['group_id'] = gid\n",
    "    star1_dicts.append(row_dict)\n",
    "\n",
    "    # -------\n",
    "    # Star 2:\n",
    "    \n",
    "    row_dict = dict()\n",
    "    for k in star2._data.dtype.names:\n",
    "        if k in ['J', 'J_err', 'H', 'H_err', 'Ks', 'Ks_err']: continue\n",
    "        row_dict[k] = star2._data[k]\n",
    "\n",
    "    row_dict['RV'] = rows[1]['rv']\n",
    "    row_dict['RV_err'] = rows[1]['erv']\n",
    "    row_dict['group_id'] = gid\n",
    "    star2_dicts.append(row_dict)"
   ]
  },
  {
   "cell_type": "code",
   "execution_count": null,
   "metadata": {},
   "outputs": [],
   "source": [
    "tbl1 = Table(star1_dicts)\n",
    "tbl2 = Table(star2_dicts)\n",
    "print(len(tbl1))\n",
    "\n",
    "tbl1.write('../../data/tgas_rave1.fits', overwrite=True)\n",
    "tbl2.write('../../data/tgas_rave2.fits', overwrite=True)"
   ]
  },
  {
   "cell_type": "code",
   "execution_count": null,
   "metadata": {
    "collapsed": true
   },
   "outputs": [],
   "source": []
  },
  {
   "cell_type": "code",
   "execution_count": null,
   "metadata": {
    "collapsed": true
   },
   "outputs": [],
   "source": []
  }
 ],
 "metadata": {
  "kernelspec": {
   "display_name": "Python [conda env:comoving-rv]",
   "language": "python",
   "name": "conda-env-comoving-rv-py"
  },
  "language_info": {
   "codemirror_mode": {
    "name": "ipython",
    "version": 3
   },
   "file_extension": ".py",
   "mimetype": "text/x-python",
   "name": "python",
   "nbconvert_exporter": "python",
   "pygments_lexer": "ipython3",
   "version": "3.6.1"
  }
 },
 "nbformat": 4,
 "nbformat_minor": 2
}