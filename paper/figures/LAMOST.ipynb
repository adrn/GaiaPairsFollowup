{
 "cells": [
  {
   "cell_type": "code",
   "execution_count": null,
   "metadata": {
    "collapsed": true
   },
   "outputs": [],
   "source": [
    "# Third-party\n",
    "from astropy.io import fits\n",
    "from astropy.table import Table, vstack\n",
    "import astropy.coordinates as coord\n",
    "import astropy.units as u\n",
    "from scipy.ndimage import gaussian_filter\n",
    "import matplotlib.pyplot as plt\n",
    "import numpy as np\n",
    "plt.style.use('apw-notebook')\n",
    "%matplotlib inline"
   ]
  },
  {
   "cell_type": "code",
   "execution_count": null,
   "metadata": {
    "collapsed": true
   },
   "outputs": [],
   "source": [
    "tgas = Table.read('../../gaia-comoving-stars/data/stacked_tgas.fits')"
   ]
  },
  {
   "cell_type": "code",
   "execution_count": null,
   "metadata": {
    "collapsed": true
   },
   "outputs": [],
   "source": [
    "lamost = fits.getdata('../data/lamost_dr3_stellar.fits')\n",
    "lamost = lamost[np.isfinite(lamost['rv'])]"
   ]
  },
  {
   "cell_type": "code",
   "execution_count": null,
   "metadata": {},
   "outputs": [],
   "source": [
    "print(lamost.dtype.names)"
   ]
  },
  {
   "cell_type": "code",
   "execution_count": null,
   "metadata": {
    "collapsed": true
   },
   "outputs": [],
   "source": [
    "lamost_c = coord.ICRS(ra=lamost['ra']*u.degree, dec=lamost['dec']*u.degree)"
   ]
  },
  {
   "cell_type": "code",
   "execution_count": null,
   "metadata": {
    "collapsed": true
   },
   "outputs": [],
   "source": [
    "tgas_c = coord.ICRS(ra=tgas['ra']*u.deg - tgas['pmra']*u.mas/u.yr*15*u.yr,\n",
    "                    dec=tgas['dec']*u.deg - tgas['pmdec']*u.mas/u.yr*15*u.yr)"
   ]
  },
  {
   "cell_type": "code",
   "execution_count": null,
   "metadata": {
    "collapsed": true
   },
   "outputs": [],
   "source": [
    "idx, sep2d, _ = coord.match_coordinates_sky(lamost_c, tgas_c)"
   ]
  },
  {
   "cell_type": "code",
   "execution_count": null,
   "metadata": {},
   "outputs": [],
   "source": [
    "plt.hist(sep2d.arcsec, bins=np.logspace(-2, 3, 32))\n",
    "plt.xscale('log')\n",
    "plt.yscale('log')"
   ]
  },
  {
   "cell_type": "code",
   "execution_count": null,
   "metadata": {
    "collapsed": true
   },
   "outputs": [],
   "source": [
    "sep_cut = sep2d < 2.5*u.arcsec\n",
    "tgas_idx = idx[sep_cut]"
   ]
  },
  {
   "cell_type": "code",
   "execution_count": null,
   "metadata": {
    "collapsed": true
   },
   "outputs": [],
   "source": [
    "idx, = np.where(sep_cut)"
   ]
  },
  {
   "cell_type": "code",
   "execution_count": null,
   "metadata": {},
   "outputs": [],
   "source": [
    "idx.shape, tgas_idx.shape"
   ]
  },
  {
   "cell_type": "code",
   "execution_count": null,
   "metadata": {
    "collapsed": true
   },
   "outputs": [],
   "source": [
    "star_tbl = Table.read('../../gaia-comoving-stars/paper/t1-1-star.txt', format='ascii.csv')\n",
    "pair_tbl = Table.read('../../gaia-comoving-stars/paper/t1-2-pair.txt', format='ascii.csv')"
   ]
  },
  {
   "cell_type": "code",
   "execution_count": null,
   "metadata": {
    "collapsed": true
   },
   "outputs": [],
   "source": [
    "star_tbl_ix = np.in1d(star_tbl['tgas_source_id'], tgas[tgas_idx]['source_id'])\n",
    "\n",
    "group_ids = []\n",
    "for g in star_tbl[star_tbl_ix].group_by('group_id').groups:\n",
    "    if len(g) < 2:\n",
    "        continue\n",
    "        \n",
    "    group_ids.append(g['group_id'][0])\n",
    "    \n",
    "group_ids = np.array(group_ids)"
   ]
  },
  {
   "cell_type": "code",
   "execution_count": null,
   "metadata": {},
   "outputs": [],
   "source": [
    "len(group_ids), len(dfehs)"
   ]
  },
  {
   "cell_type": "code",
   "execution_count": null,
   "metadata": {
    "scrolled": true
   },
   "outputs": [],
   "source": [
    "chord_lens = []\n",
    "dfehs = []\n",
    "dfeh_errs = []\n",
    "drvs = []\n",
    "drv_errs = []\n",
    "all_tgas_rows = []\n",
    "for gid in group_ids[group_ids > 319]: # group index at which the 2-member groups start\n",
    "    members = star_tbl[star_tbl['group_id'] == gid]\n",
    "    \n",
    "    lamost_rows = []\n",
    "    tgas_rows = []\n",
    "    for sid in members['tgas_source_id']:\n",
    "        hi = idx[tgas[tgas_idx]['source_id'] == sid]\n",
    "        if len(hi) < 1:\n",
    "            continue\n",
    "        lamost_rows.append(Table(lamost[hi]))\n",
    "        tgas_rows.append(tgas[tgas_idx][tgas[tgas_idx]['source_id'] == sid])\n",
    "    \n",
    "    tgas_group = vstack(tgas_rows)\n",
    "    lamost_group = vstack(lamost_rows)\n",
    "    pair_group = pair_tbl[pair_tbl['group_id'] == gid]\n",
    "    if len(pair_group) > 1:\n",
    "        pair_group = pair_group[1:2]\n",
    "        \n",
    "    chord_len = (pair_group['angsep']*u.arcmin * np.mean(1000./tgas_group['parallax'])*u.pc).to(u.pc, \n",
    "                    u.dimensionless_angles())\n",
    "    sky_sep = (pair_group['angsep']*u.arcmin).to(u.degree)\n",
    "    print(\"{0:.2f} {1:.2f}\".format(sky_sep[0], chord_len[0]))\n",
    "    chord_lens.append(chord_len)\n",
    "    \n",
    "    d_feh = lamost_group['feh'][0] - lamost_group['feh'][1]\n",
    "    d_feh_err = np.sqrt(lamost_group['feh_err'][0]**2 + lamost_group['feh_err'][1]**2)\n",
    "    dfehs.append(d_feh)\n",
    "    dfeh_errs.append(d_feh_err)\n",
    "    \n",
    "    drvs.append(lamost_group['rv'][0] - lamost_group['rv'][1])\n",
    "    drv_errs.append(np.sqrt(lamost_group['rv_err'][0]**2 + lamost_group['rv_err'][1]**2))\n",
    "    \n",
    "#     if abs(rv[0]-rv[1]) < 8:\n",
    "#         all_tgas_rows += tgas_rows\n",
    "    \n",
    "    print('\u2206[Fe/H] = {0:.2f} +/- {1:.2f}'.format(d_feh, d_feh_err))\n",
    "    print('\u2206rv = {0:.2f} +/- {1:.2f}'.format(drvs[-1], drv_errs[-1]))\n",
    "    print()\n",
    "    \n",
    "chord_lens = u.Quantity(chord_lens)"
   ]
  },
  {
   "cell_type": "code",
   "execution_count": null,
   "metadata": {},
   "outputs": [],
   "source": [
    "fig, axes = plt.subplots(1, 2, figsize=(10,5), sharex=True)\n",
    "\n",
    "# ax.axvline(0, linewidth=1, alpha=0.2, zorder=-10)\n",
    "axes[0].axhline(0, linewidth=1, alpha=0.2, zorder=-10)\n",
    "axes[1].axhline(0, linewidth=1, alpha=0.2, zorder=-10)\n",
    "\n",
    "axes[0].scatter(chord_lens.to(u.pc).value, drvs, marker='o', s=8, zorder=100)\n",
    "axes[0].errorbar(chord_lens.to(u.pc).value, drvs, yerr=drv_errs, \n",
    "                 marker='None', linestyle='none', alpha=1, c='k', ecolor='#aaaaaa')\n",
    "axes[0].set_xlim(1e-3, 10)\n",
    "axes[0].set_ylim(-75, 75)\n",
    "axes[0].set_xscale('log')\n",
    "axes[0].set_ylabel(r'$\\Delta {\\rm RV}\\,[{\\rm km}\\,{\\rm s}^{-1}]$')\n",
    "\n",
    "axes[1].scatter(chord_lens.to(u.pc).value, dfehs, marker='o', s=8, zorder=100)\n",
    "axes[1].errorbar(chord_lens.to(u.pc).value, dfehs, yerr=dfeh_errs, \n",
    "                 marker='None', linestyle='none', alpha=1, c='k', ecolor='#aaaaaa')\n",
    "axes[1].set_xlim(1e-3, 10)\n",
    "axes[1].set_ylim(-0.75, 0.75)\n",
    "axes[1].set_xscale('log')\n",
    "axes[1].set_ylabel(r'$\\Delta [{\\rm Fe}/{\\rm H}]$')\n",
    "\n",
    "fig.suptitle('Comoving stars in LAMOST DR3', fontsize=20, y=0.95, x=0.55)\n",
    "fig.tight_layout()\n",
    "\n",
    "fig.subplots_adjust(top=0.9)"
   ]
  },
  {
   "cell_type": "code",
   "execution_count": null,
   "metadata": {
    "collapsed": true
   },
   "outputs": [],
   "source": [
    "from matplotlib import colors"
   ]
  },
  {
   "cell_type": "code",
   "execution_count": null,
   "metadata": {},
   "outputs": [],
   "source": [
    "fig, ax = plt.subplots(1, 1, figsize=(7, 6))\n",
    "\n",
    "ax.axvline(0, linewidth=1, alpha=0.2, zorder=-10, linestyle='--')\n",
    "ax.axhline(0, linewidth=1, alpha=0.2, zorder=-10, linestyle='--')\n",
    "\n",
    "cc = ax.scatter(drvs, dfehs, c=chord_lens, s=10, marker='o', zorder=100, alpha=0.75,\n",
    "                norm=colors.LogNorm(vmin=1E-3, vmax=1E1), cmap='magma_r')\n",
    "ax.errorbar(drvs, dfehs, xerr=drv_errs, yerr=dfeh_errs, \n",
    "                 marker='None', linestyle='none', alpha=1, c='k', ecolor='#777777')\n",
    "\n",
    "ax.set_xlim(-50, 50)\n",
    "ax.set_ylim(-0.6, 0.6)\n",
    "ax.set_xlabel(r'$\\Delta {\\rm RV}\\,[{\\rm km}\\,{\\rm s}^{-1}]$')\n",
    "ax.set_ylabel(r'$\\Delta [{\\rm Fe}/{\\rm H}]$')\n",
    "\n",
    "cb = fig.colorbar(cc)\n",
    "cb.set_label('chord length [pc]')\n",
    "\n",
    "ax.set_title('Comoving stars in LAMOST DR3', fontsize=20)\n",
    "fig.tight_layout()\n",
    "\n",
    "fig.subplots_adjust(top=0.9)\n",
    "\n",
    "fig.savefig('lamost.pdf')"
   ]
  },
  {
   "cell_type": "code",
   "execution_count": null,
   "metadata": {
    "collapsed": true
   },
   "outputs": [],
   "source": []
  }
 ],
 "metadata": {
  "anaconda-cloud": {},
  "kernelspec": {
   "display_name": "Python [conda env:comoving-rv]",
   "language": "python",
   "name": "conda-env-comoving-rv-py"
  },
  "language_info": {
   "codemirror_mode": {
    "name": "ipython",
    "version": 3
   },
   "file_extension": ".py",
   "mimetype": "text/x-python",
   "name": "python",
   "nbconvert_exporter": "python",
   "pygments_lexer": "ipython3",
   "version": "3.6.1"
  }
 },
 "nbformat": 4,
 "nbformat_minor": 2
}