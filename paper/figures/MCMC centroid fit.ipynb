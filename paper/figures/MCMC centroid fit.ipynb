{
 "cells": [
  {
   "cell_type": "markdown",
   "metadata": {},
   "source": [
    "This notebooks repeats a bunch of code that is in `scripts/fit_line_centroids.py`"
   ]
  },
  {
   "cell_type": "code",
   "execution_count": null,
   "metadata": {
    "collapsed": true
   },
   "outputs": [],
   "source": [
    "from os import path\n",
    "\n",
    "from astropy.io import fits\n",
    "from astropy.constants import c\n",
    "import astropy.coordinates as coord\n",
    "from astropy.table import Table\n",
    "import astropy.units as u\n",
    "import numpy as np\n",
    "import matplotlib.pyplot as plt\n",
    "plt.style.use('apw-notebook')\n",
    "%matplotlib inline\n",
    "from scipy.stats import scoreatpercentile\n",
    "\n",
    "import emcee\n",
    "import corner\n",
    "\n",
    "from comoving_rv.longslit import extract_region\n",
    "from comoving_rv.longslit.fitting import VoigtLineFitter\n",
    "from comoving_rv.longslit.models import voigt_polynomial, binned_voigt_polynomial\n",
    "from comoving_rv.db import Session, Base, db_connect\n",
    "from comoving_rv.db.model import (Run, Observation, TGASSource, SimbadInfo,\n",
    "                                  SpectralLineInfo, SpectralLineMeasurement)\n",
    "from comoving_rv.plot import colors"
   ]
  },
  {
   "cell_type": "code",
   "execution_count": null,
   "metadata": {
    "collapsed": true
   },
   "outputs": [],
   "source": [
    "base_path = '/Volumes/ProjectData/gaia-comoving-followup/'\n",
    "db_path = path.join(base_path, 'db.sqlite')\n",
    "engine = db_connect(db_path)\n",
    "session = Session()"
   ]
  },
  {
   "cell_type": "markdown",
   "metadata": {},
   "source": [
    "Pick a random observation to fit:"
   ]
  },
  {
   "cell_type": "code",
   "execution_count": null,
   "metadata": {
    "collapsed": true,
    "scrolled": false
   },
   "outputs": [],
   "source": [
    "np.random.seed(123)\n",
    "id_ = np.random.choice([x[0] for x in session.query(Observation.id).all()])"
   ]
  },
  {
   "cell_type": "code",
   "execution_count": null,
   "metadata": {
    "collapsed": true
   },
   "outputs": [],
   "source": [
    "Halpha = session.query(SpectralLineInfo)\\\n",
    "                .filter(SpectralLineInfo.name == 'Halpha').one()\n",
    "\n",
    "obs = session.query(Observation).filter(Observation.id == id_).one()"
   ]
  },
  {
   "cell_type": "code",
   "execution_count": null,
   "metadata": {
    "collapsed": true
   },
   "outputs": [],
   "source": [
    "# Read the spectrum data and get wavelength solution\n",
    "filename_1d = obs.path_1d(base_path)\n",
    "spec = Table.read(filename_1d)"
   ]
  },
  {
   "cell_type": "code",
   "execution_count": null,
   "metadata": {},
   "outputs": [],
   "source": [
    "# Extract region around Halpha\n",
    "x, (flux, ivar) = extract_region(spec['wavelength'],\n",
    "                                 center=Halpha.wavelength.value,\n",
    "                                 width=128,\n",
    "                                 arrs=[spec['source_flux'],\n",
    "                                       spec['source_ivar']])"
   ]
  },
  {
   "cell_type": "code",
   "execution_count": null,
   "metadata": {},
   "outputs": [],
   "source": [
    "plt.plot(x, flux, marker='', drawstyle='steps-mid')"
   ]
  },
  {
   "cell_type": "markdown",
   "metadata": {},
   "source": [
    "Start by doing maximum likelihood estimation to fit the line, then use the best-fit parameters to initialize an MCMC run."
   ]
  },
  {
   "cell_type": "code",
   "execution_count": null,
   "metadata": {
    "collapsed": true
   },
   "outputs": [],
   "source": [
    "absorp_emiss = -1. # assume absorption\n",
    "lf = VoigtLineFitter(x, flux, ivar, absorp_emiss=absorp_emiss)\n",
    "lf.fit()\n",
    "fit_pars = lf.get_gp_mean_pars()"
   ]
  },
  {
   "cell_type": "code",
   "execution_count": null,
   "metadata": {},
   "outputs": [],
   "source": [
    "lf.gp.get_parameter_names()"
   ]
  },
  {
   "cell_type": "code",
   "execution_count": null,
   "metadata": {
    "collapsed": true
   },
   "outputs": [],
   "source": [
    "param_bounds = [(-8, 14), (-8, 14), \n",
    "                (2, 16), (6547, 6579),\n",
    "                (-4, 2), (-4, 2), \n",
    "                (0, 1E16), (-np.inf, np.inf)]\n",
    "\n",
    "lf.gp.kernel.parameter_bounds = [(None,None)] * 2\n",
    "lf.gp.mean.parameter_bounds = [(None,None)] * 6\n",
    "\n",
    "def ln_posterior(pars, gp, flux_data):\n",
    "    gp.set_parameter_vector(pars)\n",
    "    lp = gp.log_prior()\n",
    "    if not np.isfinite(lp):\n",
    "        return -np.inf\n",
    "\n",
    "    # HACK: Gaussian prior on log(rho)\n",
    "    var = 1.\n",
    "    lp += -0.5*(pars[1]-1)**2/var - 0.5*np.log(2*np.pi*var)\n",
    "    \n",
    "    for i, par, bounds in zip(range(len(pars)), pars, param_bounds):\n",
    "        if par < bounds[0] or par > bounds[1]:\n",
    "            return -np.inf\n",
    "\n",
    "    ll = gp.log_likelihood(flux_data)\n",
    "    if not np.isfinite(ll):\n",
    "        return -np.inf\n",
    "\n",
    "    return ll + lp"
   ]
  },
  {
   "cell_type": "code",
   "execution_count": null,
   "metadata": {
    "collapsed": true
   },
   "outputs": [],
   "source": [
    "initial = np.array(lf.gp.get_parameter_vector())\n",
    "ndim, nwalkers = len(initial), 64\n",
    "\n",
    "p0 = initial + 1e-6 * np.random.randn(nwalkers, ndim)"
   ]
  },
  {
   "cell_type": "code",
   "execution_count": null,
   "metadata": {},
   "outputs": [],
   "source": [
    "sampler = emcee.EnsembleSampler(nwalkers, ndim, ln_posterior, args=(lf.gp, flux))\n",
    "\n",
    "print(\"Running burn-in...\")\n",
    "p0, lp, _ = sampler.run_mcmc(p0, 128)\n",
    "print(\"Running 2nd burn-in...\")\n",
    "sampler.reset()\n",
    "p0 = p0[lp.argmax()] + 1e-3 * np.random.randn(nwalkers, ndim)\n",
    "p0, lp, _ = sampler.run_mcmc(p0, 512)\n",
    "print(\"Running production...\")\n",
    "sampler.reset()\n",
    "pos, lp, _ = sampler.run_mcmc(p0, 4096)"
   ]
  },
  {
   "cell_type": "code",
   "execution_count": null,
   "metadata": {
    "collapsed": true
   },
   "outputs": [],
   "source": [
    "fit_kw = dict()\n",
    "for i,par_name in enumerate(lf.gp.get_parameter_names()):\n",
    "    if 'kernel' in par_name: continue\n",
    "\n",
    "    # remove 'mean:'\n",
    "    par_name = par_name[5:]\n",
    "\n",
    "    # skip bg\n",
    "    if par_name.startswith('bg'): continue\n",
    "\n",
    "    samples = sampler.flatchain[:,i]\n",
    "\n",
    "    if par_name.startswith('ln_'):\n",
    "        par_name = par_name[3:]\n",
    "        samples = np.exp(samples)\n",
    "\n",
    "    MAD = np.median(np.abs(samples - np.median(samples)))\n",
    "    fit_kw[par_name] = np.median(samples)\n",
    "    fit_kw[par_name+'_error'] = 1.5 * MAD # convert to ~stddev"
   ]
  },
  {
   "cell_type": "code",
   "execution_count": null,
   "metadata": {},
   "outputs": [],
   "source": [
    "fit_kw"
   ]
  },
  {
   "cell_type": "code",
   "execution_count": null,
   "metadata": {
    "collapsed": true
   },
   "outputs": [],
   "source": [
    "par_name_map = dict()\n",
    "par_name_map['kernel:log_sigma'] = r'$\\ln\\sigma_{3/2}$'\n",
    "par_name_map['kernel:log_rho'] = r'$\\ln\\rho_{3/2}$'\n",
    "par_name_map['mean:ln_amp'] = r'$\\ln A$'\n",
    "par_name_map['mean:x0'] = r'$x_0 - \\lambda_{{\\rm H}\\alpha}$'\n",
    "par_name_map['mean:ln_std_G'] = r'$\\ln\\sigma_G$'\n",
    "par_name_map['mean:ln_hwhm_L'] = r'$\\ln\\gamma_L$'\n",
    "par_name_map['mean:bg0'] = r'$\\alpha_1$'\n",
    "par_name_map['mean:bg1'] = r'$\\alpha_2$'"
   ]
  },
  {
   "cell_type": "code",
   "execution_count": null,
   "metadata": {
    "collapsed": true
   },
   "outputs": [],
   "source": [
    "lims = dict()\n",
    "lims['kernel:log_sigma'] = (5, 10)\n",
    "lims['kernel:log_rho'] = (0, 5)\n",
    "lims['mean:ln_amp'] = (11.5, 13)\n",
    "lims['mean:x0'] = (6562.5-Halpha.wavelength.value, 6563.5-Halpha.wavelength.value)\n",
    "lims['mean:ln_std_G'] = (-4, 2)\n",
    "lims['mean:ln_hwhm_L'] = (-4, 2)\n",
    "lims['mean:bg0'] = (6E4, 8E4)\n",
    "lims['mean:bg1'] = (-200, 0)"
   ]
  },
  {
   "cell_type": "code",
   "execution_count": null,
   "metadata": {},
   "outputs": [],
   "source": [
    "# plot MCMC traces\n",
    "fig,axes = plt.subplots(4, 2, figsize=(6.5,9), sharex=True)\n",
    "for i in range(sampler.dim):\n",
    "    long_name = lf.gp.get_parameter_names()[i]\n",
    "    if long_name == 'mean:x0':\n",
    "        x = Halpha.wavelength.value\n",
    "    else:\n",
    "        x = 0.\n",
    "    \n",
    "    axes.flat[i].set_rasterization_zorder(1)\n",
    "    for walker in sampler.chain[...,i]:\n",
    "        axes.flat[i].plot(walker[:1024] - x, marker='', drawstyle='steps-mid', \n",
    "                          alpha=0.1, color=colors['not_black'], zorder=-1, linewidth=1.)\n",
    "    axes.flat[i].set_ylabel(par_name_map[long_name], fontsize=18)\n",
    "    axes.flat[i].set_ylim(lims[long_name])\n",
    "\n",
    "axes.flat[i].set_xlim(0, 1024)\n",
    "axes.flat[i].xaxis.set_ticks([0, 512, 1024])\n",
    "\n",
    "axes[-1,0].set_xlabel('MCMC step num.')\n",
    "axes[-1,1].set_xlabel('MCMC step num.')\n",
    "    \n",
    "fig.tight_layout()\n",
    "\n",
    "# HACK: this one happens to have an HD number\n",
    "fig.suptitle('Source: HD {}'.format(obs.simbad_info.hd_id), y=0.97, fontsize=20)\n",
    "fig.subplots_adjust(top=0.92)\n",
    "\n",
    "fig.savefig('mcmc_trace.pdf', dpi=300)"
   ]
  },
  {
   "cell_type": "code",
   "execution_count": null,
   "metadata": {
    "collapsed": true
   },
   "outputs": [],
   "source": [
    "flatchain = np.vstack(sampler.chain[:,::16])"
   ]
  },
  {
   "cell_type": "code",
   "execution_count": null,
   "metadata": {
    "collapsed": true
   },
   "outputs": [],
   "source": [
    "def mean_line_only(x, line_fitter):\n",
    "    mn = line_fitter.gp.mean\n",
    "    v = binned_voigt_polynomial(x, mn._absorp_emiss*np.exp(mn.ln_amp),\n",
    "                                mn.x0, np.exp(mn.ln_std_G), np.exp(mn.ln_hwhm_L),\n",
    "                                [0. for i in range(mn._n_bg_coef)])\n",
    "    return v\n",
    "\n",
    "def smooth_mean_line_only(x, line_fitter):\n",
    "    mn = line_fitter.gp.mean\n",
    "    v = voigt_polynomial(x, mn._absorp_emiss*np.exp(mn.ln_amp),\n",
    "                         mn.x0, np.exp(mn.ln_std_G), np.exp(mn.ln_hwhm_L),\n",
    "                         [0. for i in range(mn._n_bg_coef)])\n",
    "    return v\n",
    "\n",
    "def poly_only(x, line_fitter):\n",
    "    mn = line_fitter.gp.mean\n",
    "    v = voigt_polynomial(x, 0,\n",
    "                         mn.x0, np.exp(mn.ln_std_G), np.exp(mn.ln_hwhm_L),\n",
    "                         [getattr(mn, \"bg{}\".format(i)) for i in range(mn._n_bg_coef)])\n",
    "    return v\n",
    "\n",
    "def gp_only(x, line_fitter):\n",
    "    mu, var = lf.gp.predict(lf.flux, x, return_var=True)\n",
    "    return mu - poly_only(x, line_fitter) - mean_line_only(x, line_fitter), np.sqrt(var)\n",
    "\n",
    "def bg_only(x, line_fitter):\n",
    "    mu, var = lf.gp.predict(lf.flux, x, return_var=True)\n",
    "    return mu - mean_line_only(x, line_fitter)"
   ]
  },
  {
   "cell_type": "code",
   "execution_count": null,
   "metadata": {
    "collapsed": true
   },
   "outputs": [],
   "source": [
    "data_plot_style = dict(color=colors['not_black'], marker='', drawstyle='steps-mid', zorder=-10)\n",
    "data_errorbar_style = dict(color='#888888', marker='', linestyle='', zorder=-12)"
   ]
  },
  {
   "cell_type": "code",
   "execution_count": null,
   "metadata": {},
   "outputs": [],
   "source": [
    "fig,axes = plt.subplots(2, 1, figsize=(5, 6.5), sharex=True)\n",
    "\n",
    "wave_grid = np.linspace(lf.x.min(), lf.x.max(), 1024)\n",
    "\n",
    "# data\n",
    "axes[0].plot(lf.x, lf.flux, **data_plot_style)\n",
    "axes[0].errorbar(lf.x, lf.flux, 1/np.sqrt(lf.ivar), **data_errorbar_style)\n",
    "\n",
    "axes[1].plot(lf.x, lf.flux - mean_line_only(lf.x, lf) - poly_only(lf.x, lf), **data_plot_style)\n",
    "axes[1].errorbar(lf.x, lf.flux - mean_line_only(lf.x, lf) - poly_only(lf.x, lf), 1/np.sqrt(lf.ivar),\n",
    "                 **data_errorbar_style)\n",
    "\n",
    "all_fits = np.zeros((len(flatchain[::10]), len(wave_grid)))\n",
    "for i,pars in enumerate(flatchain[::10]):\n",
    "    lf.gp.set_parameter_vector(pars)\n",
    "    all_fits[i] = smooth_mean_line_only(wave_grid, lf) + poly_only(wave_grid, lf)\n",
    "\n",
    "lo,hi = scoreatpercentile(all_fits, [15,85], axis=0)\n",
    "axes[0].fill_between(wave_grid, lo, hi, color=colors['fit'], \n",
    "                     alpha=0.4, zorder=10, linewidth=0)\n",
    "\n",
    "pars = np.median(flatchain, axis=0)\n",
    "lf.gp.set_parameter_vector(pars)\n",
    "axes[0].plot(wave_grid, smooth_mean_line_only(wave_grid, lf) + poly_only(wave_grid, lf), \n",
    "                 color=colors['fit'], marker='', zorder=12, alpha=1.)\n",
    "\n",
    "# model/data with line removed\n",
    "lf.gp.set_parameter_vector(pars)\n",
    "mu, std = gp_only(wave_grid, lf)\n",
    "axes[1].plot(wave_grid, mu, color=colors['gp_model'], marker='')\n",
    "\n",
    "axes[1].set_xlim(wave_grid.min(), wave_grid.max())\n",
    "axes[1].set_xlabel(r'wavelength [${\\rm \\AA}$]')\n",
    "\n",
    "axes[0].set_ylabel('flux')\n",
    "axes[1].set_ylabel('residuals')\n",
    "# axes[1].set_ylim(-4100, 4100)\n",
    "\n",
    "axes[0].ticklabel_format(style='sci',scilimits=(-3,3),axis='y')\n",
    "axes[1].ticklabel_format(style='sci',scilimits=(-3,3),axis='y')\n",
    "\n",
    "axes[0].xaxis.set_ticks(np.arange(6500, 6625+1, 25))\n",
    "axes[0].yaxis.set_ticks(np.arange(4, 8.+0.1, 1)*1e4)\n",
    "axes[1].yaxis.set_ticks([-2.5e3, 0, 2.5e3])\n",
    "\n",
    "fig.tight_layout()\n",
    "\n",
    "# HACK: this one happens to have an HD number\n",
    "fig.suptitle('Source: HD {}'.format(obs.simbad_info.hd_id), y=0.97, fontsize=20)\n",
    "fig.subplots_adjust(top=0.92)\n",
    "\n",
    "fig.savefig('mcmc_example_fit.pdf')"
   ]
  },
  {
   "cell_type": "code",
   "execution_count": null,
   "metadata": {},
   "outputs": [],
   "source": [
    "_flatchain = flatchain.copy()\n",
    "_flatchain[:,3] = _flatchain[:,3] - Halpha.wavelength.value\n",
    "\n",
    "# lims = scoreatpercentile(flatchain, per=[1, 99], axis=0).T.tolist()\n",
    "tmp = np.median(_flatchain, axis=0)\n",
    "lims = tmp[None] + np.array([-3, 3])[:,None] * np.std(_flatchain, axis=0)[None]\n",
    "lims = lims.T.tolist()\n",
    "\n",
    "# corner plot\n",
    "fig = corner.corner(_flatchain, range=lims,\n",
    "                    labels=[par_name_map[x]\n",
    "                            for x in lf.gp.get_parameter_names()])\n",
    "\n",
    "# HACK: this one happens to have an HD number\n",
    "fig.suptitle('Source: HD {}'.format(obs.simbad_info.hd_id), y=0.97, fontsize=32)\n",
    "\n",
    "for ax in fig.axes:\n",
    "    ax.set_rasterization_zorder(1)\n",
    "\n",
    "fig.savefig('mcmc_corner.pdf', dpi=300)"
   ]
  },
  {
   "cell_type": "code",
   "execution_count": null,
   "metadata": {
    "collapsed": true
   },
   "outputs": [],
   "source": []
  }
 ],
 "metadata": {
  "anaconda-cloud": {},
  "kernelspec": {
   "display_name": "Python [conda env:comoving-rv]",
   "language": "python",
   "name": "conda-env-comoving-rv-py"
  },
  "language_info": {
   "codemirror_mode": {
    "name": "ipython",
    "version": 3
   },
   "file_extension": ".py",
   "mimetype": "text/x-python",
   "name": "python",
   "nbconvert_exporter": "python",
   "pygments_lexer": "ipython3",
   "version": "3.6.1"
  }
 },
 "nbformat": 4,
 "nbformat_minor": 2
}