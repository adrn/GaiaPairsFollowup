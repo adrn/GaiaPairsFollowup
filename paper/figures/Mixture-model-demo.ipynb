{
 "cells": [
  {
   "cell_type": "code",
   "execution_count": null,
   "metadata": {
    "collapsed": true
   },
   "outputs": [],
   "source": [
    "import astropy.units as u\n",
    "import numpy as np\n",
    "import matplotlib as mpl\n",
    "import matplotlib.pyplot as plt\n",
    "plt.style.use('apw-notebook')\n",
    "%matplotlib inline"
   ]
  },
  {
   "cell_type": "code",
   "execution_count": null,
   "metadata": {
    "collapsed": true
   },
   "outputs": [],
   "source": [
    "def ln_dv_pdf(x, sigma):\n",
    "    return 2*np.log(x) - x**2/(4*sigma**2) - 1.2655121234846456 - 3*np.log(sigma)\n",
    "\n",
    "def comoving_ln_pdf(x, sigma):\n",
    "    \"\"\" Normal distribution truncated at 0 (x >= 0) \"\"\"\n",
    "    x = np.abs(x)\n",
    "    return -0.5*(x/sigma)**2 - 0.22579135264472741 - np.log(sigma)"
   ]
  },
  {
   "cell_type": "code",
   "execution_count": null,
   "metadata": {},
   "outputs": [],
   "source": [
    "fig,ax = plt.subplots(1, 1, figsize=(5,5))\n",
    "\n",
    "v = np.linspace(0, 100, 1024)\n",
    "\n",
    "p_field = np.exp(ln_dv_pdf(v, 18.))\n",
    "ax.plot(v, p_field / p_field.max(), \n",
    "        marker='', linewidth=2, label=r'$p_{\\rm field}(\\psi)$')\n",
    "ax.text(57, 0.6, r'$\\sigma_{\\rm field} \\approx 18\\,{\\rm km}\\,{\\rm s}^{-1}$',\n",
    "        fontsize=12)\n",
    "\n",
    "p_co = np.exp(comoving_ln_pdf(v, 1.))\n",
    "ax.text(2, 0.95, r'$\\sigma_{\\rm co} = 1\\,{\\rm km}\\,{\\rm s}^{-1}$',\n",
    "        fontsize=12)\n",
    "ax.plot(v, p_co / p_co.max(), marker='', \n",
    "        linestyle='--', linewidth=2, label=r'$p_{\\rm co}(\\psi)$')\n",
    "\n",
    "ax.set_xlim(0, 100)\n",
    "ax.set_xlabel(r'$\\psi$ [{0:latex_inline}]'.format(u.km/u.s))\n",
    "\n",
    "ax.legend(loc='upper right', fontsize=16)\n",
    "fig.savefig('mixture-model-demo.pdf')"
   ]
  },
  {
   "cell_type": "code",
   "execution_count": null,
   "metadata": {
    "collapsed": true
   },
   "outputs": [],
   "source": []
  }
 ],
 "metadata": {
  "kernelspec": {
   "display_name": "Python [conda env:comoving-rv]",
   "language": "python",
   "name": "conda-env-comoving-rv-py"
  },
  "language_info": {
   "codemirror_mode": {
    "name": "ipython",
    "version": 3
   },
   "file_extension": ".py",
   "mimetype": "text/x-python",
   "name": "python",
   "nbconvert_exporter": "python",
   "pygments_lexer": "ipython3",
   "version": "3.6.1"
  }
 },
 "nbformat": 4,
 "nbformat_minor": 2
}