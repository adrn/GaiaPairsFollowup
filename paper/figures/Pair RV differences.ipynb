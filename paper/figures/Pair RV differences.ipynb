{
 "cells": [
  {
   "cell_type": "code",
   "execution_count": null,
   "metadata": {
    "collapsed": true
   },
   "outputs": [],
   "source": [
    "from os import path\n",
    "\n",
    "from astropy.constants import c\n",
    "import astropy.coordinates as coord\n",
    "import astropy.units as u\n",
    "import numpy as np\n",
    "import matplotlib.pyplot as plt\n",
    "plt.style.use('apw-notebook')\n",
    "%matplotlib inline\n",
    "from sqlalchemy import func\n",
    "\n",
    "from comoving_rv.log import logger\n",
    "from comoving_rv.db import Session, Base, db_connect\n",
    "from comoving_rv.db.model import (Run, Observation, TGASSource, SimbadInfo, PriorRV,\n",
    "                                  SpectralLineInfo, SpectralLineMeasurement, RVMeasurement)"
   ]
  },
  {
   "cell_type": "code",
   "execution_count": null,
   "metadata": {},
   "outputs": [],
   "source": [
    "base_path = '/Volumes/ProjectData/gaia-comoving-followup/'\n",
    "db_path = path.join(base_path, 'db.sqlite')\n",
    "engine = db_connect(db_path)\n",
    "session = Session()"
   ]
  },
  {
   "cell_type": "code",
   "execution_count": null,
   "metadata": {
    "collapsed": true
   },
   "outputs": [],
   "source": [
    "group_ids = np.array([x[0] \n",
    "                      for x in session.query(Observation.group_id).distinct().all() \n",
    "                      if x[0] is not None and x[0] > 0 and x[0] != 10])"
   ]
  },
  {
   "cell_type": "code",
   "execution_count": null,
   "metadata": {},
   "outputs": [],
   "source": [
    "raw_dv = []\n",
    "corr_dv = []\n",
    "seps = []\n",
    "errs = []\n",
    "\n",
    "base_q = session.query(Observation).join(RVMeasurement).filter(RVMeasurement.rv != None)\n",
    "for gid in np.unique(group_ids):\n",
    "    observations = base_q.filter(Observation.group_id == gid).all()\n",
    "    \n",
    "    if len(observations) != 2:\n",
    "        print(\"skipping group {0}\".format(gid))\n",
    "        continue\n",
    "        \n",
    "    obs1, obs2 = observations\n",
    "    \n",
    "    corr_dv.append(obs1.rv_measurement.rv - obs2.rv_measurement.rv)\n",
    "    raw_dv.append((obs1.measurements[0].x0 - obs2.measurements[0].x0) / obs1.measurements[0].x0 * c.to(u.km/u.s))\n",
    "    seps.append(obs1.tgas_source.skycoord.separation(obs2.tgas_source.skycoord))\n",
    "    \n",
    "    rv1_err = obs1.measurements[0].x0_error / obs1.measurements[0].x0 * c.to(u.km/u.s)\n",
    "    rv2_err = obs1.measurements[0].x0_error / obs1.measurements[0].x0 * c.to(u.km/u.s)\n",
    "    errs.append(np.sqrt(rv1_err**2 + rv2_err**2))\n",
    "    \n",
    "corr_dv = u.Quantity(corr_dv)\n",
    "raw_dv = u.Quantity(raw_dv)\n",
    "seps = u.Quantity(seps)\n",
    "errs = u.Quantity(errs)"
   ]
  },
  {
   "cell_type": "code",
   "execution_count": null,
   "metadata": {},
   "outputs": [],
   "source": [
    "plt.hist(raw_dv, bins='auto');"
   ]
  },
  {
   "cell_type": "code",
   "execution_count": null,
   "metadata": {},
   "outputs": [],
   "source": [
    "plt.hist(corr_dv, bins='auto');"
   ]
  },
  {
   "cell_type": "code",
   "execution_count": null,
   "metadata": {},
   "outputs": [],
   "source": [
    "fig, axes = plt.subplots(1, 2, figsize=(10, 5), sharex=True, sharey=True)\n",
    "\n",
    "# axes[0].scatter(seps.to(u.degree).value, np.abs(raw_dv))\n",
    "# axes[1].scatter(seps.to(u.degree).value, np.abs(corr_dv))\n",
    "axes[0].errorbar(seps.to(u.degree).value, raw_dv.value, yerr=errs.value,\n",
    "                 linestyle='none', ecolor='#aaaaaa', marker='.')\n",
    "axes[1].errorbar(seps.to(u.degree).value, corr_dv.value, yerr=errs.value, \n",
    "                 linestyle='none', ecolor='#aaaaaa', marker='.')\n",
    "\n",
    "axes[0].set_xscale('log')\n",
    "axes[0].set_xlim(1E-1, 2E1)\n",
    "axes[0].set_ylim(-75, 75)\n",
    "\n",
    "axes[0].set_xlabel('sky sep [deg]')\n",
    "axes[0].set_ylabel(r'${{\\rm RV}}_1 - {{\\rm RV}}_2$ [{0}]'.format((u.km/u.s).to_string('latex_inline')))"
   ]
  },
  {
   "cell_type": "code",
   "execution_count": null,
   "metadata": {
    "collapsed": true
   },
   "outputs": [],
   "source": []
  },
  {
   "cell_type": "code",
   "execution_count": null,
   "metadata": {
    "collapsed": true
   },
   "outputs": [],
   "source": []
  },
  {
   "cell_type": "code",
   "execution_count": null,
   "metadata": {
    "collapsed": true
   },
   "outputs": [],
   "source": []
  },
  {
   "cell_type": "code",
   "execution_count": null,
   "metadata": {
    "collapsed": true
   },
   "outputs": [],
   "source": []
  }
 ],
 "metadata": {
  "anaconda-cloud": {},
  "kernelspec": {
   "display_name": "Python [conda env:comoving-rv]",
   "language": "python",
   "name": "conda-env-comoving-rv-py"
  },
  "language_info": {
   "codemirror_mode": {
    "name": "ipython",
    "version": 3
   },
   "file_extension": ".py",
   "mimetype": "text/x-python",
   "name": "python",
   "nbconvert_exporter": "python",
   "pygments_lexer": "ipython3",
   "version": "3.6.1"
  }
 },
 "nbformat": 4,
 "nbformat_minor": 2
}