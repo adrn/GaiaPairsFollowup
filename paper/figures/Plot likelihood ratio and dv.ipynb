{
 "cells": [
  {
   "cell_type": "code",
   "execution_count": null,
   "metadata": {
    "collapsed": true
   },
   "outputs": [],
   "source": [
    "from os import path\n",
    "\n",
    "# Third-party\n",
    "from astropy.table import Table\n",
    "import astropy.coordinates as coord\n",
    "import astropy.units as u\n",
    "from astropy.constants import G, c\n",
    "import matplotlib.pyplot as plt\n",
    "import numpy as np\n",
    "plt.style.use('apw-notebook')\n",
    "%matplotlib inline\n",
    "from scipy.stats import scoreatpercentile\n",
    "\n",
    "from comoving_rv.log import logger\n",
    "from comoving_rv.db import Session, Base, db_connect\n",
    "from comoving_rv.db.model import (Run, Observation, TGASSource, SimbadInfo, PriorRV,\n",
    "                                  SpectralLineInfo, SpectralLineMeasurement, RVMeasurement)\n",
    "\n",
    "import matplotlib as mpl\n",
    "mpl.rc('text', usetex=True)\n",
    "mpl.rcParams['text.latex.preamble'] = [r\"\\usepackage{amsmath}\"]"
   ]
  },
  {
   "cell_type": "code",
   "execution_count": null,
   "metadata": {
    "collapsed": true
   },
   "outputs": [],
   "source": [
    "base_path = '/Volumes/ProjectData/gaia-comoving-followup/'\n",
    "db_path = path.join(base_path, 'db.sqlite')\n",
    "engine = db_connect(db_path)\n",
    "session = Session()"
   ]
  },
  {
   "cell_type": "code",
   "execution_count": null,
   "metadata": {
    "collapsed": true
   },
   "outputs": [],
   "source": [
    "tbl = Table.read('group_llr_dv_tbl.ecsv', format='ascii.ecsv')"
   ]
  },
  {
   "cell_type": "code",
   "execution_count": null,
   "metadata": {},
   "outputs": [],
   "source": [
    "dllr = tbl['R_RV'] - tbl['R_mu']\n",
    "print('{0} are comoving'.format((dllr>0).sum()))"
   ]
  },
  {
   "cell_type": "code",
   "execution_count": null,
   "metadata": {},
   "outputs": [],
   "source": [
    "np.random.seed(1234)\n",
    "\n",
    "fig,ax = plt.subplots(1, 1, figsize=(5, 5))\n",
    "\n",
    "ax.scatter(dllr, tbl['dv_50'], marker='.', alpha=0.7, linewidth=0)\n",
    "\n",
    "ax.set_xlim(-30, 10)\n",
    "ax.set_xlabel(r'$\\mathcal{R}_{\\rm RV} - \\mathcal{R}_\\mu$')\n",
    "ax.set_ylabel(r'$|\\boldsymbol{v}_1 - \\boldsymbol{v}_2|$ ' + \n",
    "              '[{0}]'.format((u.km/u.s).to_string('latex_inline')))\n",
    "ax.set_ylim(-2, 65)\n",
    "\n",
    "# for a few random pairs, show error bars\n",
    "bin_edges = np.arange(-30, 10+1, 5)\n",
    "idxs = []\n",
    "for l,r in zip(bin_edges[:-1], bin_edges[1:]):\n",
    "    idx, = np.where((dllr > l) & (dllr < r))\n",
    "    idx = np.random.choice(idx, size=1, replace=False)\n",
    "    idxs.append(idx)\n",
    "idxs = np.ravel(idxs)\n",
    "    \n",
    "ax.errorbar(dllr[idxs], tbl['dv_50'][idxs], \n",
    "            yerr=[tbl['dv_15'][idxs], tbl['dv_85'][idxs]], \n",
    "            marker='None', ecolor='#aaaaaa', linestyle='none', zorder=-10,\n",
    "            elinewidth=1.)\n",
    "\n",
    "fig.tight_layout()\n",
    "fig.savefig('llr-vs-dv.pdf')"
   ]
  },
  {
   "cell_type": "code",
   "execution_count": null,
   "metadata": {
    "collapsed": true
   },
   "outputs": [],
   "source": [
    "all_color = '#888888'\n",
    "comoving_color = '#000000'\n",
    "alpha = 0.75"
   ]
  },
  {
   "cell_type": "code",
   "execution_count": null,
   "metadata": {},
   "outputs": [],
   "source": [
    "fig, axes = plt.subplots(1, 2, figsize=(10,4))\n",
    "\n",
    "_,bins,_ = axes[0].hist(tbl['sep_3d'], bins='auto', \n",
    "                        color=all_color, alpha=alpha, label='all observed')\n",
    "axes[0].hist(tbl['sep_3d'][tbl['R_RV'] > tbl['R_mu']], bins=bins, \n",
    "             color=comoving_color, alpha=alpha, \n",
    "             label=r'$\\mathcal{R}_{\\rm RV} > \\mathcal{R}_\\mu$')\n",
    "axes[0].set_xlabel('separation [pc]')\n",
    "axes[0].set_xlim(0, 10)\n",
    "axes[0].xaxis.set_ticks(np.arange(0,10+1,2))\n",
    "axes[0].set_ylabel('$N$')\n",
    "axes[0].legend(loc='upper left', fontsize=18)\n",
    "\n",
    "_,bins,_ = axes[1].hist(tbl['sep_2d'], bins=np.logspace(-3, 1, 11), color=all_color, alpha=alpha)\n",
    "axes[1].hist(tbl['sep_2d'][tbl['R_RV'] > tbl['R_mu']], bins=bins, color=comoving_color, alpha=alpha)\n",
    "\n",
    "axes[1].set_xlabel('sky separation [deg]')\n",
    "axes[1].set_xlim(1e-3, 1e1)\n",
    "\n",
    "axes[1].axvline((10*u.arcsecond).to(u.degree).value, linestyle='--',\n",
    "                color='#aaaaaa', zorder=-10)\n",
    "axes[1].text(0.0024, 100, '10 arcsec', ha='center', va='center', \n",
    "             rotation=90, fontsize=14, color='#555555')\n",
    "\n",
    "axes[1].set_xscale('log')\n",
    "axes[1].set_yscale('log')\n",
    "\n",
    "fig.tight_layout()\n",
    "fig.savefig('separation-hist.pdf')"
   ]
  },
  {
   "cell_type": "code",
   "execution_count": null,
   "metadata": {},
   "outputs": [],
   "source": [
    "((tbl['sep_3d'] > 1) & (dllr > 0)).sum() / (tbl['sep_3d'] > 1).sum()"
   ]
  },
  {
   "cell_type": "code",
   "execution_count": null,
   "metadata": {},
   "outputs": [],
   "source": [
    "fig,ax = plt.subplots(1,1, figsize=(6.5,5))\n",
    "\n",
    "plt.scatter(tbl['sep_3d'], tbl['dv'], marker='.', linewidth=0, alpha=alpha,\n",
    "            color=all_color, s=15, label='all observed')\n",
    "plt.scatter(tbl['sep_3d'][tbl['R_RV'] > tbl['R_mu']], tbl['dv'][tbl['R_RV'] > tbl['R_mu']], \n",
    "            marker='o', linewidth=0, alpha=alpha, color=comoving_color, s=10,\n",
    "            label=r'$\\mathcal{R}_{\\rm RV} > \\mathcal{R}_\\mu$')\n",
    "plt.xscale('log')\n",
    "plt.xlim(1E-2, 2E1)\n",
    "plt.ylim(-5, 100)\n",
    "\n",
    "ax.set_xlabel(r'$|\\boldsymbol{x}_1 - \\boldsymbol{x}_2|$ ' + \n",
    "              '[{0}]'.format((u.pc).to_string('latex_inline')))\n",
    "ax.set_ylabel(r'$|\\boldsymbol{v}_1 - \\boldsymbol{v}_2|$ ' + \n",
    "              '[{0}]'.format((u.km/u.s).to_string('latex_inline')))\n",
    "\n",
    "ax.legend(loc='upper left', fontsize=18)\n",
    "\n",
    "fig.tight_layout()\n",
    "fig.savefig('dx-dv.pdf')"
   ]
  },
  {
   "cell_type": "markdown",
   "metadata": {},
   "source": [
    "### Debugging"
   ]
  },
  {
   "cell_type": "code",
   "execution_count": null,
   "metadata": {},
   "outputs": [],
   "source": [
    "plt.hist(tbl['R_mu'])"
   ]
  },
  {
   "cell_type": "code",
   "execution_count": null,
   "metadata": {},
   "outputs": [],
   "source": [
    "np.random.seed(1234)\n",
    "\n",
    "fig,ax = plt.subplots(1, 1, figsize=(5.5, 5))\n",
    "cs = ax.scatter(tbl['R_mu'], dllr, marker='o', c=tbl['sep_3d'],\n",
    "                alpha=0.7, linewidth=0, s=15, cmap='plasma_r')\n",
    "ax.set_ylim(-30, 10)\n",
    "ax.set_xlabel('old likelihood ratio')\n",
    "ax.set_ylabel('(new - old)')\n",
    "cb = fig.colorbar(cs)\n",
    "cb.set_label('sep [pc]')\n",
    "\n",
    "fig,ax = plt.subplots(1, 1, figsize=(5.5, 5))\n",
    "cs = ax.scatter(tbl['R_mu'], dllr, marker='o', c=tbl['sep_2d'],\n",
    "                alpha=0.7, linewidth=0, s=15, cmap='plasma_r')\n",
    "ax.set_ylim(-30, 10)\n",
    "ax.set_xlabel('old likelihood ratio')\n",
    "ax.set_ylabel('(new - old)')\n",
    "cb = fig.colorbar(cs)\n",
    "cb.set_label('sep [deg]')"
   ]
  },
  {
   "cell_type": "code",
   "execution_count": null,
   "metadata": {
    "collapsed": true
   },
   "outputs": [],
   "source": []
  }
 ],
 "metadata": {
  "anaconda-cloud": {},
  "kernelspec": {
   "display_name": "Python [conda env:comoving-rv]",
   "language": "python",
   "name": "conda-env-comoving-rv-py"
  },
  "language_info": {
   "codemirror_mode": {
    "name": "ipython",
    "version": 3
   },
   "file_extension": ".py",
   "mimetype": "text/x-python",
   "name": "python",
   "nbconvert_exporter": "python",
   "pygments_lexer": "ipython3",
   "version": "3.6.1"
  }
 },
 "nbformat": 4,
 "nbformat_minor": 2
}