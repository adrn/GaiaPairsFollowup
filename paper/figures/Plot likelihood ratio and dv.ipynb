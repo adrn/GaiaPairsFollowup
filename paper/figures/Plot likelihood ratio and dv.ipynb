{
 "cells": [
  {
   "cell_type": "code",
   "execution_count": null,
   "metadata": {
    "collapsed": true
   },
   "outputs": [],
   "source": [
    "from os import path\n",
    "\n",
    "# Third-party\n",
    "from astropy.table import Table\n",
    "from astropy.table import vstack\n",
    "import astropy.coordinates as coord\n",
    "import astropy.units as u\n",
    "from astropy.constants import G, c\n",
    "import matplotlib.pyplot as plt\n",
    "import numpy as np\n",
    "plt.style.use('apw-notebook')\n",
    "%matplotlib inline\n",
    "from scipy.stats import scoreatpercentile\n",
    "\n",
    "from comoving_rv.log import logger\n",
    "from comoving_rv.db import Session, Base, db_connect\n",
    "from comoving_rv.db.model import (Run, Observation, TGASSource, SimbadInfo, PriorRV,\n",
    "                                  SpectralLineInfo, SpectralLineMeasurement, RVMeasurement)\n",
    "\n",
    "import matplotlib as mpl\n",
    "mpl.rc('text', usetex=True)\n",
    "mpl.rcParams['text.latex.preamble'] = [r\"\\usepackage{amsmath}\"]"
   ]
  },
  {
   "cell_type": "code",
   "execution_count": null,
   "metadata": {
    "collapsed": true
   },
   "outputs": [],
   "source": [
    "# base_path = '/Volumes/ProjectData/gaia-comoving-followup/'\n",
    "# db_path = path.join(base_path, 'db.sqlite')\n",
    "# engine = db_connect(db_path)\n",
    "# session = Session()"
   ]
  },
  {
   "cell_type": "code",
   "execution_count": null,
   "metadata": {
    "collapsed": true
   },
   "outputs": [],
   "source": [
    "tbl = Table.read('group_llr_dv_tbl.ecsv', format='ascii.ecsv')\n",
    "rave_tbl = Table.read('RAVE_group_llr_dv_tbl.ecsv', format='ascii.ecsv')\n",
    "all_tbl = vstack((tbl, rave_tbl))"
   ]
  },
  {
   "cell_type": "code",
   "execution_count": null,
   "metadata": {},
   "outputs": [],
   "source": [
    "(rave_tbl['d_min'] < 200).sum(), ((rave_tbl['R_RV'] > rave_tbl['R_mu']) & (rave_tbl['d_min'] < 200)).sum()"
   ]
  },
  {
   "cell_type": "code",
   "execution_count": null,
   "metadata": {
    "collapsed": true
   },
   "outputs": [],
   "source": [
    "shaya = Table.read('../../data/shaya_olling2011.fit')"
   ]
  },
  {
   "cell_type": "code",
   "execution_count": null,
   "metadata": {},
   "outputs": [],
   "source": [
    "dllr = tbl['R_RV'] - tbl['R_mu']\n",
    "print('{0} are comoving'.format((dllr>0).sum()))"
   ]
  },
  {
   "cell_type": "code",
   "execution_count": null,
   "metadata": {},
   "outputs": [],
   "source": [
    "np.random.seed(1234)\n",
    "\n",
    "fig,ax = plt.subplots(1, 1, figsize=(5, 5))\n",
    "\n",
    "ax.scatter(dllr, tbl['dv_50'], marker='.', alpha=0.7, linewidth=0)\n",
    "\n",
    "ax.set_xlim(-30, 10)\n",
    "ax.set_xlabel(r'$\\mathcal{R}_{\\rm RV} - \\mathcal{R}_\\mu$')\n",
    "ax.set_ylabel(r'$|\\boldsymbol{v}_1 - \\boldsymbol{v}_2|$ ' + \n",
    "              '[{0}]'.format((u.km/u.s).to_string('latex_inline')))\n",
    "ax.set_ylim(-2, 65)\n",
    "\n",
    "# for a few random pairs, show error bars\n",
    "bin_edges = np.arange(-30, 10+1, 5)\n",
    "idxs = []\n",
    "for l,r in zip(bin_edges[:-1], bin_edges[1:]):\n",
    "    idx, = np.where((dllr > l) & (dllr < r))\n",
    "    idx = np.random.choice(idx, size=1, replace=False)\n",
    "    idxs.append(idx)\n",
    "idxs = np.ravel(idxs)\n",
    "    \n",
    "ax.errorbar(dllr[idxs], tbl['dv_50'][idxs], \n",
    "            yerr=[tbl['dv_15'][idxs], tbl['dv_85'][idxs]], \n",
    "            marker='None', ecolor='#aaaaaa', linestyle='none', zorder=-10,\n",
    "            elinewidth=1.)\n",
    "\n",
    "fig.tight_layout()\n",
    "fig.savefig('llr-vs-dv.pdf')"
   ]
  },
  {
   "cell_type": "code",
   "execution_count": null,
   "metadata": {
    "collapsed": true
   },
   "outputs": [],
   "source": [
    "all_color = '#888888'\n",
    "comoving_color = '#000000'\n",
    "alpha = 0.5"
   ]
  },
  {
   "cell_type": "code",
   "execution_count": null,
   "metadata": {},
   "outputs": [],
   "source": [
    "fig, axes = plt.subplots(1, 2, figsize=(10,4.5), sharex=True, sharey=True)\n",
    "\n",
    "sep2d_bins = sep3d_bins = np.logspace(-2, 1, 13)\n",
    "\n",
    "_,sep3d_bins,_ = axes[0].hist(tbl['sep_3d'], bins=sep3d_bins, \n",
    "                              color=all_color, alpha=alpha, label='all observed')\n",
    "axes[0].hist(tbl['sep_3d'][tbl['R_RV'] > tbl['R_mu']], bins=sep3d_bins, \n",
    "             color=comoving_color, alpha=alpha, \n",
    "             label=r'$\\mathcal{R}_{\\rm RV} > \\mathcal{R}_\\mu$')\n",
    "axes[0].set_xlabel('separation [pc]')\n",
    "axes[0].set_ylabel('$N$')\n",
    "axes[0].legend(loc='upper left', fontsize=18)\n",
    "\n",
    "_,sep2d_bins,_ = axes[1].hist(tbl['chord_length'], bins=sep2d_bins, color=all_color, alpha=alpha)\n",
    "axes[1].hist(tbl['chord_length'][tbl['R_RV'] > tbl['R_mu']], bins=sep2d_bins, color=comoving_color, alpha=alpha)\n",
    "axes[1].set_xlabel('chord length [pc]')\n",
    "\n",
    "axes[1].set_xlim(1e-2, 1e1)\n",
    "axes[1].set_xscale('log')\n",
    "axes[1].set_yscale('log')\n",
    "\n",
    "fig.tight_layout()\n",
    "\n",
    "fig.suptitle('Observed comoving pairs', fontsize=20)\n",
    "fig.subplots_adjust(top=0.9)\n",
    "\n",
    "fig.savefig('separation-hist.pdf')"
   ]
  },
  {
   "cell_type": "code",
   "execution_count": null,
   "metadata": {},
   "outputs": [],
   "source": [
    "((tbl['sep_3d'] > 1) & (dllr > 0)).sum() / (tbl['sep_3d'] > 1).sum()"
   ]
  },
  {
   "cell_type": "code",
   "execution_count": null,
   "metadata": {},
   "outputs": [],
   "source": [
    "fig,ax = plt.subplots(1,1, figsize=(6.5,5))\n",
    "\n",
    "plt.scatter(tbl['sep_3d'], tbl['dv'], marker='.', linewidth=0, alpha=0.75,\n",
    "            color=all_color, s=15, label='all observed')\n",
    "plt.scatter(tbl['sep_3d'][tbl['R_RV'] > tbl['R_mu']], tbl['dv'][tbl['R_RV'] > tbl['R_mu']], \n",
    "            marker='o', linewidth=0, alpha=0.75, color=comoving_color, s=10,\n",
    "            label=r'$\\mathcal{R}_{\\rm RV} > \\mathcal{R}_\\mu$')\n",
    "plt.xscale('log')\n",
    "plt.xlim(1E-2, 1.5E1)\n",
    "plt.ylim(-5, 100)\n",
    "\n",
    "ax.set_xlabel(r'$|\\boldsymbol{x}_1 - \\boldsymbol{x}_2|$ ' + \n",
    "              '[{0}]'.format((u.pc).to_string('latex_inline')))\n",
    "ax.set_ylabel(r'$|\\boldsymbol{v}_1 - \\boldsymbol{v}_2|$ ' + \n",
    "              '[{0}]'.format((u.km/u.s).to_string('latex_inline')))\n",
    "\n",
    "ax.legend(loc='upper left', fontsize=18)\n",
    "\n",
    "fig.tight_layout()\n",
    "fig.savefig('dx-dv.pdf')"
   ]
  },
  {
   "cell_type": "markdown",
   "metadata": {},
   "source": [
    "## Now plots with RAVE data"
   ]
  },
  {
   "cell_type": "code",
   "execution_count": null,
   "metadata": {},
   "outputs": [],
   "source": [
    "mask = ((all_tbl['R_RV'] > all_tbl['R_mu']) & \n",
    "        (all_tbl['sep_3d'].to(u.pc) < 10*u.pc) &\n",
    "        (all_tbl['d_min'].to(u.pc) < (200.*u.pc)))\n",
    "print('Total number of confirmed pairs:', mask.sum())"
   ]
  },
  {
   "cell_type": "code",
   "execution_count": null,
   "metadata": {},
   "outputs": [],
   "source": [
    "((rave_tbl['sep_3d'] > 1) & (rave_tbl['R_RV'] > rave_tbl['R_mu'])).sum() / (rave_tbl['sep_3d'] > 1).sum()"
   ]
  },
  {
   "cell_type": "code",
   "execution_count": null,
   "metadata": {},
   "outputs": [],
   "source": [
    "plt.hist(all_tbl['sep_2d'][mask], bins=np.logspace(-3, 1, 15),\n",
    "         color=comoving_color, alpha=alpha)\n",
    "plt.xscale('log')\n",
    "plt.yscale('log')\n",
    "plt.xlabel(r'$\\Delta \\theta$ [deg]')"
   ]
  },
  {
   "cell_type": "code",
   "execution_count": null,
   "metadata": {},
   "outputs": [],
   "source": [
    "sep2d_bins = sep3d_bins = np.logspace(-2, 1, 15)\n",
    "\n",
    "fig, axes = plt.subplots(1, 2, figsize=(10,4.5), sharex=True, sharey=True)\n",
    "\n",
    "H,_,_ = axes[0].hist(all_tbl['sep_3d'][mask], bins=sep3d_bins, \n",
    "                     color=comoving_color, alpha=alpha)\n",
    "# _ctr = (sep3d_bins[:-1] + sep3d_bins[1:])/2\n",
    "# axes[0].errorbar(_ctr, H, np.sqrt(H),\n",
    "#                  marker='None', linestyle='none', zorder=10, ecolor='k')\n",
    "\n",
    "axes[0].set_xlabel('separation [pc]')\n",
    "axes[0].set_ylabel('$N$')\n",
    "\n",
    "H,_,_ = axes[1].hist(all_tbl['chord_length'][mask], bins=sep2d_bins, \n",
    "                     color=comoving_color, alpha=alpha)\n",
    "# _ctr = (sep2d_bins[:-1] + sep2d_bins[1:])/2\n",
    "# axes[1].errorbar(_ctr, H, np.sqrt(H),\n",
    "#                  marker='None', linestyle='none', zorder=10, ecolor='k')\n",
    "\n",
    "axes[1].set_xlabel('chord length [pc]')\n",
    "\n",
    "axes[1].set_xlim(1e-2, 1e1)\n",
    "axes[1].set_xscale('log')\n",
    "axes[1].set_yscale('log')\n",
    "\n",
    "fig.tight_layout()\n",
    "\n",
    "fig.suptitle('Genuine comoving pairs (including RAVE-identified pairs)', \n",
    "             fontsize=20)\n",
    "fig.subplots_adjust(top=0.9)\n",
    "\n",
    "# fig.savefig('separation-hist-rave.pdf')"
   ]
  },
  {
   "cell_type": "code",
   "execution_count": null,
   "metadata": {
    "collapsed": true
   },
   "outputs": [],
   "source": [
    "from mpl_toolkits.axes_grid1 import make_axes_locatable\n",
    "from matplotlib.ticker import LogLocator, AutoMinorLocator"
   ]
  },
  {
   "cell_type": "code",
   "execution_count": null,
   "metadata": {},
   "outputs": [],
   "source": [
    "chord_length = []\n",
    "dist = []\n",
    "for shaya_id in np.unique(shaya['Seq']):\n",
    "    rows = shaya[shaya['Seq'] == shaya_id]\n",
    "    if len(rows) != 2:\n",
    "        continue\n",
    "        \n",
    "    if rows['Prob'][-1] < 0.5:\n",
    "        continue\n",
    "    \n",
    "    icrs1 = coord.ICRS(ra=rows[0]['_RAJ2000']*u.deg,\n",
    "                       dec=rows[0]['_DEJ2000']*u.deg)\n",
    "    icrs2 = coord.ICRS(ra=rows[1]['_RAJ2000']*u.deg,\n",
    "                       dec=rows[1]['_DEJ2000']*u.deg)\n",
    "    sep_2d = icrs1.separation(icrs2)\n",
    "    R = np.mean(rows['Dist'])\n",
    "    \n",
    "    dist.append(R)\n",
    "    chord_length.append((2*R*np.sin(sep_2d/2.)).value)\n",
    "    \n",
    "chord_length = u.Quantity(chord_length*u.pc)\n",
    "dist = u.Quantity(dist*u.pc)\n",
    "\n",
    "shaya_tbl = Table({'chord_length': chord_length, 'd_min': dist})\n",
    "len(shaya_tbl)"
   ]
  },
  {
   "cell_type": "code",
   "execution_count": null,
   "metadata": {},
   "outputs": [],
   "source": [
    "fig, ax = plt.subplots(figsize=(8, 8))\n",
    "\n",
    "divider = make_axes_locatable(ax)\n",
    "ax_hist_x = divider.append_axes(\"top\", 1.4, pad=0.4, sharex=ax)\n",
    "ax_hist_y = divider.append_axes(\"right\", 1.4, pad=0.4, sharey=ax)\n",
    "\n",
    "ax.scatter(tbl['chord_length'], tbl['d_min'],\n",
    "           marker='o', s=10, color='#67a9cf', label='this work')\n",
    "ax.scatter(rave_tbl['chord_length'], rave_tbl['d_min'],\n",
    "           marker='s', s=10, color='#ef8a62', label='RAVE')\n",
    "ax.set_xscale('log')\n",
    "\n",
    "xbins = np.logspace(-3, 1, 10)\n",
    "ybins = np.linspace(0, 200, 10)\n",
    "ax_hist_x.hist(all_tbl['chord_length'][mask], color=comoving_color, \n",
    "               alpha=alpha, bins=xbins)\n",
    "ax_hist_y.hist(all_tbl['d_min'][mask], bins=ybins, \n",
    "               color=comoving_color, alpha=alpha, orientation='horizontal')\n",
    "\n",
    "ax.legend(loc='lower left', fontsize=16)\n",
    "\n",
    "ax.set_xlim(2e-3, 1E1)\n",
    "ax_hist_x.set_xlim(ax.get_xlim())\n",
    "ax_hist_x.set_yscale('log')\n",
    "ax_hist_x.set_ylim(3, 2E2)\n",
    "ax_hist_x.set_yticks([10, 100])\n",
    "ax_hist_x.yaxis.set_ticks(list(np.arange(2, 10)) + list(np.arange(2, 10)*10), minor=True)\n",
    "ax_hist_x.set_ylabel('$N$')\n",
    "\n",
    "ax.set_ylim(0, 200)\n",
    "ax_hist_y.set_ylim(ax.get_ylim())\n",
    "ax_hist_y.set_xlim(0, 40)\n",
    "ax_hist_y.set_xticks([0, 10, 20, 30, 40])\n",
    "ax_hist_y.set_xlabel('$N$')\n",
    "\n",
    "# make some labels invisible\n",
    "plt.setp(ax_hist_x.get_xticklabels() + ax_hist_y.get_yticklabels(),\n",
    "         visible=False)\n",
    "\n",
    "ax.set_xlabel(r'chord length, $\\hat{s}$ [pc]')\n",
    "ax.set_ylabel(r'mean distance, $\\bar{d}$ [pc]')\n",
    "\n",
    "fig.savefig('separation-with-rave.pdf')"
   ]
  },
  {
   "cell_type": "code",
   "execution_count": null,
   "metadata": {},
   "outputs": [],
   "source": [
    "fig, ax = plt.subplots(figsize=(6, 5))\n",
    "\n",
    "ax.set_title(r'for $\\hat{s} > 0.1\\,{\\rm pc}$')\n",
    "\n",
    "ax.hist(all_tbl['chord_length'][mask], color=comoving_color, \n",
    "        alpha=alpha, bins=np.linspace(0.1, 10, 7))\n",
    "\n",
    "ax.set_xlabel(r'chord length, $\\hat{s}$ [pc]')\n",
    "ax.set_ylabel('$N$')\n",
    "\n",
    "fig.tight_layout()\n",
    "\n",
    "fig.savefig('linear-separation.pdf')"
   ]
  },
  {
   "cell_type": "code",
   "execution_count": null,
   "metadata": {},
   "outputs": [],
   "source": [
    "fig, ax = plt.subplots(figsize=(8, 8))\n",
    "\n",
    "divider = make_axes_locatable(ax)\n",
    "ax_hist_x = divider.append_axes(\"top\", 1.4, pad=0.4, sharex=ax)\n",
    "ax_hist_y = divider.append_axes(\"right\", 1.4, pad=0.4, sharey=ax)\n",
    "\n",
    "ax.scatter(tbl['chord_length'], tbl['d_min'],\n",
    "           marker='o', s=10, color='#67a9cf', label='this work', alpha=0.7)\n",
    "ax.scatter(rave_tbl['chord_length'], rave_tbl['d_min'],\n",
    "           marker='s', s=10, color='#ef8a62', label='RAVE', alpha=0.7)\n",
    "ax.scatter(shaya_tbl['chord_length'], shaya_tbl['d_min'],\n",
    "           marker='^', s=6, color='#31a354', label='SO11', alpha=0.7)\n",
    "ax.set_xscale('log')\n",
    "\n",
    "xbins = np.logspace(-3, 1, 21)\n",
    "ybins = np.linspace(0, 100, 21)\n",
    "ax_hist_x.hist(np.concatenate((all_tbl['chord_length'][mask], shaya_tbl['chord_length'])), \n",
    "               color=comoving_color, alpha=alpha, bins=xbins)\n",
    "ax_hist_y.hist(np.concatenate((all_tbl['d_min'][mask], shaya_tbl['d_min'])), bins=ybins, \n",
    "               color=comoving_color, alpha=alpha, orientation='horizontal')\n",
    "\n",
    "ax.legend(loc='lower left', fontsize=12, ncol=3)\n",
    "\n",
    "ax.set_xlim(2e-3, 1E1)\n",
    "ax_hist_x.set_xlim(ax.get_xlim())\n",
    "ax_hist_x.set_yscale('log')\n",
    "ax_hist_x.set_ylim(8E-1, 1.5E2)\n",
    "ax_hist_x.set_yticks([1, 10, 100])\n",
    "ax_hist_x.yaxis.set_ticks(list(np.arange(2, 10)) + list(np.arange(2, 10)*10), minor=True)\n",
    "ax_hist_x.set_ylabel('$N$')\n",
    "\n",
    "ax.set_ylim(0, 100)\n",
    "ax_hist_y.set_ylim(ax.get_ylim())\n",
    "ax_hist_y.set_xlim(0, 50)\n",
    "ax_hist_y.set_xticks([0, 50, 100, 150])\n",
    "ax_hist_y.set_xlabel('$N$')\n",
    "\n",
    "# make some labels invisible\n",
    "plt.setp(ax_hist_x.get_xticklabels() + ax_hist_y.get_yticklabels(),\n",
    "         visible=False)\n",
    "\n",
    "ax.set_xlabel(r'chord length, $\\hat{s}$ [pc]')\n",
    "ax.set_ylabel(r'mean distance, $\\bar{d}$ [pc]')\n",
    "\n",
    "fig.savefig('separation-with-shaya.pdf')"
   ]
  },
  {
   "cell_type": "code",
   "execution_count": null,
   "metadata": {
    "collapsed": true
   },
   "outputs": [],
   "source": []
  }
 ],
 "metadata": {
  "anaconda-cloud": {},
  "kernelspec": {
   "display_name": "Python [conda env:comoving-rv]",
   "language": "python",
   "name": "conda-env-comoving-rv-py"
  },
  "language_info": {
   "codemirror_mode": {
    "name": "ipython",
    "version": 3
   },
   "file_extension": ".py",
   "mimetype": "text/x-python",
   "name": "python",
   "nbconvert_exporter": "python",
   "pygments_lexer": "ipython3",
   "version": "3.6.1"
  }
 },
 "nbformat": 4,
 "nbformat_minor": 2
}