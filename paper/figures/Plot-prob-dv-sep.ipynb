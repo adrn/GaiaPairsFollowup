{
 "cells": [
  {
   "cell_type": "code",
   "execution_count": null,
   "metadata": {
    "collapsed": true
   },
   "outputs": [],
   "source": [
    "from os import path\n",
    "\n",
    "# Third-party\n",
    "from astropy.table import Table\n",
    "from astropy.table import vstack\n",
    "import astropy.coordinates as coord\n",
    "import astropy.units as u\n",
    "from astropy.constants import G, c\n",
    "import matplotlib.pyplot as plt\n",
    "import numpy as np\n",
    "plt.style.use('apw-notebook')\n",
    "%matplotlib inline\n",
    "from scipy.stats import scoreatpercentile\n",
    "\n",
    "from comoving_rv.log import logger\n",
    "from comoving_rv.db import Session, Base, db_connect\n",
    "from comoving_rv.db.model import (Run, Observation, TGASSource, SimbadInfo, PriorRV,\n",
    "                                  SpectralLineInfo, SpectralLineMeasurement, RVMeasurement,\n",
    "                                  GroupToObservations)\n",
    "\n",
    "import matplotlib as mpl\n",
    "mpl.rc('text', usetex=True)\n",
    "mpl.rcParams['text.latex.preamble'] = [r\"\\usepackage{amsmath}\"]"
   ]
  },
  {
   "cell_type": "code",
   "execution_count": null,
   "metadata": {
    "collapsed": true
   },
   "outputs": [],
   "source": [
    "all_color = '#888888'\n",
    "comoving_color = '#000000'\n",
    "alpha = 0.5\n",
    "sky_sep_label = r'tangential sep., $s_{\\rm tan}$ [pc]'\n",
    "\n",
    "apw_color = '#045a8d'\n",
    "rave_color = '#ef8a62'"
   ]
  },
  {
   "cell_type": "code",
   "execution_count": null,
   "metadata": {
    "collapsed": true
   },
   "outputs": [],
   "source": [
    "# base_path = '/Volumes/ProjectData/gaia-comoving-followup/'\n",
    "base_path = '../../data/'\n",
    "db_path = path.join(base_path, 'db.sqlite')\n",
    "engine = db_connect(db_path)\n",
    "session = Session()"
   ]
  },
  {
   "cell_type": "code",
   "execution_count": null,
   "metadata": {
    "collapsed": true
   },
   "outputs": [],
   "source": [
    "tbl = Table.read('group_prob_dv.ecsv', format='ascii.ecsv')\n",
    "rave_tbl = Table.read('group_prob_dv_rave.ecsv', format='ascii.ecsv')\n",
    "all_tbl = vstack((tbl, rave_tbl))"
   ]
  },
  {
   "cell_type": "markdown",
   "metadata": {},
   "source": [
    "Now we read the data from Shaya and Olling 2011"
   ]
  },
  {
   "cell_type": "code",
   "execution_count": null,
   "metadata": {},
   "outputs": [],
   "source": [
    "shaya = Table.read('../../data/shaya_olling2011.fit')\n",
    "\n",
    "chord_length = []\n",
    "dist = []\n",
    "for shaya_id in np.unique(shaya['Seq']):\n",
    "    rows = shaya[shaya['Seq'] == shaya_id]\n",
    "    if len(rows) != 2:\n",
    "        continue\n",
    "        \n",
    "    if rows['Prob'][-1] < 0.5:\n",
    "        continue\n",
    "    \n",
    "    icrs1 = coord.ICRS(ra=rows[0]['_RAJ2000']*u.deg,\n",
    "                       dec=rows[0]['_DEJ2000']*u.deg)\n",
    "    icrs2 = coord.ICRS(ra=rows[1]['_RAJ2000']*u.deg,\n",
    "                       dec=rows[1]['_DEJ2000']*u.deg)\n",
    "    sep_2d = icrs1.separation(icrs2)\n",
    "    R = np.mean(rows['Dist'])\n",
    "    \n",
    "    dist.append(R)\n",
    "    chord_length.append((2*R*np.sin(sep_2d/2.)).value)\n",
    "    \n",
    "chord_length = u.Quantity(chord_length*u.pc)\n",
    "dist = u.Quantity(dist*u.pc)\n",
    "\n",
    "shaya_tbl = Table({'chord_length': chord_length, 'd_min': dist})\n",
    "len(shaya_tbl)"
   ]
  },
  {
   "cell_type": "code",
   "execution_count": null,
   "metadata": {},
   "outputs": [],
   "source": [
    "comoving = tbl['prob'] > 0.5\n",
    "rave_comoving = rave_tbl['prob'] > 0.5\n",
    "comoving_all = all_tbl['prob'] > 0.5\n",
    "\n",
    "print('apw: {0} are comoving of {1} ({2:.0%})'.format(comoving.sum(), len(tbl), \n",
    "                                                      comoving.sum()/len(tbl)))\n",
    "print('RAVE: {0} are comoving of {1} ({2:.0%})'.format(rave_comoving.sum(), len(rave_tbl), \n",
    "                                                       rave_comoving.sum()/len(rave_tbl)))\n",
    "print('all: {0} are comoving of {1} ({2:.0%})'.format(comoving_all.sum(), len(all_tbl),\n",
    "                                                      comoving_all.sum()/len(all_tbl)))"
   ]
  },
  {
   "cell_type": "markdown",
   "metadata": {},
   "source": [
    "### Make plots of $f$ samples:"
   ]
  },
  {
   "cell_type": "code",
   "execution_count": null,
   "metadata": {
    "collapsed": true
   },
   "outputs": [],
   "source": [
    "apw_f_samples = np.ravel(np.load('../../data/sampler_chain_apw.npy')[:,100::4,0])\n",
    "rave_f_samples = np.ravel(np.load('../../data/sampler_chain_rave.npy')[:,100::4,0])"
   ]
  },
  {
   "cell_type": "code",
   "execution_count": null,
   "metadata": {},
   "outputs": [],
   "source": [
    "fig, ax = plt.subplots(1, 1, figsize=(5,5))\n",
    "\n",
    "bins = np.linspace(0, 1, 55)\n",
    "ax.hist(apw_f_samples, bins=bins, alpha=0.75,\n",
    "        normed=True, color=apw_color, label='this work')\n",
    "ax.hist(rave_f_samples, bins=bins, alpha=0.75,\n",
    "        normed=True, color=rave_color, label='RAVE');\n",
    "\n",
    "ax.legend(title='RV source:')\n",
    "\n",
    "ax.set_xlabel('$f$')\n",
    "ax.set_ylabel(r'$p(f \\,|\\, {\\rm data})$')\n",
    "\n",
    "ax.set_xlim(0, 1)\n",
    "fig.savefig('f_samples.pdf')"
   ]
  },
  {
   "cell_type": "code",
   "execution_count": null,
   "metadata": {
    "collapsed": true
   },
   "outputs": [],
   "source": [
    "cmap = plt.get_cmap('coolwarm_r')"
   ]
  },
  {
   "cell_type": "code",
   "execution_count": null,
   "metadata": {},
   "outputs": [],
   "source": [
    "for title, name, _tbl in zip(['RV source: this work', 'RV source: RAVE'], \n",
    "                             ['apw', 'rave'],\n",
    "                             [tbl, rave_tbl]):\n",
    "    \n",
    "    fig,axes = plt.subplots(1, 2, figsize=(12,5), sharey=True)\n",
    "\n",
    "    for ax in axes:\n",
    "        for row in _tbl:\n",
    "            color = cmap(row['prob'])\n",
    "            ax.plot([row['chord_length'], row['chord_length']],\n",
    "                    [row['dv_15'], row['dv_85']], marker='', linestyle='-',\n",
    "                    color=color, alpha=0.5, linewidth=1.5)\n",
    "\n",
    "        ax.scatter(_tbl['chord_length'], _tbl['dv_50'], marker='o', \n",
    "                   s=3, color='#333333', alpha=0.9)\n",
    "\n",
    "        ax.set_ylim(-5, 75)\n",
    "\n",
    "        ax.set_xlabel(sky_sep_label)\n",
    "\n",
    "    axes[0].axhline(0, color='#000000', zorder=-100, alpha=0.15)\n",
    "    axes[1].axhline(0, color='#000000', zorder=-100, alpha=0.15)\n",
    "        \n",
    "    axes[0].set_xscale('log')\n",
    "\n",
    "    axes[0].text(2E-1, 67, r'$<1\\,{\\rm pc}$', fontsize=20)\n",
    "    axes[1].text(7.4, 67, r'$1$--$10\\,{\\rm pc}$', fontsize=20)\n",
    "\n",
    "    axes[0].set_xlim(1E-3, 1)\n",
    "    axes[1].set_xlim(0, 10)\n",
    "\n",
    "    axes[0].set_ylabel(r'$|\\boldsymbol{v}_1 - \\boldsymbol{v}_2|$ ' + \n",
    "                       '[{0}]'.format((u.km/u.s).to_string('latex_inline')))\n",
    "\n",
    "    sm = plt.cm.ScalarMappable(cmap=cmap, norm=mpl.colors.Normalize())\n",
    "    sm.set_array([])\n",
    "    cb = fig.colorbar(sm, ax=axes.ravel().tolist())\n",
    "    cb.set_label('comoving prob.')\n",
    "    \n",
    "    fig.suptitle(title, fontsize=24)\n",
    "\n",
    "    fig.savefig('dx-dv-{0}.pdf'.format(name))"
   ]
  },
  {
   "cell_type": "code",
   "execution_count": null,
   "metadata": {},
   "outputs": [],
   "source": [
    "for row in tbl[(tbl['prob'] < 0.1) & (tbl['chord_length'] < 1) & (tbl['dv_50'] > 20)]:\n",
    "    gid = row['group_id']\n",
    "    for obs in session.query(Observation).filter(Observation.group_id == gid).all():\n",
    "        print(obs.simbad_info)\n",
    "        print(obs.rv_measurement.rv, obs.rv_measurement.err)\n",
    "    print('---')"
   ]
  },
  {
   "cell_type": "code",
   "execution_count": null,
   "metadata": {},
   "outputs": [],
   "source": [
    "fig, axes = plt.subplots(1, 2, figsize=(10,4.5))\n",
    "\n",
    "sep2d_bins = np.logspace(-3., 1, 13)\n",
    "sep2d_bins_lin = np.linspace(0., 10, 10)\n",
    "\n",
    "_ = axes[0].hist(tbl['chord_length'], bins=sep2d_bins, \n",
    "                 color=all_color, alpha=alpha)\n",
    "axes[0].hist(tbl['chord_length'][comoving], bins=sep2d_bins, \n",
    "             color=comoving_color, alpha=alpha)\n",
    "axes[0].set_xlabel(sky_sep_label)\n",
    "\n",
    "axes[0].set_xlim(1e-3, 1e1)\n",
    "axes[0].set_xscale('log')\n",
    "axes[0].set_ylim(1, 220)\n",
    "axes[0].set_yscale('log')\n",
    "\n",
    "axes[1].hist(tbl['chord_length'], bins=sep2d_bins_lin, \n",
    "             color=all_color, alpha=alpha)\n",
    "axes[1].hist(tbl['chord_length'][comoving], bins=sep2d_bins_lin, \n",
    "            color=comoving_color, alpha=alpha)\n",
    "axes[1].set_xlabel(sky_sep_label)\n",
    "\n",
    "axes[1].set_xlim(axes[0].get_xlim())\n",
    "# axes[1].set_xscale('log')\n",
    "axes[1].set_ylim(0, 60)\n",
    "# axes[1].set_yscale('log')\n",
    "\n",
    "fig.tight_layout()\n",
    "\n",
    "fig.suptitle('Observed comoving pairs', fontsize=20)\n",
    "fig.subplots_adjust(top=0.9)\n",
    "\n",
    "# fig.savefig('separation-hist.pdf')"
   ]
  },
  {
   "cell_type": "code",
   "execution_count": null,
   "metadata": {},
   "outputs": [],
   "source": [
    "# Weighted histograms instead\n",
    "fig, axes = plt.subplots(1, 2, figsize=(10,4.5))\n",
    "\n",
    "sep2d_bins = np.logspace(-3., 1, 13)\n",
    "sep2d_bins_lin = np.linspace(0., 10, 13)\n",
    "\n",
    "_ = axes[0].hist(all_tbl['chord_length'], bins=sep2d_bins, \n",
    "                 weights=all_tbl['prob'], color=comoving_color, alpha=alpha)\n",
    "axes[0].set_xlabel(sky_sep_label)\n",
    "\n",
    "axes[0].set_xlim(1e-3, 1e1)\n",
    "axes[0].set_xscale('log')\n",
    "axes[0].set_ylim(1, 220)\n",
    "axes[0].set_yscale('log')\n",
    "\n",
    "axes[1].hist(all_tbl['chord_length'], bins=sep2d_bins_lin, \n",
    "             weights=all_tbl['prob'], color=comoving_color, alpha=alpha)\n",
    "axes[1].set_xlabel(sky_sep_label)\n",
    "\n",
    "axes[1].set_xlim(axes[0].get_xlim())\n",
    "# axes[1].set_xscale('log')\n",
    "axes[1].set_ylim(0, 60)\n",
    "# axes[1].set_yscale('log')\n",
    "\n",
    "fig.tight_layout()\n",
    "\n",
    "fig.suptitle('Weighted by probability', fontsize=20)\n",
    "fig.subplots_adjust(top=0.9)\n",
    "\n",
    "fig.savefig('separation-hist.pdf')"
   ]
  },
  {
   "cell_type": "markdown",
   "metadata": {},
   "source": [
    "## Now 2D plot with RAVE data"
   ]
  },
  {
   "cell_type": "code",
   "execution_count": null,
   "metadata": {},
   "outputs": [],
   "source": [
    "mask = ((all_tbl['prob'] > 0.5) & \n",
    "        (all_tbl['sep_3d'].to(u.pc) < 10*u.pc) &\n",
    "        (all_tbl['d_min'].to(u.pc) < (200.*u.pc)))\n",
    "print('Total number of confirmed pairs within 200 pc:', mask.sum())"
   ]
  },
  {
   "cell_type": "code",
   "execution_count": null,
   "metadata": {},
   "outputs": [],
   "source": [
    "plt.hist(all_tbl['sep_2d'][mask], bins=np.logspace(-3, 1, 13),\n",
    "         color=comoving_color, alpha=alpha)\n",
    "plt.xscale('log')\n",
    "plt.yscale('log')\n",
    "plt.xlabel(r'$\\Delta \\theta$ [deg]')"
   ]
  },
  {
   "cell_type": "code",
   "execution_count": null,
   "metadata": {
    "collapsed": true
   },
   "outputs": [],
   "source": [
    "# chord_length = []\n",
    "# dist = []\n",
    "# for shaya_id in np.unique(shaya['Seq']):\n",
    "#     rows = shaya[shaya['Seq'] == shaya_id]\n",
    "#     if len(rows) != 2:\n",
    "#         continue\n",
    "        \n",
    "#     if rows['Prob'][-1] < 0.5:\n",
    "#         continue\n",
    "    \n",
    "#     icrs1 = coord.ICRS(ra=rows[0]['_RAJ2000']*u.deg,\n",
    "#                        dec=rows[0]['_DEJ2000']*u.deg)\n",
    "#     icrs2 = coord.ICRS(ra=rows[1]['_RAJ2000']*u.deg,\n",
    "#                        dec=rows[1]['_DEJ2000']*u.deg)\n",
    "#     sep_2d = icrs1.separation(icrs2)\n",
    "#     R = np.mean(rows['Dist'])\n",
    "    \n",
    "#     dist.append(R)\n",
    "#     chord_length.append((2*R*np.sin(sep_2d/2.)).value)\n",
    "    \n",
    "# chord_length = u.Quantity(chord_length*u.pc)\n",
    "# dist = u.Quantity(dist*u.pc)\n",
    "\n",
    "# shaya_tbl = Table({'chord_length': chord_length, 'd_min': dist})"
   ]
  },
  {
   "cell_type": "code",
   "execution_count": null,
   "metadata": {
    "collapsed": true
   },
   "outputs": [],
   "source": [
    "from mpl_toolkits.axes_grid1 import make_axes_locatable\n",
    "from matplotlib.ticker import LogLocator, AutoMinorLocator"
   ]
  },
  {
   "cell_type": "code",
   "execution_count": null,
   "metadata": {},
   "outputs": [],
   "source": [
    "len(tbl[comoving])+len(rave_tbl[rave_comoving])"
   ]
  },
  {
   "cell_type": "code",
   "execution_count": null,
   "metadata": {},
   "outputs": [],
   "source": [
    "fig, ax = plt.subplots(figsize=(8, 8))\n",
    "\n",
    "divider = make_axes_locatable(ax)\n",
    "ax_hist_x = divider.append_axes(\"top\", 1.4, pad=0.4, sharex=ax)\n",
    "ax_hist_y = divider.append_axes(\"right\", 1.4, pad=0.4, sharey=ax)\n",
    "\n",
    "ax.scatter(tbl['chord_length'][comoving], tbl['d_min'][comoving],\n",
    "           marker='o', s=10, color=apw_color, label='this work')\n",
    "ax.scatter(rave_tbl['chord_length'][rave_comoving], rave_tbl['d_min'][rave_comoving],\n",
    "           marker='s', s=10, color=rave_color, label='RAVE')\n",
    "ax.set_xscale('log')\n",
    "\n",
    "xbins = np.logspace(-3, 1, 10)\n",
    "ybins = np.linspace(0, 200, 10)\n",
    "ax_hist_x.hist(all_tbl['chord_length'][mask], color=comoving_color, \n",
    "               alpha=alpha, bins=xbins)\n",
    "ax_hist_y.hist(all_tbl['d_min'][mask], bins=ybins, \n",
    "               color=comoving_color, alpha=alpha, orientation='horizontal')\n",
    "\n",
    "ax.legend(loc='lower left', fontsize=16)\n",
    "\n",
    "ax.set_xlim(2e-3, 1E1)\n",
    "ax_hist_x.set_xlim(ax.get_xlim())\n",
    "ax_hist_x.set_yscale('log')\n",
    "ax_hist_x.set_ylim(3, 2E2)\n",
    "ax_hist_x.set_yticks([10, 100])\n",
    "ax_hist_x.yaxis.set_ticks(list(np.arange(2, 10)) + list(np.arange(2, 10)*10), minor=True)\n",
    "ax_hist_x.set_ylabel('$N$')\n",
    "\n",
    "ax.set_ylim(0, 200)\n",
    "ax_hist_y.set_ylim(ax.get_ylim())\n",
    "ax_hist_y.set_xlim(0, 40)\n",
    "ax_hist_y.set_xticks([0, 10, 20, 30, 40])\n",
    "ax_hist_y.set_xlabel('$N$')\n",
    "\n",
    "# make some labels invisible\n",
    "plt.setp(ax_hist_x.get_xticklabels() + ax_hist_y.get_yticklabels(),\n",
    "         visible=False)\n",
    "\n",
    "ax.set_xlabel(sky_sep_label)\n",
    "ax.set_ylabel(r'mean distance, $\\bar{d}$ [pc]')\n",
    "\n",
    "fig.savefig('separation-with-rave.pdf')"
   ]
  },
  {
   "cell_type": "code",
   "execution_count": null,
   "metadata": {
    "collapsed": true
   },
   "outputs": [],
   "source": [
    "# fig, ax = plt.subplots(figsize=(8, 8))\n",
    "\n",
    "# divider = make_axes_locatable(ax)\n",
    "# ax_hist_x = divider.append_axes(\"top\", 1.4, pad=0.4, sharex=ax)\n",
    "# ax_hist_y = divider.append_axes(\"right\", 1.4, pad=0.4, sharey=ax)\n",
    "\n",
    "# ax.scatter(tbl['chord_length'], tbl['d_min'],\n",
    "#            marker='o', s=10, color='#67a9cf', label='this work', alpha=0.7)\n",
    "# ax.scatter(rave_tbl['chord_length'], rave_tbl['d_min'],\n",
    "#            marker='s', s=10, color='#ef8a62', label='RAVE', alpha=0.7)\n",
    "# ax.scatter(shaya_tbl['chord_length'], shaya_tbl['d_min'],\n",
    "#            marker='^', s=6, color='#31a354', label='SO11', alpha=0.7)\n",
    "# ax.set_xscale('log')\n",
    "\n",
    "# xbins = np.logspace(-3, 1, 21)\n",
    "# ybins = np.linspace(0, 100, 21)\n",
    "# ax_hist_x.hist(np.concatenate((all_tbl['chord_length'][mask], shaya_tbl['chord_length'])), \n",
    "#                color=comoving_color, alpha=alpha, bins=xbins)\n",
    "# ax_hist_y.hist(np.concatenate((all_tbl['d_min'][mask], shaya_tbl['d_min'])), bins=ybins, \n",
    "#                color=comoving_color, alpha=alpha, orientation='horizontal')\n",
    "\n",
    "# ax.legend(loc='lower left', fontsize=12, ncol=3)\n",
    "\n",
    "# ax.set_xlim(2e-3, 1E1)\n",
    "# ax_hist_x.set_xlim(ax.get_xlim())\n",
    "# ax_hist_x.set_yscale('log')\n",
    "# ax_hist_x.set_ylim(8E-1, 1.5E2)\n",
    "# ax_hist_x.set_yticks([1, 10, 100])\n",
    "# ax_hist_x.yaxis.set_ticks(list(np.arange(2, 10)) + list(np.arange(2, 10)*10), minor=True)\n",
    "# ax_hist_x.set_ylabel('$N$')\n",
    "\n",
    "# ax.set_ylim(0, 100)\n",
    "# ax_hist_y.set_ylim(ax.get_ylim())\n",
    "# ax_hist_y.set_xlim(0, 50)\n",
    "# ax_hist_y.set_xticks([0, 50, 100, 150])\n",
    "# ax_hist_y.set_xlabel('$N$')\n",
    "\n",
    "# # make some labels invisible\n",
    "# plt.setp(ax_hist_x.get_xticklabels() + ax_hist_y.get_yticklabels(),\n",
    "#          visible=False)\n",
    "\n",
    "# ax.set_xlabel(r'chord length, $\\hat{s}$ [pc]')\n",
    "# ax.set_ylabel(r'mean distance, $\\bar{d}$ [pc]')\n",
    "\n",
    "# # fig.savefig('separation-with-shaya.pdf')"
   ]
  },
  {
   "cell_type": "code",
   "execution_count": null,
   "metadata": {
    "collapsed": true
   },
   "outputs": [],
   "source": []
  }
 ],
 "metadata": {
  "anaconda-cloud": {},
  "kernelspec": {
   "display_name": "Python [conda env:comoving-rv]",
   "language": "python",
   "name": "conda-env-comoving-rv-py"
  },
  "language_info": {
   "codemirror_mode": {
    "name": "ipython",
    "version": 3
   },
   "file_extension": ".py",
   "mimetype": "text/x-python",
   "name": "python",
   "nbconvert_exporter": "python",
   "pygments_lexer": "ipython3",
   "version": "3.6.1"
  }
 },
 "nbformat": 4,
 "nbformat_minor": 2
}