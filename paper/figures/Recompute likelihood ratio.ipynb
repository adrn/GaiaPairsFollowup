{
 "cells": [
  {
   "cell_type": "code",
   "execution_count": null,
   "metadata": {
    "collapsed": true
   },
   "outputs": [],
   "source": [
    "from os import path\n",
    "\n",
    "# Third-party\n",
    "from astropy.table import Table\n",
    "import astropy.coordinates as coord\n",
    "import astropy.units as u\n",
    "from astropy.constants import G, c\n",
    "import matplotlib.pyplot as plt\n",
    "from matplotlib.colors import Normalize\n",
    "import numpy as np\n",
    "plt.style.use('apw-notebook')\n",
    "%matplotlib inline\n",
    "from scipy.stats import scoreatpercentile\n",
    "\n",
    "import corner\n",
    "import emcee\n",
    "from scipy.integrate import quad\n",
    "from scipy.misc import logsumexp\n",
    "import schwimmbad\n",
    "\n",
    "from gwb.data import TGASData\n",
    "from gwb.fml import ln_H1_FML, ln_H2_FML\n",
    "\n",
    "from comoving_rv.log import logger\n",
    "from comoving_rv.db import Session, Base, db_connect\n",
    "from comoving_rv.db.model import (Run, Observation, TGASSource, SimbadInfo, PriorRV,\n",
    "                                  SpectralLineInfo, SpectralLineMeasurement, RVMeasurement)"
   ]
  },
  {
   "cell_type": "code",
   "execution_count": null,
   "metadata": {},
   "outputs": [],
   "source": [
    "base_path = '/Volumes/ProjectData/gaia-comoving-followup/'\n",
    "db_path = path.join(base_path, 'db.sqlite')\n",
    "engine = db_connect(db_path)\n",
    "session = Session()"
   ]
  },
  {
   "cell_type": "code",
   "execution_count": null,
   "metadata": {
    "collapsed": true
   },
   "outputs": [],
   "source": [
    "tbl = Table.read('../group_llr_dv_tbl.ecsv', format='ascii.ecsv')"
   ]
  },
  {
   "cell_type": "code",
   "execution_count": null,
   "metadata": {
    "collapsed": true
   },
   "outputs": [],
   "source": [
    "class Worker(object):\n",
    "\n",
    "    def __init__(self, Vinv, n_distance_samples, prior_weights):\n",
    "        self.Vinv = np.array(Vinv)\n",
    "        self.prior_weights = prior_weights\n",
    "        self.n_distance_samples = n_distance_samples\n",
    "\n",
    "    def work(self, star1, star2, v_scatter):     \n",
    "        h1 = ln_H1_FML(star1, star2, Vinv=self.Vinv, v_scatter=v_scatter,\n",
    "                       n_dist_samples=self.n_distance_samples, prior_weights=self.prior_weights)\n",
    "        h2 = ln_H2_FML(star1, star2, Vinv=self.Vinv, v_scatter=v_scatter,\n",
    "                       n_dist_samples=self.n_distance_samples, prior_weights=self.prior_weights)\n",
    "        return h1, h2"
   ]
  },
  {
   "cell_type": "code",
   "execution_count": null,
   "metadata": {
    "collapsed": true
   },
   "outputs": [],
   "source": [
    "# MAGIC NUMBERs\n",
    "n_distance_samples = 128\n",
    "Vinvs = np.array([np.eye(3)/15.**2,\n",
    "                  np.eye(3)/30.**2,\n",
    "                  np.eye(3)/50.**2])   # 3x3 inverse variances for gaussian prior on velocities\n",
    "prior_weights = np.array([0.3, 0.55, 0.15])\n",
    "v_scatter = 1. # km/s\n",
    "\n",
    "worker = Worker(Vinv=Vinvs, n_distance_samples=n_distance_samples, prior_weights=prior_weights)"
   ]
  },
  {
   "cell_type": "code",
   "execution_count": null,
   "metadata": {
    "collapsed": true
   },
   "outputs": [],
   "source": [
    "group_ids = np.array([x[0] \n",
    "                      for x in session.query(Observation.group_id).distinct().all() \n",
    "                      if x[0] is not None and x[0] > 0 and x[0] != 10])"
   ]
  },
  {
   "cell_type": "markdown",
   "metadata": {},
   "source": [
    "From inspecting quality of groups with repeat observations, these are the observations to use:"
   ]
  },
  {
   "cell_type": "code",
   "execution_count": null,
   "metadata": {},
   "outputs": [],
   "source": [
    "multi_obs = {\n",
    "    942: [2,3],\n",
    "    1497: [0,1],\n",
    "    1617: [0,1],\n",
    "    1958: [0,1],\n",
    "    2308: [2,3],\n",
    "    3196: [0,1],\n",
    "    3230: [0,1],\n",
    "    3376: [2,3],\n",
    "    3455: [0,1],\n",
    "    4399: [0,1],\n",
    "    1397: [1,2],\n",
    "    1942: [0,1],\n",
    "    1992: [0,1],\n",
    "    2499: [1,2],\n",
    "    2633: [0,1],\n",
    "    3245: [0,1],\n",
    "    3287: [0,2],\n",
    "    3580: [0,2],\n",
    "    4373: [1,2],\n",
    "}"
   ]
  },
  {
   "cell_type": "code",
   "execution_count": null,
   "metadata": {},
   "outputs": [],
   "source": [
    "base_q = session.query(Observation).join(RVMeasurement).filter(RVMeasurement.rv != None)\n",
    "\n",
    "names = ['group_id', 'dv', 'lnH1_no_rv', 'lnH2_no_rv', 'lnH1_rv', 'lnH2_rv']\n",
    "rows = []\n",
    "for gid in np.unique(group_ids):\n",
    "    observations = base_q.filter(Observation.group_id == gid).all()\n",
    "    \n",
    "    if len(observations) != 2 and gid not in multi_obs:\n",
    "        print(\"skipping group {0} ({1})\".format(gid, len(observations)))\n",
    "        continue\n",
    "        \n",
    "    if gid in multi_obs:\n",
    "        obs1 = observations[multi_obs[gid][0]]\n",
    "        obs2 = observations[multi_obs[gid][1]]\n",
    "    else:\n",
    "        obs1, obs2 = observations\n",
    "    \n",
    "    raw_rv_diff = (obs1.measurements[0].x0 - obs2.measurements[0].x0) / 6563. * c.to(u.km/u.s)    \n",
    "    mean_rv = np.mean([obs1.rv_measurement.rv.value, \n",
    "                       obs2.rv_measurement.rv.value]) * obs2.rv_measurement.rv.unit\n",
    "    \n",
    "    rv1 = mean_rv + raw_rv_diff/2.\n",
    "    rv_err1 = obs1.measurements[0].x0_error / 6563. * c.to(u.km/u.s)\n",
    "    rv2 = mean_rv - raw_rv_diff/2.\n",
    "    rv_err2 = obs2.measurements[0].x0_error / 6563. * c.to(u.km/u.s)\n",
    "    \n",
    "    # Compute point-estimate difference in 3D velocity\n",
    "    icrs1 = obs1.icrs(with_rv=rv1)\n",
    "    icrs2 = obs2.icrs(with_rv=rv2)\n",
    "    \n",
    "    icrs1.set_representation_cls(coord.CartesianRepresentation, coord.CartesianDifferential)\n",
    "    icrs2.set_representation_cls(coord.CartesianRepresentation, coord.CartesianDifferential)\n",
    "    \n",
    "    dv = np.sqrt((icrs1.v_x-icrs2.v_x)**2 + \n",
    "                 (icrs1.v_y-icrs2.v_y)**2 + \n",
    "                 (icrs1.v_z-icrs2.v_z)**2)\n",
    "    \n",
    "    ln_H1_no_rv, ln_H2_no_rv = worker.work(obs1.tgas_star(False), obs2.tgas_star(False), v_scatter)\n",
    "\n",
    "    star1 = obs1.tgas_star()\n",
    "    star2 = obs2.tgas_star()\n",
    "    star1._rv = rv1.value\n",
    "    star2._rv = rv2.value\n",
    "    star1._rv_err = np.sqrt(rv_err1.value**2 + 10**2)\n",
    "    star2._rv_err = np.sqrt(rv_err2.value**2 + 10**2)\n",
    "    ln_H1, ln_H2 = worker.work(star1, star2, v_scatter)\n",
    "    \n",
    "    rows.append((gid, dv.value, ln_H1_no_rv, ln_H2_no_rv, ln_H1, ln_H2))\n",
    "    \n",
    "dtype = dict(names=names, formats=['i4']+['f8']*(len(names)-1))\n",
    "tbl = np.array(rows, dtype)\n",
    "tbl = Table(tbl)\n",
    "tbl['dv'].unit = u.km/u.s"
   ]
  },
  {
   "cell_type": "code",
   "execution_count": null,
   "metadata": {},
   "outputs": [],
   "source": [
    "print('{0} pairs remain'.format(len(tbl)))"
   ]
  },
  {
   "cell_type": "code",
   "execution_count": null,
   "metadata": {
    "collapsed": true
   },
   "outputs": [],
   "source": [
    "tbl['R_mu'] = tbl['lnH1_no_rv'] - tbl['lnH2_no_rv']\n",
    "tbl['R_RV'] = tbl['lnH1_rv'] - tbl['lnH2_rv']"
   ]
  },
  {
   "cell_type": "code",
   "execution_count": null,
   "metadata": {},
   "outputs": [],
   "source": [
    "# llr_rv = tbl['lnH1_rv'] - tbl['lnH2_rv']\n",
    "# llr_no_rv = tbl['lnH1_no_rv'] - tbl['lnH2_no_rv']\n",
    "llr_no_rv = tbl['R_mu']\n",
    "llr_rv = tbl['R_RV']\n",
    "dllr = llr_rv - llr_no_rv\n",
    "\n",
    "print('{0} pairs are genuinely comoving'.format((llr_rv > llr_no_rv).sum()))"
   ]
  },
  {
   "cell_type": "code",
   "execution_count": null,
   "metadata": {},
   "outputs": [],
   "source": [
    "base_q = session.query(Observation).join(RVMeasurement).filter(RVMeasurement.rv != None)\n",
    "\n",
    "dv_15s = []\n",
    "dv_meds = []\n",
    "dv_85s = []\n",
    "for gid in tbl['group_id']:\n",
    "    observations = base_q.filter(Observation.group_id == gid).all()\n",
    "    \n",
    "    if len(observations) != 2 and gid not in multi_obs:\n",
    "        print(\"skipping group {0} ({1})\".format(gid, len(observations)))\n",
    "        continue\n",
    "        \n",
    "    if gid in multi_obs:\n",
    "        obs1 = observations[multi_obs[gid][0]]\n",
    "        obs2 = observations[multi_obs[gid][1]]\n",
    "    else:\n",
    "        obs1, obs2 = observations\n",
    "    \n",
    "    raw_rv_diff = (obs1.measurements[0].x0 - obs2.measurements[0].x0) / 6563. * c.to(u.km/u.s)    \n",
    "    mean_rv = np.mean([obs1.rv_measurement.rv.value, \n",
    "                       obs2.rv_measurement.rv.value]) * obs2.rv_measurement.rv.unit\n",
    "    \n",
    "    rv1 = mean_rv + raw_rv_diff/2.\n",
    "    rv_err1 = obs1.measurements[0].x0_error / 6563. * c.to(u.km/u.s)\n",
    "    rv2 = mean_rv - raw_rv_diff/2.\n",
    "    rv_err2 = obs2.measurements[0].x0_error / 6563. * c.to(u.km/u.s)\n",
    "    \n",
    "    # Compute point-estimate difference in 3D velocity\n",
    "    icrs1 = obs1.icrs_samples(size=2**16, custom_rv=(rv1,rv_err1))\n",
    "    icrs2 = obs2.icrs_samples(size=2**16, custom_rv=(rv2,rv_err2))\n",
    "    \n",
    "    icrs1.set_representation_cls(coord.CartesianRepresentation, coord.CartesianDifferential)\n",
    "    icrs2.set_representation_cls(coord.CartesianRepresentation, coord.CartesianDifferential)\n",
    "    \n",
    "    dv = np.sqrt((icrs1.v_x-icrs2.v_x)**2 + \n",
    "                 (icrs1.v_y-icrs2.v_y)**2 + \n",
    "                 (icrs1.v_z-icrs2.v_z)**2)\n",
    "    \n",
    "    dv_15, dv_med, dv_85 = scoreatpercentile(dv.value, [15, 50, 85])\n",
    "    dv_15s.append(dv_15)\n",
    "    dv_meds.append(dv_med)\n",
    "    dv_85s.append(dv_85)"
   ]
  },
  {
   "cell_type": "code",
   "execution_count": null,
   "metadata": {},
   "outputs": [],
   "source": [
    "tbl['dv_15'] = dv_15s*u.km/u.s\n",
    "tbl['dv_50'] = dv_meds*u.km/u.s\n",
    "tbl['dv_85'] = dv_85s*u.km/u.s"
   ]
  },
  {
   "cell_type": "code",
   "execution_count": null,
   "metadata": {},
   "outputs": [],
   "source": [
    "np.random.seed(1234)\n",
    "\n",
    "fig,ax = plt.subplots(1, 1, figsize=(5, 5))\n",
    "\n",
    "ax.scatter(dllr, tbl['dv'], marker='.', alpha=0.7, linewidth=0)\n",
    "\n",
    "ax.set_xlim(-30, 10)\n",
    "ax.set_xlabel(r'$\\mathcal{R}_{\\rm RV} - \\mathcal{R}_\\mu$')\n",
    "ax.set_ylabel(r'$|\\bar{v}_1 - \\bar{v}_2|$ ' + \n",
    "              '[{0}]'.format((u.km/u.s).to_string('latex_inline')))\n",
    "ax.set_ylim(-2, 65)\n",
    "\n",
    "# for a few random pairs, show error bars\n",
    "bin_edges = np.arange(-30, 10+1, 5)\n",
    "idxs = []\n",
    "for l,r in zip(bin_edges[:-1], bin_edges[1:]):\n",
    "    idx, = np.where((dllr > l) & (dllr < r))\n",
    "    idx = np.random.choice(idx, size=1, replace=False)\n",
    "    idxs.append(idx)\n",
    "idxs = np.ravel(idxs)\n",
    "    \n",
    "ax.errorbar(dllr[idxs], tbl['dv'][idxs], \n",
    "            yerr=[tbl['dv_15'][idxs], tbl['dv_85'][idxs]], \n",
    "            marker='None', ecolor='#aaaaaa', linestyle='none', zorder=-10,\n",
    "            elinewidth=1.)\n",
    "\n",
    "fig.tight_layout()\n",
    "fig.savefig('llr-vs-dv.pdf')"
   ]
  },
  {
   "cell_type": "code",
   "execution_count": null,
   "metadata": {},
   "outputs": [],
   "source": [
    "base_q = session.query(Observation).join(RVMeasurement).filter(RVMeasurement.rv != None)\n",
    "\n",
    "sep_2d = []\n",
    "sep_3d = []\n",
    "for gid in tbl['group_id']:\n",
    "    observations = base_q.filter(Observation.group_id == gid).all()\n",
    "    \n",
    "    if len(observations) != 2 and gid not in multi_obs:\n",
    "        print(\"skipping group {0} ({1})\".format(gid, len(observations)))\n",
    "        continue\n",
    "        \n",
    "    if gid in multi_obs:\n",
    "        obs1 = observations[multi_obs[gid][0]]\n",
    "        obs2 = observations[multi_obs[gid][1]]\n",
    "    else:\n",
    "        obs1, obs2 = observations\n",
    "    \n",
    "    icrs1 = coord.ICRS(obs1.icrs().data.without_differentials())\n",
    "    icrs2 = coord.ICRS(obs2.icrs().data.without_differentials())\n",
    "    \n",
    "    sep_2d.append(icrs1.separation(icrs2))\n",
    "    sep_3d.append(icrs1.separation_3d(icrs2))"
   ]
  },
  {
   "cell_type": "code",
   "execution_count": null,
   "metadata": {},
   "outputs": [],
   "source": [
    "tbl['sep_2d'] = u.Quantity(sep_2d)\n",
    "tbl['sep_3d'] = u.Quantity(sep_3d)"
   ]
  },
  {
   "cell_type": "code",
   "execution_count": null,
   "metadata": {},
   "outputs": [],
   "source": [
    "# tbl.write('../group_llr_dv_tbl.ecsv', format='ascii.ecsv')"
   ]
  },
  {
   "cell_type": "code",
   "execution_count": null,
   "metadata": {
    "scrolled": true
   },
   "outputs": [],
   "source": [
    "_,bins,_ = plt.hist(tbl['sep_3d'], bins='auto')\n",
    "plt.hist(tbl['sep_3d'][llr_rv > llr_no_rv], bins=bins)\n",
    "plt.xlabel('separation [pc]')\n",
    "plt.xlim(0, 10)"
   ]
  },
  {
   "cell_type": "code",
   "execution_count": null,
   "metadata": {},
   "outputs": [],
   "source": [
    "plt.hist(tbl['sep_3d'][llr_rv > llr_no_rv], bins=bins)"
   ]
  },
  {
   "cell_type": "code",
   "execution_count": null,
   "metadata": {},
   "outputs": [],
   "source": [
    "_,bins,_ = plt.hist(tbl['sep_2d'], bins='auto')\n",
    "plt.hist(tbl['sep_2d'][llr_rv > llr_no_rv], bins=bins)\n",
    "plt.xlabel('sky separation [deg]')\n",
    "plt.xlim(0, 10)"
   ]
  },
  {
   "cell_type": "code",
   "execution_count": null,
   "metadata": {
    "collapsed": true
   },
   "outputs": [],
   "source": [
    "import matplotlib as mpl\n",
    "mpl.rc('text', usetex=True)\n",
    "mpl.rcParams['text.latex.preamble'] = [r\"\\usepackage{amsmath}\"]"
   ]
  },
  {
   "cell_type": "code",
   "execution_count": null,
   "metadata": {},
   "outputs": [],
   "source": [
    "fig,ax = plt.subplots(1,1, figsize=(6,4))\n",
    "\n",
    "plt.scatter(tbl['sep_3d'], tbl['dv'], marker='o', edgecolor='none', alpha=0.75,\n",
    "            color='#888888', s=10)\n",
    "plt.scatter(tbl['sep_3d'][llr_rv > llr_no_rv], tbl['dv'][llr_rv > llr_no_rv], \n",
    "            marker='o', edgecolor='none', alpha=0.75, color='k', s=10)\n",
    "plt.xscale('log')\n",
    "plt.xlim(1E-2, 2E1)\n",
    "plt.ylim(-5, 100)\n",
    "\n",
    "ax.set_xlabel(r'$|\\boldsymbol{x}_1 - \\boldsymbol{x}_2|$ ' + \n",
    "              '[{0}]'.format((u.pc).to_string('latex_inline')))\n",
    "ax.set_ylabel(r'$|\\boldsymbol{v}_1 - \\boldsymbol{v}_2|$ ' + \n",
    "              '[{0}]'.format((u.km/u.s).to_string('latex_inline')))"
   ]
  },
  {
   "cell_type": "code",
   "execution_count": null,
   "metadata": {
    "collapsed": true
   },
   "outputs": [],
   "source": []
  },
  {
   "cell_type": "code",
   "execution_count": null,
   "metadata": {
    "collapsed": true
   },
   "outputs": [],
   "source": []
  },
  {
   "cell_type": "code",
   "execution_count": null,
   "metadata": {
    "collapsed": true
   },
   "outputs": [],
   "source": []
  }
 ],
 "metadata": {
  "anaconda-cloud": {},
  "kernelspec": {
   "display_name": "Python [conda env:comoving-rv]",
   "language": "python",
   "name": "conda-env-comoving-rv-py"
  },
  "language_info": {
   "codemirror_mode": {
    "name": "ipython",
    "version": 3
   },
   "file_extension": ".py",
   "mimetype": "text/x-python",
   "name": "python",
   "nbconvert_exporter": "python",
   "pygments_lexer": "ipython3",
   "version": "3.6.1"
  }
 },
 "nbformat": 4,
 "nbformat_minor": 2
}