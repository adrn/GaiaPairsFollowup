{
 "cells": [
  {
   "cell_type": "code",
   "execution_count": null,
   "metadata": {
    "collapsed": true
   },
   "outputs": [],
   "source": [
    "from os import path\n",
    "from astropy.io import fits\n",
    "import astropy.units as u\n",
    "import numpy as np\n",
    "import matplotlib.pyplot as plt\n",
    "plt.style.use('apw-notebook')\n",
    "%matplotlib inline\n",
    "\n",
    "from comoving_rv.db import Session, Base, db_connect\n",
    "from comoving_rv.db.model import (Run, Observation, TGASSource, SimbadInfo,\n",
    "                                  SpectralLineInfo, SpectralLineMeasurement)"
   ]
  },
  {
   "cell_type": "code",
   "execution_count": null,
   "metadata": {
    "collapsed": true
   },
   "outputs": [],
   "source": [
    "base_path = '/Volumes/ProjectData/gaia-comoving-followup/'\n",
    "db_path = path.join(base_path, 'db.sqlite')\n",
    "engine = db_connect(db_path)\n",
    "session = Session()"
   ]
  },
  {
   "cell_type": "code",
   "execution_count": null,
   "metadata": {
    "collapsed": true
   },
   "outputs": [],
   "source": [
    "observations = session.query(Observation).join(Run).filter(Run.name == 'mdm-spring-2017')\\\n",
    "                      .group_by(Observation.object).all()"
   ]
  },
  {
   "cell_type": "code",
   "execution_count": null,
   "metadata": {},
   "outputs": [],
   "source": [
    "n_spectra = 10\n",
    "\n",
    "np.random.seed(48151623)\n",
    "idx = np.random.choice(len(observations), size=n_spectra, replace=False)"
   ]
  },
  {
   "cell_type": "code",
   "execution_count": null,
   "metadata": {},
   "outputs": [],
   "source": [
    "fig,ax = plt.subplots(1, 1, figsize=(5, 8))\n",
    "\n",
    "wvln_range = (5500, 6800)\n",
    "\n",
    "for j,i in enumerate(idx):\n",
    "    obs = observations[i]\n",
    "    data = fits.getdata(obs.path_1d(base_path))\n",
    "    data = data[np.isfinite(data['wavelength'])]\n",
    "    data = data[np.argsort(data['wavelength'])]\n",
    "    \n",
    "    i1 = np.abs(data['wavelength']-wvln_range[0]).argmin()\n",
    "    i2 = np.abs(data['wavelength']-wvln_range[1]).argmin()\n",
    "    data = data[i1:i2]\n",
    "    \n",
    "    wvln = data['wavelength']\n",
    "    flux = data['source_flux'] / data['source_flux'][0]\n",
    "    ax.plot(wvln, flux + j/2.9, marker='', \n",
    "            drawstyle='steps-mid', color='k', lw=1)\n",
    "    \n",
    "    # err = 1 / np.sqrt(ivar) / # TODO: normalize by same factor\n",
    "    # ax.errorbar(wvln, flux, yerr=err,\n",
    "    #             ecolor='#777777', marker='', linestyle='')\n",
    "\n",
    "ax.set_xticks(np.arange(5500, 6750+1, 250))\n",
    "ax.set_yticks([])\n",
    "ax.set_xlim(wvln_range)\n",
    "ax.set_ylim(0, 4.3)\n",
    "\n",
    "# line markers\n",
    "line_style = dict(linewidth=2, marker='', color='#3182bd', alpha=0.75)\n",
    "ax.plot([6562.8]*2, [3.5, 3.6], **line_style)\n",
    "ax.plot([5893]*2, [3.85, 3.95], **line_style)\n",
    "\n",
    "text_style = dict(ha='center', va='bottom', fontsize=18, color='#3182bd')\n",
    "ax.text(6562.8, 3.65, r'${\\rm H}\\alpha$', **text_style)\n",
    "ax.text(5893, 4.0, r'${\\rm Na}\\,{\\rm D}$', **text_style)\n",
    "\n",
    "ax.set_xlabel(r'wavelength [${\\rm \\AA}$]')\n",
    "ax.set_ylabel('normalized flux + offset')\n",
    "\n",
    "fig.savefig('sample_spectra.pdf')"
   ]
  },
  {
   "cell_type": "code",
   "execution_count": null,
   "metadata": {
    "collapsed": true
   },
   "outputs": [],
   "source": []
  }
 ],
 "metadata": {
  "anaconda-cloud": {},
  "kernelspec": {
   "display_name": "Python [conda env:comoving-rv]",
   "language": "python",
   "name": "conda-env-comoving-rv-py"
  },
  "language_info": {
   "codemirror_mode": {
    "name": "ipython",
    "version": 3
   },
   "file_extension": ".py",
   "mimetype": "text/x-python",
   "name": "python",
   "nbconvert_exporter": "python",
   "pygments_lexer": "ipython3",
   "version": "3.6.1"
  }
 },
 "nbformat": 4,
 "nbformat_minor": 2
}