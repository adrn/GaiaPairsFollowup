{
 "cells": [
  {
   "cell_type": "code",
   "execution_count": null,
   "metadata": {},
   "outputs": [],
   "source": [
    "from os import path\n",
    "\n",
    "# Third-party\n",
    "from astropy.table import Table\n",
    "import astropy.coordinates as coord\n",
    "import astropy.units as u\n",
    "from astropy.constants import G, c\n",
    "import matplotlib.pyplot as plt\n",
    "import numpy as np\n",
    "plt.style.use('apw-notebook')\n",
    "%matplotlib inline\n",
    "from scipy.stats import scoreatpercentile\n",
    "from scipy.signal import argrelmin\n",
    "\n",
    "from comoving_rv.log import logger\n",
    "from comoving_rv.db import Session, Base, db_connect\n",
    "from comoving_rv.db.model import (Run, Observation, TGASSource, SimbadInfo, PriorRV,\n",
    "                                  SpectralLineInfo, SpectralLineMeasurement, RVMeasurement)\n",
    "\n",
    "import gala.dynamics as gd\n",
    "import gala.potential as gp\n",
    "from gala.units import galactic\n",
    "\n",
    "# import matplotlib as mpl\n",
    "# mpl.rc('text', usetex=True)\n",
    "# mpl.rcParams['text.latex.preamble'] = [r\"\\usepackage{amsmath}\"]"
   ]
  },
  {
   "cell_type": "code",
   "execution_count": null,
   "metadata": {
    "collapsed": true
   },
   "outputs": [],
   "source": [
    "gc_frame = coord.Galactocentric(z_sun=0*u.pc)"
   ]
  },
  {
   "cell_type": "code",
   "execution_count": null,
   "metadata": {
    "collapsed": true
   },
   "outputs": [],
   "source": [
    "base_path = '/Volumes/ProjectData/gaia-comoving-followup/'\n",
    "db_path = path.join(base_path, 'db.sqlite')\n",
    "engine = db_connect(db_path)\n",
    "session = Session()"
   ]
  },
  {
   "cell_type": "code",
   "execution_count": null,
   "metadata": {
    "collapsed": true
   },
   "outputs": [],
   "source": [
    "tbl = Table.read('group_llr_dv_tbl.ecsv', format='ascii.ecsv')"
   ]
  },
  {
   "cell_type": "code",
   "execution_count": null,
   "metadata": {},
   "outputs": [],
   "source": [
    "group_ids = tbl['group_id'][tbl['R_RV'] > tbl['R_mu']]"
   ]
  },
  {
   "cell_type": "markdown",
   "metadata": {},
   "source": [
    "Ugh, so bad - copied from other notebook. This is for cases where a group has >2 observations"
   ]
  },
  {
   "cell_type": "code",
   "execution_count": null,
   "metadata": {
    "collapsed": true
   },
   "outputs": [],
   "source": [
    "multi_obs = {\n",
    "    942: [2,3],\n",
    "    1497: [0,1],\n",
    "    1617: [0,1],\n",
    "    1958: [0,1],\n",
    "    2308: [2,3],\n",
    "    3196: [0,1],\n",
    "    3230: [0,1],\n",
    "    3376: [2,3],\n",
    "    3455: [0,1],\n",
    "    4399: [0,1],\n",
    "    1397: [1,2],\n",
    "    1942: [0,1],\n",
    "    1992: [0,1],\n",
    "    2499: [1,2],\n",
    "    2633: [0,1],\n",
    "    3245: [0,1],\n",
    "    3287: [0,2],\n",
    "    3580: [0,2],\n",
    "    4373: [1,2],\n",
    "}"
   ]
  },
  {
   "cell_type": "markdown",
   "metadata": {},
   "source": [
    "## Integrate orbits, look at orbital properties"
   ]
  },
  {
   "cell_type": "code",
   "execution_count": null,
   "metadata": {
    "collapsed": true
   },
   "outputs": [],
   "source": [
    "mw_pot = gp.CCompositePotential()\n",
    "mw_pot['spheroid'] = gp.HernquistPotential(m=5E9, c=0.7, units=galactic)\n",
    "mw_pot['halo'] = gp.NFWPotential(m=5E11*u.Msun, r_s=16., units=galactic)\n",
    "mw_pot['disk1'] = gp.MiyamotoNagaiPotential(m=6.5E10*u.Msun, a=3, b=0.273,\n",
    "                                            units=galactic)"
   ]
  },
  {
   "cell_type": "code",
   "execution_count": null,
   "metadata": {
    "collapsed": true
   },
   "outputs": [],
   "source": [
    "def get_Jz(orbit):\n",
    "    # Estimate Jz using epicycle approx. (pg. 232 in B&T)\n",
    "    t_cross = orbit.t[argrelmin(np.abs(orbit.pos.xyz[2]))]\n",
    "    Tz = np.mean(t_cross[1:] - t_cross[:-1])\n",
    "    nu = 2*np.pi / Tz\n",
    "    Ez = 0.5 * (orbit.vel.d_xyz[2,0]**2 + nu**2 * orbit.pos.xyz[2,0]**2)\n",
    "    return (Ez / nu).to(u.kpc*u.km/u.s)"
   ]
  },
  {
   "cell_type": "code",
   "execution_count": null,
   "metadata": {
    "collapsed": true
   },
   "outputs": [],
   "source": [
    "sun_w0 = gd.PhaseSpacePosition(pos=[-8.3,0,0]*u.kpc, vel=gc_frame.galcen_v_sun.d_xyz)\n",
    "sun_orbit = mw_pot.integrate_orbit(sun_w0, dt=0.1, n_steps=80000)\n",
    "sun_max_z = np.abs(sun_orbit.z).max()\n",
    "sun_Jz = get_Jz(sun_orbit)"
   ]
  },
  {
   "cell_type": "code",
   "execution_count": null,
   "metadata": {},
   "outputs": [],
   "source": [
    "Jz = []\n",
    "max_z = []\n",
    "for gid in group_ids:\n",
    "    observations = session.query(Observation).filter(Observation.group_id == gid).all()\n",
    "    \n",
    "    if gid in multi_obs:\n",
    "        obs1 = observations[multi_obs[gid][0]]\n",
    "        obs2 = observations[multi_obs[gid][1]]\n",
    "    else:\n",
    "        obs1, obs2 = observations\n",
    "\n",
    "    icrs1 = obs1.icrs(with_rv=True, lutz_kelker=True)\n",
    "    icrs2 = obs2.icrs(with_rv=True, lutz_kelker=True)\n",
    "    \n",
    "    c1 = icrs1.transform_to(gc_frame)\n",
    "    c2 = icrs2.transform_to(gc_frame)\n",
    "    \n",
    "    x0 = np.mean([c1.cartesian.xyz, c2.cartesian.xyz], axis=0) * u.pc\n",
    "    v0 = np.mean([c1.cartesian.differentials['s'].d_xyz,\n",
    "                  c2.cartesian.differentials['s'].d_xyz], axis=0) * u.km/u.s\n",
    "    \n",
    "    w0 = gd.PhaseSpacePosition(pos=x0, vel=v0)\n",
    "    orbit = mw_pot.integrate_orbit(w0, dt=0.1, n_steps=80000)\n",
    "    \n",
    "    Jz.append(get_Jz(orbit))\n",
    "    max_z.append(np.abs(orbit.z).max())\n",
    "    \n",
    "max_z = u.Quantity(max_z)\n",
    "Jz = u.Quantity(Jz)"
   ]
  },
  {
   "cell_type": "code",
   "execution_count": null,
   "metadata": {},
   "outputs": [],
   "source": [
    "plt.figure(figsize=(5,5))\n",
    "plt.hist(Jz.value, bins='auto')\n",
    "plt.axvline(sun_Jz.value, color='#aaaaaa', linewidth=3, linestyle='--')\n",
    "plt.xlabel('$J_z$ [{0}]'.format(Jz.unit.to_string('latex_inline')))\n",
    "plt.text(sun_Jz.value+0.1, 35, r'$J_{z, \\odot}$', fontsize=20, color='#666666')\n",
    "plt.ylim(0, 40)"
   ]
  },
  {
   "cell_type": "code",
   "execution_count": null,
   "metadata": {},
   "outputs": [],
   "source": [
    "plt.figure(figsize=(5,5))\n",
    "plt.hist(max_z.to(u.pc).value, bins='auto')\n",
    "plt.axvline(sun_max_z.to(u.pc).value, color='r')"
   ]
  },
  {
   "cell_type": "code",
   "execution_count": null,
   "metadata": {
    "collapsed": true
   },
   "outputs": [],
   "source": []
  },
  {
   "cell_type": "markdown",
   "metadata": {},
   "source": [
    "## Angular momentum of pairs:"
   ]
  },
  {
   "cell_type": "code",
   "execution_count": null,
   "metadata": {},
   "outputs": [],
   "source": [
    "all_L = []\n",
    "for gid in group_ids:\n",
    "    observations = session.query(Observation).filter(Observation.group_id == gid).all()\n",
    "    \n",
    "    if gid in multi_obs:\n",
    "        obs1 = observations[multi_obs[gid][0]]\n",
    "        obs2 = observations[multi_obs[gid][1]]\n",
    "    else:\n",
    "        obs1, obs2 = observations\n",
    "\n",
    "    # Compute point-estimate difference in 3D velocity\n",
    "    icrs1 = obs1.icrs(with_rv=True)\n",
    "    icrs2 = obs2.icrs(with_rv=True)\n",
    "    \n",
    "    c1 = icrs1.transform_to(coord.Galactocentric)\n",
    "    c2 = icrs2.transform_to(coord.Galactocentric)\n",
    "    \n",
    "    x1 = c1.cartesian.xyz\n",
    "    x2 = c2.cartesian.xyz\n",
    "    dx = x1 - x2\n",
    "    \n",
    "    v1 = c1.cartesian.differentials['s'].d_xyz\n",
    "    v2 = c2.cartesian.differentials['s'].d_xyz\n",
    "    dv = v1 - v2\n",
    "    \n",
    "    all_L.append(np.cross(dx, dv))\n",
    "    \n",
    "all_L = u.Quantity(all_L).T"
   ]
  },
  {
   "cell_type": "code",
   "execution_count": null,
   "metadata": {},
   "outputs": [],
   "source": [
    "alignment = np.arccos(all_L[2] / np.linalg.norm(all_L, axis=0))"
   ]
  },
  {
   "cell_type": "code",
   "execution_count": null,
   "metadata": {},
   "outputs": [],
   "source": [
    "plt.hist(np.arccos(2*np.random.uniform(size=10000) - 1) * 180/np.pi, \n",
    "         normed=True, color='#888888', alpha=0.5)\n",
    "plt.hist(alignment.to(u.degree).value, bins=np.linspace(0, 180, 15), normed=True,\n",
    "         color='k', alpha=0.75);"
   ]
  },
  {
   "cell_type": "code",
   "execution_count": null,
   "metadata": {
    "collapsed": true
   },
   "outputs": [],
   "source": []
  },
  {
   "cell_type": "code",
   "execution_count": null,
   "metadata": {
    "collapsed": true
   },
   "outputs": [],
   "source": []
  },
  {
   "cell_type": "code",
   "execution_count": null,
   "metadata": {
    "collapsed": true
   },
   "outputs": [],
   "source": []
  }
 ],
 "metadata": {
  "kernelspec": {
   "display_name": "Python [conda env:comoving-rv]",
   "language": "python",
   "name": "conda-env-comoving-rv-py"
  },
  "language_info": {
   "codemirror_mode": {
    "name": "ipython",
    "version": 3
   },
   "file_extension": ".py",
   "mimetype": "text/x-python",
   "name": "python",
   "nbconvert_exporter": "python",
   "pygments_lexer": "ipython3",
   "version": "3.6.1"
  }
 },
 "nbformat": 4,
 "nbformat_minor": 2
}