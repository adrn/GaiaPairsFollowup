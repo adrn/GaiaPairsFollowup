{
 "cells": [
  {
   "cell_type": "code",
   "execution_count": null,
   "metadata": {
    "collapsed": true
   },
   "outputs": [],
   "source": [
    "from os import path\n",
    "import pickle\n",
    "\n",
    "import astropy.units as u\n",
    "import numpy as np\n",
    "import matplotlib.pyplot as plt\n",
    "plt.style.use('apw-notebook')\n",
    "%matplotlib inline\n",
    "from scipy.optimize import minimize\n",
    "from comoving_rv.plot import colors"
   ]
  },
  {
   "cell_type": "code",
   "execution_count": null,
   "metadata": {
    "collapsed": true
   },
   "outputs": [],
   "source": [
    "night_path = '/Volumes/ProjectData/gaia-comoving-followup/processed/mdm-spring-2017/n1/'\n",
    "wavelength_gp_path = path.join(night_path, 'wavelength_GP_model.pickle')\n",
    "\n",
    "with open(wavelength_gp_path, 'rb') as f:\n",
    "    model = pickle.load(f)"
   ]
  },
  {
   "cell_type": "code",
   "execution_count": null,
   "metadata": {
    "collapsed": true
   },
   "outputs": [],
   "source": [
    "x = model.x\n",
    "y = model.y\n",
    "med_x = model.x_shift"
   ]
  },
  {
   "cell_type": "code",
   "execution_count": null,
   "metadata": {
    "collapsed": true
   },
   "outputs": [],
   "source": [
    "def func(p):\n",
    "    return (6562.8 - model.gp.predict(model.y, p[0]-model.x_shift, return_var=False, return_cov=False)[0])**2\n",
    "\n",
    "res = minimize(func, x0=687.)\n",
    "Ha_pix = res.x[0]"
   ]
  },
  {
   "cell_type": "code",
   "execution_count": null,
   "metadata": {
    "collapsed": true
   },
   "outputs": [],
   "source": [
    "x_grid = np.linspace(0, 1600, 1024) - med_x"
   ]
  },
  {
   "cell_type": "code",
   "execution_count": null,
   "metadata": {},
   "outputs": [],
   "source": [
    "mu, var = model.gp.predict(y, x_grid, return_var=True)\n",
    "std = np.sqrt(var)\n",
    "\n",
    "y_mu, var = model.gp.predict(y, x, return_var=True)\n",
    "\n",
    "# Plot the maximum likelihood model\n",
    "fig,ax = plt.subplots(1, 1, figsize=(8,6))\n",
    "\n",
    "# data\n",
    "ax.scatter(x + med_x, y - y_mu, marker='o', zorder=100)\n",
    "\n",
    "ax.plot(x_grid+med_x, mu-mu, color=colors['gp_model'], marker='')\n",
    "ax.fill_between(x_grid+med_x, std, -std, color=colors['gp_model'],\n",
    "                alpha=0.3, edgecolor=\"none\", linewidth=0)\n",
    "\n",
    "ax.set_xlabel('pixel')\n",
    "ax.set_ylabel(r'wavelength residual [${\\rm \\AA}$]')\n",
    "\n",
    "ax.set_xlim(x_grid.min()+med_x, x_grid.max()+med_x)\n",
    "ax.set_ylim(-1, 1)\n",
    "\n",
    "# right axis, velocity\n",
    "ax_r = ax.twinx()\n",
    "ax_r.set_ylim([x/6563*3e5 for x in ax.get_ylim()])\n",
    "ax_r.set_ylabel(r'velocity error at ${{\\rm H}}\\alpha$ [{}]'\n",
    "                .format((u.km/u.s).to_string(format='latex_inline')))\n",
    "\n",
    "# top axis, wavelength\n",
    "ax_t = ax.twiny()\n",
    "ax_t.set_xlim(model.gp.predict(model.y, np.array([0,1600])-model.x_shift, return_var=False, return_cov=False))\n",
    "ax_t.set_xlabel(r'(mean) wavelength [${\\rm \\AA}$]', labelpad=12)\n",
    "\n",
    "ax.axvline(Ha_pix, color=colors['line_marker'], alpha=0.5, zorder=-10)\n",
    "ax.text(Ha_pix, 0.85, r'${\\rm H}\\alpha$', bbox=dict(facecolor='w'),\n",
    "        fontsize=18, color=colors['line_marker'], ha='center')\n",
    "\n",
    "# shaded region\n",
    "ax.axvspan(0, 250, color='#666666', alpha=0.25, zorder=100, linewidth=0)\n",
    "ax.axvspan(1210, 1600, color='#666666', alpha=0.25, zorder=100, linewidth=0)\n",
    "\n",
    "fig.tight_layout()\n",
    "\n",
    "# fig.savefig('wavelength_gp.pdf')"
   ]
  },
  {
   "cell_type": "code",
   "execution_count": null,
   "metadata": {
    "collapsed": true
   },
   "outputs": [],
   "source": []
  },
  {
   "cell_type": "code",
   "execution_count": null,
   "metadata": {
    "collapsed": true
   },
   "outputs": [],
   "source": []
  }
 ],
 "metadata": {
  "anaconda-cloud": {},
  "kernelspec": {
   "display_name": "Python [conda env:comoving-rv]",
   "language": "python",
   "name": "conda-env-comoving-rv-py"
  },
  "language_info": {
   "codemirror_mode": {
    "name": "ipython",
    "version": 3
   },
   "file_extension": ".py",
   "mimetype": "text/x-python",
   "name": "python",
   "nbconvert_exporter": "python",
   "pygments_lexer": "ipython3",
   "version": "3.6.1"
  }
 },
 "nbformat": 4,
 "nbformat_minor": 2
}